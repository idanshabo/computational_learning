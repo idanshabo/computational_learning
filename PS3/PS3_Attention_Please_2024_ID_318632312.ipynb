{
  "cells": [
    {
      "cell_type": "markdown",
      "metadata": {
        "id": "AOpGoE2T-YXS"
      },
      "source": [
        "# Neural Machine Translation with Attention\n",
        "\n",
        "Advanced Learning Fall 2024.   \n",
        "Last updated: 2025-01-12\n"
      ]
    },
    {
      "cell_type": "markdown",
      "metadata": {
        "id": "PpJdYve9cZa6"
      },
      "source": [
        "For SUBMISSION:   \n",
        "\n",
        "Please upload the complete and executed `ipynb` to your git repository. Verify that all of your output can be viewed directly from github, and provide a link to that git file below.\n",
        "\n",
        "~~~\n",
        "STUDENT ID: 318632312\n",
        "~~~\n",
        "\n",
        "~~~\n",
        "STUDENT GIT LINK: https://github.com/idanshabo/computational_learning.git\n",
        "~~~\n",
        "In Addition, don't forget to add your ID to the files, and upload to moodle the html version:    \n",
        "  \n",
        "`PS3_Attention_2024_ID_[318632312].html`   \n",
        "\n",
        "\n"
      ]
    },
    {
      "cell_type": "markdown",
      "metadata": {
        "id": "eecp2PAf7qJq"
      },
      "source": [
        "In this problem set we are going to jump into the depths of `seq2seq` and `attention` and build a couple of PyTorch translation mechanisms with some  twists.     \n",
        "\n",
        "\n",
        "*   Part 1 consists of a somewhat unorthodox `seq2seq` model for simple arithmetics\n",
        "*   Part 2 consists of an `seq2seq - attention` language translation model. We will use it for Hebrew and English.  \n"
      ]
    },
    {
      "cell_type": "markdown",
      "metadata": {
        "id": "-VpUCez9gOZn"
      },
      "source": [
        "---"
      ]
    },
    {
      "cell_type": "markdown",
      "metadata": {
        "id": "ajNDsL5HlZN6"
      },
      "source": [
        "A **seq2seq** model (sequence-to-sequence model) is a type of neural network designed specifically to handle sequences of data. The model converts input sequences into other sequences of data. This makes them particularly useful for tasks involving language, where the input and output are naturally sequences of words.\n",
        "\n",
        "Here's a breakdown of how `seq2seq` models work:\n",
        "\n",
        "* The encoder takes the input sequence, like a sentence in English, and processes it to capture its meaning and context.\n",
        "\n",
        "* information is then passed to the decoder, which uses it to generate the output sequence, like a translation in French.\n",
        "\n",
        "* Attention mechanism (optional): Some `seq2seq` models also incorporate an attention mechanism. This allows the decoder to focus on specific parts of the input sequence that are most relevant to generating the next element in the output sequence.\n",
        "\n",
        "`seq2seq` models are used in many natural language processing (NLP) tasks.\n",
        "\n"
      ]
    },
    {
      "cell_type": "markdown",
      "metadata": {
        "id": "VbUDn4FObol7"
      },
      "source": [
        "imports: (feel free to add)"
      ]
    },
    {
      "cell_type": "code",
      "execution_count": 3,
      "metadata": {
        "colab": {
          "base_uri": "https://localhost:8080/"
        },
        "id": "crTe33wcD_Eg",
        "outputId": "f53a692c-9cab-4e16-efe2-cada8a6b161c"
      },
      "outputs": [
        {
          "output_type": "stream",
          "name": "stdout",
          "text": [
            "Mounted at /content/drive\n"
          ]
        }
      ],
      "source": [
        "# from __future__ import unicode_literals, print_function, division\n",
        "# from io import open\n",
        "# import unicodedata\n",
        "import re\n",
        "import random\n",
        "import unicodedata\n",
        "\n",
        "import time\n",
        "import math\n",
        "\n",
        "import torch\n",
        "import torch.nn as nn\n",
        "from torch import optim\n",
        "import torch.nn.functional as F\n",
        "\n",
        "import numpy as np\n",
        "from torch.utils.data import TensorDataset, DataLoader, RandomSampler\n",
        "\n",
        "from keras.models import Sequential,Model\n",
        "from keras.layers import Input, LSTM, Attention, Flatten, RepeatVector, TimeDistributed, Dense\n",
        "from keras.callbacks import ModelCheckpoint\n",
        "\n",
        "from tensorflow.keras import layers, models\n",
        "from tensorflow.keras.optimizers import Adam\n",
        "import tensorflow as tf\n",
        "from tensorflow.keras.layers import Input, Embedding, Dense\n",
        "from tensorflow.keras.models import Model\n",
        "from tensorflow.keras.losses import SparseCategoricalCrossentropy\n",
        "from tensorflow.keras.preprocessing.sequence import pad_sequences\n",
        "from tensorflow.keras.layers import Input, LSTM, Dense, Bidirectional, Dropout, RepeatVector, TimeDistributed\n",
        "from tensorflow.keras.callbacks import ModelCheckpoint\n",
        "\n",
        "device = torch.device(\"cuda\" if torch.cuda.is_available() else \"cpu\")\n",
        "from google.colab import drive\n",
        "drive.mount('/content/drive')"
      ]
    },
    {
      "cell_type": "markdown",
      "metadata": {
        "id": "CiwtNgENbx2g"
      },
      "source": [
        "## Part 1: Seq2Seq Arithmetic model"
      ]
    },
    {
      "cell_type": "markdown",
      "metadata": {
        "id": "x1gWov3Gx67I"
      },
      "source": [
        "**Using RNN `seq2seq` model to \"learn\" simple arithmetics!**\n",
        "\n",
        "> Given the string \"54-7\", the model should return a prediction: \"47\".  \n",
        "> Given the string \"10+20\", the model should return a prediction: \"30\".\n"
      ]
    },
    {
      "cell_type": "markdown",
      "metadata": {
        "id": "Dxo92ZgTy6ED"
      },
      "source": [
        "- Watch Lukas Biewald's short [video](https://youtu.be/MqugtGD605k?si=rAH34ZTJyYDj-XJ1) explaining `seq2seq` models and his toy application (somewhat outdated).\n",
        "- You can find the code for his example [here](https://github.com/lukas/ml-class/blob/master/videos/seq2seq/train.py).    \n",
        "\n"
      ]
    },
    {
      "cell_type": "markdown",
      "metadata": {
        "id": "OEu_5YvqFPai"
      },
      "source": [
        "1.1) Using Lukas' code, implement a `seq2seq` network that can learn how to solve **addition AND substraction** of two numbers of maximum length of 4, using the following steps (similar to the example):      \n",
        "\n",
        "* Generate data; X: queries (two numbers), and Y: answers   \n",
        "* One-hot encode X and Y,\n",
        "* Build a `seq2seq` network (with LSTM, RepeatVector, and TimeDistributed layers)\n",
        "* Train the model.\n",
        "* While training, sample from the validation set at random so we can visualize the generated solutions against the true solutions.    \n",
        "\n",
        "Notes:  \n",
        "* The code in the example is quite old and based on Keras. You might have to adapt some of the code to overcome methods/code that is not supported anymore. Hint: for the evaluation part, review the type and format of the \"correct\" output - this will help you fix the unsupported \"model.predict_classes\".\n",
        "* Please use the parameters in the code cell below to train the model.     \n",
        "* Instead of using a `wandb.config` object, please use a simple dictionary instead.   \n",
        "* You don't need to run the model for more than 50 iterations (epochs) to get a gist of what is happening and what the algorithm is doing.\n",
        "* Extra credit if you can implement the network in PyTorch (this is not difficult).    \n",
        "* Extra credit if you are able to significantly improve the model."
      ]
    },
    {
      "cell_type": "markdown",
      "metadata": {
        "id": "qXJQqZbEbRup"
      },
      "source": [
        "1.2).\n",
        "\n",
        "a) Do you think this model performs well?  Why or why not?     \n",
        "b) What are its limitations?   \n",
        "c) What would you do to improve it?    \n",
        "d) Can you apply an attention mechanism to this model? Why or why not?   "
      ]
    },
    {
      "cell_type": "markdown",
      "metadata": {
        "id": "6wvRhhOcgmrQ"
      },
      "source": [
        "1.3).  \n",
        "\n",
        "Add attention to the model. Evaluate the performance against the `seq2seq` you trained above. Which one is performing better?"
      ]
    },
    {
      "cell_type": "markdown",
      "metadata": {
        "id": "AtEJK5IZkk8j"
      },
      "source": [
        "1.4)\n",
        "\n",
        "Using any neural network architecture of your liking, build  a model with the aim to beat the best performing model in 1.1 or 1.3. Compare your results in a meaningful way, and add a short explanation to why you think/thought your suggested network is better."
      ]
    },
    {
      "cell_type": "code",
      "execution_count": null,
      "metadata": {
        "id": "bwZKyzoBKl4G"
      },
      "outputs": [],
      "source": [
        "config = {}\n",
        "config[\"training_size\"] = 40000\n",
        "config[\"digits\"] = 4\n",
        "config[\"hidden_size\"] = 128\n",
        "config[\"batch_size\"] = 128\n",
        "config[\"iterations\"] = 50\n",
        "chars = '0123456789-+ '"
      ]
    },
    {
      "cell_type": "markdown",
      "metadata": {
        "id": "N6YxgNvo0W_o"
      },
      "source": [
        "SOLUTION:"
      ]
    },
    {
      "cell_type": "code",
      "execution_count": 4,
      "metadata": {
        "id": "GlF7abtLjz06",
        "colab": {
          "base_uri": "https://localhost:8080/"
        },
        "outputId": "48225000-17aa-4fca-b957-87b615fad24e"
      },
      "outputs": [
        {
          "output_type": "stream",
          "name": "stdout",
          "text": [
            "Generating data...\n",
            "Total addition questions: 40000\n",
            "Vectorization...\n"
          ]
        }
      ],
      "source": [
        "config_dict = {\n",
        "    \"training_size\": 40000,\n",
        "    \"digits\": 4,\n",
        "    \"hidden_size\": 128,\n",
        "    \"batch_size\": 128,\n",
        "    \"iterations\" : 50,\n",
        "    \"chars\" : '0123456789-+ '\n",
        "}\n",
        "\n",
        "class CharacterTable(object):\n",
        "    \"\"\"Given a set of characters:\n",
        "    + Encode them to a one hot integer representation\n",
        "    + Decode the one hot integer representation to their character output\n",
        "    + Decode a vector of probabilities to their character output\n",
        "    \"\"\"\n",
        "    def __init__(self, chars):\n",
        "        \"\"\"Initialize character table.\n",
        "        # Arguments\n",
        "            chars: Characters that can appear in the input.\n",
        "        \"\"\"\n",
        "        self.chars = sorted(set(chars))\n",
        "        self.char_indices = dict((c, i) for i, c in enumerate(self.chars))\n",
        "        self.indices_char = dict((i, c) for i, c in enumerate(self.chars))\n",
        "\n",
        "    def encode(self, C, num_rows):\n",
        "        \"\"\"One hot encode given string C.\n",
        "        # Arguments\n",
        "            num_rows: Number of rows in the returned one hot encoding. This is\n",
        "                used to keep the # of rows for each data the same.\n",
        "        \"\"\"\n",
        "        x = np.zeros((num_rows, len(self.chars)))\n",
        "        for i, c in enumerate(C):\n",
        "            x[i, self.char_indices[c]] = 1\n",
        "        return x\n",
        "\n",
        "    def decode(self, x, calc_argmax=True):\n",
        "        if calc_argmax:\n",
        "            x = x.argmax(axis=-1)\n",
        "        return ''.join(self.indices_char[x] for x in x)\n",
        "\n",
        "\n",
        "maxlen = config_dict['digits'] + 1 + config_dict['digits']\n",
        "\n",
        "chars = config_dict[\"chars\"]\n",
        "ctable = CharacterTable(chars)\n",
        "\n",
        "questions = []\n",
        "expected = []\n",
        "seen = set()\n",
        "print('Generating data...')\n",
        "\n",
        "while len(questions) < config_dict['training_size']:\n",
        "    f = lambda: int(''.join(np.random.choice(list('0123456789'))\n",
        "                    for i in range(np.random.randint(1, config_dict['digits'] + 1))))\n",
        "    a, b = f(), f()\n",
        "    operation = np.random.choice(['+', '-'])\n",
        "\n",
        "    # Skip questions we've seen\n",
        "    key = (a, b, operation)\n",
        "    if key in seen:\n",
        "        continue\n",
        "    seen.add(key)\n",
        "\n",
        "    # Create the question string\n",
        "    q = f\"{a}{operation}{b}\"\n",
        "    query = q + ' ' * (maxlen - len(q))\n",
        "    # Compute answer\n",
        "    ans = str(a + b) if operation == '+' else str(a - b)\n",
        "    ans += ' ' * (config_dict['digits'] + 1 - len(ans))\n",
        "\n",
        "    questions.append(query)\n",
        "    expected.append(ans)\n",
        "\n",
        "print('Total addition questions:', len(questions))\n",
        "\n",
        "print('Vectorization...')\n",
        "x = np.zeros((len(questions), maxlen, len(config_dict['chars'])), dtype=bool)\n",
        "y = np.zeros((len(questions), config_dict['digits'] + 1, len(config_dict['chars'])), dtype=bool)\n",
        "\n",
        "for i, sentence in enumerate(questions):\n",
        "    x[i] = ctable.encode(sentence, maxlen)\n",
        "for i, sentence in enumerate(expected):\n",
        "    y[i] = ctable.encode(sentence, config_dict['digits'] + 1)\n",
        "\n",
        "\n",
        "indices = np.arange(len(y))\n",
        "np.random.shuffle(indices)\n",
        "x = x[indices]\n",
        "y = y[indices]\n",
        "\n",
        "split_at = len(x) - len(x) // 10\n",
        "(x_train, x_val) = x[:split_at], x[split_at:]\n",
        "(y_train, y_val) = y[:split_at], y[split_at:]"
      ]
    },
    {
      "cell_type": "code",
      "source": [
        "# Building a seq2seq network\n",
        "# Defining the model\n",
        "model1 = Sequential()\n",
        "model1.add(LSTM(config_dict['hidden_size'] , input_shape=(maxlen, len(chars))))\n",
        "model1.add(RepeatVector(config_dict['digits'] + 1))\n",
        "model1.add(LSTM(config_dict['hidden_size'], return_sequences=True))\n",
        "model1.add(TimeDistributed(Dense(len(chars), activation='softmax')))\n",
        "model1.compile(loss='categorical_crossentropy',\n",
        "              optimizer='adam',\n",
        "              metrics=['accuracy'])\n",
        "model1.summary()\n",
        "\n",
        "# data:\n",
        "checkpoint = ModelCheckpoint('best_model.h5',\n",
        "                             monitor='val_loss',\n",
        "                             save_best_only=True,\n",
        "                             mode='min',\n",
        "                             verbose=1)\n",
        "for iteration in range(config_dict['iterations']):\n",
        "    print()\n",
        "    print('-' * 50)\n",
        "    print('Iteration', iteration)\n",
        "\n",
        "    model1.fit(x_train, y_train,\n",
        "              batch_size=config_dict['batch_size'],\n",
        "              epochs=1,\n",
        "              validation_data=(x_val, y_val),\n",
        "              callbacks=[checkpoint])\n",
        "    # Select 10 samples from the validation set at random\n",
        "    for i in range(10):\n",
        "        ind = np.random.randint(0, len(x_val))\n",
        "        rowx, rowy = x_val[np.array([ind])], y_val[np.array([ind])]\n",
        "        preds = model1.predict(rowx, verbose=0)\n",
        "        preds = np.argmax(preds, axis=-1)\n",
        "        q = ctable.decode(rowx[0])\n",
        "        correct = ctable.decode(rowy[0])\n",
        "        guess = ctable.decode(preds[0], calc_argmax=False)\n",
        "        print('Q', q, end=' ')\n",
        "        print('T', correct, end=' ')\n",
        "        if correct == guess:\n",
        "            print('☑', end=' ')\n",
        "        else:\n",
        "            print('☒', end=' ')\n",
        "        print(guess)"
      ],
      "metadata": {
        "colab": {
          "base_uri": "https://localhost:8080/",
          "height": 1000
        },
        "id": "WxN_tEDHK-Gi",
        "outputId": "c7cf84a9-e20e-45ce-ae9f-5d37f56439ba"
      },
      "execution_count": 50,
      "outputs": [
        {
          "output_type": "stream",
          "name": "stderr",
          "text": [
            "/usr/local/lib/python3.11/dist-packages/keras/src/layers/rnn/rnn.py:200: UserWarning: Do not pass an `input_shape`/`input_dim` argument to a layer. When using Sequential models, prefer using an `Input(shape)` object as the first layer in the model instead.\n",
            "  super().__init__(**kwargs)\n"
          ]
        },
        {
          "output_type": "display_data",
          "data": {
            "text/plain": [
              "\u001b[1mModel: \"sequential\"\u001b[0m\n"
            ],
            "text/html": [
              "<pre style=\"white-space:pre;overflow-x:auto;line-height:normal;font-family:Menlo,'DejaVu Sans Mono',consolas,'Courier New',monospace\"><span style=\"font-weight: bold\">Model: \"sequential\"</span>\n",
              "</pre>\n"
            ]
          },
          "metadata": {}
        },
        {
          "output_type": "display_data",
          "data": {
            "text/plain": [
              "┏━━━━━━━━━━━━━━━━━━━━━━━━━━━━━━━━━━━━━━┳━━━━━━━━━━━━━━━━━━━━━━━━━━━━━┳━━━━━━━━━━━━━━━━━┓\n",
              "┃\u001b[1m \u001b[0m\u001b[1mLayer (type)                        \u001b[0m\u001b[1m \u001b[0m┃\u001b[1m \u001b[0m\u001b[1mOutput Shape               \u001b[0m\u001b[1m \u001b[0m┃\u001b[1m \u001b[0m\u001b[1m        Param #\u001b[0m\u001b[1m \u001b[0m┃\n",
              "┡━━━━━━━━━━━━━━━━━━━━━━━━━━━━━━━━━━━━━━╇━━━━━━━━━━━━━━━━━━━━━━━━━━━━━╇━━━━━━━━━━━━━━━━━┩\n",
              "│ lstm (\u001b[38;5;33mLSTM\u001b[0m)                          │ (\u001b[38;5;45mNone\u001b[0m, \u001b[38;5;34m128\u001b[0m)                 │          \u001b[38;5;34m72,704\u001b[0m │\n",
              "├──────────────────────────────────────┼─────────────────────────────┼─────────────────┤\n",
              "│ repeat_vector (\u001b[38;5;33mRepeatVector\u001b[0m)         │ (\u001b[38;5;45mNone\u001b[0m, \u001b[38;5;34m5\u001b[0m, \u001b[38;5;34m128\u001b[0m)              │               \u001b[38;5;34m0\u001b[0m │\n",
              "├──────────────────────────────────────┼─────────────────────────────┼─────────────────┤\n",
              "│ lstm_1 (\u001b[38;5;33mLSTM\u001b[0m)                        │ (\u001b[38;5;45mNone\u001b[0m, \u001b[38;5;34m5\u001b[0m, \u001b[38;5;34m128\u001b[0m)              │         \u001b[38;5;34m131,584\u001b[0m │\n",
              "├──────────────────────────────────────┼─────────────────────────────┼─────────────────┤\n",
              "│ time_distributed (\u001b[38;5;33mTimeDistributed\u001b[0m)   │ (\u001b[38;5;45mNone\u001b[0m, \u001b[38;5;34m5\u001b[0m, \u001b[38;5;34m13\u001b[0m)               │           \u001b[38;5;34m1,677\u001b[0m │\n",
              "└──────────────────────────────────────┴─────────────────────────────┴─────────────────┘\n"
            ],
            "text/html": [
              "<pre style=\"white-space:pre;overflow-x:auto;line-height:normal;font-family:Menlo,'DejaVu Sans Mono',consolas,'Courier New',monospace\">┏━━━━━━━━━━━━━━━━━━━━━━━━━━━━━━━━━━━━━━┳━━━━━━━━━━━━━━━━━━━━━━━━━━━━━┳━━━━━━━━━━━━━━━━━┓\n",
              "┃<span style=\"font-weight: bold\"> Layer (type)                         </span>┃<span style=\"font-weight: bold\"> Output Shape                </span>┃<span style=\"font-weight: bold\">         Param # </span>┃\n",
              "┡━━━━━━━━━━━━━━━━━━━━━━━━━━━━━━━━━━━━━━╇━━━━━━━━━━━━━━━━━━━━━━━━━━━━━╇━━━━━━━━━━━━━━━━━┩\n",
              "│ lstm (<span style=\"color: #0087ff; text-decoration-color: #0087ff\">LSTM</span>)                          │ (<span style=\"color: #00d7ff; text-decoration-color: #00d7ff\">None</span>, <span style=\"color: #00af00; text-decoration-color: #00af00\">128</span>)                 │          <span style=\"color: #00af00; text-decoration-color: #00af00\">72,704</span> │\n",
              "├──────────────────────────────────────┼─────────────────────────────┼─────────────────┤\n",
              "│ repeat_vector (<span style=\"color: #0087ff; text-decoration-color: #0087ff\">RepeatVector</span>)         │ (<span style=\"color: #00d7ff; text-decoration-color: #00d7ff\">None</span>, <span style=\"color: #00af00; text-decoration-color: #00af00\">5</span>, <span style=\"color: #00af00; text-decoration-color: #00af00\">128</span>)              │               <span style=\"color: #00af00; text-decoration-color: #00af00\">0</span> │\n",
              "├──────────────────────────────────────┼─────────────────────────────┼─────────────────┤\n",
              "│ lstm_1 (<span style=\"color: #0087ff; text-decoration-color: #0087ff\">LSTM</span>)                        │ (<span style=\"color: #00d7ff; text-decoration-color: #00d7ff\">None</span>, <span style=\"color: #00af00; text-decoration-color: #00af00\">5</span>, <span style=\"color: #00af00; text-decoration-color: #00af00\">128</span>)              │         <span style=\"color: #00af00; text-decoration-color: #00af00\">131,584</span> │\n",
              "├──────────────────────────────────────┼─────────────────────────────┼─────────────────┤\n",
              "│ time_distributed (<span style=\"color: #0087ff; text-decoration-color: #0087ff\">TimeDistributed</span>)   │ (<span style=\"color: #00d7ff; text-decoration-color: #00d7ff\">None</span>, <span style=\"color: #00af00; text-decoration-color: #00af00\">5</span>, <span style=\"color: #00af00; text-decoration-color: #00af00\">13</span>)               │           <span style=\"color: #00af00; text-decoration-color: #00af00\">1,677</span> │\n",
              "└──────────────────────────────────────┴─────────────────────────────┴─────────────────┘\n",
              "</pre>\n"
            ]
          },
          "metadata": {}
        },
        {
          "output_type": "display_data",
          "data": {
            "text/plain": [
              "\u001b[1m Total params: \u001b[0m\u001b[38;5;34m205,965\u001b[0m (804.55 KB)\n"
            ],
            "text/html": [
              "<pre style=\"white-space:pre;overflow-x:auto;line-height:normal;font-family:Menlo,'DejaVu Sans Mono',consolas,'Courier New',monospace\"><span style=\"font-weight: bold\"> Total params: </span><span style=\"color: #00af00; text-decoration-color: #00af00\">205,965</span> (804.55 KB)\n",
              "</pre>\n"
            ]
          },
          "metadata": {}
        },
        {
          "output_type": "display_data",
          "data": {
            "text/plain": [
              "\u001b[1m Trainable params: \u001b[0m\u001b[38;5;34m205,965\u001b[0m (804.55 KB)\n"
            ],
            "text/html": [
              "<pre style=\"white-space:pre;overflow-x:auto;line-height:normal;font-family:Menlo,'DejaVu Sans Mono',consolas,'Courier New',monospace\"><span style=\"font-weight: bold\"> Trainable params: </span><span style=\"color: #00af00; text-decoration-color: #00af00\">205,965</span> (804.55 KB)\n",
              "</pre>\n"
            ]
          },
          "metadata": {}
        },
        {
          "output_type": "display_data",
          "data": {
            "text/plain": [
              "\u001b[1m Non-trainable params: \u001b[0m\u001b[38;5;34m0\u001b[0m (0.00 B)\n"
            ],
            "text/html": [
              "<pre style=\"white-space:pre;overflow-x:auto;line-height:normal;font-family:Menlo,'DejaVu Sans Mono',consolas,'Courier New',monospace\"><span style=\"font-weight: bold\"> Non-trainable params: </span><span style=\"color: #00af00; text-decoration-color: #00af00\">0</span> (0.00 B)\n",
              "</pre>\n"
            ]
          },
          "metadata": {}
        },
        {
          "output_type": "stream",
          "name": "stdout",
          "text": [
            "\n",
            "--------------------------------------------------\n",
            "Iteration 0\n",
            "\u001b[1m281/282\u001b[0m \u001b[32m━━━━━━━━━━━━━━━━━━━\u001b[0m\u001b[37m━\u001b[0m \u001b[1m0s\u001b[0m 61ms/step - accuracy: 0.3131 - loss: 2.0255\n",
            "Epoch 1: val_loss improved from inf to 1.69362, saving model to best_model.h5\n"
          ]
        },
        {
          "output_type": "stream",
          "name": "stderr",
          "text": [
            "WARNING:absl:You are saving your model as an HDF5 file via `model.save()` or `keras.saving.save_model(model)`. This file format is considered legacy. We recommend using instead the native Keras format, e.g. `model.save('my_model.keras')` or `keras.saving.save_model(model, 'my_model.keras')`. \n"
          ]
        },
        {
          "output_type": "stream",
          "name": "stdout",
          "text": [
            "\b\b\b\b\b\b\b\b\b\b\b\b\b\b\b\b\b\b\b\b\b\b\b\b\b\b\b\b\b\b\b\b\b\b\b\b\b\b\b\b\b\b\b\b\b\b\b\b\b\b\b\b\b\b\b\b\b\b\b\b\b\b\b\b\b\b\b\b\b\b\b\b\b\b\b\r\u001b[1m282/282\u001b[0m \u001b[32m━━━━━━━━━━━━━━━━━━━━\u001b[0m\u001b[37m\u001b[0m \u001b[1m24s\u001b[0m 65ms/step - accuracy: 0.3134 - loss: 2.0242 - val_accuracy: 0.3862 - val_loss: 1.6936\n",
            "Q 942-53    T 889   ☒ 166  \n",
            "Q 56+53     T 109   ☒ 16   \n",
            "Q 16+2088   T 2104  ☒ 116  \n",
            "Q 23-1613   T -1590 ☒ -333 \n",
            "Q 7599+1818 T 9417  ☒ 1166 \n",
            "Q 6839-70   T 6769  ☒ 116  \n",
            "Q 76-310    T -234  ☒ -36  \n",
            "Q 23-225    T -202  ☒ -33  \n",
            "Q 7+8754    T 8761  ☒ 166  \n",
            "Q 6+160     T 166   ☒ 16   \n",
            "\n",
            "--------------------------------------------------\n",
            "Iteration 1\n",
            "\u001b[1m281/282\u001b[0m \u001b[32m━━━━━━━━━━━━━━━━━━━\u001b[0m\u001b[37m━\u001b[0m \u001b[1m0s\u001b[0m 81ms/step - accuracy: 0.3955 - loss: 1.6507\n",
            "Epoch 1: val_loss improved from 1.69362 to 1.61064, saving model to best_model.h5\n"
          ]
        },
        {
          "output_type": "stream",
          "name": "stderr",
          "text": [
            "WARNING:absl:You are saving your model as an HDF5 file via `model.save()` or `keras.saving.save_model(model)`. This file format is considered legacy. We recommend using instead the native Keras format, e.g. `model.save('my_model.keras')` or `keras.saving.save_model(model, 'my_model.keras')`. \n"
          ]
        },
        {
          "output_type": "stream",
          "name": "stdout",
          "text": [
            "\b\b\b\b\b\b\b\b\b\b\b\b\b\b\b\b\b\b\b\b\b\b\b\b\b\b\b\b\b\b\b\b\b\b\b\b\b\b\b\b\b\b\b\b\b\b\b\b\b\b\b\b\b\b\b\b\b\b\b\b\b\b\b\b\b\b\b\b\b\b\b\b\b\b\b\r\u001b[1m282/282\u001b[0m \u001b[32m━━━━━━━━━━━━━━━━━━━━\u001b[0m\u001b[37m\u001b[0m \u001b[1m24s\u001b[0m 86ms/step - accuracy: 0.3955 - loss: 1.6506 - val_accuracy: 0.4126 - val_loss: 1.6106\n",
            "Q 995+530   T 1525  ☒ 1009 \n",
            "Q 9-37      T -28   ☒ -33  \n",
            "Q 82+9346   T 9428  ☒ 3309 \n",
            "Q 3+150     T 153   ☒ 120  \n",
            "Q 73-238    T -165  ☒ -330 \n",
            "Q 8-8219    T -8211 ☒ -7779\n",
            "Q 623+6     T 629   ☒ 332  \n",
            "Q 62-7      T 55    ☒ 42   \n",
            "Q 31-1681   T -1650 ☒ -1110\n",
            "Q 8835+85   T 8920  ☒ 1009 \n",
            "\n",
            "--------------------------------------------------\n",
            "Iteration 2\n",
            "\u001b[1m282/282\u001b[0m \u001b[32m━━━━━━━━━━━━━━━━━━━━\u001b[0m\u001b[37m\u001b[0m \u001b[1m0s\u001b[0m 65ms/step - accuracy: 0.4206 - loss: 1.5820\n",
            "Epoch 1: val_loss improved from 1.61064 to 1.54532, saving model to best_model.h5\n"
          ]
        },
        {
          "output_type": "stream",
          "name": "stderr",
          "text": [
            "WARNING:absl:You are saving your model as an HDF5 file via `model.save()` or `keras.saving.save_model(model)`. This file format is considered legacy. We recommend using instead the native Keras format, e.g. `model.save('my_model.keras')` or `keras.saving.save_model(model, 'my_model.keras')`. \n"
          ]
        },
        {
          "output_type": "stream",
          "name": "stdout",
          "text": [
            "\b\b\b\b\b\b\b\b\b\b\b\b\b\b\b\b\b\b\b\b\b\b\b\b\b\b\b\b\b\b\b\b\b\b\b\b\b\b\b\b\b\b\b\b\b\b\b\b\b\b\b\b\b\b\b\b\b\b\b\b\b\b\b\b\b\b\b\b\b\b\b\b\b\b\b\r\u001b[1m282/282\u001b[0m \u001b[32m━━━━━━━━━━━━━━━━━━━━\u001b[0m\u001b[37m\u001b[0m \u001b[1m20s\u001b[0m 70ms/step - accuracy: 0.4206 - loss: 1.5820 - val_accuracy: 0.4313 - val_loss: 1.5453\n",
            "Q 265+648   T 913   ☒ 166  \n",
            "Q 98-20     T 78    ☒ 11   \n",
            "Q 87+63     T 150   ☒ 86   \n",
            "Q 513-21    T 492   ☒ 223  \n",
            "Q 8+8888    T 8896  ☒ 8882 \n",
            "Q 176-5561  T -5385 ☒ -6666\n",
            "Q 419-482   T -63   ☒ -11  \n",
            "Q 38+8      T 46    ☒ 11   \n",
            "Q 7296+9    T 7305  ☒ 1922 \n",
            "Q 6966-74   T 6892  ☒ 6666 \n",
            "\n",
            "--------------------------------------------------\n",
            "Iteration 3\n",
            "\u001b[1m281/282\u001b[0m \u001b[32m━━━━━━━━━━━━━━━━━━━\u001b[0m\u001b[37m━\u001b[0m \u001b[1m0s\u001b[0m 59ms/step - accuracy: 0.4330 - loss: 1.5402\n",
            "Epoch 1: val_loss improved from 1.54532 to 1.49569, saving model to best_model.h5\n"
          ]
        },
        {
          "output_type": "stream",
          "name": "stderr",
          "text": [
            "WARNING:absl:You are saving your model as an HDF5 file via `model.save()` or `keras.saving.save_model(model)`. This file format is considered legacy. We recommend using instead the native Keras format, e.g. `model.save('my_model.keras')` or `keras.saving.save_model(model, 'my_model.keras')`. \n"
          ]
        },
        {
          "output_type": "stream",
          "name": "stdout",
          "text": [
            "\b\b\b\b\b\b\b\b\b\b\b\b\b\b\b\b\b\b\b\b\b\b\b\b\b\b\b\b\b\b\b\b\b\b\b\b\b\b\b\b\b\b\b\b\b\b\b\b\b\b\b\b\b\b\b\b\b\b\b\b\b\b\b\b\b\b\b\b\b\b\b\b\b\b\b\r\u001b[1m282/282\u001b[0m \u001b[32m━━━━━━━━━━━━━━━━━━━━\u001b[0m\u001b[37m\u001b[0m \u001b[1m17s\u001b[0m 62ms/step - accuracy: 0.4330 - loss: 1.5401 - val_accuracy: 0.4500 - val_loss: 1.4957\n",
            "Q 23-225    T -202  ☒ -221 \n",
            "Q 0+987     T 987   ☑ 987  \n",
            "Q 7789-8166 T -377  ☒ 8755 \n",
            "Q 3+210     T 213   ☒ 222  \n",
            "Q 2+119     T 121   ☒ 111  \n",
            "Q 5138+5    T 5143  ☒ 455  \n",
            "Q 121-6678  T -6557 ☒ -1111\n",
            "Q 8+432     T 440   ☒ 445  \n",
            "Q 82+5199   T 5281  ☒ 105  \n",
            "Q 50+822    T 872   ☒ 555  \n",
            "\n",
            "--------------------------------------------------\n",
            "Iteration 4\n",
            "\u001b[1m281/282\u001b[0m \u001b[32m━━━━━━━━━━━━━━━━━━━\u001b[0m\u001b[37m━\u001b[0m \u001b[1m0s\u001b[0m 62ms/step - accuracy: 0.4466 - loss: 1.4899\n",
            "Epoch 1: val_loss improved from 1.49569 to 1.49155, saving model to best_model.h5\n"
          ]
        },
        {
          "output_type": "stream",
          "name": "stderr",
          "text": [
            "WARNING:absl:You are saving your model as an HDF5 file via `model.save()` or `keras.saving.save_model(model)`. This file format is considered legacy. We recommend using instead the native Keras format, e.g. `model.save('my_model.keras')` or `keras.saving.save_model(model, 'my_model.keras')`. \n"
          ]
        },
        {
          "output_type": "stream",
          "name": "stdout",
          "text": [
            "\b\b\b\b\b\b\b\b\b\b\b\b\b\b\b\b\b\b\b\b\b\b\b\b\b\b\b\b\b\b\b\b\b\b\b\b\b\b\b\b\b\b\b\b\b\b\b\b\b\b\b\b\b\b\b\b\b\b\b\b\b\b\b\b\b\b\b\b\b\b\b\b\b\b\b\r\u001b[1m282/282\u001b[0m \u001b[32m━━━━━━━━━━━━━━━━━━━━\u001b[0m\u001b[37m\u001b[0m \u001b[1m19s\u001b[0m 67ms/step - accuracy: 0.4467 - loss: 1.4898 - val_accuracy: 0.4624 - val_loss: 1.4916\n",
            "Q 7205-5418 T 1787  ☒ 6121 \n",
            "Q 700-7074  T -6374 ☒ -711 \n",
            "Q 4506-900  T 3606  ☒ 311  \n",
            "Q 48+59     T 107   ☒ 84   \n",
            "Q 976-7984  T -7008 ☒ -7011\n",
            "Q 78-50     T 28    ☒ 61   \n",
            "Q 7553+336  T 7889  ☒ 6511 \n",
            "Q 968+111   T 1079  ☒ 101  \n",
            "Q 9608-9    T 9599  ☒ 998  \n",
            "Q 9-2119    T -2110 ☒ -111 \n",
            "\n",
            "--------------------------------------------------\n",
            "Iteration 5\n",
            "\u001b[1m281/282\u001b[0m \u001b[32m━━━━━━━━━━━━━━━━━━━\u001b[0m\u001b[37m━\u001b[0m \u001b[1m0s\u001b[0m 58ms/step - accuracy: 0.4676 - loss: 1.4350\n",
            "Epoch 1: val_loss improved from 1.49155 to 1.39643, saving model to best_model.h5\n"
          ]
        },
        {
          "output_type": "stream",
          "name": "stderr",
          "text": [
            "WARNING:absl:You are saving your model as an HDF5 file via `model.save()` or `keras.saving.save_model(model)`. This file format is considered legacy. We recommend using instead the native Keras format, e.g. `model.save('my_model.keras')` or `keras.saving.save_model(model, 'my_model.keras')`. \n"
          ]
        },
        {
          "output_type": "stream",
          "name": "stdout",
          "text": [
            "\b\b\b\b\b\b\b\b\b\b\b\b\b\b\b\b\b\b\b\b\b\b\b\b\b\b\b\b\b\b\b\b\b\b\b\b\b\b\b\b\b\b\b\b\b\b\b\b\b\b\b\b\b\b\b\b\b\b\b\b\b\b\b\b\b\b\b\b\b\b\b\b\b\b\b\r\u001b[1m282/282\u001b[0m \u001b[32m━━━━━━━━━━━━━━━━━━━━\u001b[0m\u001b[37m\u001b[0m \u001b[1m17s\u001b[0m 60ms/step - accuracy: 0.4677 - loss: 1.4349 - val_accuracy: 0.4822 - val_loss: 1.3964\n",
            "Q 449+1     T 450   ☒ 447  \n",
            "Q 76-3532   T -3456 ☒ -6228\n",
            "Q 5023+8    T 5031  ☒ 5668 \n",
            "Q 210+4     T 214   ☒ 21   \n",
            "Q 2791+474  T 3265  ☒ 4772 \n",
            "Q 43+325    T 368   ☒ 477  \n",
            "Q 4-971     T -967  ☒ -980 \n",
            "Q 7229+164  T 7393  ☒ 7278 \n",
            "Q 604+814   T 1418  ☒ 7028 \n",
            "Q 96-960    T -864  ☒ -905 \n",
            "\n",
            "--------------------------------------------------\n",
            "Iteration 6\n",
            "\u001b[1m281/282\u001b[0m \u001b[32m━━━━━━━━━━━━━━━━━━━\u001b[0m\u001b[37m━\u001b[0m \u001b[1m0s\u001b[0m 58ms/step - accuracy: 0.4897 - loss: 1.3774\n",
            "Epoch 1: val_loss improved from 1.39643 to 1.35818, saving model to best_model.h5\n"
          ]
        },
        {
          "output_type": "stream",
          "name": "stderr",
          "text": [
            "WARNING:absl:You are saving your model as an HDF5 file via `model.save()` or `keras.saving.save_model(model)`. This file format is considered legacy. We recommend using instead the native Keras format, e.g. `model.save('my_model.keras')` or `keras.saving.save_model(model, 'my_model.keras')`. \n"
          ]
        },
        {
          "output_type": "stream",
          "name": "stdout",
          "text": [
            "\b\b\b\b\b\b\b\b\b\b\b\b\b\b\b\b\b\b\b\b\b\b\b\b\b\b\b\b\b\b\b\b\b\b\b\b\b\b\b\b\b\b\b\b\b\b\b\b\b\b\b\b\b\b\b\b\b\b\b\b\b\b\b\b\b\b\b\b\b\b\b\b\b\b\b\r\u001b[1m282/282\u001b[0m \u001b[32m━━━━━━━━━━━━━━━━━━━━\u001b[0m\u001b[37m\u001b[0m \u001b[1m17s\u001b[0m 61ms/step - accuracy: 0.4897 - loss: 1.3773 - val_accuracy: 0.4970 - val_loss: 1.3582\n",
            "Q 9576-60   T 9516  ☒ 5561 \n",
            "Q 7+1623    T 1630  ☒ 1171 \n",
            "Q 45+24     T 69    ☒ 55   \n",
            "Q 2-2624    T -2622 ☒ -2226\n",
            "Q 167-700   T -533  ☒ -166 \n",
            "Q 582+13    T 595   ☒ 577  \n",
            "Q 391+478   T 869   ☒ 417  \n",
            "Q 5666-5    T 5661  ☒ 5569 \n",
            "Q 81-628    T -547  ☒ -611 \n",
            "Q 4+111     T 115   ☒ 111  \n",
            "\n",
            "--------------------------------------------------\n",
            "Iteration 7\n",
            "\u001b[1m282/282\u001b[0m \u001b[32m━━━━━━━━━━━━━━━━━━━━\u001b[0m\u001b[37m\u001b[0m \u001b[1m0s\u001b[0m 65ms/step - accuracy: 0.5092 - loss: 1.3261\n",
            "Epoch 1: val_loss improved from 1.35818 to 1.28006, saving model to best_model.h5\n"
          ]
        },
        {
          "output_type": "stream",
          "name": "stderr",
          "text": [
            "WARNING:absl:You are saving your model as an HDF5 file via `model.save()` or `keras.saving.save_model(model)`. This file format is considered legacy. We recommend using instead the native Keras format, e.g. `model.save('my_model.keras')` or `keras.saving.save_model(model, 'my_model.keras')`. \n"
          ]
        },
        {
          "output_type": "stream",
          "name": "stdout",
          "text": [
            "\b\b\b\b\b\b\b\b\b\b\b\b\b\b\b\b\b\b\b\b\b\b\b\b\b\b\b\b\b\b\b\b\b\b\b\b\b\b\b\b\b\b\b\b\b\b\b\b\b\b\b\b\b\b\b\b\b\b\b\b\b\b\b\b\b\b\b\b\b\b\b\b\b\b\b\r\u001b[1m282/282\u001b[0m \u001b[32m━━━━━━━━━━━━━━━━━━━━\u001b[0m\u001b[37m\u001b[0m \u001b[1m19s\u001b[0m 68ms/step - accuracy: 0.5092 - loss: 1.3260 - val_accuracy: 0.5228 - val_loss: 1.2801\n",
            "Q 5741-8955 T -3214 ☒ -4217\n",
            "Q 5803+322  T 6125  ☒ 5262 \n",
            "Q 28+513    T 541   ☒ 528  \n",
            "Q 416+72    T 488   ☒ 412  \n",
            "Q 532-9     T 523   ☒ 596  \n",
            "Q 657-15    T 642   ☒ 518  \n",
            "Q 408-3234  T -2826 ☒ -3185\n",
            "Q 2969+8464 T 11433 ☒ 10225\n",
            "Q 38+5290   T 5328  ☒ 5666 \n",
            "Q 206+6     T 212   ☒ 265  \n",
            "\n",
            "--------------------------------------------------\n",
            "Iteration 8\n",
            "\u001b[1m282/282\u001b[0m \u001b[32m━━━━━━━━━━━━━━━━━━━━\u001b[0m\u001b[37m\u001b[0m \u001b[1m0s\u001b[0m 58ms/step - accuracy: 0.5316 - loss: 1.2645\n",
            "Epoch 1: val_loss improved from 1.28006 to 1.23402, saving model to best_model.h5\n"
          ]
        },
        {
          "output_type": "stream",
          "name": "stderr",
          "text": [
            "WARNING:absl:You are saving your model as an HDF5 file via `model.save()` or `keras.saving.save_model(model)`. This file format is considered legacy. We recommend using instead the native Keras format, e.g. `model.save('my_model.keras')` or `keras.saving.save_model(model, 'my_model.keras')`. \n"
          ]
        },
        {
          "output_type": "stream",
          "name": "stdout",
          "text": [
            "\b\b\b\b\b\b\b\b\b\b\b\b\b\b\b\b\b\b\b\b\b\b\b\b\b\b\b\b\b\b\b\b\b\b\b\b\b\b\b\b\b\b\b\b\b\b\b\b\b\b\b\b\b\b\b\b\b\b\b\b\b\b\b\b\b\b\b\b\b\b\b\b\b\b\b\r\u001b[1m282/282\u001b[0m \u001b[32m━━━━━━━━━━━━━━━━━━━━\u001b[0m\u001b[37m\u001b[0m \u001b[1m17s\u001b[0m 61ms/step - accuracy: 0.5316 - loss: 1.2645 - val_accuracy: 0.5394 - val_loss: 1.2340\n",
            "Q 6+890     T 896   ☒ 988  \n",
            "Q 9+36      T 45    ☒ 49   \n",
            "Q 72-55     T 17    ☒ 52   \n",
            "Q 14-4      T 10    ☒ 4    \n",
            "Q 7297-504  T 6793  ☒ 7255 \n",
            "Q 944-3     T 941   ☒ 949  \n",
            "Q 96+8      T 104   ☒ 90   \n",
            "Q 59-768    T -709  ☒ -634 \n",
            "Q 6-4530    T -4524 ☒ -4438\n",
            "Q 721-79    T 642   ☒ 735  \n",
            "\n",
            "--------------------------------------------------\n",
            "Iteration 9\n",
            "\u001b[1m281/282\u001b[0m \u001b[32m━━━━━━━━━━━━━━━━━━━\u001b[0m\u001b[37m━\u001b[0m \u001b[1m0s\u001b[0m 58ms/step - accuracy: 0.5511 - loss: 1.2065\n",
            "Epoch 1: val_loss improved from 1.23402 to 1.18801, saving model to best_model.h5\n"
          ]
        },
        {
          "output_type": "stream",
          "name": "stderr",
          "text": [
            "WARNING:absl:You are saving your model as an HDF5 file via `model.save()` or `keras.saving.save_model(model)`. This file format is considered legacy. We recommend using instead the native Keras format, e.g. `model.save('my_model.keras')` or `keras.saving.save_model(model, 'my_model.keras')`. \n"
          ]
        },
        {
          "output_type": "stream",
          "name": "stdout",
          "text": [
            "\b\b\b\b\b\b\b\b\b\b\b\b\b\b\b\b\b\b\b\b\b\b\b\b\b\b\b\b\b\b\b\b\b\b\b\b\b\b\b\b\b\b\b\b\b\b\b\b\b\b\b\b\b\b\b\b\b\b\b\b\b\b\b\b\b\b\b\b\b\b\b\b\b\b\b\r\u001b[1m282/282\u001b[0m \u001b[32m━━━━━━━━━━━━━━━━━━━━\u001b[0m\u001b[37m\u001b[0m \u001b[1m17s\u001b[0m 60ms/step - accuracy: 0.5511 - loss: 1.2065 - val_accuracy: 0.5544 - val_loss: 1.1880\n",
            "Q 57+7742   T 7799  ☒ 7730 \n",
            "Q 3984+4989 T 8973  ☒ 1004 \n",
            "Q 734+469   T 1203  ☒ 114  \n",
            "Q 9638-6492 T 3146  ☒ 9301 \n",
            "Q 5+31      T 36    ☒ 35   \n",
            "Q 40+1174   T 1214  ☒ 1148 \n",
            "Q 1382-6500 T -5118 ☒ -3550\n",
            "Q 0+703     T 703   ☒ 711  \n",
            "Q 7+60      T 67    ☒ 60   \n",
            "Q 4358+4788 T 9146  ☒ 4004 \n",
            "\n",
            "--------------------------------------------------\n",
            "Iteration 10\n",
            "\u001b[1m281/282\u001b[0m \u001b[32m━━━━━━━━━━━━━━━━━━━\u001b[0m\u001b[37m━\u001b[0m \u001b[1m0s\u001b[0m 58ms/step - accuracy: 0.5664 - loss: 1.1620\n",
            "Epoch 1: val_loss improved from 1.18801 to 1.14032, saving model to best_model.h5\n"
          ]
        },
        {
          "output_type": "stream",
          "name": "stderr",
          "text": [
            "WARNING:absl:You are saving your model as an HDF5 file via `model.save()` or `keras.saving.save_model(model)`. This file format is considered legacy. We recommend using instead the native Keras format, e.g. `model.save('my_model.keras')` or `keras.saving.save_model(model, 'my_model.keras')`. \n"
          ]
        },
        {
          "output_type": "stream",
          "name": "stdout",
          "text": [
            "\b\b\b\b\b\b\b\b\b\b\b\b\b\b\b\b\b\b\b\b\b\b\b\b\b\b\b\b\b\b\b\b\b\b\b\b\b\b\b\b\b\b\b\b\b\b\b\b\b\b\b\b\b\b\b\b\b\b\b\b\b\b\b\b\b\b\b\b\b\b\b\b\b\b\b\r\u001b[1m282/282\u001b[0m \u001b[32m━━━━━━━━━━━━━━━━━━━━\u001b[0m\u001b[37m\u001b[0m \u001b[1m17s\u001b[0m 60ms/step - accuracy: 0.5665 - loss: 1.1619 - val_accuracy: 0.5731 - val_loss: 1.1403\n",
            "Q 214-6     T 208   ☒ 214  \n",
            "Q 976+578   T 1554  ☒ 1444 \n",
            "Q 838-9634  T -8796 ☒ -8442\n",
            "Q 5741-8955 T -3214 ☒ -4448\n",
            "Q 74+7740   T 7814  ☒ 7599 \n",
            "Q 0-309     T -309  ☒ -308 \n",
            "Q 4511-35   T 4476  ☒ 4543 \n",
            "Q 515-23    T 492   ☒ 414  \n",
            "Q 61+53     T 114   ☑ 114  \n",
            "Q 713+63    T 776   ☒ 714  \n",
            "\n",
            "--------------------------------------------------\n",
            "Iteration 11\n",
            "\u001b[1m282/282\u001b[0m \u001b[32m━━━━━━━━━━━━━━━━━━━━\u001b[0m\u001b[37m\u001b[0m \u001b[1m0s\u001b[0m 58ms/step - accuracy: 0.5811 - loss: 1.1221\n",
            "Epoch 1: val_loss improved from 1.14032 to 1.12298, saving model to best_model.h5\n"
          ]
        },
        {
          "output_type": "stream",
          "name": "stderr",
          "text": [
            "WARNING:absl:You are saving your model as an HDF5 file via `model.save()` or `keras.saving.save_model(model)`. This file format is considered legacy. We recommend using instead the native Keras format, e.g. `model.save('my_model.keras')` or `keras.saving.save_model(model, 'my_model.keras')`. \n"
          ]
        },
        {
          "output_type": "stream",
          "name": "stdout",
          "text": [
            "\b\b\b\b\b\b\b\b\b\b\b\b\b\b\b\b\b\b\b\b\b\b\b\b\b\b\b\b\b\b\b\b\b\b\b\b\b\b\b\b\b\b\b\b\b\b\b\b\b\b\b\b\b\b\b\b\b\b\b\b\b\b\b\b\b\b\b\b\b\b\b\b\b\b\b\r\u001b[1m282/282\u001b[0m \u001b[32m━━━━━━━━━━━━━━━━━━━━\u001b[0m\u001b[37m\u001b[0m \u001b[1m17s\u001b[0m 61ms/step - accuracy: 0.5811 - loss: 1.1221 - val_accuracy: 0.5789 - val_loss: 1.1230\n",
            "Q 610-88    T 522   ☒ 566  \n",
            "Q 7960+6068 T 14028 ☒ 15660\n",
            "Q 318-9926  T -9608 ☒ -9400\n",
            "Q 5138+5    T 5143  ☒ 5100 \n",
            "Q 9439-146  T 9293  ☒ 8465 \n",
            "Q 34+8442   T 8476  ☒ 8400 \n",
            "Q 771-643   T 128   ☒ 460  \n",
            "Q 5-832     T -827  ☒ -830 \n",
            "Q 459-293   T 166   ☒ 210  \n",
            "Q 8180-5    T 8175  ☒ 8100 \n",
            "\n",
            "--------------------------------------------------\n",
            "Iteration 12\n",
            "\u001b[1m281/282\u001b[0m \u001b[32m━━━━━━━━━━━━━━━━━━━\u001b[0m\u001b[37m━\u001b[0m \u001b[1m0s\u001b[0m 58ms/step - accuracy: 0.5910 - loss: 1.0930\n",
            "Epoch 1: val_loss improved from 1.12298 to 1.09144, saving model to best_model.h5\n"
          ]
        },
        {
          "output_type": "stream",
          "name": "stderr",
          "text": [
            "WARNING:absl:You are saving your model as an HDF5 file via `model.save()` or `keras.saving.save_model(model)`. This file format is considered legacy. We recommend using instead the native Keras format, e.g. `model.save('my_model.keras')` or `keras.saving.save_model(model, 'my_model.keras')`. \n"
          ]
        },
        {
          "output_type": "stream",
          "name": "stdout",
          "text": [
            "\b\b\b\b\b\b\b\b\b\b\b\b\b\b\b\b\b\b\b\b\b\b\b\b\b\b\b\b\b\b\b\b\b\b\b\b\b\b\b\b\b\b\b\b\b\b\b\b\b\b\b\b\b\b\b\b\b\b\b\b\b\b\b\b\b\b\b\b\b\b\b\b\b\b\b\r\u001b[1m282/282\u001b[0m \u001b[32m━━━━━━━━━━━━━━━━━━━━\u001b[0m\u001b[37m\u001b[0m \u001b[1m17s\u001b[0m 61ms/step - accuracy: 0.5910 - loss: 1.0929 - val_accuracy: 0.5868 - val_loss: 1.0914\n",
            "Q 4048-8    T 4040  ☒ 4004 \n",
            "Q 71-7410   T -7339 ☒ -7497\n",
            "Q 77-86     T -9    ☒ -1   \n",
            "Q 112-1     T 111   ☒ 118  \n",
            "Q 342+3     T 345   ☒ 333  \n",
            "Q 573+2495  T 3068  ☒ 3833 \n",
            "Q 199-6     T 193   ☒ 197  \n",
            "Q 985+846   T 1831  ☒ 1037 \n",
            "Q 2411+0    T 2411  ☒ 2413 \n",
            "Q 987+3     T 990   ☒ 983  \n",
            "\n",
            "--------------------------------------------------\n",
            "Iteration 13\n",
            "\u001b[1m282/282\u001b[0m \u001b[32m━━━━━━━━━━━━━━━━━━━━\u001b[0m\u001b[37m\u001b[0m \u001b[1m0s\u001b[0m 61ms/step - accuracy: 0.6041 - loss: 1.0600\n",
            "Epoch 1: val_loss improved from 1.09144 to 1.07775, saving model to best_model.h5\n"
          ]
        },
        {
          "output_type": "stream",
          "name": "stderr",
          "text": [
            "WARNING:absl:You are saving your model as an HDF5 file via `model.save()` or `keras.saving.save_model(model)`. This file format is considered legacy. We recommend using instead the native Keras format, e.g. `model.save('my_model.keras')` or `keras.saving.save_model(model, 'my_model.keras')`. \n"
          ]
        },
        {
          "output_type": "stream",
          "name": "stdout",
          "text": [
            "\b\b\b\b\b\b\b\b\b\b\b\b\b\b\b\b\b\b\b\b\b\b\b\b\b\b\b\b\b\b\b\b\b\b\b\b\b\b\b\b\b\b\b\b\b\b\b\b\b\b\b\b\b\b\b\b\b\b\b\b\b\b\b\b\b\b\b\b\b\b\b\b\b\b\b\r\u001b[1m282/282\u001b[0m \u001b[32m━━━━━━━━━━━━━━━━━━━━\u001b[0m\u001b[37m\u001b[0m \u001b[1m18s\u001b[0m 63ms/step - accuracy: 0.6041 - loss: 1.0600 - val_accuracy: 0.5929 - val_loss: 1.0778\n",
            "Q 544-563   T -19   ☒ -10  \n",
            "Q 69+48     T 117   ☒ 121  \n",
            "Q 0-44      T -44   ☑ -44  \n",
            "Q 4400-8    T 4392  ☒ 4303 \n",
            "Q 9+452     T 461   ☒ 457  \n",
            "Q 3733-816  T 2917  ☒ 240  \n",
            "Q 4376-537  T 3839  ☒ 370  \n",
            "Q 3548+6    T 3554  ☒ 3567 \n",
            "Q 1+661     T 662   ☒ 663  \n",
            "Q 1191+704  T 1895  ☒ 1721 \n",
            "\n",
            "--------------------------------------------------\n",
            "Iteration 14\n",
            "\u001b[1m281/282\u001b[0m \u001b[32m━━━━━━━━━━━━━━━━━━━\u001b[0m\u001b[37m━\u001b[0m \u001b[1m0s\u001b[0m 60ms/step - accuracy: 0.6105 - loss: 1.0388\n",
            "Epoch 1: val_loss improved from 1.07775 to 1.04432, saving model to best_model.h5\n"
          ]
        },
        {
          "output_type": "stream",
          "name": "stderr",
          "text": [
            "WARNING:absl:You are saving your model as an HDF5 file via `model.save()` or `keras.saving.save_model(model)`. This file format is considered legacy. We recommend using instead the native Keras format, e.g. `model.save('my_model.keras')` or `keras.saving.save_model(model, 'my_model.keras')`. \n"
          ]
        },
        {
          "output_type": "stream",
          "name": "stdout",
          "text": [
            "\b\b\b\b\b\b\b\b\b\b\b\b\b\b\b\b\b\b\b\b\b\b\b\b\b\b\b\b\b\b\b\b\b\b\b\b\b\b\b\b\b\b\b\b\b\b\b\b\b\b\b\b\b\b\b\b\b\b\b\b\b\b\b\b\b\b\b\b\b\b\b\b\b\b\b\r\u001b[1m282/282\u001b[0m \u001b[32m━━━━━━━━━━━━━━━━━━━━\u001b[0m\u001b[37m\u001b[0m \u001b[1m18s\u001b[0m 62ms/step - accuracy: 0.6105 - loss: 1.0387 - val_accuracy: 0.6070 - val_loss: 1.0443\n",
            "Q 63+8349   T 8412  ☒ 8333 \n",
            "Q 321-0     T 321   ☒ 313  \n",
            "Q 7735+8    T 7743  ☒ 7738 \n",
            "Q 499+4     T 503   ☒ 497  \n",
            "Q 9-815     T -806  ☒ -705 \n",
            "Q 705-8445  T -7740 ☒ -7988\n",
            "Q 470+978   T 1448  ☑ 1448 \n",
            "Q 8525-6391 T 2134  ☒ 111  \n",
            "Q 40-78     T -38   ☒ -45  \n",
            "Q 135+2     T 137   ☑ 137  \n",
            "\n",
            "--------------------------------------------------\n",
            "Iteration 15\n",
            "\u001b[1m282/282\u001b[0m \u001b[32m━━━━━━━━━━━━━━━━━━━━\u001b[0m\u001b[37m\u001b[0m \u001b[1m0s\u001b[0m 60ms/step - accuracy: 0.6197 - loss: 1.0160\n",
            "Epoch 1: val_loss improved from 1.04432 to 1.02038, saving model to best_model.h5\n"
          ]
        },
        {
          "output_type": "stream",
          "name": "stderr",
          "text": [
            "WARNING:absl:You are saving your model as an HDF5 file via `model.save()` or `keras.saving.save_model(model)`. This file format is considered legacy. We recommend using instead the native Keras format, e.g. `model.save('my_model.keras')` or `keras.saving.save_model(model, 'my_model.keras')`. \n"
          ]
        },
        {
          "output_type": "stream",
          "name": "stdout",
          "text": [
            "\b\b\b\b\b\b\b\b\b\b\b\b\b\b\b\b\b\b\b\b\b\b\b\b\b\b\b\b\b\b\b\b\b\b\b\b\b\b\b\b\b\b\b\b\b\b\b\b\b\b\b\b\b\b\b\b\b\b\b\b\b\b\b\b\b\b\b\b\b\b\b\b\b\b\b\r\u001b[1m282/282\u001b[0m \u001b[32m━━━━━━━━━━━━━━━━━━━━\u001b[0m\u001b[37m\u001b[0m \u001b[1m18s\u001b[0m 63ms/step - accuracy: 0.6197 - loss: 1.0159 - val_accuracy: 0.6127 - val_loss: 1.0204\n",
            "Q 75+908    T 983   ☒ 900  \n",
            "Q 3+907     T 910   ☒ 913  \n",
            "Q 5+1386    T 1391  ☒ 1390 \n",
            "Q 2+72      T 74    ☒ 73   \n",
            "Q 334+83    T 417   ☒ 424  \n",
            "Q 3931-4    T 3927  ☒ 3934 \n",
            "Q 30+747    T 777   ☒ 786  \n",
            "Q 308-17    T 291   ☒ 296  \n",
            "Q 7092-6918 T 174   ☒ 111  \n",
            "Q 49-556    T -507  ☒ -530 \n",
            "\n",
            "--------------------------------------------------\n",
            "Iteration 16\n",
            "\u001b[1m281/282\u001b[0m \u001b[32m━━━━━━━━━━━━━━━━━━━\u001b[0m\u001b[37m━\u001b[0m \u001b[1m0s\u001b[0m 62ms/step - accuracy: 0.6302 - loss: 0.9924\n",
            "Epoch 1: val_loss improved from 1.02038 to 0.99692, saving model to best_model.h5\n"
          ]
        },
        {
          "output_type": "stream",
          "name": "stderr",
          "text": [
            "WARNING:absl:You are saving your model as an HDF5 file via `model.save()` or `keras.saving.save_model(model)`. This file format is considered legacy. We recommend using instead the native Keras format, e.g. `model.save('my_model.keras')` or `keras.saving.save_model(model, 'my_model.keras')`. \n"
          ]
        },
        {
          "output_type": "stream",
          "name": "stdout",
          "text": [
            "\b\b\b\b\b\b\b\b\b\b\b\b\b\b\b\b\b\b\b\b\b\b\b\b\b\b\b\b\b\b\b\b\b\b\b\b\b\b\b\b\b\b\b\b\b\b\b\b\b\b\b\b\b\b\b\b\b\b\b\b\b\b\b\b\b\b\b\b\b\b\b\b\b\b\b\r\u001b[1m282/282\u001b[0m \u001b[32m━━━━━━━━━━━━━━━━━━━━\u001b[0m\u001b[37m\u001b[0m \u001b[1m19s\u001b[0m 66ms/step - accuracy: 0.6302 - loss: 0.9924 - val_accuracy: 0.6195 - val_loss: 0.9969\n",
            "Q 2+4139    T 4141  ☑ 4141 \n",
            "Q 74-4102   T -4028 ☒ -4953\n",
            "Q 803+3796  T 4599  ☒ 4166 \n",
            "Q 3548+6    T 3554  ☒ 3589 \n",
            "Q 7+2291    T 2298  ☒ 2291 \n",
            "Q 6+2507    T 2513  ☒ 2518 \n",
            "Q 92-15     T 77    ☒ 75   \n",
            "Q 98-826    T -728  ☒ -731 \n",
            "Q 5+189     T 194   ☒ 296  \n",
            "Q 4826-589  T 4237  ☒ 4099 \n",
            "\n",
            "--------------------------------------------------\n",
            "Iteration 17\n",
            "\u001b[1m281/282\u001b[0m \u001b[32m━━━━━━━━━━━━━━━━━━━\u001b[0m\u001b[37m━\u001b[0m \u001b[1m0s\u001b[0m 60ms/step - accuracy: 0.6373 - loss: 0.9674\n",
            "Epoch 1: val_loss improved from 0.99692 to 0.98484, saving model to best_model.h5\n"
          ]
        },
        {
          "output_type": "stream",
          "name": "stderr",
          "text": [
            "WARNING:absl:You are saving your model as an HDF5 file via `model.save()` or `keras.saving.save_model(model)`. This file format is considered legacy. We recommend using instead the native Keras format, e.g. `model.save('my_model.keras')` or `keras.saving.save_model(model, 'my_model.keras')`. \n"
          ]
        },
        {
          "output_type": "stream",
          "name": "stdout",
          "text": [
            "\b\b\b\b\b\b\b\b\b\b\b\b\b\b\b\b\b\b\b\b\b\b\b\b\b\b\b\b\b\b\b\b\b\b\b\b\b\b\b\b\b\b\b\b\b\b\b\b\b\b\b\b\b\b\b\b\b\b\b\b\b\b\b\b\b\b\b\b\b\b\b\b\b\b\b\r\u001b[1m282/282\u001b[0m \u001b[32m━━━━━━━━━━━━━━━━━━━━\u001b[0m\u001b[37m\u001b[0m \u001b[1m18s\u001b[0m 62ms/step - accuracy: 0.6373 - loss: 0.9674 - val_accuracy: 0.6272 - val_loss: 0.9848\n",
            "Q 936+99    T 1035  ☒ 1012 \n",
            "Q 3+673     T 676   ☑ 676  \n",
            "Q 54+984    T 1038  ☒ 1030 \n",
            "Q 915+8     T 923   ☒ 919  \n",
            "Q 9067+8    T 9075  ☒ 9160 \n",
            "Q 340+551   T 891   ☒ 895  \n",
            "Q 518-6040  T -5522 ☒ -5960\n",
            "Q 3791-74   T 3717  ☒ 3755 \n",
            "Q 997-2813  T -1816 ☒ -1555\n",
            "Q 69+48     T 117   ☒ 125  \n",
            "\n",
            "--------------------------------------------------\n",
            "Iteration 18\n",
            "\u001b[1m282/282\u001b[0m \u001b[32m━━━━━━━━━━━━━━━━━━━━\u001b[0m\u001b[37m\u001b[0m \u001b[1m0s\u001b[0m 60ms/step - accuracy: 0.6448 - loss: 0.9487\n",
            "Epoch 1: val_loss improved from 0.98484 to 0.96495, saving model to best_model.h5\n"
          ]
        },
        {
          "output_type": "stream",
          "name": "stderr",
          "text": [
            "WARNING:absl:You are saving your model as an HDF5 file via `model.save()` or `keras.saving.save_model(model)`. This file format is considered legacy. We recommend using instead the native Keras format, e.g. `model.save('my_model.keras')` or `keras.saving.save_model(model, 'my_model.keras')`. \n"
          ]
        },
        {
          "output_type": "stream",
          "name": "stdout",
          "text": [
            "\b\b\b\b\b\b\b\b\b\b\b\b\b\b\b\b\b\b\b\b\b\b\b\b\b\b\b\b\b\b\b\b\b\b\b\b\b\b\b\b\b\b\b\b\b\b\b\b\b\b\b\b\b\b\b\b\b\b\b\b\b\b\b\b\b\b\b\b\b\b\b\b\b\b\b\r\u001b[1m282/282\u001b[0m \u001b[32m━━━━━━━━━━━━━━━━━━━━\u001b[0m\u001b[37m\u001b[0m \u001b[1m18s\u001b[0m 63ms/step - accuracy: 0.6448 - loss: 0.9487 - val_accuracy: 0.6328 - val_loss: 0.9649\n",
            "Q 6124+90   T 6214  ☒ 6248 \n",
            "Q 271+2     T 273   ☑ 273  \n",
            "Q 381+7     T 388   ☒ 380  \n",
            "Q 353+12    T 365   ☒ 359  \n",
            "Q 663-986   T -323  ☒ -398 \n",
            "Q 8317+92   T 8409  ☒ 8393 \n",
            "Q 771-643   T 128   ☒ 191  \n",
            "Q 97+5056   T 5153  ☒ 5188 \n",
            "Q 41-122    T -81   ☒ -94  \n",
            "Q 236-7     T 229   ☒ 239  \n",
            "\n",
            "--------------------------------------------------\n",
            "Iteration 19\n",
            "\u001b[1m281/282\u001b[0m \u001b[32m━━━━━━━━━━━━━━━━━━━\u001b[0m\u001b[37m━\u001b[0m \u001b[1m0s\u001b[0m 60ms/step - accuracy: 0.6514 - loss: 0.9316\n",
            "Epoch 1: val_loss improved from 0.96495 to 0.96316, saving model to best_model.h5\n"
          ]
        },
        {
          "output_type": "stream",
          "name": "stderr",
          "text": [
            "WARNING:absl:You are saving your model as an HDF5 file via `model.save()` or `keras.saving.save_model(model)`. This file format is considered legacy. We recommend using instead the native Keras format, e.g. `model.save('my_model.keras')` or `keras.saving.save_model(model, 'my_model.keras')`. \n"
          ]
        },
        {
          "output_type": "stream",
          "name": "stdout",
          "text": [
            "\b\b\b\b\b\b\b\b\b\b\b\b\b\b\b\b\b\b\b\b\b\b\b\b\b\b\b\b\b\b\b\b\b\b\b\b\b\b\b\b\b\b\b\b\b\b\b\b\b\b\b\b\b\b\b\b\b\b\b\b\b\b\b\b\b\b\b\b\b\b\b\b\b\b\b\r\u001b[1m282/282\u001b[0m \u001b[32m━━━━━━━━━━━━━━━━━━━━\u001b[0m\u001b[37m\u001b[0m \u001b[1m18s\u001b[0m 65ms/step - accuracy: 0.6514 - loss: 0.9316 - val_accuracy: 0.6384 - val_loss: 0.9632\n",
            "Q 4157+77   T 4234  ☒ 4205 \n",
            "Q 8+101     T 109   ☒ 101  \n",
            "Q 76-630    T -554  ☒ -577 \n",
            "Q 9-2119    T -2110 ☒ -2109\n",
            "Q 219-656   T -437  ☒ -430 \n",
            "Q 694-50    T 644   ☒ 611  \n",
            "Q 624+16    T 640   ☒ 633  \n",
            "Q 340+551   T 891   ☒ 808  \n",
            "Q 87+1997   T 2084  ☒ 2063 \n",
            "Q 835-9     T 826   ☒ 828  \n",
            "\n",
            "--------------------------------------------------\n",
            "Iteration 20\n",
            "\u001b[1m282/282\u001b[0m \u001b[32m━━━━━━━━━━━━━━━━━━━━\u001b[0m\u001b[37m\u001b[0m \u001b[1m0s\u001b[0m 59ms/step - accuracy: 0.6585 - loss: 0.9168\n",
            "Epoch 1: val_loss improved from 0.96316 to 0.93375, saving model to best_model.h5\n"
          ]
        },
        {
          "output_type": "stream",
          "name": "stderr",
          "text": [
            "WARNING:absl:You are saving your model as an HDF5 file via `model.save()` or `keras.saving.save_model(model)`. This file format is considered legacy. We recommend using instead the native Keras format, e.g. `model.save('my_model.keras')` or `keras.saving.save_model(model, 'my_model.keras')`. \n"
          ]
        },
        {
          "output_type": "stream",
          "name": "stdout",
          "text": [
            "\b\b\b\b\b\b\b\b\b\b\b\b\b\b\b\b\b\b\b\b\b\b\b\b\b\b\b\b\b\b\b\b\b\b\b\b\b\b\b\b\b\b\b\b\b\b\b\b\b\b\b\b\b\b\b\b\b\b\b\b\b\b\b\b\b\b\b\b\b\b\b\b\b\b\b\r\u001b[1m282/282\u001b[0m \u001b[32m━━━━━━━━━━━━━━━━━━━━\u001b[0m\u001b[37m\u001b[0m \u001b[1m18s\u001b[0m 62ms/step - accuracy: 0.6585 - loss: 0.9168 - val_accuracy: 0.6472 - val_loss: 0.9338\n",
            "Q 2289-914  T 1375  ☒ 1470 \n",
            "Q 768-552   T 216   ☒ 202  \n",
            "Q 7+1623    T 1630  ☒ 1620 \n",
            "Q 642+7995  T 8637  ☒ 9099 \n",
            "Q 8705-5956 T 2749  ☒ 2295 \n",
            "Q 75-2      T 73    ☒ 75   \n",
            "Q 55-229    T -174  ☒ -170 \n",
            "Q 19+9      T 28    ☒ 29   \n",
            "Q 9-6277    T -6268 ☒ -6279\n",
            "Q 6169-6718 T -549  ☒ -10  \n",
            "\n",
            "--------------------------------------------------\n",
            "Iteration 21\n",
            "\u001b[1m281/282\u001b[0m \u001b[32m━━━━━━━━━━━━━━━━━━━\u001b[0m\u001b[37m━\u001b[0m \u001b[1m0s\u001b[0m 59ms/step - accuracy: 0.6659 - loss: 0.8979\n",
            "Epoch 1: val_loss improved from 0.93375 to 0.92666, saving model to best_model.h5\n"
          ]
        },
        {
          "output_type": "stream",
          "name": "stderr",
          "text": [
            "WARNING:absl:You are saving your model as an HDF5 file via `model.save()` or `keras.saving.save_model(model)`. This file format is considered legacy. We recommend using instead the native Keras format, e.g. `model.save('my_model.keras')` or `keras.saving.save_model(model, 'my_model.keras')`. \n"
          ]
        },
        {
          "output_type": "stream",
          "name": "stdout",
          "text": [
            "\b\b\b\b\b\b\b\b\b\b\b\b\b\b\b\b\b\b\b\b\b\b\b\b\b\b\b\b\b\b\b\b\b\b\b\b\b\b\b\b\b\b\b\b\b\b\b\b\b\b\b\b\b\b\b\b\b\b\b\b\b\b\b\b\b\b\b\b\b\b\b\b\b\b\b\r\u001b[1m282/282\u001b[0m \u001b[32m━━━━━━━━━━━━━━━━━━━━\u001b[0m\u001b[37m\u001b[0m \u001b[1m18s\u001b[0m 62ms/step - accuracy: 0.6659 - loss: 0.8979 - val_accuracy: 0.6490 - val_loss: 0.9267\n",
            "Q 43-0      T 43    ☑ 43   \n",
            "Q 8666+702  T 9368  ☒ 9596 \n",
            "Q 864-1655  T -791  ☒ -116 \n",
            "Q 2876-4    T 2872  ☒ 2886 \n",
            "Q 41-7      T 34    ☑ 34   \n",
            "Q 7-5066    T -5059 ☒ -5000\n",
            "Q 30+3497   T 3527  ☒ 3506 \n",
            "Q 34+8442   T 8476  ☒ 8452 \n",
            "Q 40+1174   T 1214  ☒ 1186 \n",
            "Q 0+2920    T 2920  ☒ 2924 \n",
            "\n",
            "--------------------------------------------------\n",
            "Iteration 22\n",
            "\u001b[1m281/282\u001b[0m \u001b[32m━━━━━━━━━━━━━━━━━━━\u001b[0m\u001b[37m━\u001b[0m \u001b[1m0s\u001b[0m 59ms/step - accuracy: 0.6697 - loss: 0.8891\n",
            "Epoch 1: val_loss improved from 0.92666 to 0.91655, saving model to best_model.h5\n"
          ]
        },
        {
          "output_type": "stream",
          "name": "stderr",
          "text": [
            "WARNING:absl:You are saving your model as an HDF5 file via `model.save()` or `keras.saving.save_model(model)`. This file format is considered legacy. We recommend using instead the native Keras format, e.g. `model.save('my_model.keras')` or `keras.saving.save_model(model, 'my_model.keras')`. \n"
          ]
        },
        {
          "output_type": "stream",
          "name": "stdout",
          "text": [
            "\b\b\b\b\b\b\b\b\b\b\b\b\b\b\b\b\b\b\b\b\b\b\b\b\b\b\b\b\b\b\b\b\b\b\b\b\b\b\b\b\b\b\b\b\b\b\b\b\b\b\b\b\b\b\b\b\b\b\b\b\b\b\b\b\b\b\b\b\b\b\b\b\b\b\b\r\u001b[1m282/282\u001b[0m \u001b[32m━━━━━━━━━━━━━━━━━━━━\u001b[0m\u001b[37m\u001b[0m \u001b[1m17s\u001b[0m 62ms/step - accuracy: 0.6697 - loss: 0.8891 - val_accuracy: 0.6522 - val_loss: 0.9165\n",
            "Q 94-70     T 24    ☒ 12   \n",
            "Q 219+308   T 527   ☒ 565  \n",
            "Q 9-93      T -84   ☒ -83  \n",
            "Q 70-2      T 68    ☑ 68   \n",
            "Q 2289-914  T 1375  ☒ 1470 \n",
            "Q 3-865     T -862  ☑ -862 \n",
            "Q 487-8     T 479   ☒ 480  \n",
            "Q 8511-33   T 8478  ☒ 8455 \n",
            "Q 825+1935  T 2760  ☒ 2187 \n",
            "Q 25-2      T 23    ☒ 21   \n",
            "\n",
            "--------------------------------------------------\n",
            "Iteration 23\n",
            "\u001b[1m281/282\u001b[0m \u001b[32m━━━━━━━━━━━━━━━━━━━\u001b[0m\u001b[37m━\u001b[0m \u001b[1m0s\u001b[0m 59ms/step - accuracy: 0.6744 - loss: 0.8728\n",
            "Epoch 1: val_loss improved from 0.91655 to 0.89915, saving model to best_model.h5\n"
          ]
        },
        {
          "output_type": "stream",
          "name": "stderr",
          "text": [
            "WARNING:absl:You are saving your model as an HDF5 file via `model.save()` or `keras.saving.save_model(model)`. This file format is considered legacy. We recommend using instead the native Keras format, e.g. `model.save('my_model.keras')` or `keras.saving.save_model(model, 'my_model.keras')`. \n"
          ]
        },
        {
          "output_type": "stream",
          "name": "stdout",
          "text": [
            "\b\b\b\b\b\b\b\b\b\b\b\b\b\b\b\b\b\b\b\b\b\b\b\b\b\b\b\b\b\b\b\b\b\b\b\b\b\b\b\b\b\b\b\b\b\b\b\b\b\b\b\b\b\b\b\b\b\b\b\b\b\b\b\b\b\b\b\b\b\b\b\b\b\b\b\r\u001b[1m282/282\u001b[0m \u001b[32m━━━━━━━━━━━━━━━━━━━━\u001b[0m\u001b[37m\u001b[0m \u001b[1m17s\u001b[0m 62ms/step - accuracy: 0.6744 - loss: 0.8728 - val_accuracy: 0.6574 - val_loss: 0.8992\n",
            "Q 4389-329  T 4060  ☒ 3161 \n",
            "Q 64+775    T 839   ☑ 839  \n",
            "Q 306-818   T -512  ☒ -536 \n",
            "Q 118-3     T 115   ☒ 118  \n",
            "Q 1+4787    T 4788  ☒ 4785 \n",
            "Q 1-488     T -487  ☒ -488 \n",
            "Q 3634+496  T 4130  ☒ 3021 \n",
            "Q 1769-538  T 1231  ☒ 1322 \n",
            "Q 153+83    T 236   ☒ 232  \n",
            "Q 4-7035    T -7031 ☒ -7025\n",
            "\n",
            "--------------------------------------------------\n",
            "Iteration 24\n",
            "\u001b[1m281/282\u001b[0m \u001b[32m━━━━━━━━━━━━━━━━━━━\u001b[0m\u001b[37m━\u001b[0m \u001b[1m0s\u001b[0m 60ms/step - accuracy: 0.6798 - loss: 0.8587\n",
            "Epoch 1: val_loss improved from 0.89915 to 0.89306, saving model to best_model.h5\n"
          ]
        },
        {
          "output_type": "stream",
          "name": "stderr",
          "text": [
            "WARNING:absl:You are saving your model as an HDF5 file via `model.save()` or `keras.saving.save_model(model)`. This file format is considered legacy. We recommend using instead the native Keras format, e.g. `model.save('my_model.keras')` or `keras.saving.save_model(model, 'my_model.keras')`. \n"
          ]
        },
        {
          "output_type": "stream",
          "name": "stdout",
          "text": [
            "\b\b\b\b\b\b\b\b\b\b\b\b\b\b\b\b\b\b\b\b\b\b\b\b\b\b\b\b\b\b\b\b\b\b\b\b\b\b\b\b\b\b\b\b\b\b\b\b\b\b\b\b\b\b\b\b\b\b\b\b\b\b\b\b\b\b\b\b\b\b\b\b\b\b\b\r\u001b[1m282/282\u001b[0m \u001b[32m━━━━━━━━━━━━━━━━━━━━\u001b[0m\u001b[37m\u001b[0m \u001b[1m18s\u001b[0m 65ms/step - accuracy: 0.6798 - loss: 0.8587 - val_accuracy: 0.6603 - val_loss: 0.8931\n",
            "Q 28-200    T -172  ☒ -171 \n",
            "Q 905-7     T 898   ☒ 895  \n",
            "Q 3537-333  T 3204  ☒ 3171 \n",
            "Q 2255-9    T 2246  ☒ 2250 \n",
            "Q 770-4     T 766   ☒ 768  \n",
            "Q 8628+730  T 9358  ☒ 9412 \n",
            "Q 82-9057   T -8975 ☒ -9027\n",
            "Q 842-9062  T -8220 ☒ -8533\n",
            "Q 6397-163  T 6234  ☒ 6221 \n",
            "Q 767-8     T 759   ☒ 768  \n",
            "\n",
            "--------------------------------------------------\n",
            "Iteration 25\n",
            "\u001b[1m281/282\u001b[0m \u001b[32m━━━━━━━━━━━━━━━━━━━\u001b[0m\u001b[37m━\u001b[0m \u001b[1m0s\u001b[0m 58ms/step - accuracy: 0.6872 - loss: 0.8427\n",
            "Epoch 1: val_loss did not improve from 0.89306\n",
            "\u001b[1m282/282\u001b[0m \u001b[32m━━━━━━━━━━━━━━━━━━━━\u001b[0m\u001b[37m\u001b[0m \u001b[1m17s\u001b[0m 60ms/step - accuracy: 0.6872 - loss: 0.8427 - val_accuracy: 0.6568 - val_loss: 0.9041\n",
            "Q 0-3899    T -3899 ☒ -3896\n",
            "Q 642-461   T 181   ☒ 201  \n",
            "Q 42-48     T -6    ☒ -1   \n",
            "Q 270-0     T 270   ☑ 270  \n",
            "Q 195+6     T 201   ☑ 201  \n",
            "Q 4+9513    T 9517  ☒ 9520 \n",
            "Q 9-5982    T -5973 ☒ -5977\n",
            "Q 5073-72   T 5001  ☒ 5091 \n",
            "Q 4471+333  T 4804  ☒ 4751 \n",
            "Q 93+6558   T 6651  ☒ 6630 \n",
            "\n",
            "--------------------------------------------------\n",
            "Iteration 26\n",
            "\u001b[1m281/282\u001b[0m \u001b[32m━━━━━━━━━━━━━━━━━━━\u001b[0m\u001b[37m━\u001b[0m \u001b[1m0s\u001b[0m 59ms/step - accuracy: 0.6901 - loss: 0.8320\n",
            "Epoch 1: val_loss improved from 0.89306 to 0.87861, saving model to best_model.h5\n"
          ]
        },
        {
          "output_type": "stream",
          "name": "stderr",
          "text": [
            "WARNING:absl:You are saving your model as an HDF5 file via `model.save()` or `keras.saving.save_model(model)`. This file format is considered legacy. We recommend using instead the native Keras format, e.g. `model.save('my_model.keras')` or `keras.saving.save_model(model, 'my_model.keras')`. \n"
          ]
        },
        {
          "output_type": "stream",
          "name": "stdout",
          "text": [
            "\b\b\b\b\b\b\b\b\b\b\b\b\b\b\b\b\b\b\b\b\b\b\b\b\b\b\b\b\b\b\b\b\b\b\b\b\b\b\b\b\b\b\b\b\b\b\b\b\b\b\b\b\b\b\b\b\b\b\b\b\b\b\b\b\b\b\b\b\b\b\b\b\b\b\b\r\u001b[1m282/282\u001b[0m \u001b[32m━━━━━━━━━━━━━━━━━━━━\u001b[0m\u001b[37m\u001b[0m \u001b[1m17s\u001b[0m 61ms/step - accuracy: 0.6901 - loss: 0.8320 - val_accuracy: 0.6670 - val_loss: 0.8786\n",
            "Q 4526-68   T 4458  ☒ 4370 \n",
            "Q 8966-5710 T 3256  ☒ 4495 \n",
            "Q 5506-601  T 4905  ☒ 4967 \n",
            "Q 793-8     T 785   ☒ 784  \n",
            "Q 5-5064    T -5059 ☒ -5057\n",
            "Q 349+6     T 355   ☒ 353  \n",
            "Q 9608-9    T 9599  ☒ 9609 \n",
            "Q 5403-335  T 5068  ☒ 5969 \n",
            "Q 752-13    T 739   ☒ 736  \n",
            "Q 868-3309  T -2441 ☒ -2633\n",
            "\n",
            "--------------------------------------------------\n",
            "Iteration 27\n",
            "\u001b[1m281/282\u001b[0m \u001b[32m━━━━━━━━━━━━━━━━━━━\u001b[0m\u001b[37m━\u001b[0m \u001b[1m0s\u001b[0m 59ms/step - accuracy: 0.6938 - loss: 0.8227\n",
            "Epoch 1: val_loss improved from 0.87861 to 0.87279, saving model to best_model.h5\n"
          ]
        },
        {
          "output_type": "stream",
          "name": "stderr",
          "text": [
            "WARNING:absl:You are saving your model as an HDF5 file via `model.save()` or `keras.saving.save_model(model)`. This file format is considered legacy. We recommend using instead the native Keras format, e.g. `model.save('my_model.keras')` or `keras.saving.save_model(model, 'my_model.keras')`. \n"
          ]
        },
        {
          "output_type": "stream",
          "name": "stdout",
          "text": [
            "\b\b\b\b\b\b\b\b\b\b\b\b\b\b\b\b\b\b\b\b\b\b\b\b\b\b\b\b\b\b\b\b\b\b\b\b\b\b\b\b\b\b\b\b\b\b\b\b\b\b\b\b\b\b\b\b\b\b\b\b\b\b\b\b\b\b\b\b\b\b\b\b\b\b\b\r\u001b[1m282/282\u001b[0m \u001b[32m━━━━━━━━━━━━━━━━━━━━\u001b[0m\u001b[37m\u001b[0m \u001b[1m18s\u001b[0m 63ms/step - accuracy: 0.6938 - loss: 0.8227 - val_accuracy: 0.6653 - val_loss: 0.8728\n",
            "Q 916-3     T 913   ☒ 916  \n",
            "Q 19-90     T -71   ☒ -73  \n",
            "Q 4-3973    T -3969 ☒ -3962\n",
            "Q 25-2      T 23    ☑ 23   \n",
            "Q 72-300    T -228  ☒ -224 \n",
            "Q 703-110   T 593   ☒ 590  \n",
            "Q 147+2     T 149   ☒ 158  \n",
            "Q 93+95     T 188   ☒ 186  \n",
            "Q 6+4273    T 4279  ☑ 4279 \n",
            "Q 3467-776  T 2691  ☒ 3609 \n",
            "\n",
            "--------------------------------------------------\n",
            "Iteration 28\n",
            "\u001b[1m281/282\u001b[0m \u001b[32m━━━━━━━━━━━━━━━━━━━\u001b[0m\u001b[37m━\u001b[0m \u001b[1m0s\u001b[0m 57ms/step - accuracy: 0.6974 - loss: 0.8142\n",
            "Epoch 1: val_loss improved from 0.87279 to 0.85467, saving model to best_model.h5\n"
          ]
        },
        {
          "output_type": "stream",
          "name": "stderr",
          "text": [
            "WARNING:absl:You are saving your model as an HDF5 file via `model.save()` or `keras.saving.save_model(model)`. This file format is considered legacy. We recommend using instead the native Keras format, e.g. `model.save('my_model.keras')` or `keras.saving.save_model(model, 'my_model.keras')`. \n"
          ]
        },
        {
          "output_type": "stream",
          "name": "stdout",
          "text": [
            "\b\b\b\b\b\b\b\b\b\b\b\b\b\b\b\b\b\b\b\b\b\b\b\b\b\b\b\b\b\b\b\b\b\b\b\b\b\b\b\b\b\b\b\b\b\b\b\b\b\b\b\b\b\b\b\b\b\b\b\b\b\b\b\b\b\b\b\b\b\b\b\b\b\b\b\r\u001b[1m282/282\u001b[0m \u001b[32m━━━━━━━━━━━━━━━━━━━━\u001b[0m\u001b[37m\u001b[0m \u001b[1m17s\u001b[0m 60ms/step - accuracy: 0.6974 - loss: 0.8141 - val_accuracy: 0.6730 - val_loss: 0.8547\n",
            "Q 425-7     T 418   ☒ 416  \n",
            "Q 10-82     T -72   ☒ -79  \n",
            "Q 37+5      T 42    ☒ 41   \n",
            "Q 2+4139    T 4141  ☒ 4142 \n",
            "Q 666-39    T 627   ☒ 628  \n",
            "Q 918+4     T 922   ☒ 929  \n",
            "Q 68+800    T 868   ☒ 878  \n",
            "Q 5021-4431 T 590   ☒ 166  \n",
            "Q 470+978   T 1448  ☒ 1446 \n",
            "Q 450+2     T 452   ☑ 452  \n",
            "\n",
            "--------------------------------------------------\n",
            "Iteration 29\n",
            "\u001b[1m281/282\u001b[0m \u001b[32m━━━━━━━━━━━━━━━━━━━\u001b[0m\u001b[37m━\u001b[0m \u001b[1m0s\u001b[0m 60ms/step - accuracy: 0.7020 - loss: 0.8013\n",
            "Epoch 1: val_loss improved from 0.85467 to 0.84585, saving model to best_model.h5\n"
          ]
        },
        {
          "output_type": "stream",
          "name": "stderr",
          "text": [
            "WARNING:absl:You are saving your model as an HDF5 file via `model.save()` or `keras.saving.save_model(model)`. This file format is considered legacy. We recommend using instead the native Keras format, e.g. `model.save('my_model.keras')` or `keras.saving.save_model(model, 'my_model.keras')`. \n"
          ]
        },
        {
          "output_type": "stream",
          "name": "stdout",
          "text": [
            "\b\b\b\b\b\b\b\b\b\b\b\b\b\b\b\b\b\b\b\b\b\b\b\b\b\b\b\b\b\b\b\b\b\b\b\b\b\b\b\b\b\b\b\b\b\b\b\b\b\b\b\b\b\b\b\b\b\b\b\b\b\b\b\b\b\b\b\b\b\b\b\b\b\b\b\r\u001b[1m282/282\u001b[0m \u001b[32m━━━━━━━━━━━━━━━━━━━━\u001b[0m\u001b[37m\u001b[0m \u001b[1m18s\u001b[0m 62ms/step - accuracy: 0.7020 - loss: 0.8013 - val_accuracy: 0.6772 - val_loss: 0.8459\n",
            "Q 237-15    T 222   ☒ 233  \n",
            "Q 7+966     T 973   ☒ 971  \n",
            "Q 749-5990  T -5241 ☒ -5790\n",
            "Q 912-89    T 823   ☒ 835  \n",
            "Q 2573+925  T 3498  ☒ 3437 \n",
            "Q 344+506   T 850   ☒ 893  \n",
            "Q 3030+93   T 3123  ☒ 3104 \n",
            "Q 4+36      T 40    ☒ 30   \n",
            "Q 384-4     T 380   ☒ 384  \n",
            "Q 78+129    T 207   ☒ 215  \n",
            "\n",
            "--------------------------------------------------\n",
            "Iteration 30\n",
            "\u001b[1m281/282\u001b[0m \u001b[32m━━━━━━━━━━━━━━━━━━━\u001b[0m\u001b[37m━\u001b[0m \u001b[1m0s\u001b[0m 59ms/step - accuracy: 0.7091 - loss: 0.7855\n",
            "Epoch 1: val_loss improved from 0.84585 to 0.84412, saving model to best_model.h5\n"
          ]
        },
        {
          "output_type": "stream",
          "name": "stderr",
          "text": [
            "WARNING:absl:You are saving your model as an HDF5 file via `model.save()` or `keras.saving.save_model(model)`. This file format is considered legacy. We recommend using instead the native Keras format, e.g. `model.save('my_model.keras')` or `keras.saving.save_model(model, 'my_model.keras')`. \n"
          ]
        },
        {
          "output_type": "stream",
          "name": "stdout",
          "text": [
            "\b\b\b\b\b\b\b\b\b\b\b\b\b\b\b\b\b\b\b\b\b\b\b\b\b\b\b\b\b\b\b\b\b\b\b\b\b\b\b\b\b\b\b\b\b\b\b\b\b\b\b\b\b\b\b\b\b\b\b\b\b\b\b\b\b\b\b\b\b\b\b\b\b\b\b\r\u001b[1m282/282\u001b[0m \u001b[32m━━━━━━━━━━━━━━━━━━━━\u001b[0m\u001b[37m\u001b[0m \u001b[1m17s\u001b[0m 61ms/step - accuracy: 0.7090 - loss: 0.7855 - val_accuracy: 0.6773 - val_loss: 0.8441\n",
            "Q 6016+62   T 6078  ☑ 6078 \n",
            "Q 89-7853   T -7764 ☒ -7759\n",
            "Q 4245+1    T 4246  ☒ 4244 \n",
            "Q 6-5612    T -5606 ☒ -5608\n",
            "Q 5+9       T 14    ☑ 14   \n",
            "Q 6+2185    T 2191  ☒ 2182 \n",
            "Q 1+6421    T 6422  ☑ 6422 \n",
            "Q 33+320    T 353   ☒ 357  \n",
            "Q 1432-7    T 1425  ☒ 1329 \n",
            "Q 3684+24   T 3708  ☒ 3797 \n",
            "\n",
            "--------------------------------------------------\n",
            "Iteration 31\n",
            "\u001b[1m282/282\u001b[0m \u001b[32m━━━━━━━━━━━━━━━━━━━━\u001b[0m\u001b[37m\u001b[0m \u001b[1m0s\u001b[0m 58ms/step - accuracy: 0.7127 - loss: 0.7763\n",
            "Epoch 1: val_loss improved from 0.84412 to 0.83880, saving model to best_model.h5\n"
          ]
        },
        {
          "output_type": "stream",
          "name": "stderr",
          "text": [
            "WARNING:absl:You are saving your model as an HDF5 file via `model.save()` or `keras.saving.save_model(model)`. This file format is considered legacy. We recommend using instead the native Keras format, e.g. `model.save('my_model.keras')` or `keras.saving.save_model(model, 'my_model.keras')`. \n"
          ]
        },
        {
          "output_type": "stream",
          "name": "stdout",
          "text": [
            "\b\b\b\b\b\b\b\b\b\b\b\b\b\b\b\b\b\b\b\b\b\b\b\b\b\b\b\b\b\b\b\b\b\b\b\b\b\b\b\b\b\b\b\b\b\b\b\b\b\b\b\b\b\b\b\b\b\b\b\b\b\b\b\b\b\b\b\b\b\b\b\b\b\b\b\r\u001b[1m282/282\u001b[0m \u001b[32m━━━━━━━━━━━━━━━━━━━━\u001b[0m\u001b[37m\u001b[0m \u001b[1m17s\u001b[0m 61ms/step - accuracy: 0.7127 - loss: 0.7763 - val_accuracy: 0.6844 - val_loss: 0.8388\n",
            "Q 7+83      T 90    ☒ 91   \n",
            "Q 926+154   T 1080  ☒ 1088 \n",
            "Q 47-42     T 5     ☒ 1    \n",
            "Q 6397-163  T 6234  ☒ 6259 \n",
            "Q 2-4409    T -4407 ☒ -4414\n",
            "Q 7987-9215 T -1228 ☒ -1983\n",
            "Q 3-15      T -12   ☒ -13  \n",
            "Q 4979-993  T 3986  ☒ 4991 \n",
            "Q 523-7     T 516   ☒ 515  \n",
            "Q 47-101    T -54   ☒ -49  \n",
            "\n",
            "--------------------------------------------------\n",
            "Iteration 32\n",
            "\u001b[1m282/282\u001b[0m \u001b[32m━━━━━━━━━━━━━━━━━━━━\u001b[0m\u001b[37m\u001b[0m \u001b[1m0s\u001b[0m 61ms/step - accuracy: 0.7154 - loss: 0.7678\n",
            "Epoch 1: val_loss improved from 0.83880 to 0.83701, saving model to best_model.h5\n"
          ]
        },
        {
          "output_type": "stream",
          "name": "stderr",
          "text": [
            "WARNING:absl:You are saving your model as an HDF5 file via `model.save()` or `keras.saving.save_model(model)`. This file format is considered legacy. We recommend using instead the native Keras format, e.g. `model.save('my_model.keras')` or `keras.saving.save_model(model, 'my_model.keras')`. \n"
          ]
        },
        {
          "output_type": "stream",
          "name": "stdout",
          "text": [
            "\b\b\b\b\b\b\b\b\b\b\b\b\b\b\b\b\b\b\b\b\b\b\b\b\b\b\b\b\b\b\b\b\b\b\b\b\b\b\b\b\b\b\b\b\b\b\b\b\b\b\b\b\b\b\b\b\b\b\b\b\b\b\b\b\b\b\b\b\b\b\b\b\b\b\b\r\u001b[1m282/282\u001b[0m \u001b[32m━━━━━━━━━━━━━━━━━━━━\u001b[0m\u001b[37m\u001b[0m \u001b[1m18s\u001b[0m 64ms/step - accuracy: 0.7154 - loss: 0.7678 - val_accuracy: 0.6806 - val_loss: 0.8370\n",
            "Q 59-1826   T -1767 ☒ -1785\n",
            "Q 6575+759  T 7334  ☒ 7339 \n",
            "Q 5144-6    T 5138  ☑ 5138 \n",
            "Q 603+4     T 607   ☒ 605  \n",
            "Q 8982-89   T 8893  ☒ 8885 \n",
            "Q 3301+4    T 3305  ☒ 3304 \n",
            "Q 75+3953   T 4028  ☒ 4022 \n",
            "Q 107+99    T 206   ☒ 297  \n",
            "Q 88-5341   T -5253 ☒ -5235\n",
            "Q 7456-4    T 7452  ☒ 7465 \n",
            "\n",
            "--------------------------------------------------\n",
            "Iteration 33\n",
            "\u001b[1m282/282\u001b[0m \u001b[32m━━━━━━━━━━━━━━━━━━━━\u001b[0m\u001b[37m\u001b[0m \u001b[1m0s\u001b[0m 61ms/step - accuracy: 0.7177 - loss: 0.7641\n",
            "Epoch 1: val_loss improved from 0.83701 to 0.82663, saving model to best_model.h5\n"
          ]
        },
        {
          "output_type": "stream",
          "name": "stderr",
          "text": [
            "WARNING:absl:You are saving your model as an HDF5 file via `model.save()` or `keras.saving.save_model(model)`. This file format is considered legacy. We recommend using instead the native Keras format, e.g. `model.save('my_model.keras')` or `keras.saving.save_model(model, 'my_model.keras')`. \n"
          ]
        },
        {
          "output_type": "stream",
          "name": "stdout",
          "text": [
            "\b\b\b\b\b\b\b\b\b\b\b\b\b\b\b\b\b\b\b\b\b\b\b\b\b\b\b\b\b\b\b\b\b\b\b\b\b\b\b\b\b\b\b\b\b\b\b\b\b\b\b\b\b\b\b\b\b\b\b\b\b\b\b\b\b\b\b\b\b\b\b\b\b\b\b\r\u001b[1m282/282\u001b[0m \u001b[32m━━━━━━━━━━━━━━━━━━━━\u001b[0m\u001b[37m\u001b[0m \u001b[1m19s\u001b[0m 66ms/step - accuracy: 0.7177 - loss: 0.7641 - val_accuracy: 0.6848 - val_loss: 0.8266\n",
            "Q 3368+5    T 3373  ☒ 3371 \n",
            "Q 8162-0    T 8162  ☒ 8167 \n",
            "Q 7173-689  T 6484  ☒ 6632 \n",
            "Q 57-6608   T -6551 ☒ -6580\n",
            "Q 2490+17   T 2507  ☑ 2507 \n",
            "Q 3-728     T -725  ☒ -726 \n",
            "Q 156-8534  T -8378 ☒ -8200\n",
            "Q 1930+727  T 2657  ☒ 2527 \n",
            "Q 745+54    T 799   ☒ 792  \n",
            "Q 86+3199   T 3285  ☒ 3272 \n",
            "\n",
            "--------------------------------------------------\n",
            "Iteration 34\n",
            "\u001b[1m282/282\u001b[0m \u001b[32m━━━━━━━━━━━━━━━━━━━━\u001b[0m\u001b[37m\u001b[0m \u001b[1m0s\u001b[0m 59ms/step - accuracy: 0.7213 - loss: 0.7539\n",
            "Epoch 1: val_loss improved from 0.82663 to 0.81968, saving model to best_model.h5\n"
          ]
        },
        {
          "output_type": "stream",
          "name": "stderr",
          "text": [
            "WARNING:absl:You are saving your model as an HDF5 file via `model.save()` or `keras.saving.save_model(model)`. This file format is considered legacy. We recommend using instead the native Keras format, e.g. `model.save('my_model.keras')` or `keras.saving.save_model(model, 'my_model.keras')`. \n"
          ]
        },
        {
          "output_type": "stream",
          "name": "stdout",
          "text": [
            "\b\b\b\b\b\b\b\b\b\b\b\b\b\b\b\b\b\b\b\b\b\b\b\b\b\b\b\b\b\b\b\b\b\b\b\b\b\b\b\b\b\b\b\b\b\b\b\b\b\b\b\b\b\b\b\b\b\b\b\b\b\b\b\b\b\b\b\b\b\b\b\b\b\b\b\r\u001b[1m282/282\u001b[0m \u001b[32m━━━━━━━━━━━━━━━━━━━━\u001b[0m\u001b[37m\u001b[0m \u001b[1m17s\u001b[0m 62ms/step - accuracy: 0.7213 - loss: 0.7539 - val_accuracy: 0.6881 - val_loss: 0.8197\n",
            "Q 8-834     T -826  ☑ -826 \n",
            "Q 5553+968  T 6521  ☒ 6538 \n",
            "Q 709-522   T 187   ☒ 12   \n",
            "Q 7+9400    T 9407  ☒ 9402 \n",
            "Q 43+8019   T 8062  ☒ 8055 \n",
            "Q 921+0     T 921   ☑ 921  \n",
            "Q 14+8276   T 8290  ☒ 8299 \n",
            "Q 2321+0    T 2321  ☒ 2331 \n",
            "Q 9508+58   T 9566  ☒ 9595 \n",
            "Q 452+312   T 764   ☒ 688  \n",
            "\n",
            "--------------------------------------------------\n",
            "Iteration 35\n",
            "\u001b[1m281/282\u001b[0m \u001b[32m━━━━━━━━━━━━━━━━━━━\u001b[0m\u001b[37m━\u001b[0m \u001b[1m0s\u001b[0m 59ms/step - accuracy: 0.7263 - loss: 0.7405\n",
            "Epoch 1: val_loss improved from 0.81968 to 0.81741, saving model to best_model.h5\n"
          ]
        },
        {
          "output_type": "stream",
          "name": "stderr",
          "text": [
            "WARNING:absl:You are saving your model as an HDF5 file via `model.save()` or `keras.saving.save_model(model)`. This file format is considered legacy. We recommend using instead the native Keras format, e.g. `model.save('my_model.keras')` or `keras.saving.save_model(model, 'my_model.keras')`. \n"
          ]
        },
        {
          "output_type": "stream",
          "name": "stdout",
          "text": [
            "\b\b\b\b\b\b\b\b\b\b\b\b\b\b\b\b\b\b\b\b\b\b\b\b\b\b\b\b\b\b\b\b\b\b\b\b\b\b\b\b\b\b\b\b\b\b\b\b\b\b\b\b\b\b\b\b\b\b\b\b\b\b\b\b\b\b\b\b\b\b\b\b\b\b\b\r\u001b[1m282/282\u001b[0m \u001b[32m━━━━━━━━━━━━━━━━━━━━\u001b[0m\u001b[37m\u001b[0m \u001b[1m17s\u001b[0m 62ms/step - accuracy: 0.7263 - loss: 0.7405 - val_accuracy: 0.6857 - val_loss: 0.8174\n",
            "Q 5952+32   T 5984  ☒ 5909 \n",
            "Q 262-8     T 254   ☒ 257  \n",
            "Q 6180-369  T 5811  ☒ 5825 \n",
            "Q 4+78      T 82    ☑ 82   \n",
            "Q 9136+90   T 9226  ☒ 9305 \n",
            "Q 23+8561   T 8584  ☒ 8568 \n",
            "Q 53+7071   T 7124  ☒ 7139 \n",
            "Q 3690-8    T 3682  ☒ 3687 \n",
            "Q 264-555   T -291  ☒ -100 \n",
            "Q 47+745    T 792   ☑ 792  \n",
            "\n",
            "--------------------------------------------------\n",
            "Iteration 36\n",
            "\u001b[1m281/282\u001b[0m \u001b[32m━━━━━━━━━━━━━━━━━━━\u001b[0m\u001b[37m━\u001b[0m \u001b[1m0s\u001b[0m 62ms/step - accuracy: 0.7302 - loss: 0.7310\n",
            "Epoch 1: val_loss improved from 0.81741 to 0.81502, saving model to best_model.h5\n"
          ]
        },
        {
          "output_type": "stream",
          "name": "stderr",
          "text": [
            "WARNING:absl:You are saving your model as an HDF5 file via `model.save()` or `keras.saving.save_model(model)`. This file format is considered legacy. We recommend using instead the native Keras format, e.g. `model.save('my_model.keras')` or `keras.saving.save_model(model, 'my_model.keras')`. \n"
          ]
        },
        {
          "output_type": "stream",
          "name": "stdout",
          "text": [
            "\b\b\b\b\b\b\b\b\b\b\b\b\b\b\b\b\b\b\b\b\b\b\b\b\b\b\b\b\b\b\b\b\b\b\b\b\b\b\b\b\b\b\b\b\b\b\b\b\b\b\b\b\b\b\b\b\b\b\b\b\b\b\b\b\b\b\b\b\b\b\b\b\b\b\b\r\u001b[1m282/282\u001b[0m \u001b[32m━━━━━━━━━━━━━━━━━━━━\u001b[0m\u001b[37m\u001b[0m \u001b[1m18s\u001b[0m 64ms/step - accuracy: 0.7302 - loss: 0.7310 - val_accuracy: 0.6878 - val_loss: 0.8150\n",
            "Q 2-22      T -20   ☑ -20  \n",
            "Q 62-9634   T -9572 ☒ -9587\n",
            "Q 10+4538   T 4548  ☒ 4546 \n",
            "Q 155+9     T 164   ☒ 162  \n",
            "Q 23+8561   T 8584  ☒ 8560 \n",
            "Q 64+775    T 839   ☑ 839  \n",
            "Q 8-9253    T -9245 ☒ -9250\n",
            "Q 986-1     T 985   ☑ 985  \n",
            "Q 2049-6890 T -4841 ☒ -4555\n",
            "Q 7483+9623 T 17106 ☒ 17622\n",
            "\n",
            "--------------------------------------------------\n",
            "Iteration 37\n",
            "\u001b[1m282/282\u001b[0m \u001b[32m━━━━━━━━━━━━━━━━━━━━\u001b[0m\u001b[37m\u001b[0m \u001b[1m0s\u001b[0m 59ms/step - accuracy: 0.7320 - loss: 0.7235\n",
            "Epoch 1: val_loss improved from 0.81502 to 0.80229, saving model to best_model.h5\n"
          ]
        },
        {
          "output_type": "stream",
          "name": "stderr",
          "text": [
            "WARNING:absl:You are saving your model as an HDF5 file via `model.save()` or `keras.saving.save_model(model)`. This file format is considered legacy. We recommend using instead the native Keras format, e.g. `model.save('my_model.keras')` or `keras.saving.save_model(model, 'my_model.keras')`. \n"
          ]
        },
        {
          "output_type": "stream",
          "name": "stdout",
          "text": [
            "\b\b\b\b\b\b\b\b\b\b\b\b\b\b\b\b\b\b\b\b\b\b\b\b\b\b\b\b\b\b\b\b\b\b\b\b\b\b\b\b\b\b\b\b\b\b\b\b\b\b\b\b\b\b\b\b\b\b\b\b\b\b\b\b\b\b\b\b\b\b\b\b\b\b\b\r\u001b[1m282/282\u001b[0m \u001b[32m━━━━━━━━━━━━━━━━━━━━\u001b[0m\u001b[37m\u001b[0m \u001b[1m17s\u001b[0m 61ms/step - accuracy: 0.7320 - loss: 0.7235 - val_accuracy: 0.6930 - val_loss: 0.8023\n",
            "Q 8886-7    T 8879  ☒ 8875 \n",
            "Q 746-18    T 728   ☒ 722  \n",
            "Q 316-698   T -382  ☒ -350 \n",
            "Q 0+7459    T 7459  ☑ 7459 \n",
            "Q 1+2511    T 2512  ☒ 2511 \n",
            "Q 6034+780  T 6814  ☒ 6882 \n",
            "Q 42-56     T -14   ☒ -10  \n",
            "Q 4+436     T 440   ☒ 449  \n",
            "Q 394+1876  T 2270  ☒ 2199 \n",
            "Q 2812+91   T 2903  ☒ 2902 \n",
            "\n",
            "--------------------------------------------------\n",
            "Iteration 38\n",
            "\u001b[1m281/282\u001b[0m \u001b[32m━━━━━━━━━━━━━━━━━━━\u001b[0m\u001b[37m━\u001b[0m \u001b[1m0s\u001b[0m 60ms/step - accuracy: 0.7374 - loss: 0.7118\n",
            "Epoch 1: val_loss improved from 0.80229 to 0.80212, saving model to best_model.h5\n"
          ]
        },
        {
          "output_type": "stream",
          "name": "stderr",
          "text": [
            "WARNING:absl:You are saving your model as an HDF5 file via `model.save()` or `keras.saving.save_model(model)`. This file format is considered legacy. We recommend using instead the native Keras format, e.g. `model.save('my_model.keras')` or `keras.saving.save_model(model, 'my_model.keras')`. \n"
          ]
        },
        {
          "output_type": "stream",
          "name": "stdout",
          "text": [
            "\b\b\b\b\b\b\b\b\b\b\b\b\b\b\b\b\b\b\b\b\b\b\b\b\b\b\b\b\b\b\b\b\b\b\b\b\b\b\b\b\b\b\b\b\b\b\b\b\b\b\b\b\b\b\b\b\b\b\b\b\b\b\b\b\b\b\b\b\b\b\b\b\b\b\b\r\u001b[1m282/282\u001b[0m \u001b[32m━━━━━━━━━━━━━━━━━━━━\u001b[0m\u001b[37m\u001b[0m \u001b[1m18s\u001b[0m 62ms/step - accuracy: 0.7373 - loss: 0.7119 - val_accuracy: 0.6935 - val_loss: 0.8021\n",
            "Q 167+79    T 246   ☒ 244  \n",
            "Q 485+3175  T 3660  ☒ 3791 \n",
            "Q 598-24    T 574   ☒ 667  \n",
            "Q 96-3      T 93    ☒ 92   \n",
            "Q 7+877     T 884   ☒ 883  \n",
            "Q 585-8     T 577   ☒ 570  \n",
            "Q 775-33    T 742   ☑ 742  \n",
            "Q 9-2455    T -2446 ☑ -2446\n",
            "Q 91-7302   T -7211 ☒ -7233\n",
            "Q 1114-10   T 1104  ☒ 1108 \n",
            "\n",
            "--------------------------------------------------\n",
            "Iteration 39\n",
            "\u001b[1m281/282\u001b[0m \u001b[32m━━━━━━━━━━━━━━━━━━━\u001b[0m\u001b[37m━\u001b[0m \u001b[1m0s\u001b[0m 60ms/step - accuracy: 0.7431 - loss: 0.7009\n",
            "Epoch 1: val_loss improved from 0.80212 to 0.80029, saving model to best_model.h5\n"
          ]
        },
        {
          "output_type": "stream",
          "name": "stderr",
          "text": [
            "WARNING:absl:You are saving your model as an HDF5 file via `model.save()` or `keras.saving.save_model(model)`. This file format is considered legacy. We recommend using instead the native Keras format, e.g. `model.save('my_model.keras')` or `keras.saving.save_model(model, 'my_model.keras')`. \n"
          ]
        },
        {
          "output_type": "stream",
          "name": "stdout",
          "text": [
            "\b\b\b\b\b\b\b\b\b\b\b\b\b\b\b\b\b\b\b\b\b\b\b\b\b\b\b\b\b\b\b\b\b\b\b\b\b\b\b\b\b\b\b\b\b\b\b\b\b\b\b\b\b\b\b\b\b\b\b\b\b\b\b\b\b\b\b\b\b\b\b\b\b\b\b\r\u001b[1m282/282\u001b[0m \u001b[32m━━━━━━━━━━━━━━━━━━━━\u001b[0m\u001b[37m\u001b[0m \u001b[1m18s\u001b[0m 62ms/step - accuracy: 0.7431 - loss: 0.7009 - val_accuracy: 0.6920 - val_loss: 0.8003\n",
            "Q 379+49    T 428   ☒ 424  \n",
            "Q 384-89    T 295   ☒ 298  \n",
            "Q 6117+7170 T 13287 ☒ 13888\n",
            "Q 52-36     T 16    ☒ 17   \n",
            "Q 19-173    T -154  ☒ -145 \n",
            "Q 5-487     T -482  ☒ -481 \n",
            "Q 480+379   T 859   ☒ 864  \n",
            "Q 7292-288  T 7004  ☒ 6925 \n",
            "Q 26-1      T 25    ☑ 25   \n",
            "Q 62-7      T 55    ☒ 54   \n",
            "\n",
            "--------------------------------------------------\n",
            "Iteration 40\n",
            "\u001b[1m282/282\u001b[0m \u001b[32m━━━━━━━━━━━━━━━━━━━━\u001b[0m\u001b[37m\u001b[0m \u001b[1m0s\u001b[0m 63ms/step - accuracy: 0.7450 - loss: 0.6933\n",
            "Epoch 1: val_loss improved from 0.80029 to 0.78719, saving model to best_model.h5\n"
          ]
        },
        {
          "output_type": "stream",
          "name": "stderr",
          "text": [
            "WARNING:absl:You are saving your model as an HDF5 file via `model.save()` or `keras.saving.save_model(model)`. This file format is considered legacy. We recommend using instead the native Keras format, e.g. `model.save('my_model.keras')` or `keras.saving.save_model(model, 'my_model.keras')`. \n"
          ]
        },
        {
          "output_type": "stream",
          "name": "stdout",
          "text": [
            "\b\b\b\b\b\b\b\b\b\b\b\b\b\b\b\b\b\b\b\b\b\b\b\b\b\b\b\b\b\b\b\b\b\b\b\b\b\b\b\b\b\b\b\b\b\b\b\b\b\b\b\b\b\b\b\b\b\b\b\b\b\b\b\b\b\b\b\b\b\b\b\b\b\b\b\r\u001b[1m282/282\u001b[0m \u001b[32m━━━━━━━━━━━━━━━━━━━━\u001b[0m\u001b[37m\u001b[0m \u001b[1m19s\u001b[0m 68ms/step - accuracy: 0.7450 - loss: 0.6933 - val_accuracy: 0.6994 - val_loss: 0.7872\n",
            "Q 253+6619  T 6872  ☒ 6877 \n",
            "Q 6486+3    T 6489  ☒ 6497 \n",
            "Q 67+463    T 530   ☒ 524  \n",
            "Q 7-1128    T -1121 ☒ -1129\n",
            "Q 34+24     T 58    ☒ 57   \n",
            "Q 3-665     T -662  ☒ -661 \n",
            "Q 6774+85   T 6859  ☒ 7747 \n",
            "Q 8398-9    T 8389  ☒ 8397 \n",
            "Q 3-2       T 1     ☑ 1    \n",
            "Q 500+559   T 1059  ☒ 1046 \n",
            "\n",
            "--------------------------------------------------\n",
            "Iteration 41\n",
            "\u001b[1m282/282\u001b[0m \u001b[32m━━━━━━━━━━━━━━━━━━━━\u001b[0m\u001b[37m\u001b[0m \u001b[1m0s\u001b[0m 61ms/step - accuracy: 0.7485 - loss: 0.6827\n",
            "Epoch 1: val_loss improved from 0.78719 to 0.78679, saving model to best_model.h5\n"
          ]
        },
        {
          "output_type": "stream",
          "name": "stderr",
          "text": [
            "WARNING:absl:You are saving your model as an HDF5 file via `model.save()` or `keras.saving.save_model(model)`. This file format is considered legacy. We recommend using instead the native Keras format, e.g. `model.save('my_model.keras')` or `keras.saving.save_model(model, 'my_model.keras')`. \n"
          ]
        },
        {
          "output_type": "stream",
          "name": "stdout",
          "text": [
            "\b\b\b\b\b\b\b\b\b\b\b\b\b\b\b\b\b\b\b\b\b\b\b\b\b\b\b\b\b\b\b\b\b\b\b\b\b\b\b\b\b\b\b\b\b\b\b\b\b\b\b\b\b\b\b\b\b\b\b\b\b\b\b\b\b\b\b\b\b\b\b\b\b\b\b\r\u001b[1m282/282\u001b[0m \u001b[32m━━━━━━━━━━━━━━━━━━━━\u001b[0m\u001b[37m\u001b[0m \u001b[1m18s\u001b[0m 63ms/step - accuracy: 0.7485 - loss: 0.6827 - val_accuracy: 0.7016 - val_loss: 0.7868\n",
            "Q 32+898    T 930   ☒ 131  \n",
            "Q 9846+8    T 9854  ☒ 9843 \n",
            "Q 804+732   T 1536  ☒ 1596 \n",
            "Q 947-81    T 866   ☒ 855  \n",
            "Q 0-3899    T -3899 ☑ -3899\n",
            "Q 12-50     T -38   ☑ -38  \n",
            "Q 55+9      T 64    ☑ 64   \n",
            "Q 1+8301    T 8302  ☒ 8312 \n",
            "Q 67+3      T 70    ☑ 70   \n",
            "Q 54-3      T 51    ☒ 52   \n",
            "\n",
            "--------------------------------------------------\n",
            "Iteration 42\n",
            "\u001b[1m281/282\u001b[0m \u001b[32m━━━━━━━━━━━━━━━━━━━\u001b[0m\u001b[37m━\u001b[0m \u001b[1m0s\u001b[0m 60ms/step - accuracy: 0.7509 - loss: 0.6779\n",
            "Epoch 1: val_loss did not improve from 0.78679\n",
            "\u001b[1m282/282\u001b[0m \u001b[32m━━━━━━━━━━━━━━━━━━━━\u001b[0m\u001b[37m\u001b[0m \u001b[1m18s\u001b[0m 62ms/step - accuracy: 0.7508 - loss: 0.6779 - val_accuracy: 0.6989 - val_loss: 0.7872\n",
            "Q 2508-6    T 2502  ☒ 2504 \n",
            "Q 3523+1370 T 4893  ☒ 5858 \n",
            "Q 81+9043   T 9124  ☒ 9189 \n",
            "Q 7+7867    T 7874  ☒ 7804 \n",
            "Q 99+9      T 108   ☒ 107  \n",
            "Q 24-3102   T -3078 ☒ -3098\n",
            "Q 2591-22   T 2569  ☒ 2581 \n",
            "Q 3+5920    T 5923  ☒ 5928 \n",
            "Q 178+11    T 189   ☒ 185  \n",
            "Q 118-1     T 117   ☑ 117  \n",
            "\n",
            "--------------------------------------------------\n",
            "Iteration 43\n",
            "\u001b[1m282/282\u001b[0m \u001b[32m━━━━━━━━━━━━━━━━━━━━\u001b[0m\u001b[37m\u001b[0m \u001b[1m0s\u001b[0m 64ms/step - accuracy: 0.7536 - loss: 0.6679\n",
            "Epoch 1: val_loss improved from 0.78679 to 0.77405, saving model to best_model.h5\n"
          ]
        },
        {
          "output_type": "stream",
          "name": "stderr",
          "text": [
            "WARNING:absl:You are saving your model as an HDF5 file via `model.save()` or `keras.saving.save_model(model)`. This file format is considered legacy. We recommend using instead the native Keras format, e.g. `model.save('my_model.keras')` or `keras.saving.save_model(model, 'my_model.keras')`. \n"
          ]
        },
        {
          "output_type": "stream",
          "name": "stdout",
          "text": [
            "\b\b\b\b\b\b\b\b\b\b\b\b\b\b\b\b\b\b\b\b\b\b\b\b\b\b\b\b\b\b\b\b\b\b\b\b\b\b\b\b\b\b\b\b\b\b\b\b\b\b\b\b\b\b\b\b\b\b\b\b\b\b\b\b\b\b\b\b\b\b\b\b\b\b\b\r\u001b[1m282/282\u001b[0m \u001b[32m━━━━━━━━━━━━━━━━━━━━\u001b[0m\u001b[37m\u001b[0m \u001b[1m20s\u001b[0m 69ms/step - accuracy: 0.7536 - loss: 0.6679 - val_accuracy: 0.7018 - val_loss: 0.7740\n",
            "Q 61+6933   T 6994  ☒ 6902 \n",
            "Q 179-2     T 177   ☒ 179  \n",
            "Q 7110+73   T 7183  ☒ 7185 \n",
            "Q 5338-416  T 4922  ☒ 4869 \n",
            "Q 552+4     T 556   ☑ 556  \n",
            "Q 969-56    T 913   ☒ 912  \n",
            "Q 70-664    T -594  ☒ -584 \n",
            "Q 12-710    T -698  ☒ -696 \n",
            "Q 3075-2716 T 359   ☒ -60  \n",
            "Q 352+73    T 425   ☒ 407  \n",
            "\n",
            "--------------------------------------------------\n",
            "Iteration 44\n",
            "\u001b[1m281/282\u001b[0m \u001b[32m━━━━━━━━━━━━━━━━━━━\u001b[0m\u001b[37m━\u001b[0m \u001b[1m0s\u001b[0m 60ms/step - accuracy: 0.7571 - loss: 0.6574\n",
            "Epoch 1: val_loss improved from 0.77405 to 0.76790, saving model to best_model.h5\n"
          ]
        },
        {
          "output_type": "stream",
          "name": "stderr",
          "text": [
            "WARNING:absl:You are saving your model as an HDF5 file via `model.save()` or `keras.saving.save_model(model)`. This file format is considered legacy. We recommend using instead the native Keras format, e.g. `model.save('my_model.keras')` or `keras.saving.save_model(model, 'my_model.keras')`. \n"
          ]
        },
        {
          "output_type": "stream",
          "name": "stdout",
          "text": [
            "\b\b\b\b\b\b\b\b\b\b\b\b\b\b\b\b\b\b\b\b\b\b\b\b\b\b\b\b\b\b\b\b\b\b\b\b\b\b\b\b\b\b\b\b\b\b\b\b\b\b\b\b\b\b\b\b\b\b\b\b\b\b\b\b\b\b\b\b\b\b\b\b\b\b\b\r\u001b[1m282/282\u001b[0m \u001b[32m━━━━━━━━━━━━━━━━━━━━\u001b[0m\u001b[37m\u001b[0m \u001b[1m18s\u001b[0m 63ms/step - accuracy: 0.7571 - loss: 0.6574 - val_accuracy: 0.7067 - val_loss: 0.7679\n",
            "Q 118-3     T 115   ☑ 115  \n",
            "Q 2-733     T -731  ☑ -731 \n",
            "Q 3434-844  T 2590  ☒ 2585 \n",
            "Q 801+9967  T 10768 ☒ 10666\n",
            "Q 517+7330  T 7847  ☒ 7783 \n",
            "Q 7214+9    T 7223  ☒ 7221 \n",
            "Q 47-74     T -27   ☒ -28  \n",
            "Q 169-8058  T -7889 ☒ -7833\n",
            "Q 8430+3762 T 12192 ☒ 11442\n",
            "Q 3786+4866 T 8652  ☒ 7534 \n",
            "\n",
            "--------------------------------------------------\n",
            "Iteration 45\n",
            "\u001b[1m281/282\u001b[0m \u001b[32m━━━━━━━━━━━━━━━━━━━\u001b[0m\u001b[37m━\u001b[0m \u001b[1m0s\u001b[0m 58ms/step - accuracy: 0.7623 - loss: 0.6492\n",
            "Epoch 1: val_loss did not improve from 0.76790\n",
            "\u001b[1m282/282\u001b[0m \u001b[32m━━━━━━━━━━━━━━━━━━━━\u001b[0m\u001b[37m\u001b[0m \u001b[1m17s\u001b[0m 60ms/step - accuracy: 0.7623 - loss: 0.6492 - val_accuracy: 0.7047 - val_loss: 0.7693\n",
            "Q 5406+689  T 6095  ☒ 6071 \n",
            "Q 1909-0    T 1909  ☑ 1909 \n",
            "Q 909+74    T 983   ☒ 994  \n",
            "Q 2973+61   T 3034  ☒ 3029 \n",
            "Q 295+7567  T 7862  ☒ 7833 \n",
            "Q 6-55      T -49   ☑ -49  \n",
            "Q 1622-22   T 1600  ☒ 1503 \n",
            "Q 5-22      T -17   ☑ -17  \n",
            "Q 4260-7426 T -3166 ☒ -2844\n",
            "Q 3482+791  T 4273  ☒ 4178 \n",
            "\n",
            "--------------------------------------------------\n",
            "Iteration 46\n",
            "\u001b[1m281/282\u001b[0m \u001b[32m━━━━━━━━━━━━━━━━━━━\u001b[0m\u001b[37m━\u001b[0m \u001b[1m0s\u001b[0m 61ms/step - accuracy: 0.7648 - loss: 0.6421\n",
            "Epoch 1: val_loss did not improve from 0.76790\n",
            "\u001b[1m282/282\u001b[0m \u001b[32m━━━━━━━━━━━━━━━━━━━━\u001b[0m\u001b[37m\u001b[0m \u001b[1m19s\u001b[0m 66ms/step - accuracy: 0.7648 - loss: 0.6421 - val_accuracy: 0.7063 - val_loss: 0.7696\n",
            "Q 515-23    T 492   ☒ 501  \n",
            "Q 221-591   T -370  ☒ -260 \n",
            "Q 465+6773  T 7238  ☒ 7220 \n",
            "Q 0+9796    T 9796  ☒ 9775 \n",
            "Q 462+8     T 470   ☒ 469  \n",
            "Q 1565-3450 T -1885 ☒ -1133\n",
            "Q 4176-9    T 4167  ☒ 4165 \n",
            "Q 214-74    T 140   ☑ 140  \n",
            "Q 9754-3    T 9751  ☒ 9758 \n",
            "Q 890+8503  T 9393  ☒ 9441 \n",
            "\n",
            "--------------------------------------------------\n",
            "Iteration 47\n",
            "\u001b[1m282/282\u001b[0m \u001b[32m━━━━━━━━━━━━━━━━━━━━\u001b[0m\u001b[37m\u001b[0m \u001b[1m0s\u001b[0m 60ms/step - accuracy: 0.7689 - loss: 0.6309\n",
            "Epoch 1: val_loss did not improve from 0.76790\n",
            "\u001b[1m282/282\u001b[0m \u001b[32m━━━━━━━━━━━━━━━━━━━━\u001b[0m\u001b[37m\u001b[0m \u001b[1m18s\u001b[0m 63ms/step - accuracy: 0.7689 - loss: 0.6309 - val_accuracy: 0.7066 - val_loss: 0.7688\n",
            "Q 95-18     T 77    ☒ 73   \n",
            "Q 9585+8645 T 18230 ☒ 17311\n",
            "Q 964+6315  T 7279  ☒ 7217 \n",
            "Q 460+75    T 535   ☒ 522  \n",
            "Q 2250+473  T 2723  ☒ 2889 \n",
            "Q 8804-543  T 8261  ☒ 8245 \n",
            "Q 668-73    T 595   ☒ 501  \n",
            "Q 409-0     T 409   ☒ 408  \n",
            "Q 973+6027  T 7000  ☒ 7010 \n",
            "Q 90+73     T 163   ☒ 15   \n",
            "\n",
            "--------------------------------------------------\n",
            "Iteration 48\n",
            "\u001b[1m281/282\u001b[0m \u001b[32m━━━━━━━━━━━━━━━━━━━\u001b[0m\u001b[37m━\u001b[0m \u001b[1m0s\u001b[0m 59ms/step - accuracy: 0.7698 - loss: 0.6268\n",
            "Epoch 1: val_loss improved from 0.76790 to 0.75735, saving model to best_model.h5\n"
          ]
        },
        {
          "output_type": "stream",
          "name": "stderr",
          "text": [
            "WARNING:absl:You are saving your model as an HDF5 file via `model.save()` or `keras.saving.save_model(model)`. This file format is considered legacy. We recommend using instead the native Keras format, e.g. `model.save('my_model.keras')` or `keras.saving.save_model(model, 'my_model.keras')`. \n"
          ]
        },
        {
          "output_type": "stream",
          "name": "stdout",
          "text": [
            "\b\b\b\b\b\b\b\b\b\b\b\b\b\b\b\b\b\b\b\b\b\b\b\b\b\b\b\b\b\b\b\b\b\b\b\b\b\b\b\b\b\b\b\b\b\b\b\b\b\b\b\b\b\b\b\b\b\b\b\b\b\b\b\b\b\b\b\b\b\b\b\b\b\b\b\r\u001b[1m282/282\u001b[0m \u001b[32m━━━━━━━━━━━━━━━━━━━━\u001b[0m\u001b[37m\u001b[0m \u001b[1m17s\u001b[0m 62ms/step - accuracy: 0.7698 - loss: 0.6269 - val_accuracy: 0.7115 - val_loss: 0.7574\n",
            "Q 7557-2378 T 5179  ☒ 5281 \n",
            "Q 260-3     T 257   ☒ 256  \n",
            "Q 61-4675   T -4614 ☒ -4616\n",
            "Q 9866+9    T 9875  ☒ 9873 \n",
            "Q 6279-7    T 6272  ☒ 6270 \n",
            "Q 8968+6    T 8974  ☒ 8963 \n",
            "Q 2776+3    T 2779  ☑ 2779 \n",
            "Q 76+6539   T 6615  ☒ 6630 \n",
            "Q 265-1747  T -1482 ☒ -1399\n",
            "Q 1107+6    T 1113  ☒ 1106 \n",
            "\n",
            "--------------------------------------------------\n",
            "Iteration 49\n",
            "\u001b[1m282/282\u001b[0m \u001b[32m━━━━━━━━━━━━━━━━━━━━\u001b[0m\u001b[37m\u001b[0m \u001b[1m0s\u001b[0m 61ms/step - accuracy: 0.7729 - loss: 0.6170\n",
            "Epoch 1: val_loss improved from 0.75735 to 0.74865, saving model to best_model.h5\n"
          ]
        },
        {
          "output_type": "stream",
          "name": "stderr",
          "text": [
            "WARNING:absl:You are saving your model as an HDF5 file via `model.save()` or `keras.saving.save_model(model)`. This file format is considered legacy. We recommend using instead the native Keras format, e.g. `model.save('my_model.keras')` or `keras.saving.save_model(model, 'my_model.keras')`. \n"
          ]
        },
        {
          "output_type": "stream",
          "name": "stdout",
          "text": [
            "\b\b\b\b\b\b\b\b\b\b\b\b\b\b\b\b\b\b\b\b\b\b\b\b\b\b\b\b\b\b\b\b\b\b\b\b\b\b\b\b\b\b\b\b\b\b\b\b\b\b\b\b\b\b\b\b\b\b\b\b\b\b\b\b\b\b\b\b\b\b\b\b\b\b\b\r\u001b[1m282/282\u001b[0m \u001b[32m━━━━━━━━━━━━━━━━━━━━\u001b[0m\u001b[37m\u001b[0m \u001b[1m19s\u001b[0m 66ms/step - accuracy: 0.7729 - loss: 0.6170 - val_accuracy: 0.7150 - val_loss: 0.7486\n",
            "Q 7886+0    T 7886  ☒ 7877 \n",
            "Q 724+2     T 726   ☑ 726  \n",
            "Q 6-166     T -160  ☒ -161 \n",
            "Q 6298+5    T 6303  ☒ 6335 \n",
            "Q 9811-7296 T 2515  ☒ 1457 \n",
            "Q 16-6      T 10    ☒ 1    \n",
            "Q 8-8888    T -8880 ☒ -8882\n",
            "Q 38+91     T 129   ☒ 120  \n",
            "Q 6525+8788 T 15313 ☒ 15122\n",
            "Q 9-8749    T -8740 ☒ -8743\n"
          ]
        }
      ]
    },
    {
      "cell_type": "markdown",
      "source": [
        "a) The model seems to perform fairly well, achieving a training accuracy of around 80% and a validation accuracy of about 73%. These results indicate that the model can learn and generalize to some degree. However, it’s possible that the model is not entirely capturing the key relationships between inputs and outputs, which is reflected in some of the prediction errors. Interestingly, in the validation examples, the model tends to perform well in estimating the correct answers most of the time.\n",
        "\n",
        "b)\n",
        "A limitation of this model is its inability to effectively capture long-range dependencies or focus on the most relevant parts of the input sequence for each prediction. Without an attention mechanism, the model has difficulty prioritizing different parts of the input selectively, which is essential in tasks like this one, where the input sequence can vary greatly and require different areas of focus for each prediction. This lack of flexibility can impair performance, especially when handling complex or nuanced patterns. Furthermore, the basic encoder-decoder structure restricts the model’s capacity to manage more intricate dependencies, limiting its ability to generalize to more complex inputs.\n",
        "\n",
        "c)  Improvements:\n",
        "To enhance the model, I would recommend incorporating an attention mechanism. Attention would enable the model to focus on different parts of the input sequence, which is particularly beneficial for sequence-to-sequence tasks where key information might be spread across the entire sequence.\n",
        "\n",
        "Additionally, hyperparameter tuning could improve performance by adjusting settings like the learning rate, increasing the number of layers, or adding more neurons per layer. Implementing regularization techniques, such as dropout, could help prevent overfitting and improve generalization.\n",
        "\n",
        "Expanding the training data would also contribute to better generalization across a wider range of inputs. We could balance the dataset between operations to ensure that the model performs well with both subtraction and addition tasks.\n",
        "\n",
        "d) Yes, applying an attention mechanism to this model would be highly beneficial for solving arithmetic equations. The current simple encoder-decoder structure struggles with long input sequences and varying complexity in equations, as it lacks the flexibility to focus on the most important parts of the input.\n",
        "\n",
        "By incorporating an attention mechanism, the model would be able to selectively focus on relevant elements of the input sequence (like specific digits or operators) during prediction. This would eliminate the reliance on a fixed-length representation of the entire sequence, allowing the model to handle longer and more complex sequences more efficiently. As a result, the model would likely improve its ability to generalize to larger numbers and reduce errors in performing arithmetic operations."
      ],
      "metadata": {
        "id": "1FAag8v4LDBS"
      }
    },
    {
      "cell_type": "markdown",
      "source": [
        "#Q1 - PART 3"
      ],
      "metadata": {
        "id": "KW1g3a22LHbP"
      }
    },
    {
      "cell_type": "code",
      "source": [
        "# Defining model 2 - adding attention\n",
        "# Defining input layer\n",
        "inputs = Input(shape=(maxlen, len(chars)))\n",
        "\n",
        "# First LSTM layer - Output sequences to feed into attention\n",
        "lstm_1 = LSTM(config_dict['hidden_size'], return_sequences=True)(inputs)\n",
        "\n",
        "attention = Attention()([lstm_1, lstm_1])\n",
        "\n",
        "# Flattenning the attention output\n",
        "attention_flattened = Flatten()(attention)\n",
        "\n",
        "# Repeat Vector layer to ensure that the output has the same shape\n",
        "repeat_vector = RepeatVector(config_dict['digits'] + 1)(attention_flattened)\n",
        "\n",
        "# Second LSTM layer - Output sequences\n",
        "lstm_2 = LSTM(config_dict['hidden_size'], return_sequences=True)(repeat_vector)\n",
        "\n",
        "outputs = TimeDistributed(Dense(len(chars), activation='softmax'))(lstm_2)\n",
        "\n",
        "# Create the model\n",
        "model2 = Model(inputs=inputs, outputs=outputs)\n",
        "\n",
        "# Compile the model\n",
        "model2.compile(loss='categorical_crossentropy',\n",
        "              optimizer='adam',\n",
        "              metrics=['accuracy'])\n",
        "\n",
        "model2.summary()\n",
        "\n",
        "# Train the model\n",
        "checkpoint = ModelCheckpoint('best_model.h5',\n",
        "                             monitor='val_loss',\n",
        "                             save_best_only=True,\n",
        "                             mode='min',\n",
        "                             verbose=1)\n",
        "for iteration in range(config_dict['iterations']):\n",
        "    print()\n",
        "    print('-' * 50)\n",
        "    print('Iteration', iteration)\n",
        "\n",
        "    model2.fit(x_train, y_train,\n",
        "              batch_size=config_dict['batch_size'],\n",
        "              epochs=1,\n",
        "              validation_data=(x_val, y_val),\n",
        "              callbacks=[checkpoint])\n",
        "    # Select 10 samples from the validation set at random\n",
        "    for i in range(10):\n",
        "        ind = np.random.randint(0, len(x_val))\n",
        "        rowx, rowy = x_val[np.array([ind])], y_val[np.array([ind])]\n",
        "        preds = model2.predict(rowx, verbose=0)\n",
        "        preds = np.argmax(preds, axis=-1)\n",
        "        q = ctable.decode(rowx[0])\n",
        "        correct = ctable.decode(rowy[0])\n",
        "        guess = ctable.decode(preds[0], calc_argmax=False)\n",
        "        print('Q', q, end=' ')\n",
        "        print('T', correct, end=' ')\n",
        "        if correct == guess:\n",
        "            print('☑', end=' ')\n",
        "        else:\n",
        "            print('☒', end=' ')\n",
        "        print(guess)"
      ],
      "metadata": {
        "colab": {
          "base_uri": "https://localhost:8080/",
          "height": 1000
        },
        "id": "5H9NByQoLK22",
        "outputId": "e76c2ace-2318-4ccf-b9bb-c1436703b999"
      },
      "execution_count": 5,
      "outputs": [
        {
          "output_type": "display_data",
          "data": {
            "text/plain": [
              "\u001b[1mModel: \"functional\"\u001b[0m\n"
            ],
            "text/html": [
              "<pre style=\"white-space:pre;overflow-x:auto;line-height:normal;font-family:Menlo,'DejaVu Sans Mono',consolas,'Courier New',monospace\"><span style=\"font-weight: bold\">Model: \"functional\"</span>\n",
              "</pre>\n"
            ]
          },
          "metadata": {}
        },
        {
          "output_type": "display_data",
          "data": {
            "text/plain": [
              "┏━━━━━━━━━━━━━━━━━━━━━━━━━━━┳━━━━━━━━━━━━━━━━━━━━━━━━┳━━━━━━━━━━━━━━━━┳━━━━━━━━━━━━━━━━━━━━━━━━┓\n",
              "┃\u001b[1m \u001b[0m\u001b[1mLayer (type)             \u001b[0m\u001b[1m \u001b[0m┃\u001b[1m \u001b[0m\u001b[1mOutput Shape          \u001b[0m\u001b[1m \u001b[0m┃\u001b[1m \u001b[0m\u001b[1m       Param #\u001b[0m\u001b[1m \u001b[0m┃\u001b[1m \u001b[0m\u001b[1mConnected to          \u001b[0m\u001b[1m \u001b[0m┃\n",
              "┡━━━━━━━━━━━━━━━━━━━━━━━━━━━╇━━━━━━━━━━━━━━━━━━━━━━━━╇━━━━━━━━━━━━━━━━╇━━━━━━━━━━━━━━━━━━━━━━━━┩\n",
              "│ input_layer (\u001b[38;5;33mInputLayer\u001b[0m)  │ (\u001b[38;5;45mNone\u001b[0m, \u001b[38;5;34m9\u001b[0m, \u001b[38;5;34m13\u001b[0m)          │              \u001b[38;5;34m0\u001b[0m │ -                      │\n",
              "├───────────────────────────┼────────────────────────┼────────────────┼────────────────────────┤\n",
              "│ lstm (\u001b[38;5;33mLSTM\u001b[0m)               │ (\u001b[38;5;45mNone\u001b[0m, \u001b[38;5;34m9\u001b[0m, \u001b[38;5;34m128\u001b[0m)         │         \u001b[38;5;34m72,704\u001b[0m │ input_layer[\u001b[38;5;34m0\u001b[0m][\u001b[38;5;34m0\u001b[0m]      │\n",
              "├───────────────────────────┼────────────────────────┼────────────────┼────────────────────────┤\n",
              "│ attention (\u001b[38;5;33mAttention\u001b[0m)     │ (\u001b[38;5;45mNone\u001b[0m, \u001b[38;5;34m9\u001b[0m, \u001b[38;5;34m128\u001b[0m)         │              \u001b[38;5;34m0\u001b[0m │ lstm[\u001b[38;5;34m0\u001b[0m][\u001b[38;5;34m0\u001b[0m], lstm[\u001b[38;5;34m0\u001b[0m][\u001b[38;5;34m0\u001b[0m] │\n",
              "├───────────────────────────┼────────────────────────┼────────────────┼────────────────────────┤\n",
              "│ flatten (\u001b[38;5;33mFlatten\u001b[0m)         │ (\u001b[38;5;45mNone\u001b[0m, \u001b[38;5;34m1152\u001b[0m)           │              \u001b[38;5;34m0\u001b[0m │ attention[\u001b[38;5;34m0\u001b[0m][\u001b[38;5;34m0\u001b[0m]        │\n",
              "├───────────────────────────┼────────────────────────┼────────────────┼────────────────────────┤\n",
              "│ repeat_vector             │ (\u001b[38;5;45mNone\u001b[0m, \u001b[38;5;34m5\u001b[0m, \u001b[38;5;34m1152\u001b[0m)        │              \u001b[38;5;34m0\u001b[0m │ flatten[\u001b[38;5;34m0\u001b[0m][\u001b[38;5;34m0\u001b[0m]          │\n",
              "│ (\u001b[38;5;33mRepeatVector\u001b[0m)            │                        │                │                        │\n",
              "├───────────────────────────┼────────────────────────┼────────────────┼────────────────────────┤\n",
              "│ lstm_1 (\u001b[38;5;33mLSTM\u001b[0m)             │ (\u001b[38;5;45mNone\u001b[0m, \u001b[38;5;34m5\u001b[0m, \u001b[38;5;34m128\u001b[0m)         │        \u001b[38;5;34m655,872\u001b[0m │ repeat_vector[\u001b[38;5;34m0\u001b[0m][\u001b[38;5;34m0\u001b[0m]    │\n",
              "├───────────────────────────┼────────────────────────┼────────────────┼────────────────────────┤\n",
              "│ time_distributed          │ (\u001b[38;5;45mNone\u001b[0m, \u001b[38;5;34m5\u001b[0m, \u001b[38;5;34m13\u001b[0m)          │          \u001b[38;5;34m1,677\u001b[0m │ lstm_1[\u001b[38;5;34m0\u001b[0m][\u001b[38;5;34m0\u001b[0m]           │\n",
              "│ (\u001b[38;5;33mTimeDistributed\u001b[0m)         │                        │                │                        │\n",
              "└───────────────────────────┴────────────────────────┴────────────────┴────────────────────────┘\n"
            ],
            "text/html": [
              "<pre style=\"white-space:pre;overflow-x:auto;line-height:normal;font-family:Menlo,'DejaVu Sans Mono',consolas,'Courier New',monospace\">┏━━━━━━━━━━━━━━━━━━━━━━━━━━━┳━━━━━━━━━━━━━━━━━━━━━━━━┳━━━━━━━━━━━━━━━━┳━━━━━━━━━━━━━━━━━━━━━━━━┓\n",
              "┃<span style=\"font-weight: bold\"> Layer (type)              </span>┃<span style=\"font-weight: bold\"> Output Shape           </span>┃<span style=\"font-weight: bold\">        Param # </span>┃<span style=\"font-weight: bold\"> Connected to           </span>┃\n",
              "┡━━━━━━━━━━━━━━━━━━━━━━━━━━━╇━━━━━━━━━━━━━━━━━━━━━━━━╇━━━━━━━━━━━━━━━━╇━━━━━━━━━━━━━━━━━━━━━━━━┩\n",
              "│ input_layer (<span style=\"color: #0087ff; text-decoration-color: #0087ff\">InputLayer</span>)  │ (<span style=\"color: #00d7ff; text-decoration-color: #00d7ff\">None</span>, <span style=\"color: #00af00; text-decoration-color: #00af00\">9</span>, <span style=\"color: #00af00; text-decoration-color: #00af00\">13</span>)          │              <span style=\"color: #00af00; text-decoration-color: #00af00\">0</span> │ -                      │\n",
              "├───────────────────────────┼────────────────────────┼────────────────┼────────────────────────┤\n",
              "│ lstm (<span style=\"color: #0087ff; text-decoration-color: #0087ff\">LSTM</span>)               │ (<span style=\"color: #00d7ff; text-decoration-color: #00d7ff\">None</span>, <span style=\"color: #00af00; text-decoration-color: #00af00\">9</span>, <span style=\"color: #00af00; text-decoration-color: #00af00\">128</span>)         │         <span style=\"color: #00af00; text-decoration-color: #00af00\">72,704</span> │ input_layer[<span style=\"color: #00af00; text-decoration-color: #00af00\">0</span>][<span style=\"color: #00af00; text-decoration-color: #00af00\">0</span>]      │\n",
              "├───────────────────────────┼────────────────────────┼────────────────┼────────────────────────┤\n",
              "│ attention (<span style=\"color: #0087ff; text-decoration-color: #0087ff\">Attention</span>)     │ (<span style=\"color: #00d7ff; text-decoration-color: #00d7ff\">None</span>, <span style=\"color: #00af00; text-decoration-color: #00af00\">9</span>, <span style=\"color: #00af00; text-decoration-color: #00af00\">128</span>)         │              <span style=\"color: #00af00; text-decoration-color: #00af00\">0</span> │ lstm[<span style=\"color: #00af00; text-decoration-color: #00af00\">0</span>][<span style=\"color: #00af00; text-decoration-color: #00af00\">0</span>], lstm[<span style=\"color: #00af00; text-decoration-color: #00af00\">0</span>][<span style=\"color: #00af00; text-decoration-color: #00af00\">0</span>] │\n",
              "├───────────────────────────┼────────────────────────┼────────────────┼────────────────────────┤\n",
              "│ flatten (<span style=\"color: #0087ff; text-decoration-color: #0087ff\">Flatten</span>)         │ (<span style=\"color: #00d7ff; text-decoration-color: #00d7ff\">None</span>, <span style=\"color: #00af00; text-decoration-color: #00af00\">1152</span>)           │              <span style=\"color: #00af00; text-decoration-color: #00af00\">0</span> │ attention[<span style=\"color: #00af00; text-decoration-color: #00af00\">0</span>][<span style=\"color: #00af00; text-decoration-color: #00af00\">0</span>]        │\n",
              "├───────────────────────────┼────────────────────────┼────────────────┼────────────────────────┤\n",
              "│ repeat_vector             │ (<span style=\"color: #00d7ff; text-decoration-color: #00d7ff\">None</span>, <span style=\"color: #00af00; text-decoration-color: #00af00\">5</span>, <span style=\"color: #00af00; text-decoration-color: #00af00\">1152</span>)        │              <span style=\"color: #00af00; text-decoration-color: #00af00\">0</span> │ flatten[<span style=\"color: #00af00; text-decoration-color: #00af00\">0</span>][<span style=\"color: #00af00; text-decoration-color: #00af00\">0</span>]          │\n",
              "│ (<span style=\"color: #0087ff; text-decoration-color: #0087ff\">RepeatVector</span>)            │                        │                │                        │\n",
              "├───────────────────────────┼────────────────────────┼────────────────┼────────────────────────┤\n",
              "│ lstm_1 (<span style=\"color: #0087ff; text-decoration-color: #0087ff\">LSTM</span>)             │ (<span style=\"color: #00d7ff; text-decoration-color: #00d7ff\">None</span>, <span style=\"color: #00af00; text-decoration-color: #00af00\">5</span>, <span style=\"color: #00af00; text-decoration-color: #00af00\">128</span>)         │        <span style=\"color: #00af00; text-decoration-color: #00af00\">655,872</span> │ repeat_vector[<span style=\"color: #00af00; text-decoration-color: #00af00\">0</span>][<span style=\"color: #00af00; text-decoration-color: #00af00\">0</span>]    │\n",
              "├───────────────────────────┼────────────────────────┼────────────────┼────────────────────────┤\n",
              "│ time_distributed          │ (<span style=\"color: #00d7ff; text-decoration-color: #00d7ff\">None</span>, <span style=\"color: #00af00; text-decoration-color: #00af00\">5</span>, <span style=\"color: #00af00; text-decoration-color: #00af00\">13</span>)          │          <span style=\"color: #00af00; text-decoration-color: #00af00\">1,677</span> │ lstm_1[<span style=\"color: #00af00; text-decoration-color: #00af00\">0</span>][<span style=\"color: #00af00; text-decoration-color: #00af00\">0</span>]           │\n",
              "│ (<span style=\"color: #0087ff; text-decoration-color: #0087ff\">TimeDistributed</span>)         │                        │                │                        │\n",
              "└───────────────────────────┴────────────────────────┴────────────────┴────────────────────────┘\n",
              "</pre>\n"
            ]
          },
          "metadata": {}
        },
        {
          "output_type": "display_data",
          "data": {
            "text/plain": [
              "\u001b[1m Total params: \u001b[0m\u001b[38;5;34m730,253\u001b[0m (2.79 MB)\n"
            ],
            "text/html": [
              "<pre style=\"white-space:pre;overflow-x:auto;line-height:normal;font-family:Menlo,'DejaVu Sans Mono',consolas,'Courier New',monospace\"><span style=\"font-weight: bold\"> Total params: </span><span style=\"color: #00af00; text-decoration-color: #00af00\">730,253</span> (2.79 MB)\n",
              "</pre>\n"
            ]
          },
          "metadata": {}
        },
        {
          "output_type": "display_data",
          "data": {
            "text/plain": [
              "\u001b[1m Trainable params: \u001b[0m\u001b[38;5;34m730,253\u001b[0m (2.79 MB)\n"
            ],
            "text/html": [
              "<pre style=\"white-space:pre;overflow-x:auto;line-height:normal;font-family:Menlo,'DejaVu Sans Mono',consolas,'Courier New',monospace\"><span style=\"font-weight: bold\"> Trainable params: </span><span style=\"color: #00af00; text-decoration-color: #00af00\">730,253</span> (2.79 MB)\n",
              "</pre>\n"
            ]
          },
          "metadata": {}
        },
        {
          "output_type": "display_data",
          "data": {
            "text/plain": [
              "\u001b[1m Non-trainable params: \u001b[0m\u001b[38;5;34m0\u001b[0m (0.00 B)\n"
            ],
            "text/html": [
              "<pre style=\"white-space:pre;overflow-x:auto;line-height:normal;font-family:Menlo,'DejaVu Sans Mono',consolas,'Courier New',monospace\"><span style=\"font-weight: bold\"> Non-trainable params: </span><span style=\"color: #00af00; text-decoration-color: #00af00\">0</span> (0.00 B)\n",
              "</pre>\n"
            ]
          },
          "metadata": {}
        },
        {
          "output_type": "stream",
          "name": "stdout",
          "text": [
            "\n",
            "--------------------------------------------------\n",
            "Iteration 0\n",
            "\u001b[1m281/282\u001b[0m \u001b[32m━━━━━━━━━━━━━━━━━━━\u001b[0m\u001b[37m━\u001b[0m \u001b[1m0s\u001b[0m 7ms/step - accuracy: 0.3333 - loss: 1.9581\n",
            "Epoch 1: val_loss improved from inf to 1.59145, saving model to best_model.h5\n"
          ]
        },
        {
          "output_type": "stream",
          "name": "stderr",
          "text": [
            "WARNING:absl:You are saving your model as an HDF5 file via `model.save()` or `keras.saving.save_model(model)`. This file format is considered legacy. We recommend using instead the native Keras format, e.g. `model.save('my_model.keras')` or `keras.saving.save_model(model, 'my_model.keras')`. \n"
          ]
        },
        {
          "output_type": "stream",
          "name": "stdout",
          "text": [
            "\b\b\b\b\b\b\b\b\b\b\b\b\b\b\b\b\b\b\b\b\b\b\b\b\b\b\b\b\b\b\b\b\b\b\b\b\b\b\b\b\b\b\b\b\b\b\b\b\b\b\b\b\b\b\b\b\b\b\b\b\b\b\b\b\b\b\b\b\b\b\b\b\b\b\r\u001b[1m282/282\u001b[0m \u001b[32m━━━━━━━━━━━━━━━━━━━━\u001b[0m\u001b[37m\u001b[0m \u001b[1m8s\u001b[0m 9ms/step - accuracy: 0.3336 - loss: 1.9568 - val_accuracy: 0.4308 - val_loss: 1.5915\n",
            "Q 582-87    T 495   ☒ 778  \n",
            "Q 4+85      T 89    ☒ 55   \n",
            "Q 26-7743   T -7717 ☒ -7733\n",
            "Q 9157-7    T 9150  ☒ 177  \n",
            "Q 93-50     T 43    ☒ -3   \n",
            "Q 79-4      T 75    ☒ 17   \n",
            "Q 2+316     T 318   ☒ 33   \n",
            "Q 6445-9033 T -2588 ☒ -553 \n",
            "Q 82+5      T 87    ☒ 11   \n",
            "Q 31-85     T -54   ☒ -1   \n",
            "\n",
            "--------------------------------------------------\n",
            "Iteration 1\n",
            "\u001b[1m280/282\u001b[0m \u001b[32m━━━━━━━━━━━━━━━━━━━\u001b[0m\u001b[37m━\u001b[0m \u001b[1m0s\u001b[0m 7ms/step - accuracy: 0.4331 - loss: 1.5694\n",
            "Epoch 1: val_loss improved from 1.59145 to 1.50072, saving model to best_model.h5\n"
          ]
        },
        {
          "output_type": "stream",
          "name": "stderr",
          "text": [
            "WARNING:absl:You are saving your model as an HDF5 file via `model.save()` or `keras.saving.save_model(model)`. This file format is considered legacy. We recommend using instead the native Keras format, e.g. `model.save('my_model.keras')` or `keras.saving.save_model(model, 'my_model.keras')`. \n"
          ]
        },
        {
          "output_type": "stream",
          "name": "stdout",
          "text": [
            "\b\b\b\b\b\b\b\b\b\b\b\b\b\b\b\b\b\b\b\b\b\b\b\b\b\b\b\b\b\b\b\b\b\b\b\b\b\b\b\b\b\b\b\b\b\b\b\b\b\b\b\b\b\b\b\b\b\b\b\b\b\b\b\b\b\b\b\b\b\b\b\b\b\b\r\u001b[1m282/282\u001b[0m \u001b[32m━━━━━━━━━━━━━━━━━━━━\u001b[0m\u001b[37m\u001b[0m \u001b[1m2s\u001b[0m 8ms/step - accuracy: 0.4331 - loss: 1.5691 - val_accuracy: 0.4510 - val_loss: 1.5007\n",
            "Q 203+59    T 262   ☒ 222  \n",
            "Q 544-2772  T -2228 ☒ -444 \n",
            "Q 179+817   T 996   ☒ 100  \n",
            "Q 35-808    T -773  ☒ -882 \n",
            "Q 858-1     T 857   ☒ 88   \n",
            "Q 76+84     T 160   ☒ 762  \n",
            "Q 6984+72   T 7056  ☒ 1622 \n",
            "Q 92+469    T 561   ☒ 902  \n",
            "Q 2-1493    T -1491 ☒ -2292\n",
            "Q 37+4160   T 4197  ☒ 130  \n",
            "\n",
            "--------------------------------------------------\n",
            "Iteration 2\n",
            "\u001b[1m276/282\u001b[0m \u001b[32m━━━━━━━━━━━━━━━━━━━\u001b[0m\u001b[37m━\u001b[0m \u001b[1m0s\u001b[0m 7ms/step - accuracy: 0.4526 - loss: 1.4877\n",
            "Epoch 1: val_loss improved from 1.50072 to 1.45192, saving model to best_model.h5\n"
          ]
        },
        {
          "output_type": "stream",
          "name": "stderr",
          "text": [
            "WARNING:absl:You are saving your model as an HDF5 file via `model.save()` or `keras.saving.save_model(model)`. This file format is considered legacy. We recommend using instead the native Keras format, e.g. `model.save('my_model.keras')` or `keras.saving.save_model(model, 'my_model.keras')`. \n"
          ]
        },
        {
          "output_type": "stream",
          "name": "stdout",
          "text": [
            "\b\b\b\b\b\b\b\b\b\b\b\b\b\b\b\b\b\b\b\b\b\b\b\b\b\b\b\b\b\b\b\b\b\b\b\b\b\b\b\b\b\b\b\b\b\b\b\b\b\b\b\b\b\b\b\b\b\b\b\b\b\b\b\b\b\b\b\b\b\b\b\b\b\b\r\u001b[1m282/282\u001b[0m \u001b[32m━━━━━━━━━━━━━━━━━━━━\u001b[0m\u001b[37m\u001b[0m \u001b[1m2s\u001b[0m 8ms/step - accuracy: 0.4527 - loss: 1.4873 - val_accuracy: 0.4668 - val_loss: 1.4519\n",
            "Q 8587-25   T 8562  ☒ 8512 \n",
            "Q 524+8     T 532   ☒ 55   \n",
            "Q 3531+3806 T 7337  ☒ 3166 \n",
            "Q 749+1     T 750   ☒ 777  \n",
            "Q 6503-9    T 6494  ☒ 6555 \n",
            "Q 43-611    T -568  ☒ -13  \n",
            "Q 6-459     T -453  ☒ -655 \n",
            "Q 353+6440  T 6793  ☒ 4188 \n",
            "Q 807-632   T 175   ☒ -62  \n",
            "Q 360-6803  T -6443 ☒ -6333\n",
            "\n",
            "--------------------------------------------------\n",
            "Iteration 3\n",
            "\u001b[1m281/282\u001b[0m \u001b[32m━━━━━━━━━━━━━━━━━━━\u001b[0m\u001b[37m━\u001b[0m \u001b[1m0s\u001b[0m 7ms/step - accuracy: 0.4696 - loss: 1.4357\n",
            "Epoch 1: val_loss improved from 1.45192 to 1.38377, saving model to best_model.h5\n"
          ]
        },
        {
          "output_type": "stream",
          "name": "stderr",
          "text": [
            "WARNING:absl:You are saving your model as an HDF5 file via `model.save()` or `keras.saving.save_model(model)`. This file format is considered legacy. We recommend using instead the native Keras format, e.g. `model.save('my_model.keras')` or `keras.saving.save_model(model, 'my_model.keras')`. \n"
          ]
        },
        {
          "output_type": "stream",
          "name": "stdout",
          "text": [
            "\b\b\b\b\b\b\b\b\b\b\b\b\b\b\b\b\b\b\b\b\b\b\b\b\b\b\b\b\b\b\b\b\b\b\b\b\b\b\b\b\b\b\b\b\b\b\b\b\b\b\b\b\b\b\b\b\b\b\b\b\b\b\b\b\b\b\b\b\b\b\b\b\b\b\r\u001b[1m282/282\u001b[0m \u001b[32m━━━━━━━━━━━━━━━━━━━━\u001b[0m\u001b[37m\u001b[0m \u001b[1m2s\u001b[0m 8ms/step - accuracy: 0.4697 - loss: 1.4356 - val_accuracy: 0.4870 - val_loss: 1.3838\n",
            "Q 3-275     T -272  ☒ -222 \n",
            "Q 241+81    T 322   ☒ 223  \n",
            "Q 2248+846  T 3094  ☒ 2103 \n",
            "Q 900+43    T 943   ☒ 901  \n",
            "Q 363-87    T 276   ☒ 333  \n",
            "Q 60-1      T 59    ☒ 66   \n",
            "Q 0+2138    T 2138  ☒ 2202 \n",
            "Q 909+279   T 1188  ☒ 108  \n",
            "Q 954+67    T 1021  ☒ 102  \n",
            "Q 2-2455    T -2453 ☒ -2222\n",
            "\n",
            "--------------------------------------------------\n",
            "Iteration 4\n",
            "\u001b[1m279/282\u001b[0m \u001b[32m━━━━━━━━━━━━━━━━━━━\u001b[0m\u001b[37m━\u001b[0m \u001b[1m0s\u001b[0m 10ms/step - accuracy: 0.4907 - loss: 1.3744\n",
            "Epoch 1: val_loss improved from 1.38377 to 1.32171, saving model to best_model.h5\n"
          ]
        },
        {
          "output_type": "stream",
          "name": "stderr",
          "text": [
            "WARNING:absl:You are saving your model as an HDF5 file via `model.save()` or `keras.saving.save_model(model)`. This file format is considered legacy. We recommend using instead the native Keras format, e.g. `model.save('my_model.keras')` or `keras.saving.save_model(model, 'my_model.keras')`. \n"
          ]
        },
        {
          "output_type": "stream",
          "name": "stdout",
          "text": [
            "\b\b\b\b\b\b\b\b\b\b\b\b\b\b\b\b\b\b\b\b\b\b\b\b\b\b\b\b\b\b\b\b\b\b\b\b\b\b\b\b\b\b\b\b\b\b\b\b\b\b\b\b\b\b\b\b\b\b\b\b\b\b\b\b\b\b\b\b\b\b\b\b\b\b\b\r\u001b[1m282/282\u001b[0m \u001b[32m━━━━━━━━━━━━━━━━━━━━\u001b[0m\u001b[37m\u001b[0m \u001b[1m3s\u001b[0m 11ms/step - accuracy: 0.4908 - loss: 1.3742 - val_accuracy: 0.5100 - val_loss: 1.3217\n",
            "Q 221+794   T 1015  ☒ 144  \n",
            "Q 6627+3444 T 10071 ☒ 13111\n",
            "Q 5830+74   T 5904  ☒ 5888 \n",
            "Q 3+2999    T 3002  ☒ 9999 \n",
            "Q 58+7      T 65    ☒ 82   \n",
            "Q 71+13     T 84    ☒ 14   \n",
            "Q 76-93     T -17   ☒ -1   \n",
            "Q 963-77    T 886   ☒ 684  \n",
            "Q 3709-2653 T 1056  ☒ -204 \n",
            "Q 29+48     T 77    ☒ 11   \n",
            "\n",
            "--------------------------------------------------\n",
            "Iteration 5\n",
            "\u001b[1m282/282\u001b[0m \u001b[32m━━━━━━━━━━━━━━━━━━━━\u001b[0m\u001b[37m\u001b[0m \u001b[1m0s\u001b[0m 7ms/step - accuracy: 0.5151 - loss: 1.3043\n",
            "Epoch 1: val_loss improved from 1.32171 to 1.26116, saving model to best_model.h5\n"
          ]
        },
        {
          "output_type": "stream",
          "name": "stderr",
          "text": [
            "WARNING:absl:You are saving your model as an HDF5 file via `model.save()` or `keras.saving.save_model(model)`. This file format is considered legacy. We recommend using instead the native Keras format, e.g. `model.save('my_model.keras')` or `keras.saving.save_model(model, 'my_model.keras')`. \n"
          ]
        },
        {
          "output_type": "stream",
          "name": "stdout",
          "text": [
            "\b\b\b\b\b\b\b\b\b\b\b\b\b\b\b\b\b\b\b\b\b\b\b\b\b\b\b\b\b\b\b\b\b\b\b\b\b\b\b\b\b\b\b\b\b\b\b\b\b\b\b\b\b\b\b\b\b\b\b\b\b\b\b\b\b\b\b\b\b\b\b\b\b\b\r\u001b[1m282/282\u001b[0m \u001b[32m━━━━━━━━━━━━━━━━━━━━\u001b[0m\u001b[37m\u001b[0m \u001b[1m2s\u001b[0m 8ms/step - accuracy: 0.5151 - loss: 1.3043 - val_accuracy: 0.5315 - val_loss: 1.2612\n",
            "Q 9-884     T -875  ☒ -871 \n",
            "Q 6-756     T -750  ☒ -655 \n",
            "Q 447+4     T 451   ☒ 477  \n",
            "Q 6310+81   T 6391  ☒ 6318 \n",
            "Q 17-2      T 15    ☒ 16   \n",
            "Q 510+4     T 514   ☒ 515  \n",
            "Q 3+5344    T 5347  ☒ 4447 \n",
            "Q 652+4456  T 5108  ☒ 1109 \n",
            "Q 2388+0    T 2388  ☒ 3288 \n",
            "Q 98-5      T 93    ☒ 86   \n",
            "\n",
            "--------------------------------------------------\n",
            "Iteration 6\n",
            "\u001b[1m282/282\u001b[0m \u001b[32m━━━━━━━━━━━━━━━━━━━━\u001b[0m\u001b[37m\u001b[0m \u001b[1m0s\u001b[0m 7ms/step - accuracy: 0.5401 - loss: 1.2389\n",
            "Epoch 1: val_loss improved from 1.26116 to 1.20922, saving model to best_model.h5\n"
          ]
        },
        {
          "output_type": "stream",
          "name": "stderr",
          "text": [
            "WARNING:absl:You are saving your model as an HDF5 file via `model.save()` or `keras.saving.save_model(model)`. This file format is considered legacy. We recommend using instead the native Keras format, e.g. `model.save('my_model.keras')` or `keras.saving.save_model(model, 'my_model.keras')`. \n"
          ]
        },
        {
          "output_type": "stream",
          "name": "stdout",
          "text": [
            "\b\b\b\b\b\b\b\b\b\b\b\b\b\b\b\b\b\b\b\b\b\b\b\b\b\b\b\b\b\b\b\b\b\b\b\b\b\b\b\b\b\b\b\b\b\b\b\b\b\b\b\b\b\b\b\b\b\b\b\b\b\b\b\b\b\b\b\b\b\b\b\b\b\b\r\u001b[1m282/282\u001b[0m \u001b[32m━━━━━━━━━━━━━━━━━━━━\u001b[0m\u001b[37m\u001b[0m \u001b[1m2s\u001b[0m 8ms/step - accuracy: 0.5401 - loss: 1.2389 - val_accuracy: 0.5517 - val_loss: 1.2092\n",
            "Q 9960+601  T 10561 ☒ 10555\n",
            "Q 2832+7666 T 10498 ☒ 1111 \n",
            "Q 514+6452  T 6966  ☒ 6009 \n",
            "Q 4839-652  T 4187  ☒ 4865 \n",
            "Q 259+828   T 1087  ☒ 110  \n",
            "Q 738+77    T 815   ☒ 750  \n",
            "Q 98+315    T 413   ☒ 320  \n",
            "Q 470-447   T 23    ☒ 300  \n",
            "Q 277-1856  T -1579 ☒ -107 \n",
            "Q 143+403   T 546   ☒ 466  \n",
            "\n",
            "--------------------------------------------------\n",
            "Iteration 7\n",
            "\u001b[1m281/282\u001b[0m \u001b[32m━━━━━━━━━━━━━━━━━━━\u001b[0m\u001b[37m━\u001b[0m \u001b[1m0s\u001b[0m 8ms/step - accuracy: 0.5668 - loss: 1.1784\n",
            "Epoch 1: val_loss improved from 1.20922 to 1.15176, saving model to best_model.h5\n"
          ]
        },
        {
          "output_type": "stream",
          "name": "stderr",
          "text": [
            "WARNING:absl:You are saving your model as an HDF5 file via `model.save()` or `keras.saving.save_model(model)`. This file format is considered legacy. We recommend using instead the native Keras format, e.g. `model.save('my_model.keras')` or `keras.saving.save_model(model, 'my_model.keras')`. \n"
          ]
        },
        {
          "output_type": "stream",
          "name": "stdout",
          "text": [
            "\b\b\b\b\b\b\b\b\b\b\b\b\b\b\b\b\b\b\b\b\b\b\b\b\b\b\b\b\b\b\b\b\b\b\b\b\b\b\b\b\b\b\b\b\b\b\b\b\b\b\b\b\b\b\b\b\b\b\b\b\b\b\b\b\b\b\b\b\b\b\b\b\b\b\r\u001b[1m282/282\u001b[0m \u001b[32m━━━━━━━━━━━━━━━━━━━━\u001b[0m\u001b[37m\u001b[0m \u001b[1m3s\u001b[0m 9ms/step - accuracy: 0.5668 - loss: 1.1783 - val_accuracy: 0.5749 - val_loss: 1.1518\n",
            "Q 474-5     T 469   ☒ 477  \n",
            "Q 107+8     T 115   ☒ 107  \n",
            "Q 5+78      T 83    ☒ 86   \n",
            "Q 1312-135  T 1177  ☒ 127  \n",
            "Q 1-6390    T -6389 ☒ -6693\n",
            "Q 9615-7    T 9608  ☒ 9655 \n",
            "Q 1915+8    T 1923  ☒ 1995 \n",
            "Q 7+624     T 631   ☒ 673  \n",
            "Q 3283+2330 T 5613  ☒ 3656 \n",
            "Q 730-25    T 705   ☒ 763  \n",
            "\n",
            "--------------------------------------------------\n",
            "Iteration 8\n",
            "\u001b[1m280/282\u001b[0m \u001b[32m━━━━━━━━━━━━━━━━━━━\u001b[0m\u001b[37m━\u001b[0m \u001b[1m0s\u001b[0m 7ms/step - accuracy: 0.5870 - loss: 1.1275\n",
            "Epoch 1: val_loss improved from 1.15176 to 1.09454, saving model to best_model.h5\n"
          ]
        },
        {
          "output_type": "stream",
          "name": "stderr",
          "text": [
            "WARNING:absl:You are saving your model as an HDF5 file via `model.save()` or `keras.saving.save_model(model)`. This file format is considered legacy. We recommend using instead the native Keras format, e.g. `model.save('my_model.keras')` or `keras.saving.save_model(model, 'my_model.keras')`. \n"
          ]
        },
        {
          "output_type": "stream",
          "name": "stdout",
          "text": [
            "\b\b\b\b\b\b\b\b\b\b\b\b\b\b\b\b\b\b\b\b\b\b\b\b\b\b\b\b\b\b\b\b\b\b\b\b\b\b\b\b\b\b\b\b\b\b\b\b\b\b\b\b\b\b\b\b\b\b\b\b\b\b\b\b\b\b\b\b\b\b\b\b\b\b\r\u001b[1m282/282\u001b[0m \u001b[32m━━━━━━━━━━━━━━━━━━━━\u001b[0m\u001b[37m\u001b[0m \u001b[1m2s\u001b[0m 8ms/step - accuracy: 0.5870 - loss: 1.1274 - val_accuracy: 0.5941 - val_loss: 1.0945\n",
            "Q 775+3692  T 4467  ☒ 3008 \n",
            "Q 559-722   T -163  ☒ -266 \n",
            "Q 65-38     T 27    ☒ 28   \n",
            "Q 72+6      T 78    ☒ 73   \n",
            "Q 9-84      T -75   ☒ -79  \n",
            "Q 1-248     T -247  ☑ -247 \n",
            "Q 202+152   T 354   ☒ 277  \n",
            "Q 8724-96   T 8628  ☒ 7738 \n",
            "Q 6781-3599 T 3182  ☒ 5967 \n",
            "Q 45+65     T 110   ☒ 101  \n",
            "\n",
            "--------------------------------------------------\n",
            "Iteration 9\n",
            "\u001b[1m280/282\u001b[0m \u001b[32m━━━━━━━━━━━━━━━━━━━\u001b[0m\u001b[37m━\u001b[0m \u001b[1m0s\u001b[0m 7ms/step - accuracy: 0.6047 - loss: 1.0786\n",
            "Epoch 1: val_loss improved from 1.09454 to 1.06079, saving model to best_model.h5\n"
          ]
        },
        {
          "output_type": "stream",
          "name": "stderr",
          "text": [
            "WARNING:absl:You are saving your model as an HDF5 file via `model.save()` or `keras.saving.save_model(model)`. This file format is considered legacy. We recommend using instead the native Keras format, e.g. `model.save('my_model.keras')` or `keras.saving.save_model(model, 'my_model.keras')`. \n"
          ]
        },
        {
          "output_type": "stream",
          "name": "stdout",
          "text": [
            "\b\b\b\b\b\b\b\b\b\b\b\b\b\b\b\b\b\b\b\b\b\b\b\b\b\b\b\b\b\b\b\b\b\b\b\b\b\b\b\b\b\b\b\b\b\b\b\b\b\b\b\b\b\b\b\b\b\b\b\b\b\b\b\b\b\b\b\b\b\b\b\b\b\b\r\u001b[1m282/282\u001b[0m \u001b[32m━━━━━━━━━━━━━━━━━━━━\u001b[0m\u001b[37m\u001b[0m \u001b[1m2s\u001b[0m 8ms/step - accuracy: 0.6048 - loss: 1.0785 - val_accuracy: 0.6071 - val_loss: 1.0608\n",
            "Q 49+5527   T 5576  ☒ 5602 \n",
            "Q 917+6894  T 7811  ☒ 7677 \n",
            "Q 662+760   T 1422  ☒ 1322 \n",
            "Q 22-97     T -75   ☒ -68  \n",
            "Q 9699+3    T 9702  ☒ 9602 \n",
            "Q 1800+65   T 1865  ☒ 1857 \n",
            "Q 64-1      T 63    ☒ 64   \n",
            "Q 7+8747    T 8754  ☒ 8788 \n",
            "Q 54-532    T -478  ☒ -496 \n",
            "Q 78-5631   T -5553 ☒ -5497\n",
            "\n",
            "--------------------------------------------------\n",
            "Iteration 10\n",
            "\u001b[1m281/282\u001b[0m \u001b[32m━━━━━━━━━━━━━━━━━━━\u001b[0m\u001b[37m━\u001b[0m \u001b[1m0s\u001b[0m 7ms/step - accuracy: 0.6183 - loss: 1.0384\n",
            "Epoch 1: val_loss improved from 1.06079 to 1.03824, saving model to best_model.h5\n"
          ]
        },
        {
          "output_type": "stream",
          "name": "stderr",
          "text": [
            "WARNING:absl:You are saving your model as an HDF5 file via `model.save()` or `keras.saving.save_model(model)`. This file format is considered legacy. We recommend using instead the native Keras format, e.g. `model.save('my_model.keras')` or `keras.saving.save_model(model, 'my_model.keras')`. \n"
          ]
        },
        {
          "output_type": "stream",
          "name": "stdout",
          "text": [
            "\b\b\b\b\b\b\b\b\b\b\b\b\b\b\b\b\b\b\b\b\b\b\b\b\b\b\b\b\b\b\b\b\b\b\b\b\b\b\b\b\b\b\b\b\b\b\b\b\b\b\b\b\b\b\b\b\b\b\b\b\b\b\b\b\b\b\b\b\b\b\b\b\b\b\r\u001b[1m282/282\u001b[0m \u001b[32m━━━━━━━━━━━━━━━━━━━━\u001b[0m\u001b[37m\u001b[0m \u001b[1m2s\u001b[0m 8ms/step - accuracy: 0.6183 - loss: 1.0384 - val_accuracy: 0.6140 - val_loss: 1.0382\n",
            "Q 635-4209  T -3574 ☒ -2767\n",
            "Q 622+27    T 649   ☒ 699  \n",
            "Q 6+620     T 626   ☒ 627  \n",
            "Q 345-7     T 338   ☒ 330  \n",
            "Q 649+8     T 657   ☒ 690  \n",
            "Q 1619+2    T 1621  ☒ 1619 \n",
            "Q 846-91    T 755   ☒ 877  \n",
            "Q 307-3150  T -2843 ☒ -2873\n",
            "Q 1150-25   T 1125  ☒ 1111 \n",
            "Q 575+554   T 1129  ☒ 1101 \n",
            "\n",
            "--------------------------------------------------\n",
            "Iteration 11\n",
            "\u001b[1m280/282\u001b[0m \u001b[32m━━━━━━━━━━━━━━━━━━━\u001b[0m\u001b[37m━\u001b[0m \u001b[1m0s\u001b[0m 10ms/step - accuracy: 0.6292 - loss: 1.0088\n",
            "Epoch 1: val_loss improved from 1.03824 to 1.01628, saving model to best_model.h5\n"
          ]
        },
        {
          "output_type": "stream",
          "name": "stderr",
          "text": [
            "WARNING:absl:You are saving your model as an HDF5 file via `model.save()` or `keras.saving.save_model(model)`. This file format is considered legacy. We recommend using instead the native Keras format, e.g. `model.save('my_model.keras')` or `keras.saving.save_model(model, 'my_model.keras')`. \n"
          ]
        },
        {
          "output_type": "stream",
          "name": "stdout",
          "text": [
            "\b\b\b\b\b\b\b\b\b\b\b\b\b\b\b\b\b\b\b\b\b\b\b\b\b\b\b\b\b\b\b\b\b\b\b\b\b\b\b\b\b\b\b\b\b\b\b\b\b\b\b\b\b\b\b\b\b\b\b\b\b\b\b\b\b\b\b\b\b\b\b\b\b\b\b\r\u001b[1m282/282\u001b[0m \u001b[32m━━━━━━━━━━━━━━━━━━━━\u001b[0m\u001b[37m\u001b[0m \u001b[1m3s\u001b[0m 11ms/step - accuracy: 0.6292 - loss: 1.0088 - val_accuracy: 0.6214 - val_loss: 1.0163\n",
            "Q 2488-1    T 2487  ☒ 2484 \n",
            "Q 9-220     T -211  ☒ -210 \n",
            "Q 709-6     T 703   ☒ 704  \n",
            "Q 669-8356  T -7687 ☒ -8711\n",
            "Q 5898-405  T 5493  ☒ 5133 \n",
            "Q 50+1      T 51    ☑ 51   \n",
            "Q 896-91    T 805   ☒ 808  \n",
            "Q 379+3169  T 3548  ☒ 3804 \n",
            "Q 3475-1    T 3474  ☒ 3473 \n",
            "Q 733-37    T 696   ☒ 664  \n",
            "\n",
            "--------------------------------------------------\n",
            "Iteration 12\n",
            "\u001b[1m275/282\u001b[0m \u001b[32m━━━━━━━━━━━━━━━━━━━\u001b[0m\u001b[37m━\u001b[0m \u001b[1m0s\u001b[0m 7ms/step - accuracy: 0.6420 - loss: 0.9754\n",
            "Epoch 1: val_loss improved from 1.01628 to 0.98318, saving model to best_model.h5\n"
          ]
        },
        {
          "output_type": "stream",
          "name": "stderr",
          "text": [
            "WARNING:absl:You are saving your model as an HDF5 file via `model.save()` or `keras.saving.save_model(model)`. This file format is considered legacy. We recommend using instead the native Keras format, e.g. `model.save('my_model.keras')` or `keras.saving.save_model(model, 'my_model.keras')`. \n"
          ]
        },
        {
          "output_type": "stream",
          "name": "stdout",
          "text": [
            "\b\b\b\b\b\b\b\b\b\b\b\b\b\b\b\b\b\b\b\b\b\b\b\b\b\b\b\b\b\b\b\b\b\b\b\b\b\b\b\b\b\b\b\b\b\b\b\b\b\b\b\b\b\b\b\b\b\b\b\b\b\b\b\b\b\b\b\b\b\b\b\b\b\b\r\u001b[1m282/282\u001b[0m \u001b[32m━━━━━━━━━━━━━━━━━━━━\u001b[0m\u001b[37m\u001b[0m \u001b[1m2s\u001b[0m 8ms/step - accuracy: 0.6420 - loss: 0.9753 - val_accuracy: 0.6370 - val_loss: 0.9832\n",
            "Q 2010-2    T 2008  ☒ 2001 \n",
            "Q 215+491   T 706   ☒ 602  \n",
            "Q 645-93    T 552   ☒ 582  \n",
            "Q 9888+6    T 9894  ☑ 9894 \n",
            "Q 6503-9    T 6494  ☒ 6507 \n",
            "Q 20+44     T 64    ☒ 68   \n",
            "Q 23-2397   T -2374 ☒ -2375\n",
            "Q 7274-209  T 7065  ☒ 7186 \n",
            "Q 6-36      T -30   ☑ -30  \n",
            "Q 44-40     T 4     ☒ 3    \n",
            "\n",
            "--------------------------------------------------\n",
            "Iteration 13\n",
            "\u001b[1m277/282\u001b[0m \u001b[32m━━━━━━━━━━━━━━━━━━━\u001b[0m\u001b[37m━\u001b[0m \u001b[1m0s\u001b[0m 7ms/step - accuracy: 0.6530 - loss: 0.9452\n",
            "Epoch 1: val_loss improved from 0.98318 to 0.95686, saving model to best_model.h5\n"
          ]
        },
        {
          "output_type": "stream",
          "name": "stderr",
          "text": [
            "WARNING:absl:You are saving your model as an HDF5 file via `model.save()` or `keras.saving.save_model(model)`. This file format is considered legacy. We recommend using instead the native Keras format, e.g. `model.save('my_model.keras')` or `keras.saving.save_model(model, 'my_model.keras')`. \n"
          ]
        },
        {
          "output_type": "stream",
          "name": "stdout",
          "text": [
            "\b\b\b\b\b\b\b\b\b\b\b\b\b\b\b\b\b\b\b\b\b\b\b\b\b\b\b\b\b\b\b\b\b\b\b\b\b\b\b\b\b\b\b\b\b\b\b\b\b\b\b\b\b\b\b\b\b\b\b\b\b\b\b\b\b\b\b\b\b\b\b\b\b\b\r\u001b[1m282/282\u001b[0m \u001b[32m━━━━━━━━━━━━━━━━━━━━\u001b[0m\u001b[37m\u001b[0m \u001b[1m2s\u001b[0m 8ms/step - accuracy: 0.6530 - loss: 0.9452 - val_accuracy: 0.6450 - val_loss: 0.9569\n",
            "Q 5029-10   T 5019  ☒ 5099 \n",
            "Q 49+5527   T 5576  ☒ 5566 \n",
            "Q 809+7223  T 8032  ☒ 8620 \n",
            "Q 42-9168   T -9126 ☒ -9168\n",
            "Q 5-935     T -930  ☒ -939 \n",
            "Q 535-7103  T -6568 ☒ -6666\n",
            "Q 7874-9185 T -1311 ☒ -1177\n",
            "Q 16-781    T -765  ☒ -767 \n",
            "Q 7+226     T 233   ☒ 239  \n",
            "Q 16-142    T -126  ☒ -139 \n",
            "\n",
            "--------------------------------------------------\n",
            "Iteration 14\n",
            "\u001b[1m278/282\u001b[0m \u001b[32m━━━━━━━━━━━━━━━━━━━\u001b[0m\u001b[37m━\u001b[0m \u001b[1m0s\u001b[0m 7ms/step - accuracy: 0.6615 - loss: 0.9199\n",
            "Epoch 1: val_loss improved from 0.95686 to 0.93927, saving model to best_model.h5\n"
          ]
        },
        {
          "output_type": "stream",
          "name": "stderr",
          "text": [
            "WARNING:absl:You are saving your model as an HDF5 file via `model.save()` or `keras.saving.save_model(model)`. This file format is considered legacy. We recommend using instead the native Keras format, e.g. `model.save('my_model.keras')` or `keras.saving.save_model(model, 'my_model.keras')`. \n"
          ]
        },
        {
          "output_type": "stream",
          "name": "stdout",
          "text": [
            "\b\b\b\b\b\b\b\b\b\b\b\b\b\b\b\b\b\b\b\b\b\b\b\b\b\b\b\b\b\b\b\b\b\b\b\b\b\b\b\b\b\b\b\b\b\b\b\b\b\b\b\b\b\b\b\b\b\b\b\b\b\b\b\b\b\b\b\b\b\b\b\b\b\b\r\u001b[1m282/282\u001b[0m \u001b[32m━━━━━━━━━━━━━━━━━━━━\u001b[0m\u001b[37m\u001b[0m \u001b[1m2s\u001b[0m 8ms/step - accuracy: 0.6616 - loss: 0.9198 - val_accuracy: 0.6502 - val_loss: 0.9393\n",
            "Q 887-9     T 878   ☒ 879  \n",
            "Q 2+883     T 885   ☒ 889  \n",
            "Q 245-728   T -483  ☒ -532 \n",
            "Q 381-8656  T -8275 ☒ -8484\n",
            "Q 2706-180  T 2526  ☒ 2899 \n",
            "Q 9+5752    T 5761  ☒ 5746 \n",
            "Q 7+2132    T 2139  ☑ 2139 \n",
            "Q 494-671   T -177  ☒ -187 \n",
            "Q 991-79    T 912   ☒ 803  \n",
            "Q 61+97     T 158   ☒ 168  \n",
            "\n",
            "--------------------------------------------------\n",
            "Iteration 15\n",
            "\u001b[1m281/282\u001b[0m \u001b[32m━━━━━━━━━━━━━━━━━━━\u001b[0m\u001b[37m━\u001b[0m \u001b[1m0s\u001b[0m 11ms/step - accuracy: 0.6712 - loss: 0.8956\n",
            "Epoch 1: val_loss improved from 0.93927 to 0.91952, saving model to best_model.h5\n"
          ]
        },
        {
          "output_type": "stream",
          "name": "stderr",
          "text": [
            "WARNING:absl:You are saving your model as an HDF5 file via `model.save()` or `keras.saving.save_model(model)`. This file format is considered legacy. We recommend using instead the native Keras format, e.g. `model.save('my_model.keras')` or `keras.saving.save_model(model, 'my_model.keras')`. \n"
          ]
        },
        {
          "output_type": "stream",
          "name": "stdout",
          "text": [
            "\b\b\b\b\b\b\b\b\b\b\b\b\b\b\b\b\b\b\b\b\b\b\b\b\b\b\b\b\b\b\b\b\b\b\b\b\b\b\b\b\b\b\b\b\b\b\b\b\b\b\b\b\b\b\b\b\b\b\b\b\b\b\b\b\b\b\b\b\b\b\b\b\b\b\b\r\u001b[1m282/282\u001b[0m \u001b[32m━━━━━━━━━━━━━━━━━━━━\u001b[0m\u001b[37m\u001b[0m \u001b[1m3s\u001b[0m 12ms/step - accuracy: 0.6712 - loss: 0.8955 - val_accuracy: 0.6571 - val_loss: 0.9195\n",
            "Q 7+7741    T 7748  ☒ 7747 \n",
            "Q 5159-71   T 5088  ☒ 5165 \n",
            "Q 702-25    T 677   ☑ 677  \n",
            "Q 4544-82   T 4462  ☒ 4377 \n",
            "Q 6899-9    T 6890  ☒ 6889 \n",
            "Q 9862+49   T 9911  ☒ 9905 \n",
            "Q 3-275     T -272  ☒ -271 \n",
            "Q 7+669     T 676   ☒ 675  \n",
            "Q 915+158   T 1073  ☒ 1037 \n",
            "Q 447-7     T 440   ☒ 458  \n",
            "\n",
            "--------------------------------------------------\n",
            "Iteration 16\n",
            "\u001b[1m281/282\u001b[0m \u001b[32m━━━━━━━━━━━━━━━━━━━\u001b[0m\u001b[37m━\u001b[0m \u001b[1m0s\u001b[0m 7ms/step - accuracy: 0.6806 - loss: 0.8687\n",
            "Epoch 1: val_loss improved from 0.91952 to 0.90231, saving model to best_model.h5\n"
          ]
        },
        {
          "output_type": "stream",
          "name": "stderr",
          "text": [
            "WARNING:absl:You are saving your model as an HDF5 file via `model.save()` or `keras.saving.save_model(model)`. This file format is considered legacy. We recommend using instead the native Keras format, e.g. `model.save('my_model.keras')` or `keras.saving.save_model(model, 'my_model.keras')`. \n"
          ]
        },
        {
          "output_type": "stream",
          "name": "stdout",
          "text": [
            "\b\b\b\b\b\b\b\b\b\b\b\b\b\b\b\b\b\b\b\b\b\b\b\b\b\b\b\b\b\b\b\b\b\b\b\b\b\b\b\b\b\b\b\b\b\b\b\b\b\b\b\b\b\b\b\b\b\b\b\b\b\b\b\b\b\b\b\b\b\b\b\b\b\b\r\u001b[1m282/282\u001b[0m \u001b[32m━━━━━━━━━━━━━━━━━━━━\u001b[0m\u001b[37m\u001b[0m \u001b[1m2s\u001b[0m 8ms/step - accuracy: 0.6806 - loss: 0.8687 - val_accuracy: 0.6639 - val_loss: 0.9023\n",
            "Q 3-938     T -935  ☒ -930 \n",
            "Q 960-686   T 274   ☒ 232  \n",
            "Q 9-2743    T -2734 ☑ -2734\n",
            "Q 1+577     T 578   ☑ 578  \n",
            "Q 68+440    T 508   ☒ 416  \n",
            "Q 66-5461   T -5395 ☒ -5494\n",
            "Q 149-62    T 87    ☒ 13   \n",
            "Q 5943+13   T 5956  ☒ 5972 \n",
            "Q 882+3768  T 4650  ☒ 4655 \n",
            "Q 45+2930   T 2975  ☒ 2929 \n",
            "\n",
            "--------------------------------------------------\n",
            "Iteration 17\n",
            "\u001b[1m276/282\u001b[0m \u001b[32m━━━━━━━━━━━━━━━━━━━\u001b[0m\u001b[37m━\u001b[0m \u001b[1m0s\u001b[0m 7ms/step - accuracy: 0.6863 - loss: 0.8517\n",
            "Epoch 1: val_loss improved from 0.90231 to 0.88979, saving model to best_model.h5\n"
          ]
        },
        {
          "output_type": "stream",
          "name": "stderr",
          "text": [
            "WARNING:absl:You are saving your model as an HDF5 file via `model.save()` or `keras.saving.save_model(model)`. This file format is considered legacy. We recommend using instead the native Keras format, e.g. `model.save('my_model.keras')` or `keras.saving.save_model(model, 'my_model.keras')`. \n"
          ]
        },
        {
          "output_type": "stream",
          "name": "stdout",
          "text": [
            "\b\b\b\b\b\b\b\b\b\b\b\b\b\b\b\b\b\b\b\b\b\b\b\b\b\b\b\b\b\b\b\b\b\b\b\b\b\b\b\b\b\b\b\b\b\b\b\b\b\b\b\b\b\b\b\b\b\b\b\b\b\b\b\b\b\b\b\b\b\b\b\b\b\b\r\u001b[1m282/282\u001b[0m \u001b[32m━━━━━━━━━━━━━━━━━━━━\u001b[0m\u001b[37m\u001b[0m \u001b[1m2s\u001b[0m 8ms/step - accuracy: 0.6863 - loss: 0.8515 - val_accuracy: 0.6689 - val_loss: 0.8898\n",
            "Q 922+7     T 929   ☑ 929  \n",
            "Q 3+580     T 583   ☒ 582  \n",
            "Q 4762-39   T 4723  ☒ 4634 \n",
            "Q 352+301   T 653   ☒ 733  \n",
            "Q 2722-964  T 1758  ☒ 1227 \n",
            "Q 610+6185  T 6795  ☒ 7222 \n",
            "Q 70-8881   T -8811 ☒ -8799\n",
            "Q 33-23     T 10    ☒ 1    \n",
            "Q 1009+9    T 1018  ☒ 1019 \n",
            "Q 785-7     T 778   ☒ 782  \n",
            "\n",
            "--------------------------------------------------\n",
            "Iteration 18\n",
            "\u001b[1m277/282\u001b[0m \u001b[32m━━━━━━━━━━━━━━━━━━━\u001b[0m\u001b[37m━\u001b[0m \u001b[1m0s\u001b[0m 7ms/step - accuracy: 0.6958 - loss: 0.8289\n",
            "Epoch 1: val_loss improved from 0.88979 to 0.86702, saving model to best_model.h5\n"
          ]
        },
        {
          "output_type": "stream",
          "name": "stderr",
          "text": [
            "WARNING:absl:You are saving your model as an HDF5 file via `model.save()` or `keras.saving.save_model(model)`. This file format is considered legacy. We recommend using instead the native Keras format, e.g. `model.save('my_model.keras')` or `keras.saving.save_model(model, 'my_model.keras')`. \n"
          ]
        },
        {
          "output_type": "stream",
          "name": "stdout",
          "text": [
            "\b\b\b\b\b\b\b\b\b\b\b\b\b\b\b\b\b\b\b\b\b\b\b\b\b\b\b\b\b\b\b\b\b\b\b\b\b\b\b\b\b\b\b\b\b\b\b\b\b\b\b\b\b\b\b\b\b\b\b\b\b\b\b\b\b\b\b\b\b\b\b\b\b\b\r\u001b[1m282/282\u001b[0m \u001b[32m━━━━━━━━━━━━━━━━━━━━\u001b[0m\u001b[37m\u001b[0m \u001b[1m2s\u001b[0m 8ms/step - accuracy: 0.6958 - loss: 0.8289 - val_accuracy: 0.6764 - val_loss: 0.8670\n",
            "Q 95-6      T 89    ☒ 80   \n",
            "Q 70-961    T -891  ☒ -877 \n",
            "Q 1-37      T -36   ☑ -36  \n",
            "Q 752-8     T 744   ☒ 746  \n",
            "Q 2036+3    T 2039  ☒ 2008 \n",
            "Q 9741+756  T 10497 ☒ 10568\n",
            "Q 44+211    T 255   ☒ 266  \n",
            "Q 59-8881   T -8822 ☒ -8700\n",
            "Q 97-447    T -350  ☒ -363 \n",
            "Q 898-1     T 897   ☑ 897  \n",
            "\n",
            "--------------------------------------------------\n",
            "Iteration 19\n",
            "\u001b[1m278/282\u001b[0m \u001b[32m━━━━━━━━━━━━━━━━━━━\u001b[0m\u001b[37m━\u001b[0m \u001b[1m0s\u001b[0m 11ms/step - accuracy: 0.7030 - loss: 0.8051\n",
            "Epoch 1: val_loss improved from 0.86702 to 0.85484, saving model to best_model.h5\n"
          ]
        },
        {
          "output_type": "stream",
          "name": "stderr",
          "text": [
            "WARNING:absl:You are saving your model as an HDF5 file via `model.save()` or `keras.saving.save_model(model)`. This file format is considered legacy. We recommend using instead the native Keras format, e.g. `model.save('my_model.keras')` or `keras.saving.save_model(model, 'my_model.keras')`. \n"
          ]
        },
        {
          "output_type": "stream",
          "name": "stdout",
          "text": [
            "\b\b\b\b\b\b\b\b\b\b\b\b\b\b\b\b\b\b\b\b\b\b\b\b\b\b\b\b\b\b\b\b\b\b\b\b\b\b\b\b\b\b\b\b\b\b\b\b\b\b\b\b\b\b\b\b\b\b\b\b\b\b\b\b\b\b\b\b\b\b\b\b\b\b\b\r\u001b[1m282/282\u001b[0m \u001b[32m━━━━━━━━━━━━━━━━━━━━\u001b[0m\u001b[37m\u001b[0m \u001b[1m3s\u001b[0m 11ms/step - accuracy: 0.7030 - loss: 0.8051 - val_accuracy: 0.6791 - val_loss: 0.8548\n",
            "Q 338+2761  T 3099  ☒ 3124 \n",
            "Q 4889+353  T 5242  ☒ 5133 \n",
            "Q 24+8820   T 8844  ☒ 8946 \n",
            "Q 9136+4    T 9140  ☒ 9147 \n",
            "Q 948+683   T 1631  ☒ 1519 \n",
            "Q 86-4      T 82    ☒ 81   \n",
            "Q 7042+9710 T 16752 ☒ 16000\n",
            "Q 3-275     T -272  ☒ -273 \n",
            "Q 3626-5669 T -2043 ☒ -1004\n",
            "Q 6612-6    T 6606  ☒ 6604 \n",
            "\n",
            "--------------------------------------------------\n",
            "Iteration 20\n",
            "\u001b[1m281/282\u001b[0m \u001b[32m━━━━━━━━━━━━━━━━━━━\u001b[0m\u001b[37m━\u001b[0m \u001b[1m0s\u001b[0m 8ms/step - accuracy: 0.7120 - loss: 0.7837\n",
            "Epoch 1: val_loss improved from 0.85484 to 0.83872, saving model to best_model.h5\n"
          ]
        },
        {
          "output_type": "stream",
          "name": "stderr",
          "text": [
            "WARNING:absl:You are saving your model as an HDF5 file via `model.save()` or `keras.saving.save_model(model)`. This file format is considered legacy. We recommend using instead the native Keras format, e.g. `model.save('my_model.keras')` or `keras.saving.save_model(model, 'my_model.keras')`. \n"
          ]
        },
        {
          "output_type": "stream",
          "name": "stdout",
          "text": [
            "\b\b\b\b\b\b\b\b\b\b\b\b\b\b\b\b\b\b\b\b\b\b\b\b\b\b\b\b\b\b\b\b\b\b\b\b\b\b\b\b\b\b\b\b\b\b\b\b\b\b\b\b\b\b\b\b\b\b\b\b\b\b\b\b\b\b\b\b\b\b\b\b\b\b\r\u001b[1m282/282\u001b[0m \u001b[32m━━━━━━━━━━━━━━━━━━━━\u001b[0m\u001b[37m\u001b[0m \u001b[1m2s\u001b[0m 9ms/step - accuracy: 0.7120 - loss: 0.7837 - val_accuracy: 0.6836 - val_loss: 0.8387\n",
            "Q 9908-660  T 9248  ☒ 9393 \n",
            "Q 6567-548  T 6019  ☒ 5023 \n",
            "Q 423+8140  T 8563  ☒ 8666 \n",
            "Q 8612-74   T 8538  ☒ 8655 \n",
            "Q 4091-18   T 4073  ☒ 4088 \n",
            "Q 8+8639    T 8647  ☒ 8644 \n",
            "Q 7909+38   T 7947  ☒ 7909 \n",
            "Q 85+27     T 112   ☒ 110  \n",
            "Q 1493-909  T 584   ☒ 829  \n",
            "Q 3-7029    T -7026 ☒ -7044\n",
            "\n",
            "--------------------------------------------------\n",
            "Iteration 21\n",
            "\u001b[1m277/282\u001b[0m \u001b[32m━━━━━━━━━━━━━━━━━━━\u001b[0m\u001b[37m━\u001b[0m \u001b[1m0s\u001b[0m 7ms/step - accuracy: 0.7186 - loss: 0.7670\n",
            "Epoch 1: val_loss improved from 0.83872 to 0.83364, saving model to best_model.h5\n"
          ]
        },
        {
          "output_type": "stream",
          "name": "stderr",
          "text": [
            "WARNING:absl:You are saving your model as an HDF5 file via `model.save()` or `keras.saving.save_model(model)`. This file format is considered legacy. We recommend using instead the native Keras format, e.g. `model.save('my_model.keras')` or `keras.saving.save_model(model, 'my_model.keras')`. \n"
          ]
        },
        {
          "output_type": "stream",
          "name": "stdout",
          "text": [
            "\b\b\b\b\b\b\b\b\b\b\b\b\b\b\b\b\b\b\b\b\b\b\b\b\b\b\b\b\b\b\b\b\b\b\b\b\b\b\b\b\b\b\b\b\b\b\b\b\b\b\b\b\b\b\b\b\b\b\b\b\b\b\b\b\b\b\b\b\b\b\b\b\b\b\r\u001b[1m282/282\u001b[0m \u001b[32m━━━━━━━━━━━━━━━━━━━━\u001b[0m\u001b[37m\u001b[0m \u001b[1m2s\u001b[0m 8ms/step - accuracy: 0.7186 - loss: 0.7670 - val_accuracy: 0.6853 - val_loss: 0.8336\n",
            "Q 233-0     T 233   ☒ 223  \n",
            "Q 5472+2    T 5474  ☒ 5575 \n",
            "Q 599-439   T 160   ☒ 445  \n",
            "Q 2251+9    T 2260  ☒ 2250 \n",
            "Q 1+6580    T 6581  ☒ 6580 \n",
            "Q 3733+92   T 3825  ☒ 3802 \n",
            "Q 1732-7826 T -6094 ☒ -6955\n",
            "Q 71+13     T 84    ☒ 94   \n",
            "Q 6858-70   T 6788  ☒ 6822 \n",
            "Q 3-245     T -242  ☒ -243 \n",
            "\n",
            "--------------------------------------------------\n",
            "Iteration 22\n",
            "\u001b[1m278/282\u001b[0m \u001b[32m━━━━━━━━━━━━━━━━━━━\u001b[0m\u001b[37m━\u001b[0m \u001b[1m0s\u001b[0m 10ms/step - accuracy: 0.7270 - loss: 0.7450\n",
            "Epoch 1: val_loss improved from 0.83364 to 0.81819, saving model to best_model.h5\n"
          ]
        },
        {
          "output_type": "stream",
          "name": "stderr",
          "text": [
            "WARNING:absl:You are saving your model as an HDF5 file via `model.save()` or `keras.saving.save_model(model)`. This file format is considered legacy. We recommend using instead the native Keras format, e.g. `model.save('my_model.keras')` or `keras.saving.save_model(model, 'my_model.keras')`. \n"
          ]
        },
        {
          "output_type": "stream",
          "name": "stdout",
          "text": [
            "\b\b\b\b\b\b\b\b\b\b\b\b\b\b\b\b\b\b\b\b\b\b\b\b\b\b\b\b\b\b\b\b\b\b\b\b\b\b\b\b\b\b\b\b\b\b\b\b\b\b\b\b\b\b\b\b\b\b\b\b\b\b\b\b\b\b\b\b\b\b\b\b\b\b\b\r\u001b[1m282/282\u001b[0m \u001b[32m━━━━━━━━━━━━━━━━━━━━\u001b[0m\u001b[37m\u001b[0m \u001b[1m3s\u001b[0m 12ms/step - accuracy: 0.7270 - loss: 0.7451 - val_accuracy: 0.6927 - val_loss: 0.8182\n",
            "Q 82+513    T 595   ☒ 503  \n",
            "Q 8979-9384 T -405  ☒ -11  \n",
            "Q 761-52    T 709   ☒ 716  \n",
            "Q 15-67     T -52   ☒ -53  \n",
            "Q 0-447     T -447  ☑ -447 \n",
            "Q 70+4536   T 4606  ☒ 4622 \n",
            "Q 9-90      T -81   ☑ -81  \n",
            "Q 983+922   T 1905  ☒ 1877 \n",
            "Q 81+8816   T 8897  ☒ 8930 \n",
            "Q 6612-6    T 6606  ☒ 6602 \n",
            "\n",
            "--------------------------------------------------\n",
            "Iteration 23\n",
            "\u001b[1m282/282\u001b[0m \u001b[32m━━━━━━━━━━━━━━━━━━━━\u001b[0m\u001b[37m\u001b[0m \u001b[1m0s\u001b[0m 7ms/step - accuracy: 0.7342 - loss: 0.7294\n",
            "Epoch 1: val_loss improved from 0.81819 to 0.79196, saving model to best_model.h5\n"
          ]
        },
        {
          "output_type": "stream",
          "name": "stderr",
          "text": [
            "WARNING:absl:You are saving your model as an HDF5 file via `model.save()` or `keras.saving.save_model(model)`. This file format is considered legacy. We recommend using instead the native Keras format, e.g. `model.save('my_model.keras')` or `keras.saving.save_model(model, 'my_model.keras')`. \n"
          ]
        },
        {
          "output_type": "stream",
          "name": "stdout",
          "text": [
            "\b\b\b\b\b\b\b\b\b\b\b\b\b\b\b\b\b\b\b\b\b\b\b\b\b\b\b\b\b\b\b\b\b\b\b\b\b\b\b\b\b\b\b\b\b\b\b\b\b\b\b\b\b\b\b\b\b\b\b\b\b\b\b\b\b\b\b\b\b\b\b\b\b\b\r\u001b[1m282/282\u001b[0m \u001b[32m━━━━━━━━━━━━━━━━━━━━\u001b[0m\u001b[37m\u001b[0m \u001b[1m2s\u001b[0m 8ms/step - accuracy: 0.7342 - loss: 0.7294 - val_accuracy: 0.7020 - val_loss: 0.7920\n",
            "Q 9+250     T 259   ☒ 258  \n",
            "Q 45-4      T 41    ☒ 40   \n",
            "Q 58-512    T -454  ☒ -445 \n",
            "Q 210-276   T -66   ☒ -52  \n",
            "Q 846-718   T 128   ☒ 16   \n",
            "Q 2022-144  T 1878  ☒ 1979 \n",
            "Q 1768-9    T 1759  ☒ 1768 \n",
            "Q 361-68    T 293   ☒ 288  \n",
            "Q 67-7      T 60    ☑ 60   \n",
            "Q 2-1493    T -1491 ☑ -1491\n",
            "\n",
            "--------------------------------------------------\n",
            "Iteration 24\n",
            "\u001b[1m276/282\u001b[0m \u001b[32m━━━━━━━━━━━━━━━━━━━\u001b[0m\u001b[37m━\u001b[0m \u001b[1m0s\u001b[0m 7ms/step - accuracy: 0.7407 - loss: 0.7075\n",
            "Epoch 1: val_loss did not improve from 0.79196\n",
            "\u001b[1m282/282\u001b[0m \u001b[32m━━━━━━━━━━━━━━━━━━━━\u001b[0m\u001b[37m\u001b[0m \u001b[1m2s\u001b[0m 8ms/step - accuracy: 0.7407 - loss: 0.7075 - val_accuracy: 0.7011 - val_loss: 0.7937\n",
            "Q 3+117     T 120   ☑ 120  \n",
            "Q 68+956    T 1024  ☒ 1042 \n",
            "Q 85+9      T 94    ☒ 95   \n",
            "Q 6809-0    T 6809  ☒ 6800 \n",
            "Q 5+2191    T 2196  ☒ 2116 \n",
            "Q 5670+62   T 5732  ☒ 6722 \n",
            "Q 98+28     T 126   ☒ 117  \n",
            "Q 365-8991  T -8626 ☒ -8544\n",
            "Q 561-710   T -149  ☒ -167 \n",
            "Q 744-2270  T -1526 ☒ -1667\n",
            "\n",
            "--------------------------------------------------\n",
            "Iteration 25\n",
            "\u001b[1m280/282\u001b[0m \u001b[32m━━━━━━━━━━━━━━━━━━━\u001b[0m\u001b[37m━\u001b[0m \u001b[1m0s\u001b[0m 8ms/step - accuracy: 0.7467 - loss: 0.6948\n",
            "Epoch 1: val_loss improved from 0.79196 to 0.77708, saving model to best_model.h5\n"
          ]
        },
        {
          "output_type": "stream",
          "name": "stderr",
          "text": [
            "WARNING:absl:You are saving your model as an HDF5 file via `model.save()` or `keras.saving.save_model(model)`. This file format is considered legacy. We recommend using instead the native Keras format, e.g. `model.save('my_model.keras')` or `keras.saving.save_model(model, 'my_model.keras')`. \n"
          ]
        },
        {
          "output_type": "stream",
          "name": "stdout",
          "text": [
            "\b\b\b\b\b\b\b\b\b\b\b\b\b\b\b\b\b\b\b\b\b\b\b\b\b\b\b\b\b\b\b\b\b\b\b\b\b\b\b\b\b\b\b\b\b\b\b\b\b\b\b\b\b\b\b\b\b\b\b\b\b\b\b\b\b\b\b\b\b\b\b\b\b\b\r\u001b[1m282/282\u001b[0m \u001b[32m━━━━━━━━━━━━━━━━━━━━\u001b[0m\u001b[37m\u001b[0m \u001b[1m3s\u001b[0m 10ms/step - accuracy: 0.7467 - loss: 0.6948 - val_accuracy: 0.7057 - val_loss: 0.7771\n",
            "Q 203-2     T 201   ☒ 202  \n",
            "Q 2178+566  T 2744  ☒ 2844 \n",
            "Q 5-7285    T -7280 ☒ -7271\n",
            "Q 7872-558  T 7314  ☒ 7265 \n",
            "Q 384+8837  T 9221  ☑ 9221 \n",
            "Q 485-7     T 478   ☒ 480  \n",
            "Q 8-2462    T -2454 ☒ -2435\n",
            "Q 3475-1    T 3474  ☑ 3474 \n",
            "Q 95-6      T 89    ☑ 89   \n",
            "Q 1467-60   T 1407  ☒ 1498 \n",
            "\n",
            "--------------------------------------------------\n",
            "Iteration 26\n",
            "\u001b[1m279/282\u001b[0m \u001b[32m━━━━━━━━━━━━━━━━━━━\u001b[0m\u001b[37m━\u001b[0m \u001b[1m0s\u001b[0m 7ms/step - accuracy: 0.7534 - loss: 0.6739\n",
            "Epoch 1: val_loss improved from 0.77708 to 0.75846, saving model to best_model.h5\n"
          ]
        },
        {
          "output_type": "stream",
          "name": "stderr",
          "text": [
            "WARNING:absl:You are saving your model as an HDF5 file via `model.save()` or `keras.saving.save_model(model)`. This file format is considered legacy. We recommend using instead the native Keras format, e.g. `model.save('my_model.keras')` or `keras.saving.save_model(model, 'my_model.keras')`. \n"
          ]
        },
        {
          "output_type": "stream",
          "name": "stdout",
          "text": [
            "\b\b\b\b\b\b\b\b\b\b\b\b\b\b\b\b\b\b\b\b\b\b\b\b\b\b\b\b\b\b\b\b\b\b\b\b\b\b\b\b\b\b\b\b\b\b\b\b\b\b\b\b\b\b\b\b\b\b\b\b\b\b\b\b\b\b\b\b\b\b\b\b\b\b\r\u001b[1m282/282\u001b[0m \u001b[32m━━━━━━━━━━━━━━━━━━━━\u001b[0m\u001b[37m\u001b[0m \u001b[1m2s\u001b[0m 8ms/step - accuracy: 0.7534 - loss: 0.6739 - val_accuracy: 0.7138 - val_loss: 0.7585\n",
            "Q 66+63     T 129   ☑ 129  \n",
            "Q 3374-213  T 3161  ☒ 3241 \n",
            "Q 9+5330    T 5339  ☒ 5331 \n",
            "Q 1763-3865 T -2102 ☒ -2599\n",
            "Q 4866-48   T 4818  ☑ 4818 \n",
            "Q 81-7      T 74    ☑ 74   \n",
            "Q 5044+0    T 5044  ☒ 5045 \n",
            "Q 6935-9    T 6926  ☒ 6935 \n",
            "Q 82+9      T 91    ☑ 91   \n",
            "Q 0+9957    T 9957  ☒ 9956 \n",
            "\n",
            "--------------------------------------------------\n",
            "Iteration 27\n",
            "\u001b[1m279/282\u001b[0m \u001b[32m━━━━━━━━━━━━━━━━━━━\u001b[0m\u001b[37m━\u001b[0m \u001b[1m0s\u001b[0m 7ms/step - accuracy: 0.7601 - loss: 0.6570\n",
            "Epoch 1: val_loss did not improve from 0.75846\n",
            "\u001b[1m282/282\u001b[0m \u001b[32m━━━━━━━━━━━━━━━━━━━━\u001b[0m\u001b[37m\u001b[0m \u001b[1m2s\u001b[0m 8ms/step - accuracy: 0.7601 - loss: 0.6570 - val_accuracy: 0.7084 - val_loss: 0.7746\n",
            "Q 43+7968   T 8011  ☒ 7924 \n",
            "Q 5-9252    T -9247 ☑ -9247\n",
            "Q 582-259   T 323   ☒ 276  \n",
            "Q 16+52     T 68    ☒ 77   \n",
            "Q 1792+205  T 1997  ☒ 1918 \n",
            "Q 880-8     T 872   ☑ 872  \n",
            "Q 5664-989  T 4675  ☒ 4766 \n",
            "Q 606+29    T 635   ☒ 637  \n",
            "Q 7115+4831 T 11946 ☒ 11556\n",
            "Q 4298+3865 T 8163  ☒ 8335 \n",
            "\n",
            "--------------------------------------------------\n",
            "Iteration 28\n",
            "\u001b[1m282/282\u001b[0m \u001b[32m━━━━━━━━━━━━━━━━━━━━\u001b[0m\u001b[37m\u001b[0m \u001b[1m0s\u001b[0m 8ms/step - accuracy: 0.7682 - loss: 0.6375\n",
            "Epoch 1: val_loss did not improve from 0.75846\n",
            "\u001b[1m282/282\u001b[0m \u001b[32m━━━━━━━━━━━━━━━━━━━━\u001b[0m\u001b[37m\u001b[0m \u001b[1m3s\u001b[0m 10ms/step - accuracy: 0.7682 - loss: 0.6375 - val_accuracy: 0.7142 - val_loss: 0.7590\n",
            "Q 417+2     T 419   ☑ 419  \n",
            "Q 8417-11   T 8406  ☒ 8410 \n",
            "Q 50-788    T -738  ☒ -729 \n",
            "Q 328+88    T 416   ☑ 416  \n",
            "Q 743+826   T 1569  ☒ 1688 \n",
            "Q 4200-81   T 4119  ☒ 4110 \n",
            "Q 6-548     T -542  ☑ -542 \n",
            "Q 882+3768  T 4650  ☒ 4555 \n",
            "Q 82+7090   T 7172  ☒ 7180 \n",
            "Q 73+55     T 128   ☒ 127  \n",
            "\n",
            "--------------------------------------------------\n",
            "Iteration 29\n",
            "\u001b[1m281/282\u001b[0m \u001b[32m━━━━━━━━━━━━━━━━━━━\u001b[0m\u001b[37m━\u001b[0m \u001b[1m0s\u001b[0m 9ms/step - accuracy: 0.7755 - loss: 0.6191\n",
            "Epoch 1: val_loss improved from 0.75846 to 0.72556, saving model to best_model.h5\n"
          ]
        },
        {
          "output_type": "stream",
          "name": "stderr",
          "text": [
            "WARNING:absl:You are saving your model as an HDF5 file via `model.save()` or `keras.saving.save_model(model)`. This file format is considered legacy. We recommend using instead the native Keras format, e.g. `model.save('my_model.keras')` or `keras.saving.save_model(model, 'my_model.keras')`. \n"
          ]
        },
        {
          "output_type": "stream",
          "name": "stdout",
          "text": [
            "\b\b\b\b\b\b\b\b\b\b\b\b\b\b\b\b\b\b\b\b\b\b\b\b\b\b\b\b\b\b\b\b\b\b\b\b\b\b\b\b\b\b\b\b\b\b\b\b\b\b\b\b\b\b\b\b\b\b\b\b\b\b\b\b\b\b\b\b\b\b\b\b\b\b\r\u001b[1m282/282\u001b[0m \u001b[32m━━━━━━━━━━━━━━━━━━━━\u001b[0m\u001b[37m\u001b[0m \u001b[1m3s\u001b[0m 10ms/step - accuracy: 0.7755 - loss: 0.6191 - val_accuracy: 0.7249 - val_loss: 0.7256\n",
            "Q 14+13     T 27    ☑ 27   \n",
            "Q 3401-95   T 3306  ☒ 3024 \n",
            "Q 36-386    T -350  ☒ -353 \n",
            "Q 6949-79   T 6870  ☒ 6822 \n",
            "Q 7907+8    T 7915  ☒ 7906 \n",
            "Q 238+21    T 259   ☒ 251  \n",
            "Q 96-572    T -476  ☒ -465 \n",
            "Q 43-4399   T -4356 ☒ -4355\n",
            "Q 2+48      T 50    ☒ 40   \n",
            "Q 97-50     T 47    ☒ 95   \n",
            "\n",
            "--------------------------------------------------\n",
            "Iteration 30\n",
            "\u001b[1m278/282\u001b[0m \u001b[32m━━━━━━━━━━━━━━━━━━━\u001b[0m\u001b[37m━\u001b[0m \u001b[1m0s\u001b[0m 7ms/step - accuracy: 0.7831 - loss: 0.6034\n",
            "Epoch 1: val_loss did not improve from 0.72556\n",
            "\u001b[1m282/282\u001b[0m \u001b[32m━━━━━━━━━━━━━━━━━━━━\u001b[0m\u001b[37m\u001b[0m \u001b[1m2s\u001b[0m 8ms/step - accuracy: 0.7830 - loss: 0.6035 - val_accuracy: 0.7244 - val_loss: 0.7290\n",
            "Q 432-29    T 403   ☒ 392  \n",
            "Q 22-6106   T -6084 ☒ -6085\n",
            "Q 12-3      T 9     ☑ 9    \n",
            "Q 54+8532   T 8586  ☒ 8507 \n",
            "Q 7058-4    T 7054  ☒ 7061 \n",
            "Q 2263-1058 T 1205  ☒ 156  \n",
            "Q 9+5330    T 5339  ☒ 5340 \n",
            "Q 931-9     T 922   ☒ 923  \n",
            "Q 56-77     T -21   ☒ -22  \n",
            "Q 563-7     T 556   ☒ 546  \n",
            "\n",
            "--------------------------------------------------\n",
            "Iteration 31\n",
            "\u001b[1m275/282\u001b[0m \u001b[32m━━━━━━━━━━━━━━━━━━━\u001b[0m\u001b[37m━\u001b[0m \u001b[1m0s\u001b[0m 7ms/step - accuracy: 0.7873 - loss: 0.5889\n",
            "Epoch 1: val_loss improved from 0.72556 to 0.70982, saving model to best_model.h5\n"
          ]
        },
        {
          "output_type": "stream",
          "name": "stderr",
          "text": [
            "WARNING:absl:You are saving your model as an HDF5 file via `model.save()` or `keras.saving.save_model(model)`. This file format is considered legacy. We recommend using instead the native Keras format, e.g. `model.save('my_model.keras')` or `keras.saving.save_model(model, 'my_model.keras')`. \n"
          ]
        },
        {
          "output_type": "stream",
          "name": "stdout",
          "text": [
            "\b\b\b\b\b\b\b\b\b\b\b\b\b\b\b\b\b\b\b\b\b\b\b\b\b\b\b\b\b\b\b\b\b\b\b\b\b\b\b\b\b\b\b\b\b\b\b\b\b\b\b\b\b\b\b\b\b\b\b\b\b\b\b\b\b\b\b\b\b\b\b\b\b\b\r\u001b[1m282/282\u001b[0m \u001b[32m━━━━━━━━━━━━━━━━━━━━\u001b[0m\u001b[37m\u001b[0m \u001b[1m2s\u001b[0m 8ms/step - accuracy: 0.7873 - loss: 0.5889 - val_accuracy: 0.7298 - val_loss: 0.7098\n",
            "Q 9975+2149 T 12124 ☒ 11077\n",
            "Q 11-2      T 9     ☑ 9    \n",
            "Q 7-7824    T -7817 ☑ -7817\n",
            "Q 911+9     T 920   ☒ 910  \n",
            "Q 633-412   T 221   ☒ 391  \n",
            "Q 21+531    T 552   ☒ 543  \n",
            "Q 512+7     T 519   ☒ 518  \n",
            "Q 0-2210    T -2210 ☒ -2211\n",
            "Q 866+29    T 895   ☑ 895  \n",
            "Q 459+1460  T 1919  ☒ 1086 \n",
            "\n",
            "--------------------------------------------------\n",
            "Iteration 32\n",
            "\u001b[1m282/282\u001b[0m \u001b[32m━━━━━━━━━━━━━━━━━━━━\u001b[0m\u001b[37m\u001b[0m \u001b[1m0s\u001b[0m 8ms/step - accuracy: 0.7964 - loss: 0.5670\n",
            "Epoch 1: val_loss improved from 0.70982 to 0.69729, saving model to best_model.h5\n"
          ]
        },
        {
          "output_type": "stream",
          "name": "stderr",
          "text": [
            "WARNING:absl:You are saving your model as an HDF5 file via `model.save()` or `keras.saving.save_model(model)`. This file format is considered legacy. We recommend using instead the native Keras format, e.g. `model.save('my_model.keras')` or `keras.saving.save_model(model, 'my_model.keras')`. \n"
          ]
        },
        {
          "output_type": "stream",
          "name": "stdout",
          "text": [
            "\b\b\b\b\b\b\b\b\b\b\b\b\b\b\b\b\b\b\b\b\b\b\b\b\b\b\b\b\b\b\b\b\b\b\b\b\b\b\b\b\b\b\b\b\b\b\b\b\b\b\b\b\b\b\b\b\b\b\b\b\b\b\b\b\b\b\b\b\b\b\b\b\b\b\r\u001b[1m282/282\u001b[0m \u001b[32m━━━━━━━━━━━━━━━━━━━━\u001b[0m\u001b[37m\u001b[0m \u001b[1m3s\u001b[0m 9ms/step - accuracy: 0.7964 - loss: 0.5670 - val_accuracy: 0.7357 - val_loss: 0.6973\n",
            "Q 797+93    T 890   ☒ 886  \n",
            "Q 8-609     T -601  ☑ -601 \n",
            "Q 3344+499  T 3843  ☒ 3833 \n",
            "Q 0-7558    T -7558 ☒ -5585\n",
            "Q 110-9     T 101   ☒ 103  \n",
            "Q 2038-3    T 2035  ☒ 2033 \n",
            "Q 61+187    T 248   ☒ 249  \n",
            "Q 17-888    T -871  ☒ -870 \n",
            "Q 7-462     T -455  ☑ -455 \n",
            "Q 93-85     T 8     ☒ -9   \n",
            "\n",
            "--------------------------------------------------\n",
            "Iteration 33\n",
            "\u001b[1m276/282\u001b[0m \u001b[32m━━━━━━━━━━━━━━━━━━━\u001b[0m\u001b[37m━\u001b[0m \u001b[1m0s\u001b[0m 10ms/step - accuracy: 0.8019 - loss: 0.5510\n",
            "Epoch 1: val_loss improved from 0.69729 to 0.69518, saving model to best_model.h5\n"
          ]
        },
        {
          "output_type": "stream",
          "name": "stderr",
          "text": [
            "WARNING:absl:You are saving your model as an HDF5 file via `model.save()` or `keras.saving.save_model(model)`. This file format is considered legacy. We recommend using instead the native Keras format, e.g. `model.save('my_model.keras')` or `keras.saving.save_model(model, 'my_model.keras')`. \n"
          ]
        },
        {
          "output_type": "stream",
          "name": "stdout",
          "text": [
            "\b\b\b\b\b\b\b\b\b\b\b\b\b\b\b\b\b\b\b\b\b\b\b\b\b\b\b\b\b\b\b\b\b\b\b\b\b\b\b\b\b\b\b\b\b\b\b\b\b\b\b\b\b\b\b\b\b\b\b\b\b\b\b\b\b\b\b\b\b\b\b\b\b\b\b\r\u001b[1m282/282\u001b[0m \u001b[32m━━━━━━━━━━━━━━━━━━━━\u001b[0m\u001b[37m\u001b[0m \u001b[1m3s\u001b[0m 10ms/step - accuracy: 0.8018 - loss: 0.5511 - val_accuracy: 0.7401 - val_loss: 0.6952\n",
            "Q 40+5704   T 5744  ☒ 5745 \n",
            "Q 440+729   T 1169  ☒ 1131 \n",
            "Q 211-79    T 132   ☒ 11   \n",
            "Q 30+32     T 62    ☒ 63   \n",
            "Q 745+3308  T 4053  ☒ 4915 \n",
            "Q 50-3506   T -3456 ☒ -3455\n",
            "Q 5986+517  T 6503  ☒ 6002 \n",
            "Q 9365-1065 T 8300  ☒ 8271 \n",
            "Q 1324-2    T 1322  ☒ 1321 \n",
            "Q 415+4     T 419   ☑ 419  \n",
            "\n",
            "--------------------------------------------------\n",
            "Iteration 34\n",
            "\u001b[1m279/282\u001b[0m \u001b[32m━━━━━━━━━━━━━━━━━━━\u001b[0m\u001b[37m━\u001b[0m \u001b[1m0s\u001b[0m 7ms/step - accuracy: 0.8056 - loss: 0.5426\n",
            "Epoch 1: val_loss improved from 0.69518 to 0.68126, saving model to best_model.h5\n"
          ]
        },
        {
          "output_type": "stream",
          "name": "stderr",
          "text": [
            "WARNING:absl:You are saving your model as an HDF5 file via `model.save()` or `keras.saving.save_model(model)`. This file format is considered legacy. We recommend using instead the native Keras format, e.g. `model.save('my_model.keras')` or `keras.saving.save_model(model, 'my_model.keras')`. \n"
          ]
        },
        {
          "output_type": "stream",
          "name": "stdout",
          "text": [
            "\b\b\b\b\b\b\b\b\b\b\b\b\b\b\b\b\b\b\b\b\b\b\b\b\b\b\b\b\b\b\b\b\b\b\b\b\b\b\b\b\b\b\b\b\b\b\b\b\b\b\b\b\b\b\b\b\b\b\b\b\b\b\b\b\b\b\b\b\b\b\b\b\b\b\r\u001b[1m282/282\u001b[0m \u001b[32m━━━━━━━━━━━━━━━━━━━━\u001b[0m\u001b[37m\u001b[0m \u001b[1m2s\u001b[0m 8ms/step - accuracy: 0.8056 - loss: 0.5426 - val_accuracy: 0.7463 - val_loss: 0.6813\n",
            "Q 4-2155    T -2151 ☒ -2152\n",
            "Q 9908-14   T 9894  ☒ 9864 \n",
            "Q 0-6288    T -6288 ☑ -6288\n",
            "Q 85+7      T 92    ☑ 92   \n",
            "Q 51+4966   T 5017  ☒ 5979 \n",
            "Q 2+378     T 380   ☑ 380  \n",
            "Q 1952+83   T 2035  ☒ 2046 \n",
            "Q 5-5400    T -5395 ☒ -5405\n",
            "Q 9970+178  T 10148 ☒ 10077\n",
            "Q 245-728   T -483  ☒ -434 \n",
            "\n",
            "--------------------------------------------------\n",
            "Iteration 35\n",
            "\u001b[1m277/282\u001b[0m \u001b[32m━━━━━━━━━━━━━━━━━━━\u001b[0m\u001b[37m━\u001b[0m \u001b[1m0s\u001b[0m 7ms/step - accuracy: 0.8156 - loss: 0.5212\n",
            "Epoch 1: val_loss improved from 0.68126 to 0.67613, saving model to best_model.h5\n"
          ]
        },
        {
          "output_type": "stream",
          "name": "stderr",
          "text": [
            "WARNING:absl:You are saving your model as an HDF5 file via `model.save()` or `keras.saving.save_model(model)`. This file format is considered legacy. We recommend using instead the native Keras format, e.g. `model.save('my_model.keras')` or `keras.saving.save_model(model, 'my_model.keras')`. \n"
          ]
        },
        {
          "output_type": "stream",
          "name": "stdout",
          "text": [
            "\b\b\b\b\b\b\b\b\b\b\b\b\b\b\b\b\b\b\b\b\b\b\b\b\b\b\b\b\b\b\b\b\b\b\b\b\b\b\b\b\b\b\b\b\b\b\b\b\b\b\b\b\b\b\b\b\b\b\b\b\b\b\b\b\b\b\b\b\b\b\b\b\b\b\r\u001b[1m282/282\u001b[0m \u001b[32m━━━━━━━━━━━━━━━━━━━━\u001b[0m\u001b[37m\u001b[0m \u001b[1m2s\u001b[0m 8ms/step - accuracy: 0.8155 - loss: 0.5213 - val_accuracy: 0.7464 - val_loss: 0.6761\n",
            "Q 2754-294  T 2460  ☒ 2130 \n",
            "Q 764+9095  T 9859  ☒ 9812 \n",
            "Q 890-9014  T -8124 ☒ -8105\n",
            "Q 289+5723  T 6012  ☒ 5111 \n",
            "Q 671-30    T 641   ☒ 620  \n",
            "Q 643+4     T 647   ☑ 647  \n",
            "Q 488+1     T 489   ☑ 489  \n",
            "Q 65+5778   T 5843  ☑ 5843 \n",
            "Q 9-40      T -31   ☑ -31  \n",
            "Q 591+7578  T 8169  ☒ 8068 \n",
            "\n",
            "--------------------------------------------------\n",
            "Iteration 36\n",
            "\u001b[1m279/282\u001b[0m \u001b[32m━━━━━━━━━━━━━━━━━━━\u001b[0m\u001b[37m━\u001b[0m \u001b[1m0s\u001b[0m 11ms/step - accuracy: 0.8206 - loss: 0.5057\n",
            "Epoch 1: val_loss improved from 0.67613 to 0.65928, saving model to best_model.h5\n"
          ]
        },
        {
          "output_type": "stream",
          "name": "stderr",
          "text": [
            "WARNING:absl:You are saving your model as an HDF5 file via `model.save()` or `keras.saving.save_model(model)`. This file format is considered legacy. We recommend using instead the native Keras format, e.g. `model.save('my_model.keras')` or `keras.saving.save_model(model, 'my_model.keras')`. \n"
          ]
        },
        {
          "output_type": "stream",
          "name": "stdout",
          "text": [
            "\b\b\b\b\b\b\b\b\b\b\b\b\b\b\b\b\b\b\b\b\b\b\b\b\b\b\b\b\b\b\b\b\b\b\b\b\b\b\b\b\b\b\b\b\b\b\b\b\b\b\b\b\b\b\b\b\b\b\b\b\b\b\b\b\b\b\b\b\b\b\b\b\b\b\b\r\u001b[1m282/282\u001b[0m \u001b[32m━━━━━━━━━━━━━━━━━━━━\u001b[0m\u001b[37m\u001b[0m \u001b[1m3s\u001b[0m 11ms/step - accuracy: 0.8205 - loss: 0.5057 - val_accuracy: 0.7529 - val_loss: 0.6593\n",
            "Q 567-492   T 75    ☒ -85  \n",
            "Q 298+1351  T 1649  ☒ 1888 \n",
            "Q 73-37     T 36    ☒ 34   \n",
            "Q 861+5     T 866   ☒ 867  \n",
            "Q 897+85    T 982   ☒ 192  \n",
            "Q 7+3079    T 3086  ☑ 3086 \n",
            "Q 53-988    T -935  ☒ -944 \n",
            "Q 2482-8564 T -6082 ☒ -6167\n",
            "Q 2+52      T 54    ☑ 54   \n",
            "Q 4+4975    T 4979  ☒ 4989 \n",
            "\n",
            "--------------------------------------------------\n",
            "Iteration 37\n",
            "\u001b[1m280/282\u001b[0m \u001b[32m━━━━━━━━━━━━━━━━━━━\u001b[0m\u001b[37m━\u001b[0m \u001b[1m0s\u001b[0m 7ms/step - accuracy: 0.8270 - loss: 0.4898\n",
            "Epoch 1: val_loss improved from 0.65928 to 0.65140, saving model to best_model.h5\n"
          ]
        },
        {
          "output_type": "stream",
          "name": "stderr",
          "text": [
            "WARNING:absl:You are saving your model as an HDF5 file via `model.save()` or `keras.saving.save_model(model)`. This file format is considered legacy. We recommend using instead the native Keras format, e.g. `model.save('my_model.keras')` or `keras.saving.save_model(model, 'my_model.keras')`. \n"
          ]
        },
        {
          "output_type": "stream",
          "name": "stdout",
          "text": [
            "\b\b\b\b\b\b\b\b\b\b\b\b\b\b\b\b\b\b\b\b\b\b\b\b\b\b\b\b\b\b\b\b\b\b\b\b\b\b\b\b\b\b\b\b\b\b\b\b\b\b\b\b\b\b\b\b\b\b\b\b\b\b\b\b\b\b\b\b\b\b\b\b\b\b\r\u001b[1m282/282\u001b[0m \u001b[32m━━━━━━━━━━━━━━━━━━━━\u001b[0m\u001b[37m\u001b[0m \u001b[1m2s\u001b[0m 8ms/step - accuracy: 0.8270 - loss: 0.4899 - val_accuracy: 0.7594 - val_loss: 0.6514\n",
            "Q 614+4     T 618   ☑ 618  \n",
            "Q 7999+6928 T 14927 ☒ 17000\n",
            "Q 37+58     T 95    ☒ 85   \n",
            "Q 574-304   T 270   ☒ 391  \n",
            "Q 74+5376   T 5450  ☒ 5420 \n",
            "Q 2070-194  T 1876  ☒ 1945 \n",
            "Q 929+18    T 947   ☒ 937  \n",
            "Q 9-6697    T -6688 ☑ -6688\n",
            "Q 366+72    T 438   ☒ 418  \n",
            "Q 781+6     T 787   ☒ 776  \n",
            "\n",
            "--------------------------------------------------\n",
            "Iteration 38\n",
            "\u001b[1m281/282\u001b[0m \u001b[32m━━━━━━━━━━━━━━━━━━━\u001b[0m\u001b[37m━\u001b[0m \u001b[1m0s\u001b[0m 7ms/step - accuracy: 0.8329 - loss: 0.4751\n",
            "Epoch 1: val_loss did not improve from 0.65140\n",
            "\u001b[1m282/282\u001b[0m \u001b[32m━━━━━━━━━━━━━━━━━━━━\u001b[0m\u001b[37m\u001b[0m \u001b[1m2s\u001b[0m 8ms/step - accuracy: 0.8328 - loss: 0.4751 - val_accuracy: 0.7561 - val_loss: 0.6624\n",
            "Q 882+3768  T 4650  ☒ 4655 \n",
            "Q 388-349   T 39    ☒ 19   \n",
            "Q 4620+1938 T 6558  ☒ 6701 \n",
            "Q 8+673     T 681   ☒ 680  \n",
            "Q 48+77     T 125   ☑ 125  \n",
            "Q 5-5400    T -5395 ☒ -5494\n",
            "Q 8279+5986 T 14265 ☒ 14776\n",
            "Q 5-842     T -837  ☒ -827 \n",
            "Q 91+86     T 177   ☑ 177  \n",
            "Q 3793+7538 T 11331 ☒ 11012\n",
            "\n",
            "--------------------------------------------------\n",
            "Iteration 39\n",
            "\u001b[1m282/282\u001b[0m \u001b[32m━━━━━━━━━━━━━━━━━━━━\u001b[0m\u001b[37m\u001b[0m \u001b[1m0s\u001b[0m 10ms/step - accuracy: 0.8408 - loss: 0.4591\n",
            "Epoch 1: val_loss did not improve from 0.65140\n",
            "\u001b[1m282/282\u001b[0m \u001b[32m━━━━━━━━━━━━━━━━━━━━\u001b[0m\u001b[37m\u001b[0m \u001b[1m3s\u001b[0m 11ms/step - accuracy: 0.8408 - loss: 0.4591 - val_accuracy: 0.7569 - val_loss: 0.6569\n",
            "Q 473-6872  T -6399 ☒ -6500\n",
            "Q 6201+239  T 6440  ☒ 6330 \n",
            "Q 0+51      T 51    ☑ 51   \n",
            "Q 58-2325   T -2267 ☒ -2376\n",
            "Q 896-20    T 876   ☒ 878  \n",
            "Q 436-7     T 429   ☑ 429  \n",
            "Q 3-641     T -638  ☑ -638 \n",
            "Q 0-942     T -942  ☑ -942 \n",
            "Q 42-9168   T -9126 ☒ -9144\n",
            "Q 642+1820  T 2462  ☒ 2342 \n",
            "\n",
            "--------------------------------------------------\n",
            "Iteration 40\n",
            "\u001b[1m281/282\u001b[0m \u001b[32m━━━━━━━━━━━━━━━━━━━\u001b[0m\u001b[37m━\u001b[0m \u001b[1m0s\u001b[0m 7ms/step - accuracy: 0.8444 - loss: 0.4481\n",
            "Epoch 1: val_loss improved from 0.65140 to 0.62957, saving model to best_model.h5\n"
          ]
        },
        {
          "output_type": "stream",
          "name": "stderr",
          "text": [
            "WARNING:absl:You are saving your model as an HDF5 file via `model.save()` or `keras.saving.save_model(model)`. This file format is considered legacy. We recommend using instead the native Keras format, e.g. `model.save('my_model.keras')` or `keras.saving.save_model(model, 'my_model.keras')`. \n"
          ]
        },
        {
          "output_type": "stream",
          "name": "stdout",
          "text": [
            "\b\b\b\b\b\b\b\b\b\b\b\b\b\b\b\b\b\b\b\b\b\b\b\b\b\b\b\b\b\b\b\b\b\b\b\b\b\b\b\b\b\b\b\b\b\b\b\b\b\b\b\b\b\b\b\b\b\b\b\b\b\b\b\b\b\b\b\b\b\b\b\b\b\b\r\u001b[1m282/282\u001b[0m \u001b[32m━━━━━━━━━━━━━━━━━━━━\u001b[0m\u001b[37m\u001b[0m \u001b[1m2s\u001b[0m 8ms/step - accuracy: 0.8443 - loss: 0.4482 - val_accuracy: 0.7669 - val_loss: 0.6296\n",
            "Q 180-1     T 179   ☒ 189  \n",
            "Q 94+623    T 717   ☒ 727  \n",
            "Q 50+3161   T 3211  ☒ 3221 \n",
            "Q 6595-9    T 6586  ☒ 6585 \n",
            "Q 5003-7252 T -2249 ☒ -2727\n",
            "Q 6197+18   T 6215  ☒ 6205 \n",
            "Q 727+65    T 792   ☒ 791  \n",
            "Q 6437+4326 T 10763 ☒ 10043\n",
            "Q 773+8572  T 9345  ☒ 9635 \n",
            "Q 95-1909   T -1814 ☒ -1854\n",
            "\n",
            "--------------------------------------------------\n",
            "Iteration 41\n",
            "\u001b[1m280/282\u001b[0m \u001b[32m━━━━━━━━━━━━━━━━━━━\u001b[0m\u001b[37m━\u001b[0m \u001b[1m0s\u001b[0m 7ms/step - accuracy: 0.8473 - loss: 0.4388\n",
            "Epoch 1: val_loss did not improve from 0.62957\n",
            "\u001b[1m282/282\u001b[0m \u001b[32m━━━━━━━━━━━━━━━━━━━━\u001b[0m\u001b[37m\u001b[0m \u001b[1m2s\u001b[0m 8ms/step - accuracy: 0.8472 - loss: 0.4389 - val_accuracy: 0.7663 - val_loss: 0.6417\n",
            "Q 9888+6    T 9894  ☑ 9894 \n",
            "Q 86+0      T 86    ☑ 86   \n",
            "Q 32-764    T -732  ☒ -741 \n",
            "Q 295+94    T 389   ☑ 389  \n",
            "Q 9+531     T 540   ☑ 540  \n",
            "Q 922+7     T 929   ☑ 929  \n",
            "Q 6940-5    T 6935  ☒ 6945 \n",
            "Q 55-74     T -19   ☒ -29  \n",
            "Q 2431-290  T 2141  ☒ 2921 \n",
            "Q 5098+3219 T 8317  ☒ 8538 \n",
            "\n",
            "--------------------------------------------------\n",
            "Iteration 42\n",
            "\u001b[1m280/282\u001b[0m \u001b[32m━━━━━━━━━━━━━━━━━━━\u001b[0m\u001b[37m━\u001b[0m \u001b[1m0s\u001b[0m 7ms/step - accuracy: 0.8520 - loss: 0.4253\n",
            "Epoch 1: val_loss improved from 0.62957 to 0.62566, saving model to best_model.h5\n"
          ]
        },
        {
          "output_type": "stream",
          "name": "stderr",
          "text": [
            "WARNING:absl:You are saving your model as an HDF5 file via `model.save()` or `keras.saving.save_model(model)`. This file format is considered legacy. We recommend using instead the native Keras format, e.g. `model.save('my_model.keras')` or `keras.saving.save_model(model, 'my_model.keras')`. \n"
          ]
        },
        {
          "output_type": "stream",
          "name": "stdout",
          "text": [
            "\b\b\b\b\b\b\b\b\b\b\b\b\b\b\b\b\b\b\b\b\b\b\b\b\b\b\b\b\b\b\b\b\b\b\b\b\b\b\b\b\b\b\b\b\b\b\b\b\b\b\b\b\b\b\b\b\b\b\b\b\b\b\b\b\b\b\b\b\b\b\b\b\b\b\r\u001b[1m282/282\u001b[0m \u001b[32m━━━━━━━━━━━━━━━━━━━━\u001b[0m\u001b[37m\u001b[0m \u001b[1m2s\u001b[0m 9ms/step - accuracy: 0.8520 - loss: 0.4254 - val_accuracy: 0.7703 - val_loss: 0.6257\n",
            "Q 113-5889  T -5776 ☒ -5766\n",
            "Q 48-4891   T -4843 ☒ -4853\n",
            "Q 8417-11   T 8406  ☒ 8415 \n",
            "Q 70-36     T 34    ☒ 36   \n",
            "Q 0-1684    T -1684 ☒ -1864\n",
            "Q 5375+55   T 5430  ☒ 5400 \n",
            "Q 55+49     T 104   ☒ 103  \n",
            "Q 7-2682    T -2675 ☒ -2685\n",
            "Q 6353-57   T 6296  ☒ 6387 \n",
            "Q 7405+16   T 7421  ☒ 7450 \n",
            "\n",
            "--------------------------------------------------\n",
            "Iteration 43\n",
            "\u001b[1m282/282\u001b[0m \u001b[32m━━━━━━━━━━━━━━━━━━━━\u001b[0m\u001b[37m\u001b[0m \u001b[1m0s\u001b[0m 9ms/step - accuracy: 0.8611 - loss: 0.4074\n",
            "Epoch 1: val_loss improved from 0.62566 to 0.60981, saving model to best_model.h5\n"
          ]
        },
        {
          "output_type": "stream",
          "name": "stderr",
          "text": [
            "WARNING:absl:You are saving your model as an HDF5 file via `model.save()` or `keras.saving.save_model(model)`. This file format is considered legacy. We recommend using instead the native Keras format, e.g. `model.save('my_model.keras')` or `keras.saving.save_model(model, 'my_model.keras')`. \n"
          ]
        },
        {
          "output_type": "stream",
          "name": "stdout",
          "text": [
            "\b\b\b\b\b\b\b\b\b\b\b\b\b\b\b\b\b\b\b\b\b\b\b\b\b\b\b\b\b\b\b\b\b\b\b\b\b\b\b\b\b\b\b\b\b\b\b\b\b\b\b\b\b\b\b\b\b\b\b\b\b\b\b\b\b\b\b\b\b\b\b\b\b\b\r\u001b[1m282/282\u001b[0m \u001b[32m━━━━━━━━━━━━━━━━━━━━\u001b[0m\u001b[37m\u001b[0m \u001b[1m3s\u001b[0m 10ms/step - accuracy: 0.8611 - loss: 0.4074 - val_accuracy: 0.7743 - val_loss: 0.6098\n",
            "Q 45-57     T -12   ☑ -12  \n",
            "Q 4061-5941 T -1880 ☒ -591 \n",
            "Q 738+615   T 1353  ☒ 1383 \n",
            "Q 687-88    T 599   ☒ 509  \n",
            "Q 5+406     T 411   ☒ 412  \n",
            "Q 226+0     T 226   ☑ 226  \n",
            "Q 9616-17   T 9599  ☒ 9619 \n",
            "Q 73-87     T -14   ☑ -14  \n",
            "Q 480-6     T 474   ☑ 474  \n",
            "Q 52-43     T 9     ☒ 1    \n",
            "\n",
            "--------------------------------------------------\n",
            "Iteration 44\n",
            "\u001b[1m281/282\u001b[0m \u001b[32m━━━━━━━━━━━━━━━━━━━\u001b[0m\u001b[37m━\u001b[0m \u001b[1m0s\u001b[0m 7ms/step - accuracy: 0.8659 - loss: 0.3946\n",
            "Epoch 1: val_loss did not improve from 0.60981\n",
            "\u001b[1m282/282\u001b[0m \u001b[32m━━━━━━━━━━━━━━━━━━━━\u001b[0m\u001b[37m\u001b[0m \u001b[1m2s\u001b[0m 8ms/step - accuracy: 0.8659 - loss: 0.3946 - val_accuracy: 0.7767 - val_loss: 0.6106\n",
            "Q 842-3     T 839   ☒ 849  \n",
            "Q 8273-2    T 8271  ☑ 8271 \n",
            "Q 576-8     T 568   ☒ 579  \n",
            "Q 8643+6135 T 14778 ☒ 14888\n",
            "Q 7-709     T -702  ☑ -702 \n",
            "Q 70+679    T 749   ☒ 739  \n",
            "Q 4267+7    T 4274  ☒ 4264 \n",
            "Q 235+11    T 246   ☒ 247  \n",
            "Q 20-523    T -503  ☒ -402 \n",
            "Q 3979-81   T 3898  ☒ 3800 \n",
            "\n",
            "--------------------------------------------------\n",
            "Iteration 45\n",
            "\u001b[1m279/282\u001b[0m \u001b[32m━━━━━━━━━━━━━━━━━━━\u001b[0m\u001b[37m━\u001b[0m \u001b[1m0s\u001b[0m 7ms/step - accuracy: 0.8692 - loss: 0.3878\n",
            "Epoch 1: val_loss improved from 0.60981 to 0.60865, saving model to best_model.h5\n"
          ]
        },
        {
          "output_type": "stream",
          "name": "stderr",
          "text": [
            "WARNING:absl:You are saving your model as an HDF5 file via `model.save()` or `keras.saving.save_model(model)`. This file format is considered legacy. We recommend using instead the native Keras format, e.g. `model.save('my_model.keras')` or `keras.saving.save_model(model, 'my_model.keras')`. \n"
          ]
        },
        {
          "output_type": "stream",
          "name": "stdout",
          "text": [
            "\b\b\b\b\b\b\b\b\b\b\b\b\b\b\b\b\b\b\b\b\b\b\b\b\b\b\b\b\b\b\b\b\b\b\b\b\b\b\b\b\b\b\b\b\b\b\b\b\b\b\b\b\b\b\b\b\b\b\b\b\b\b\b\b\b\b\b\b\b\b\b\b\b\b\r\u001b[1m282/282\u001b[0m \u001b[32m━━━━━━━━━━━━━━━━━━━━\u001b[0m\u001b[37m\u001b[0m \u001b[1m2s\u001b[0m 8ms/step - accuracy: 0.8692 - loss: 0.3878 - val_accuracy: 0.7767 - val_loss: 0.6087\n",
            "Q 9645+9979 T 19624 ☒ 18544\n",
            "Q 5+710     T 715   ☑ 715  \n",
            "Q 6-73      T -67   ☒ -66  \n",
            "Q 1763-3865 T -2102 ☒ -2799\n",
            "Q 62+95     T 157   ☒ 156  \n",
            "Q 1178+0    T 1178  ☒ 1177 \n",
            "Q 5027-41   T 4986  ☒ 4976 \n",
            "Q 1400-0    T 1400  ☒ 1000 \n",
            "Q 59-51     T 8     ☒ 1    \n",
            "Q 9501+661  T 10162 ☒ 10002\n",
            "\n",
            "--------------------------------------------------\n",
            "Iteration 46\n",
            "\u001b[1m280/282\u001b[0m \u001b[32m━━━━━━━━━━━━━━━━━━━\u001b[0m\u001b[37m━\u001b[0m \u001b[1m0s\u001b[0m 7ms/step - accuracy: 0.8772 - loss: 0.3693\n",
            "Epoch 1: val_loss improved from 0.60865 to 0.60848, saving model to best_model.h5\n"
          ]
        },
        {
          "output_type": "stream",
          "name": "stderr",
          "text": [
            "WARNING:absl:You are saving your model as an HDF5 file via `model.save()` or `keras.saving.save_model(model)`. This file format is considered legacy. We recommend using instead the native Keras format, e.g. `model.save('my_model.keras')` or `keras.saving.save_model(model, 'my_model.keras')`. \n"
          ]
        },
        {
          "output_type": "stream",
          "name": "stdout",
          "text": [
            "\b\b\b\b\b\b\b\b\b\b\b\b\b\b\b\b\b\b\b\b\b\b\b\b\b\b\b\b\b\b\b\b\b\b\b\b\b\b\b\b\b\b\b\b\b\b\b\b\b\b\b\b\b\b\b\b\b\b\b\b\b\b\b\b\b\b\b\b\b\b\b\b\b\b\r\u001b[1m282/282\u001b[0m \u001b[32m━━━━━━━━━━━━━━━━━━━━\u001b[0m\u001b[37m\u001b[0m \u001b[1m3s\u001b[0m 9ms/step - accuracy: 0.8772 - loss: 0.3694 - val_accuracy: 0.7787 - val_loss: 0.6085\n",
            "Q 3+117     T 120   ☑ 120  \n",
            "Q 84-5163   T -5079 ☒ -5092\n",
            "Q 887-9     T 878   ☑ 878  \n",
            "Q 9+1658    T 1667  ☑ 1667 \n",
            "Q 1241-7387 T -6146 ☒ -5066\n",
            "Q 86-3253   T -3167 ☒ -3157\n",
            "Q 81-6      T 75    ☒ 74   \n",
            "Q 2-9489    T -9487 ☑ -9487\n",
            "Q 1+5976    T 5977  ☒ 5577 \n",
            "Q 5664-989  T 4675  ☒ 4667 \n",
            "\n",
            "--------------------------------------------------\n",
            "Iteration 47\n",
            "\u001b[1m275/282\u001b[0m \u001b[32m━━━━━━━━━━━━━━━━━━━\u001b[0m\u001b[37m━\u001b[0m \u001b[1m0s\u001b[0m 7ms/step - accuracy: 0.8801 - loss: 0.3605\n",
            "Epoch 1: val_loss improved from 0.60848 to 0.59812, saving model to best_model.h5\n"
          ]
        },
        {
          "output_type": "stream",
          "name": "stderr",
          "text": [
            "WARNING:absl:You are saving your model as an HDF5 file via `model.save()` or `keras.saving.save_model(model)`. This file format is considered legacy. We recommend using instead the native Keras format, e.g. `model.save('my_model.keras')` or `keras.saving.save_model(model, 'my_model.keras')`. \n"
          ]
        },
        {
          "output_type": "stream",
          "name": "stdout",
          "text": [
            "\b\b\b\b\b\b\b\b\b\b\b\b\b\b\b\b\b\b\b\b\b\b\b\b\b\b\b\b\b\b\b\b\b\b\b\b\b\b\b\b\b\b\b\b\b\b\b\b\b\b\b\b\b\b\b\b\b\b\b\b\b\b\b\b\b\b\b\b\b\b\b\b\b\b\r\u001b[1m282/282\u001b[0m \u001b[32m━━━━━━━━━━━━━━━━━━━━\u001b[0m\u001b[37m\u001b[0m \u001b[1m2s\u001b[0m 8ms/step - accuracy: 0.8800 - loss: 0.3606 - val_accuracy: 0.7841 - val_loss: 0.5981\n",
            "Q 9-3794    T -3785 ☒ -3786\n",
            "Q 63-35     T 28    ☑ 28   \n",
            "Q 6-548     T -542  ☑ -542 \n",
            "Q 431+179   T 610   ☒ 611  \n",
            "Q 705-862   T -157  ☒ -17  \n",
            "Q 27+9      T 36    ☑ 36   \n",
            "Q 2+316     T 318   ☒ 319  \n",
            "Q 431+179   T 610   ☒ 611  \n",
            "Q 44+1083   T 1127  ☒ 1117 \n",
            "Q 5+839     T 844   ☑ 844  \n",
            "\n",
            "--------------------------------------------------\n",
            "Iteration 48\n",
            "\u001b[1m279/282\u001b[0m \u001b[32m━━━━━━━━━━━━━━━━━━━\u001b[0m\u001b[37m━\u001b[0m \u001b[1m0s\u001b[0m 7ms/step - accuracy: 0.8829 - loss: 0.3533\n",
            "Epoch 1: val_loss improved from 0.59812 to 0.59384, saving model to best_model.h5\n"
          ]
        },
        {
          "output_type": "stream",
          "name": "stderr",
          "text": [
            "WARNING:absl:You are saving your model as an HDF5 file via `model.save()` or `keras.saving.save_model(model)`. This file format is considered legacy. We recommend using instead the native Keras format, e.g. `model.save('my_model.keras')` or `keras.saving.save_model(model, 'my_model.keras')`. \n"
          ]
        },
        {
          "output_type": "stream",
          "name": "stdout",
          "text": [
            "\b\b\b\b\b\b\b\b\b\b\b\b\b\b\b\b\b\b\b\b\b\b\b\b\b\b\b\b\b\b\b\b\b\b\b\b\b\b\b\b\b\b\b\b\b\b\b\b\b\b\b\b\b\b\b\b\b\b\b\b\b\b\b\b\b\b\b\b\b\b\b\b\b\b\r\u001b[1m282/282\u001b[0m \u001b[32m━━━━━━━━━━━━━━━━━━━━\u001b[0m\u001b[37m\u001b[0m \u001b[1m2s\u001b[0m 8ms/step - accuracy: 0.8829 - loss: 0.3534 - val_accuracy: 0.7853 - val_loss: 0.5938\n",
            "Q 390-1     T 389   ☑ 389  \n",
            "Q 18+9      T 27    ☑ 27   \n",
            "Q 2163+9323 T 11486 ☒ 11466\n",
            "Q 9301-137  T 9164  ☒ 8274 \n",
            "Q 2+75      T 77    ☑ 77   \n",
            "Q 9699+3    T 9702  ☒ 9601 \n",
            "Q 0+3662    T 3662  ☑ 3662 \n",
            "Q 2181-81   T 2100  ☒ 2089 \n",
            "Q 2+316     T 318   ☑ 318  \n",
            "Q 8591-6    T 8585  ☑ 8585 \n",
            "\n",
            "--------------------------------------------------\n",
            "Iteration 49\n",
            "\u001b[1m276/282\u001b[0m \u001b[32m━━━━━━━━━━━━━━━━━━━\u001b[0m\u001b[37m━\u001b[0m \u001b[1m0s\u001b[0m 7ms/step - accuracy: 0.8902 - loss: 0.3356\n",
            "Epoch 1: val_loss improved from 0.59384 to 0.59329, saving model to best_model.h5\n"
          ]
        },
        {
          "output_type": "stream",
          "name": "stderr",
          "text": [
            "WARNING:absl:You are saving your model as an HDF5 file via `model.save()` or `keras.saving.save_model(model)`. This file format is considered legacy. We recommend using instead the native Keras format, e.g. `model.save('my_model.keras')` or `keras.saving.save_model(model, 'my_model.keras')`. \n"
          ]
        },
        {
          "output_type": "stream",
          "name": "stdout",
          "text": [
            "\b\b\b\b\b\b\b\b\b\b\b\b\b\b\b\b\b\b\b\b\b\b\b\b\b\b\b\b\b\b\b\b\b\b\b\b\b\b\b\b\b\b\b\b\b\b\b\b\b\b\b\b\b\b\b\b\b\b\b\b\b\b\b\b\b\b\b\b\b\b\b\b\b\b\r\u001b[1m282/282\u001b[0m \u001b[32m━━━━━━━━━━━━━━━━━━━━\u001b[0m\u001b[37m\u001b[0m \u001b[1m2s\u001b[0m 8ms/step - accuracy: 0.8901 - loss: 0.3357 - val_accuracy: 0.7875 - val_loss: 0.5933\n",
            "Q 599+2201  T 2800  ☑ 2800 \n",
            "Q 84+8      T 92    ☑ 92   \n",
            "Q 782-2     T 780   ☒ 781  \n",
            "Q 8083-9225 T -1142 ☒ -310 \n",
            "Q 1959-962  T 997   ☒ 723  \n",
            "Q 78-3538   T -3460 ☒ -3450\n",
            "Q 6-945     T -939  ☑ -939 \n",
            "Q 57+92     T 149   ☒ 159  \n",
            "Q 2251+9    T 2260  ☑ 2260 \n",
            "Q 81+85     T 166   ☒ 156  \n"
          ]
        }
      ]
    },
    {
      "cell_type": "markdown",
      "source": [
        "In the initial model (without attention), the accuracy was around 77%, with a validation accuracy of approximately 70%. The model struggled with large numbers and showed inconsistent performance on basic arithmetic tasks.\n",
        "\n",
        "However, after integrating the attention mechanism, the accuracy surged to 90%, and the validation accuracy improved to 81%, with a noticeable decrease in loss. These results reflect a substantial boost in performance, particularly in terms of accuracy and loss. The attention mechanism allowed the model to focus on the most relevant parts of the input sequence, which helped it manage more complex arithmetic operations and enhance its generalization capabilities.\n",
        "\n",
        "Overall, the attention-based model outperformed the initial model across both training and validation sets, demonstrating that the attention mechanism significantly improved the model’s ability to solve arithmetic problems with greater accuracy."
      ],
      "metadata": {
        "id": "DqxvnphsLUKu"
      }
    },
    {
      "cell_type": "markdown",
      "source": [
        "#Q1 - PART 4"
      ],
      "metadata": {
        "id": "NlaOV_YqLNVk"
      }
    },
    {
      "cell_type": "code",
      "source": [
        "from tensorflow.keras import Model\n",
        "from tensorflow.keras.layers import Input, GRU, Attention, Dropout, Conv1D, GlobalMaxPooling1D, RepeatVector, TimeDistributed, Dense\n",
        "from tensorflow.keras.optimizers import Adam\n",
        "from tensorflow.keras.callbacks import ModelCheckpoint\n",
        "import numpy as np\n",
        "\n",
        "config_dict = {\n",
        "    \"training_size\": 40000,\n",
        "    \"digits\": 4,\n",
        "    \"hidden_size\": 128,\n",
        "    \"batch_size\": 128,\n",
        "    \"iterations\" : 100,\n",
        "    \"chars\" : '0123456789-+ '\n",
        "}\n",
        "\n",
        "# Alternative model architecture using GRU and Convolutional Layers\n",
        "def build_model_3(input_shape, output_shape, n_chars):\n",
        "    inputs = Input(shape=input_shape)\n",
        "\n",
        "    # 1D Convolutional Layer - Extract features from input sequences\n",
        "    conv_1 = Conv1D(config_dict['hidden_size'], 3, activation='relu', padding='same')(inputs)\n",
        "\n",
        "    # GRU layer - Capture temporal dependencies (no need for Bidirectional for now)\n",
        "    gru_1 = GRU(config_dict['hidden_size'], return_sequences=True)(conv_1)\n",
        "\n",
        "    # Dropout for regularization\n",
        "    gru_1 = Dropout(0.2)(gru_1)\n",
        "\n",
        "    # Attention mechanism\n",
        "    attention = Attention()([gru_1, gru_1])\n",
        "\n",
        "    # Apply Global Max Pooling to the attention output\n",
        "    attention_pooled = GlobalMaxPooling1D()(attention)\n",
        "\n",
        "    # Repeat vector to match the output sequence length\n",
        "    repeat_vector = RepeatVector(output_shape[0])(attention_pooled)\n",
        "\n",
        "    # Decoder GRU layer\n",
        "    gru_2 = GRU(config_dict['hidden_size'], return_sequences=True)(repeat_vector)\n",
        "\n",
        "    # Dropout layer for regularization\n",
        "    gru_2 = Dropout(0.2)(gru_2)\n",
        "\n",
        "    # TimeDistributed Dense layer to generate the final predictions\n",
        "    outputs = TimeDistributed(Dense(n_chars, activation='softmax'))(gru_2)\n",
        "\n",
        "    model_3 = Model(inputs=inputs, outputs=outputs)\n",
        "    model_3.compile(loss='categorical_crossentropy', optimizer='adam', metrics=['accuracy'])\n",
        "\n",
        "    return model_3\n",
        "\n",
        "# Input shape: (maxlen, len(chars)), Output shape: (digits + 1, len(chars))\n",
        "input_shape = (x_train.shape[1], x_train.shape[2])\n",
        "output_shape = (y_train.shape[1], y_train.shape[2])\n",
        "\n",
        "# Build and summarize the model\n",
        "model_3 = build_model_3(input_shape, output_shape, len(config_dict['chars']))\n",
        "model_3.summary()\n",
        "\n",
        "# Training the model and saving the best model\n",
        "checkpoint = ModelCheckpoint('best_model_3.h5',\n",
        "                             monitor='val_loss',\n",
        "                             save_best_only=True,\n",
        "                             mode='min',\n",
        "                             verbose=1)\n",
        "\n",
        "for iteration in range(config_dict['iterations']):\n",
        "    print()\n",
        "    print('-' * 50)\n",
        "    print('Iteration', iteration)\n",
        "\n",
        "    model_3.fit(x_train, y_train,\n",
        "                batch_size=config_dict['batch_size'],\n",
        "                epochs=1,\n",
        "                validation_data=(x_val, y_val),\n",
        "                callbacks=[checkpoint])\n",
        "\n",
        "    # Select 10 samples from the validation set at random for error visualization\n",
        "    for i in range(10):\n",
        "        ind = np.random.randint(0, len(x_val))\n",
        "        rowx, rowy = x_val[np.array([ind])], y_val[np.array([ind])]\n",
        "\n",
        "        preds = model_3.predict(rowx, verbose=0)\n",
        "        preds = np.argmax(preds, axis=-1)\n",
        "        q = ctable.decode(rowx[0])\n",
        "        correct = ctable.decode(rowy[0])\n",
        "        guess = ctable.decode(preds[0], calc_argmax=False)\n",
        "\n",
        "        print('Q', q, end=' ')\n",
        "        print('T', correct, end=' ')\n",
        "        if correct == guess:\n",
        "            print('☑', end=' ')\n",
        "        else:\n",
        "            print('☒', end=' ')\n",
        "        print(guess)\n"
      ],
      "metadata": {
        "colab": {
          "base_uri": "https://localhost:8080/",
          "height": 1000
        },
        "id": "Bx2sevTTLQvu",
        "outputId": "1a89e4d8-6377-4ffa-c529-134462747c8a"
      },
      "execution_count": 6,
      "outputs": [
        {
          "output_type": "display_data",
          "data": {
            "text/plain": [
              "\u001b[1mModel: \"functional_1\"\u001b[0m\n"
            ],
            "text/html": [
              "<pre style=\"white-space:pre;overflow-x:auto;line-height:normal;font-family:Menlo,'DejaVu Sans Mono',consolas,'Courier New',monospace\"><span style=\"font-weight: bold\">Model: \"functional_1\"</span>\n",
              "</pre>\n"
            ]
          },
          "metadata": {}
        },
        {
          "output_type": "display_data",
          "data": {
            "text/plain": [
              "┏━━━━━━━━━━━━━━━━━━━━━━━━━━━┳━━━━━━━━━━━━━━━━━━━━━━━━┳━━━━━━━━━━━━━━━━┳━━━━━━━━━━━━━━━━━━━━━━━━┓\n",
              "┃\u001b[1m \u001b[0m\u001b[1mLayer (type)             \u001b[0m\u001b[1m \u001b[0m┃\u001b[1m \u001b[0m\u001b[1mOutput Shape          \u001b[0m\u001b[1m \u001b[0m┃\u001b[1m \u001b[0m\u001b[1m       Param #\u001b[0m\u001b[1m \u001b[0m┃\u001b[1m \u001b[0m\u001b[1mConnected to          \u001b[0m\u001b[1m \u001b[0m┃\n",
              "┡━━━━━━━━━━━━━━━━━━━━━━━━━━━╇━━━━━━━━━━━━━━━━━━━━━━━━╇━━━━━━━━━━━━━━━━╇━━━━━━━━━━━━━━━━━━━━━━━━┩\n",
              "│ input_layer_1             │ (\u001b[38;5;45mNone\u001b[0m, \u001b[38;5;34m9\u001b[0m, \u001b[38;5;34m13\u001b[0m)          │              \u001b[38;5;34m0\u001b[0m │ -                      │\n",
              "│ (\u001b[38;5;33mInputLayer\u001b[0m)              │                        │                │                        │\n",
              "├───────────────────────────┼────────────────────────┼────────────────┼────────────────────────┤\n",
              "│ conv1d (\u001b[38;5;33mConv1D\u001b[0m)           │ (\u001b[38;5;45mNone\u001b[0m, \u001b[38;5;34m9\u001b[0m, \u001b[38;5;34m128\u001b[0m)         │          \u001b[38;5;34m5,120\u001b[0m │ input_layer_1[\u001b[38;5;34m0\u001b[0m][\u001b[38;5;34m0\u001b[0m]    │\n",
              "├───────────────────────────┼────────────────────────┼────────────────┼────────────────────────┤\n",
              "│ gru (\u001b[38;5;33mGRU\u001b[0m)                 │ (\u001b[38;5;45mNone\u001b[0m, \u001b[38;5;34m9\u001b[0m, \u001b[38;5;34m128\u001b[0m)         │         \u001b[38;5;34m99,072\u001b[0m │ conv1d[\u001b[38;5;34m0\u001b[0m][\u001b[38;5;34m0\u001b[0m]           │\n",
              "├───────────────────────────┼────────────────────────┼────────────────┼────────────────────────┤\n",
              "│ dropout (\u001b[38;5;33mDropout\u001b[0m)         │ (\u001b[38;5;45mNone\u001b[0m, \u001b[38;5;34m9\u001b[0m, \u001b[38;5;34m128\u001b[0m)         │              \u001b[38;5;34m0\u001b[0m │ gru[\u001b[38;5;34m0\u001b[0m][\u001b[38;5;34m0\u001b[0m]              │\n",
              "├───────────────────────────┼────────────────────────┼────────────────┼────────────────────────┤\n",
              "│ attention_1 (\u001b[38;5;33mAttention\u001b[0m)   │ (\u001b[38;5;45mNone\u001b[0m, \u001b[38;5;34m9\u001b[0m, \u001b[38;5;34m128\u001b[0m)         │              \u001b[38;5;34m0\u001b[0m │ dropout[\u001b[38;5;34m0\u001b[0m][\u001b[38;5;34m0\u001b[0m],         │\n",
              "│                           │                        │                │ dropout[\u001b[38;5;34m0\u001b[0m][\u001b[38;5;34m0\u001b[0m]          │\n",
              "├───────────────────────────┼────────────────────────┼────────────────┼────────────────────────┤\n",
              "│ global_max_pooling1d      │ (\u001b[38;5;45mNone\u001b[0m, \u001b[38;5;34m128\u001b[0m)            │              \u001b[38;5;34m0\u001b[0m │ attention_1[\u001b[38;5;34m0\u001b[0m][\u001b[38;5;34m0\u001b[0m]      │\n",
              "│ (\u001b[38;5;33mGlobalMaxPooling1D\u001b[0m)      │                        │                │                        │\n",
              "├───────────────────────────┼────────────────────────┼────────────────┼────────────────────────┤\n",
              "│ repeat_vector_1           │ (\u001b[38;5;45mNone\u001b[0m, \u001b[38;5;34m5\u001b[0m, \u001b[38;5;34m128\u001b[0m)         │              \u001b[38;5;34m0\u001b[0m │ global_max_pooling1d[\u001b[38;5;34m…\u001b[0m │\n",
              "│ (\u001b[38;5;33mRepeatVector\u001b[0m)            │                        │                │                        │\n",
              "├───────────────────────────┼────────────────────────┼────────────────┼────────────────────────┤\n",
              "│ gru_1 (\u001b[38;5;33mGRU\u001b[0m)               │ (\u001b[38;5;45mNone\u001b[0m, \u001b[38;5;34m5\u001b[0m, \u001b[38;5;34m128\u001b[0m)         │         \u001b[38;5;34m99,072\u001b[0m │ repeat_vector_1[\u001b[38;5;34m0\u001b[0m][\u001b[38;5;34m0\u001b[0m]  │\n",
              "├───────────────────────────┼────────────────────────┼────────────────┼────────────────────────┤\n",
              "│ dropout_1 (\u001b[38;5;33mDropout\u001b[0m)       │ (\u001b[38;5;45mNone\u001b[0m, \u001b[38;5;34m5\u001b[0m, \u001b[38;5;34m128\u001b[0m)         │              \u001b[38;5;34m0\u001b[0m │ gru_1[\u001b[38;5;34m0\u001b[0m][\u001b[38;5;34m0\u001b[0m]            │\n",
              "├───────────────────────────┼────────────────────────┼────────────────┼────────────────────────┤\n",
              "│ time_distributed_1        │ (\u001b[38;5;45mNone\u001b[0m, \u001b[38;5;34m5\u001b[0m, \u001b[38;5;34m13\u001b[0m)          │          \u001b[38;5;34m1,677\u001b[0m │ dropout_1[\u001b[38;5;34m0\u001b[0m][\u001b[38;5;34m0\u001b[0m]        │\n",
              "│ (\u001b[38;5;33mTimeDistributed\u001b[0m)         │                        │                │                        │\n",
              "└───────────────────────────┴────────────────────────┴────────────────┴────────────────────────┘\n"
            ],
            "text/html": [
              "<pre style=\"white-space:pre;overflow-x:auto;line-height:normal;font-family:Menlo,'DejaVu Sans Mono',consolas,'Courier New',monospace\">┏━━━━━━━━━━━━━━━━━━━━━━━━━━━┳━━━━━━━━━━━━━━━━━━━━━━━━┳━━━━━━━━━━━━━━━━┳━━━━━━━━━━━━━━━━━━━━━━━━┓\n",
              "┃<span style=\"font-weight: bold\"> Layer (type)              </span>┃<span style=\"font-weight: bold\"> Output Shape           </span>┃<span style=\"font-weight: bold\">        Param # </span>┃<span style=\"font-weight: bold\"> Connected to           </span>┃\n",
              "┡━━━━━━━━━━━━━━━━━━━━━━━━━━━╇━━━━━━━━━━━━━━━━━━━━━━━━╇━━━━━━━━━━━━━━━━╇━━━━━━━━━━━━━━━━━━━━━━━━┩\n",
              "│ input_layer_1             │ (<span style=\"color: #00d7ff; text-decoration-color: #00d7ff\">None</span>, <span style=\"color: #00af00; text-decoration-color: #00af00\">9</span>, <span style=\"color: #00af00; text-decoration-color: #00af00\">13</span>)          │              <span style=\"color: #00af00; text-decoration-color: #00af00\">0</span> │ -                      │\n",
              "│ (<span style=\"color: #0087ff; text-decoration-color: #0087ff\">InputLayer</span>)              │                        │                │                        │\n",
              "├───────────────────────────┼────────────────────────┼────────────────┼────────────────────────┤\n",
              "│ conv1d (<span style=\"color: #0087ff; text-decoration-color: #0087ff\">Conv1D</span>)           │ (<span style=\"color: #00d7ff; text-decoration-color: #00d7ff\">None</span>, <span style=\"color: #00af00; text-decoration-color: #00af00\">9</span>, <span style=\"color: #00af00; text-decoration-color: #00af00\">128</span>)         │          <span style=\"color: #00af00; text-decoration-color: #00af00\">5,120</span> │ input_layer_1[<span style=\"color: #00af00; text-decoration-color: #00af00\">0</span>][<span style=\"color: #00af00; text-decoration-color: #00af00\">0</span>]    │\n",
              "├───────────────────────────┼────────────────────────┼────────────────┼────────────────────────┤\n",
              "│ gru (<span style=\"color: #0087ff; text-decoration-color: #0087ff\">GRU</span>)                 │ (<span style=\"color: #00d7ff; text-decoration-color: #00d7ff\">None</span>, <span style=\"color: #00af00; text-decoration-color: #00af00\">9</span>, <span style=\"color: #00af00; text-decoration-color: #00af00\">128</span>)         │         <span style=\"color: #00af00; text-decoration-color: #00af00\">99,072</span> │ conv1d[<span style=\"color: #00af00; text-decoration-color: #00af00\">0</span>][<span style=\"color: #00af00; text-decoration-color: #00af00\">0</span>]           │\n",
              "├───────────────────────────┼────────────────────────┼────────────────┼────────────────────────┤\n",
              "│ dropout (<span style=\"color: #0087ff; text-decoration-color: #0087ff\">Dropout</span>)         │ (<span style=\"color: #00d7ff; text-decoration-color: #00d7ff\">None</span>, <span style=\"color: #00af00; text-decoration-color: #00af00\">9</span>, <span style=\"color: #00af00; text-decoration-color: #00af00\">128</span>)         │              <span style=\"color: #00af00; text-decoration-color: #00af00\">0</span> │ gru[<span style=\"color: #00af00; text-decoration-color: #00af00\">0</span>][<span style=\"color: #00af00; text-decoration-color: #00af00\">0</span>]              │\n",
              "├───────────────────────────┼────────────────────────┼────────────────┼────────────────────────┤\n",
              "│ attention_1 (<span style=\"color: #0087ff; text-decoration-color: #0087ff\">Attention</span>)   │ (<span style=\"color: #00d7ff; text-decoration-color: #00d7ff\">None</span>, <span style=\"color: #00af00; text-decoration-color: #00af00\">9</span>, <span style=\"color: #00af00; text-decoration-color: #00af00\">128</span>)         │              <span style=\"color: #00af00; text-decoration-color: #00af00\">0</span> │ dropout[<span style=\"color: #00af00; text-decoration-color: #00af00\">0</span>][<span style=\"color: #00af00; text-decoration-color: #00af00\">0</span>],         │\n",
              "│                           │                        │                │ dropout[<span style=\"color: #00af00; text-decoration-color: #00af00\">0</span>][<span style=\"color: #00af00; text-decoration-color: #00af00\">0</span>]          │\n",
              "├───────────────────────────┼────────────────────────┼────────────────┼────────────────────────┤\n",
              "│ global_max_pooling1d      │ (<span style=\"color: #00d7ff; text-decoration-color: #00d7ff\">None</span>, <span style=\"color: #00af00; text-decoration-color: #00af00\">128</span>)            │              <span style=\"color: #00af00; text-decoration-color: #00af00\">0</span> │ attention_1[<span style=\"color: #00af00; text-decoration-color: #00af00\">0</span>][<span style=\"color: #00af00; text-decoration-color: #00af00\">0</span>]      │\n",
              "│ (<span style=\"color: #0087ff; text-decoration-color: #0087ff\">GlobalMaxPooling1D</span>)      │                        │                │                        │\n",
              "├───────────────────────────┼────────────────────────┼────────────────┼────────────────────────┤\n",
              "│ repeat_vector_1           │ (<span style=\"color: #00d7ff; text-decoration-color: #00d7ff\">None</span>, <span style=\"color: #00af00; text-decoration-color: #00af00\">5</span>, <span style=\"color: #00af00; text-decoration-color: #00af00\">128</span>)         │              <span style=\"color: #00af00; text-decoration-color: #00af00\">0</span> │ global_max_pooling1d[<span style=\"color: #00af00; text-decoration-color: #00af00\">…</span> │\n",
              "│ (<span style=\"color: #0087ff; text-decoration-color: #0087ff\">RepeatVector</span>)            │                        │                │                        │\n",
              "├───────────────────────────┼────────────────────────┼────────────────┼────────────────────────┤\n",
              "│ gru_1 (<span style=\"color: #0087ff; text-decoration-color: #0087ff\">GRU</span>)               │ (<span style=\"color: #00d7ff; text-decoration-color: #00d7ff\">None</span>, <span style=\"color: #00af00; text-decoration-color: #00af00\">5</span>, <span style=\"color: #00af00; text-decoration-color: #00af00\">128</span>)         │         <span style=\"color: #00af00; text-decoration-color: #00af00\">99,072</span> │ repeat_vector_1[<span style=\"color: #00af00; text-decoration-color: #00af00\">0</span>][<span style=\"color: #00af00; text-decoration-color: #00af00\">0</span>]  │\n",
              "├───────────────────────────┼────────────────────────┼────────────────┼────────────────────────┤\n",
              "│ dropout_1 (<span style=\"color: #0087ff; text-decoration-color: #0087ff\">Dropout</span>)       │ (<span style=\"color: #00d7ff; text-decoration-color: #00d7ff\">None</span>, <span style=\"color: #00af00; text-decoration-color: #00af00\">5</span>, <span style=\"color: #00af00; text-decoration-color: #00af00\">128</span>)         │              <span style=\"color: #00af00; text-decoration-color: #00af00\">0</span> │ gru_1[<span style=\"color: #00af00; text-decoration-color: #00af00\">0</span>][<span style=\"color: #00af00; text-decoration-color: #00af00\">0</span>]            │\n",
              "├───────────────────────────┼────────────────────────┼────────────────┼────────────────────────┤\n",
              "│ time_distributed_1        │ (<span style=\"color: #00d7ff; text-decoration-color: #00d7ff\">None</span>, <span style=\"color: #00af00; text-decoration-color: #00af00\">5</span>, <span style=\"color: #00af00; text-decoration-color: #00af00\">13</span>)          │          <span style=\"color: #00af00; text-decoration-color: #00af00\">1,677</span> │ dropout_1[<span style=\"color: #00af00; text-decoration-color: #00af00\">0</span>][<span style=\"color: #00af00; text-decoration-color: #00af00\">0</span>]        │\n",
              "│ (<span style=\"color: #0087ff; text-decoration-color: #0087ff\">TimeDistributed</span>)         │                        │                │                        │\n",
              "└───────────────────────────┴────────────────────────┴────────────────┴────────────────────────┘\n",
              "</pre>\n"
            ]
          },
          "metadata": {}
        },
        {
          "output_type": "display_data",
          "data": {
            "text/plain": [
              "\u001b[1m Total params: \u001b[0m\u001b[38;5;34m204,941\u001b[0m (800.55 KB)\n"
            ],
            "text/html": [
              "<pre style=\"white-space:pre;overflow-x:auto;line-height:normal;font-family:Menlo,'DejaVu Sans Mono',consolas,'Courier New',monospace\"><span style=\"font-weight: bold\"> Total params: </span><span style=\"color: #00af00; text-decoration-color: #00af00\">204,941</span> (800.55 KB)\n",
              "</pre>\n"
            ]
          },
          "metadata": {}
        },
        {
          "output_type": "display_data",
          "data": {
            "text/plain": [
              "\u001b[1m Trainable params: \u001b[0m\u001b[38;5;34m204,941\u001b[0m (800.55 KB)\n"
            ],
            "text/html": [
              "<pre style=\"white-space:pre;overflow-x:auto;line-height:normal;font-family:Menlo,'DejaVu Sans Mono',consolas,'Courier New',monospace\"><span style=\"font-weight: bold\"> Trainable params: </span><span style=\"color: #00af00; text-decoration-color: #00af00\">204,941</span> (800.55 KB)\n",
              "</pre>\n"
            ]
          },
          "metadata": {}
        },
        {
          "output_type": "display_data",
          "data": {
            "text/plain": [
              "\u001b[1m Non-trainable params: \u001b[0m\u001b[38;5;34m0\u001b[0m (0.00 B)\n"
            ],
            "text/html": [
              "<pre style=\"white-space:pre;overflow-x:auto;line-height:normal;font-family:Menlo,'DejaVu Sans Mono',consolas,'Courier New',monospace\"><span style=\"font-weight: bold\"> Non-trainable params: </span><span style=\"color: #00af00; text-decoration-color: #00af00\">0</span> (0.00 B)\n",
              "</pre>\n"
            ]
          },
          "metadata": {}
        },
        {
          "output_type": "stream",
          "name": "stdout",
          "text": [
            "\n",
            "--------------------------------------------------\n",
            "Iteration 0\n",
            "\u001b[1m282/282\u001b[0m \u001b[32m━━━━━━━━━━━━━━━━━━━━\u001b[0m\u001b[37m\u001b[0m \u001b[1m0s\u001b[0m 8ms/step - accuracy: 0.3242 - loss: 2.0102\n",
            "Epoch 1: val_loss improved from inf to 1.59315, saving model to best_model_3.h5\n"
          ]
        },
        {
          "output_type": "stream",
          "name": "stderr",
          "text": [
            "WARNING:absl:You are saving your model as an HDF5 file via `model.save()` or `keras.saving.save_model(model)`. This file format is considered legacy. We recommend using instead the native Keras format, e.g. `model.save('my_model.keras')` or `keras.saving.save_model(model, 'my_model.keras')`. \n"
          ]
        },
        {
          "output_type": "stream",
          "name": "stdout",
          "text": [
            "\b\b\b\b\b\b\b\b\b\b\b\b\b\b\b\b\b\b\b\b\b\b\b\b\b\b\b\b\b\b\b\b\b\b\b\b\b\b\b\b\b\b\b\b\b\b\b\b\b\b\b\b\b\b\b\b\b\b\b\b\b\b\b\b\b\b\b\b\b\b\b\b\b\b\r\u001b[1m282/282\u001b[0m \u001b[32m━━━━━━━━━━━━━━━━━━━━\u001b[0m\u001b[37m\u001b[0m \u001b[1m7s\u001b[0m 10ms/step - accuracy: 0.3244 - loss: 2.0095 - val_accuracy: 0.4209 - val_loss: 1.5932\n",
            "Q 866+59    T 925   ☒ 165  \n",
            "Q 7720-921  T 6799  ☒ 1122 \n",
            "Q 699+5     T 704   ☒ 110  \n",
            "Q 5658-6295 T -637  ☒ -555 \n",
            "Q 3676+3    T 3679  ☒ 166  \n",
            "Q 643+4     T 647   ☒ 155  \n",
            "Q 6825-42   T 6783  ☒ 1222 \n",
            "Q 426+4     T 430   ☒ 115  \n",
            "Q 747+5     T 752   ☒ 115  \n",
            "Q 716+43    T 759   ☒ 111  \n",
            "\n",
            "--------------------------------------------------\n",
            "Iteration 1\n",
            "\u001b[1m281/282\u001b[0m \u001b[32m━━━━━━━━━━━━━━━━━━━\u001b[0m\u001b[37m━\u001b[0m \u001b[1m0s\u001b[0m 8ms/step - accuracy: 0.4267 - loss: 1.5858\n",
            "Epoch 1: val_loss improved from 1.59315 to 1.50408, saving model to best_model_3.h5\n"
          ]
        },
        {
          "output_type": "stream",
          "name": "stderr",
          "text": [
            "WARNING:absl:You are saving your model as an HDF5 file via `model.save()` or `keras.saving.save_model(model)`. This file format is considered legacy. We recommend using instead the native Keras format, e.g. `model.save('my_model.keras')` or `keras.saving.save_model(model, 'my_model.keras')`. \n"
          ]
        },
        {
          "output_type": "stream",
          "name": "stdout",
          "text": [
            "\b\b\b\b\b\b\b\b\b\b\b\b\b\b\b\b\b\b\b\b\b\b\b\b\b\b\b\b\b\b\b\b\b\b\b\b\b\b\b\b\b\b\b\b\b\b\b\b\b\b\b\b\b\b\b\b\b\b\b\b\b\b\b\b\b\b\b\b\b\b\b\b\b\b\r\u001b[1m282/282\u001b[0m \u001b[32m━━━━━━━━━━━━━━━━━━━━\u001b[0m\u001b[37m\u001b[0m \u001b[1m3s\u001b[0m 9ms/step - accuracy: 0.4268 - loss: 1.5855 - val_accuracy: 0.4732 - val_loss: 1.5041\n",
            "Q 30+32     T 62    ☒ 33   \n",
            "Q 4933+53   T 4986  ☒ 4009 \n",
            "Q 4-354     T -350  ☒ -304 \n",
            "Q 74+5376   T 5450  ☒ 5408 \n",
            "Q 764+9095  T 9859  ☒ 1000 \n",
            "Q 3562+8    T 3570  ☒ 5509 \n",
            "Q 75-38     T 37    ☒ 44   \n",
            "Q 381-8656  T -8275 ☒ -600 \n",
            "Q 8617-138  T 8479  ☒ 1708 \n",
            "Q 367+9913  T 10280 ☒ 1000 \n",
            "\n",
            "--------------------------------------------------\n",
            "Iteration 2\n",
            "\u001b[1m278/282\u001b[0m \u001b[32m━━━━━━━━━━━━━━━━━━━\u001b[0m\u001b[37m━\u001b[0m \u001b[1m0s\u001b[0m 12ms/step - accuracy: 0.4820 - loss: 1.4516\n",
            "Epoch 1: val_loss improved from 1.50408 to 1.34984, saving model to best_model_3.h5\n"
          ]
        },
        {
          "output_type": "stream",
          "name": "stderr",
          "text": [
            "WARNING:absl:You are saving your model as an HDF5 file via `model.save()` or `keras.saving.save_model(model)`. This file format is considered legacy. We recommend using instead the native Keras format, e.g. `model.save('my_model.keras')` or `keras.saving.save_model(model, 'my_model.keras')`. \n"
          ]
        },
        {
          "output_type": "stream",
          "name": "stdout",
          "text": [
            "\b\b\b\b\b\b\b\b\b\b\b\b\b\b\b\b\b\b\b\b\b\b\b\b\b\b\b\b\b\b\b\b\b\b\b\b\b\b\b\b\b\b\b\b\b\b\b\b\b\b\b\b\b\b\b\b\b\b\b\b\b\b\b\b\b\b\b\b\b\b\b\b\b\b\b\r\u001b[1m282/282\u001b[0m \u001b[32m━━━━━━━━━━━━━━━━━━━━\u001b[0m\u001b[37m\u001b[0m \u001b[1m4s\u001b[0m 13ms/step - accuracy: 0.4822 - loss: 1.4511 - val_accuracy: 0.5206 - val_loss: 1.3498\n",
            "Q 189-1517  T -1328 ☒ -1155\n",
            "Q 1879+34   T 1913  ☒ 1885 \n",
            "Q 84-1280   T -1196 ☒ -2115\n",
            "Q 1267-8    T 1259  ☒ 1225 \n",
            "Q 1+385     T 386   ☒ 388  \n",
            "Q 9039+12   T 9051  ☒ 9000 \n",
            "Q 70+4536   T 4606  ☒ 5455 \n",
            "Q 9851-54   T 9797  ☒ 9888 \n",
            "Q 82+513    T 595   ☒ 555  \n",
            "Q 3+24      T 27    ☒ 22   \n",
            "\n",
            "--------------------------------------------------\n",
            "Iteration 3\n",
            "\u001b[1m278/282\u001b[0m \u001b[32m━━━━━━━━━━━━━━━━━━━\u001b[0m\u001b[37m━\u001b[0m \u001b[1m0s\u001b[0m 8ms/step - accuracy: 0.5169 - loss: 1.3557\n",
            "Epoch 1: val_loss improved from 1.34984 to 1.30918, saving model to best_model_3.h5\n"
          ]
        },
        {
          "output_type": "stream",
          "name": "stderr",
          "text": [
            "WARNING:absl:You are saving your model as an HDF5 file via `model.save()` or `keras.saving.save_model(model)`. This file format is considered legacy. We recommend using instead the native Keras format, e.g. `model.save('my_model.keras')` or `keras.saving.save_model(model, 'my_model.keras')`. \n"
          ]
        },
        {
          "output_type": "stream",
          "name": "stdout",
          "text": [
            "\b\b\b\b\b\b\b\b\b\b\b\b\b\b\b\b\b\b\b\b\b\b\b\b\b\b\b\b\b\b\b\b\b\b\b\b\b\b\b\b\b\b\b\b\b\b\b\b\b\b\b\b\b\b\b\b\b\b\b\b\b\b\b\b\b\b\b\b\b\b\b\b\b\b\r\u001b[1m282/282\u001b[0m \u001b[32m━━━━━━━━━━━━━━━━━━━━\u001b[0m\u001b[37m\u001b[0m \u001b[1m3s\u001b[0m 9ms/step - accuracy: 0.5170 - loss: 1.3553 - val_accuracy: 0.5417 - val_loss: 1.3092\n",
            "Q 897-58    T 839   ☒ 88   \n",
            "Q 3344+5    T 3349  ☒ 3333 \n",
            "Q 476-7     T 469   ☒ 470  \n",
            "Q 583+552   T 1135  ☒ 500  \n",
            "Q 4696-6    T 4690  ☒ 469  \n",
            "Q 8+175     T 183   ☒ 174  \n",
            "Q 340+807   T 1147  ☒ 100  \n",
            "Q 19-821    T -802  ☒ -825 \n",
            "Q 9+12      T 21    ☒ 1    \n",
            "Q 71+96     T 167   ☒ 100  \n",
            "\n",
            "--------------------------------------------------\n",
            "Iteration 4\n",
            "\u001b[1m281/282\u001b[0m \u001b[32m━━━━━━━━━━━━━━━━━━━\u001b[0m\u001b[37m━\u001b[0m \u001b[1m0s\u001b[0m 9ms/step - accuracy: 0.5396 - loss: 1.2810\n",
            "Epoch 1: val_loss improved from 1.30918 to 1.24984, saving model to best_model_3.h5\n"
          ]
        },
        {
          "output_type": "stream",
          "name": "stderr",
          "text": [
            "WARNING:absl:You are saving your model as an HDF5 file via `model.save()` or `keras.saving.save_model(model)`. This file format is considered legacy. We recommend using instead the native Keras format, e.g. `model.save('my_model.keras')` or `keras.saving.save_model(model, 'my_model.keras')`. \n"
          ]
        },
        {
          "output_type": "stream",
          "name": "stdout",
          "text": [
            "\b\b\b\b\b\b\b\b\b\b\b\b\b\b\b\b\b\b\b\b\b\b\b\b\b\b\b\b\b\b\b\b\b\b\b\b\b\b\b\b\b\b\b\b\b\b\b\b\b\b\b\b\b\b\b\b\b\b\b\b\b\b\b\b\b\b\b\b\b\b\b\b\b\b\r\u001b[1m282/282\u001b[0m \u001b[32m━━━━━━━━━━━━━━━━━━━━\u001b[0m\u001b[37m\u001b[0m \u001b[1m3s\u001b[0m 9ms/step - accuracy: 0.5396 - loss: 1.2809 - val_accuracy: 0.5544 - val_loss: 1.2498\n",
            "Q 1+98      T 99    ☒ 10   \n",
            "Q 4+55      T 59    ☒ 50   \n",
            "Q 8329+909  T 9238  ☒ 1388 \n",
            "Q 5668-56   T 5612  ☒ 566  \n",
            "Q 802-109   T 693   ☒ 800  \n",
            "Q 652+6812  T 7464  ☒ 1088 \n",
            "Q 13+2      T 15    ☒ 11   \n",
            "Q 19+34     T 53    ☒ 13   \n",
            "Q 735-796   T -61   ☒ -1   \n",
            "Q 8-276     T -268  ☒ -277 \n",
            "\n",
            "--------------------------------------------------\n",
            "Iteration 5\n",
            "\u001b[1m281/282\u001b[0m \u001b[32m━━━━━━━━━━━━━━━━━━━\u001b[0m\u001b[37m━\u001b[0m \u001b[1m0s\u001b[0m 11ms/step - accuracy: 0.5543 - loss: 1.2281\n",
            "Epoch 1: val_loss improved from 1.24984 to 1.20710, saving model to best_model_3.h5\n"
          ]
        },
        {
          "output_type": "stream",
          "name": "stderr",
          "text": [
            "WARNING:absl:You are saving your model as an HDF5 file via `model.save()` or `keras.saving.save_model(model)`. This file format is considered legacy. We recommend using instead the native Keras format, e.g. `model.save('my_model.keras')` or `keras.saving.save_model(model, 'my_model.keras')`. \n"
          ]
        },
        {
          "output_type": "stream",
          "name": "stdout",
          "text": [
            "\b\b\b\b\b\b\b\b\b\b\b\b\b\b\b\b\b\b\b\b\b\b\b\b\b\b\b\b\b\b\b\b\b\b\b\b\b\b\b\b\b\b\b\b\b\b\b\b\b\b\b\b\b\b\b\b\b\b\b\b\b\b\b\b\b\b\b\b\b\b\b\b\b\b\b\r\u001b[1m282/282\u001b[0m \u001b[32m━━━━━━━━━━━━━━━━━━━━\u001b[0m\u001b[37m\u001b[0m \u001b[1m4s\u001b[0m 13ms/step - accuracy: 0.5543 - loss: 1.2281 - val_accuracy: 0.5658 - val_loss: 1.2071\n",
            "Q 8874+2    T 8876  ☒ 8882 \n",
            "Q 3+726     T 729   ☒ 727  \n",
            "Q 1710-6544 T -4834 ☒ -545 \n",
            "Q 2077+6883 T 8960  ☒ 1000 \n",
            "Q 3+6878    T 6881  ☒ 6882 \n",
            "Q 746+3     T 749   ☒ 740  \n",
            "Q 64-301    T -237  ☒ -30  \n",
            "Q 17+2      T 19    ☒ 11   \n",
            "Q 1+25      T 26    ☒ 22   \n",
            "Q 2832+7666 T 10498 ☒ 1100 \n",
            "\n",
            "--------------------------------------------------\n",
            "Iteration 6\n",
            "\u001b[1m281/282\u001b[0m \u001b[32m━━━━━━━━━━━━━━━━━━━\u001b[0m\u001b[37m━\u001b[0m \u001b[1m0s\u001b[0m 8ms/step - accuracy: 0.5652 - loss: 1.1855\n",
            "Epoch 1: val_loss improved from 1.20710 to 1.20436, saving model to best_model_3.h5\n"
          ]
        },
        {
          "output_type": "stream",
          "name": "stderr",
          "text": [
            "WARNING:absl:You are saving your model as an HDF5 file via `model.save()` or `keras.saving.save_model(model)`. This file format is considered legacy. We recommend using instead the native Keras format, e.g. `model.save('my_model.keras')` or `keras.saving.save_model(model, 'my_model.keras')`. \n"
          ]
        },
        {
          "output_type": "stream",
          "name": "stdout",
          "text": [
            "\b\b\b\b\b\b\b\b\b\b\b\b\b\b\b\b\b\b\b\b\b\b\b\b\b\b\b\b\b\b\b\b\b\b\b\b\b\b\b\b\b\b\b\b\b\b\b\b\b\b\b\b\b\b\b\b\b\b\b\b\b\b\b\b\b\b\b\b\b\b\b\b\b\b\r\u001b[1m282/282\u001b[0m \u001b[32m━━━━━━━━━━━━━━━━━━━━\u001b[0m\u001b[37m\u001b[0m \u001b[1m3s\u001b[0m 9ms/step - accuracy: 0.5653 - loss: 1.1854 - val_accuracy: 0.5734 - val_loss: 1.2044\n",
            "Q 6+6178    T 6184  ☒ 6123 \n",
            "Q 73+2938   T 3011  ☒ 299  \n",
            "Q 733-37    T 696   ☒ 773  \n",
            "Q 73-94     T -21   ☒ -3   \n",
            "Q 193-8     T 185   ☒ 198  \n",
            "Q 259-88    T 171   ☒ 25   \n",
            "Q 817+4360  T 5177  ☒ 4444 \n",
            "Q 22-1      T 21    ☒ 22   \n",
            "Q 30+9202   T 9232  ☒ 922  \n",
            "Q 26-7743   T -7717 ☒ -7644\n",
            "\n",
            "--------------------------------------------------\n",
            "Iteration 7\n",
            "\u001b[1m282/282\u001b[0m \u001b[32m━━━━━━━━━━━━━━━━━━━━\u001b[0m\u001b[37m\u001b[0m \u001b[1m0s\u001b[0m 17ms/step - accuracy: 0.5771 - loss: 1.1481\n",
            "Epoch 1: val_loss improved from 1.20436 to 1.12699, saving model to best_model_3.h5\n"
          ]
        },
        {
          "output_type": "stream",
          "name": "stderr",
          "text": [
            "WARNING:absl:You are saving your model as an HDF5 file via `model.save()` or `keras.saving.save_model(model)`. This file format is considered legacy. We recommend using instead the native Keras format, e.g. `model.save('my_model.keras')` or `keras.saving.save_model(model, 'my_model.keras')`. \n"
          ]
        },
        {
          "output_type": "stream",
          "name": "stdout",
          "text": [
            "\b\b\b\b\b\b\b\b\b\b\b\b\b\b\b\b\b\b\b\b\b\b\b\b\b\b\b\b\b\b\b\b\b\b\b\b\b\b\b\b\b\b\b\b\b\b\b\b\b\b\b\b\b\b\b\b\b\b\b\b\b\b\b\b\b\b\b\b\b\b\b\b\b\b\b\r\u001b[1m282/282\u001b[0m \u001b[32m━━━━━━━━━━━━━━━━━━━━\u001b[0m\u001b[37m\u001b[0m \u001b[1m5s\u001b[0m 18ms/step - accuracy: 0.5771 - loss: 1.1481 - val_accuracy: 0.5841 - val_loss: 1.1270\n",
            "Q 115+2     T 117   ☒ 110  \n",
            "Q 278+6     T 284   ☒ 278  \n",
            "Q 764+9095  T 9859  ☒ 1000 \n",
            "Q 7-2682    T -2675 ☒ -2688\n",
            "Q 82+6147   T 6229  ☒ 6233 \n",
            "Q 82-17     T 65    ☒ 77   \n",
            "Q 1+62      T 63    ☒ 65   \n",
            "Q 26-7743   T -7717 ☒ -7655\n",
            "Q 154+17    T 171   ☒ 155  \n",
            "Q 85-2152   T -2067 ☒ -1145\n",
            "\n",
            "--------------------------------------------------\n",
            "Iteration 8\n",
            "\u001b[1m281/282\u001b[0m \u001b[32m━━━━━━━━━━━━━━━━━━━\u001b[0m\u001b[37m━\u001b[0m \u001b[1m0s\u001b[0m 8ms/step - accuracy: 0.5869 - loss: 1.1218\n",
            "Epoch 1: val_loss did not improve from 1.12699\n",
            "\u001b[1m282/282\u001b[0m \u001b[32m━━━━━━━━━━━━━━━━━━━━\u001b[0m\u001b[37m\u001b[0m \u001b[1m3s\u001b[0m 9ms/step - accuracy: 0.5869 - loss: 1.1218 - val_accuracy: 0.5914 - val_loss: 1.1486\n",
            "Q 3+82      T 85    ☑ 85   \n",
            "Q 896-89    T 807   ☒ 89   \n",
            "Q 610+642   T 1252  ☒ 105  \n",
            "Q 143+403   T 546   ☒ 465  \n",
            "Q 129+8     T 137   ☒ 124  \n",
            "Q 714+7     T 721   ☒ 716  \n",
            "Q 7895+82   T 7977  ☒ 7999 \n",
            "Q 661+530   T 1191  ☒ 115  \n",
            "Q 98+886    T 984   ☒ 987  \n",
            "Q 7895+82   T 7977  ☒ 7999 \n",
            "\n",
            "--------------------------------------------------\n",
            "Iteration 9\n",
            "\u001b[1m277/282\u001b[0m \u001b[32m━━━━━━━━━━━━━━━━━━━\u001b[0m\u001b[37m━\u001b[0m \u001b[1m0s\u001b[0m 8ms/step - accuracy: 0.5965 - loss: 1.0910\n",
            "Epoch 1: val_loss did not improve from 1.12699\n",
            "\u001b[1m282/282\u001b[0m \u001b[32m━━━━━━━━━━━━━━━━━━━━\u001b[0m\u001b[37m\u001b[0m \u001b[1m3s\u001b[0m 9ms/step - accuracy: 0.5965 - loss: 1.0908 - val_accuracy: 0.5961 - val_loss: 1.1479\n",
            "Q 669-77    T 592   ☒ 62   \n",
            "Q 5+95      T 100   ☒ 10   \n",
            "Q 20-72     T -52   ☒ -55  \n",
            "Q 8+6839    T 6847  ☒ 6832 \n",
            "Q 7425-98   T 7327  ☒ 7340 \n",
            "Q 91+899    T 990   ☒ 980  \n",
            "Q 19+291    T 310   ☒ 390  \n",
            "Q 9699+3    T 9702  ☒ 960  \n",
            "Q 930-66    T 864   ☒ 897  \n",
            "Q 4-2540    T -2536 ☒ -2530\n",
            "\n",
            "--------------------------------------------------\n",
            "Iteration 10\n",
            "\u001b[1m280/282\u001b[0m \u001b[32m━━━━━━━━━━━━━━━━━━━\u001b[0m\u001b[37m━\u001b[0m \u001b[1m0s\u001b[0m 12ms/step - accuracy: 0.6048 - loss: 1.0668\n",
            "Epoch 1: val_loss improved from 1.12699 to 1.08223, saving model to best_model_3.h5\n"
          ]
        },
        {
          "output_type": "stream",
          "name": "stderr",
          "text": [
            "WARNING:absl:You are saving your model as an HDF5 file via `model.save()` or `keras.saving.save_model(model)`. This file format is considered legacy. We recommend using instead the native Keras format, e.g. `model.save('my_model.keras')` or `keras.saving.save_model(model, 'my_model.keras')`. \n"
          ]
        },
        {
          "output_type": "stream",
          "name": "stdout",
          "text": [
            "\b\b\b\b\b\b\b\b\b\b\b\b\b\b\b\b\b\b\b\b\b\b\b\b\b\b\b\b\b\b\b\b\b\b\b\b\b\b\b\b\b\b\b\b\b\b\b\b\b\b\b\b\b\b\b\b\b\b\b\b\b\b\b\b\b\b\b\b\b\b\b\b\b\b\b\r\u001b[1m282/282\u001b[0m \u001b[32m━━━━━━━━━━━━━━━━━━━━\u001b[0m\u001b[37m\u001b[0m \u001b[1m4s\u001b[0m 14ms/step - accuracy: 0.6048 - loss: 1.0668 - val_accuracy: 0.6044 - val_loss: 1.0822\n",
            "Q 9+300     T 309   ☒ 300  \n",
            "Q 4869-6085 T -1216 ☒ -134 \n",
            "Q 137+3707  T 3844  ☒ 3444 \n",
            "Q 52-43     T 9     ☒ 1    \n",
            "Q 5087-3755 T 1332  ☒ 22   \n",
            "Q 107+8     T 115   ☒ 100  \n",
            "Q 67+831    T 898   ☒ 876  \n",
            "Q 852+9     T 861   ☒ 853  \n",
            "Q 437+121   T 558   ☒ 555  \n",
            "Q 8697-3    T 8694  ☒ 8782 \n",
            "\n",
            "--------------------------------------------------\n",
            "Iteration 11\n",
            "\u001b[1m282/282\u001b[0m \u001b[32m━━━━━━━━━━━━━━━━━━━━\u001b[0m\u001b[37m\u001b[0m \u001b[1m0s\u001b[0m 8ms/step - accuracy: 0.6136 - loss: 1.0505\n",
            "Epoch 1: val_loss did not improve from 1.08223\n",
            "\u001b[1m282/282\u001b[0m \u001b[32m━━━━━━━━━━━━━━━━━━━━\u001b[0m\u001b[37m\u001b[0m \u001b[1m3s\u001b[0m 9ms/step - accuracy: 0.6136 - loss: 1.0505 - val_accuracy: 0.6099 - val_loss: 1.0947\n",
            "Q 5240-5    T 5235  ☒ 5249 \n",
            "Q 85+27     T 112   ☒ 110  \n",
            "Q 476+454   T 930   ☒ 810  \n",
            "Q 2-6300    T -6298 ☒ -620 \n",
            "Q 3+580     T 583   ☒ 589  \n",
            "Q 175-3     T 172   ☒ 174  \n",
            "Q 936+2     T 938   ☒ 937  \n",
            "Q 7478+9132 T 16610 ☒ 10000\n",
            "Q 1069+9449 T 10518 ☒ 1040 \n",
            "Q 9+5752    T 5761  ☒ 5722 \n",
            "\n",
            "--------------------------------------------------\n",
            "Iteration 12\n",
            "\u001b[1m278/282\u001b[0m \u001b[32m━━━━━━━━━━━━━━━━━━━\u001b[0m\u001b[37m━\u001b[0m \u001b[1m0s\u001b[0m 9ms/step - accuracy: 0.6221 - loss: 1.0235\n",
            "Epoch 1: val_loss did not improve from 1.08223\n",
            "\u001b[1m282/282\u001b[0m \u001b[32m━━━━━━━━━━━━━━━━━━━━\u001b[0m\u001b[37m\u001b[0m \u001b[1m3s\u001b[0m 9ms/step - accuracy: 0.6221 - loss: 1.0235 - val_accuracy: 0.6100 - val_loss: 1.1610\n",
            "Q 252+278   T 530   ☒ 44   \n",
            "Q 8+2689    T 2697  ☒ 2690 \n",
            "Q 520+0     T 520   ☒ 523  \n",
            "Q 0-9445    T -9445 ☒ -944 \n",
            "Q 41-48     T -7    ☒ -1   \n",
            "Q 4+710     T 714   ☒ 710  \n",
            "Q 541-4     T 537   ☒ 548  \n",
            "Q 25-7491   T -7466 ☒ -744 \n",
            "Q 34-3182   T -3148 ☒ -3011\n",
            "Q 56-415    T -359  ☒ -34  \n",
            "\n",
            "--------------------------------------------------\n",
            "Iteration 13\n",
            "\u001b[1m281/282\u001b[0m \u001b[32m━━━━━━━━━━━━━━━━━━━\u001b[0m\u001b[37m━\u001b[0m \u001b[1m0s\u001b[0m 14ms/step - accuracy: 0.6284 - loss: 1.0074\n",
            "Epoch 1: val_loss did not improve from 1.08223\n",
            "\u001b[1m282/282\u001b[0m \u001b[32m━━━━━━━━━━━━━━━━━━━━\u001b[0m\u001b[37m\u001b[0m \u001b[1m4s\u001b[0m 15ms/step - accuracy: 0.6284 - loss: 1.0073 - val_accuracy: 0.6172 - val_loss: 1.1279\n",
            "Q 841-6797  T -5956 ☒ -5555\n",
            "Q 572+464   T 1036  ☒ 110  \n",
            "Q 896-89    T 807   ☒ 89   \n",
            "Q 57-89     T -32   ☒ -22  \n",
            "Q 259-88    T 171   ☒ 150  \n",
            "Q 63+3420   T 3483  ☒ 3556 \n",
            "Q 1995+6366 T 8361  ☒ 655  \n",
            "Q 540+561   T 1101  ☒ 110  \n",
            "Q 284+4     T 288   ☒ 289  \n",
            "Q 619-39    T 580   ☒ 565  \n",
            "\n",
            "--------------------------------------------------\n",
            "Iteration 14\n",
            "\u001b[1m279/282\u001b[0m \u001b[32m━━━━━━━━━━━━━━━━━━━\u001b[0m\u001b[37m━\u001b[0m \u001b[1m0s\u001b[0m 9ms/step - accuracy: 0.6358 - loss: 0.9845\n",
            "Epoch 1: val_loss improved from 1.08223 to 1.02219, saving model to best_model_3.h5\n"
          ]
        },
        {
          "output_type": "stream",
          "name": "stderr",
          "text": [
            "WARNING:absl:You are saving your model as an HDF5 file via `model.save()` or `keras.saving.save_model(model)`. This file format is considered legacy. We recommend using instead the native Keras format, e.g. `model.save('my_model.keras')` or `keras.saving.save_model(model, 'my_model.keras')`. \n"
          ]
        },
        {
          "output_type": "stream",
          "name": "stdout",
          "text": [
            "\b\b\b\b\b\b\b\b\b\b\b\b\b\b\b\b\b\b\b\b\b\b\b\b\b\b\b\b\b\b\b\b\b\b\b\b\b\b\b\b\b\b\b\b\b\b\b\b\b\b\b\b\b\b\b\b\b\b\b\b\b\b\b\b\b\b\b\b\b\b\b\b\b\b\r\u001b[1m282/282\u001b[0m \u001b[32m━━━━━━━━━━━━━━━━━━━━\u001b[0m\u001b[37m\u001b[0m \u001b[1m3s\u001b[0m 10ms/step - accuracy: 0.6358 - loss: 0.9846 - val_accuracy: 0.6312 - val_loss: 1.0222\n",
            "Q 140-844   T -704  ☒ -755 \n",
            "Q 575-398   T 177   ☒ 22   \n",
            "Q 690-66    T 624   ☒ 654  \n",
            "Q 446-341   T 105   ☒ 2    \n",
            "Q 40-56     T -16   ☒ -2   \n",
            "Q 50-21     T 29    ☒ 24   \n",
            "Q 49+6262   T 6311  ☒ 6322 \n",
            "Q 879-407   T 472   ☒ 433  \n",
            "Q 0+774     T 774   ☑ 774  \n",
            "Q 50-3506   T -3456 ☒ -3465\n",
            "\n",
            "--------------------------------------------------\n",
            "Iteration 15\n",
            "\u001b[1m282/282\u001b[0m \u001b[32m━━━━━━━━━━━━━━━━━━━━\u001b[0m\u001b[37m\u001b[0m \u001b[1m0s\u001b[0m 8ms/step - accuracy: 0.6389 - loss: 0.9717\n",
            "Epoch 1: val_loss improved from 1.02219 to 1.01554, saving model to best_model_3.h5\n"
          ]
        },
        {
          "output_type": "stream",
          "name": "stderr",
          "text": [
            "WARNING:absl:You are saving your model as an HDF5 file via `model.save()` or `keras.saving.save_model(model)`. This file format is considered legacy. We recommend using instead the native Keras format, e.g. `model.save('my_model.keras')` or `keras.saving.save_model(model, 'my_model.keras')`. \n"
          ]
        },
        {
          "output_type": "stream",
          "name": "stdout",
          "text": [
            "\b\b\b\b\b\b\b\b\b\b\b\b\b\b\b\b\b\b\b\b\b\b\b\b\b\b\b\b\b\b\b\b\b\b\b\b\b\b\b\b\b\b\b\b\b\b\b\b\b\b\b\b\b\b\b\b\b\b\b\b\b\b\b\b\b\b\b\b\b\b\b\b\b\b\r\u001b[1m282/282\u001b[0m \u001b[32m━━━━━━━━━━━━━━━━━━━━\u001b[0m\u001b[37m\u001b[0m \u001b[1m3s\u001b[0m 9ms/step - accuracy: 0.6389 - loss: 0.9717 - val_accuracy: 0.6353 - val_loss: 1.0155\n",
            "Q 408+359   T 767   ☒ 766  \n",
            "Q 3+127     T 130   ☒ 124  \n",
            "Q 572+2     T 574   ☒ 579  \n",
            "Q 918+5     T 923   ☑ 923  \n",
            "Q 8+414     T 422   ☒ 427  \n",
            "Q 6+77      T 83    ☒ 86   \n",
            "Q 0-6129    T -6129 ☒ -612 \n",
            "Q 1602+305  T 1907  ☒ 1199 \n",
            "Q 9-84      T -75   ☒ -74  \n",
            "Q 3941-52   T 3889  ☒ 3999 \n",
            "\n",
            "--------------------------------------------------\n",
            "Iteration 16\n",
            "\u001b[1m281/282\u001b[0m \u001b[32m━━━━━━━━━━━━━━━━━━━\u001b[0m\u001b[37m━\u001b[0m \u001b[1m0s\u001b[0m 8ms/step - accuracy: 0.6449 - loss: 0.9539\n",
            "Epoch 1: val_loss did not improve from 1.01554\n",
            "\u001b[1m282/282\u001b[0m \u001b[32m━━━━━━━━━━━━━━━━━━━━\u001b[0m\u001b[37m\u001b[0m \u001b[1m3s\u001b[0m 9ms/step - accuracy: 0.6449 - loss: 0.9539 - val_accuracy: 0.6388 - val_loss: 1.0293\n",
            "Q 936-59    T 877   ☒ 891  \n",
            "Q 561-139   T 422   ☒ 449  \n",
            "Q 1+3529    T 3530  ☒ 3524 \n",
            "Q 71+13     T 84    ☒ 89   \n",
            "Q 36+86     T 122   ☒ 110  \n",
            "Q 69-64     T 5     ☒ 1    \n",
            "Q 8+673     T 681   ☒ 685  \n",
            "Q 6+11      T 17    ☒ 10   \n",
            "Q 70-36     T 34    ☒ 32   \n",
            "Q 81+5      T 86    ☑ 86   \n",
            "\n",
            "--------------------------------------------------\n",
            "Iteration 17\n",
            "\u001b[1m282/282\u001b[0m \u001b[32m━━━━━━━━━━━━━━━━━━━━\u001b[0m\u001b[37m\u001b[0m \u001b[1m0s\u001b[0m 9ms/step - accuracy: 0.6516 - loss: 0.9376\n",
            "Epoch 1: val_loss improved from 1.01554 to 0.97332, saving model to best_model_3.h5\n"
          ]
        },
        {
          "output_type": "stream",
          "name": "stderr",
          "text": [
            "WARNING:absl:You are saving your model as an HDF5 file via `model.save()` or `keras.saving.save_model(model)`. This file format is considered legacy. We recommend using instead the native Keras format, e.g. `model.save('my_model.keras')` or `keras.saving.save_model(model, 'my_model.keras')`. \n"
          ]
        },
        {
          "output_type": "stream",
          "name": "stdout",
          "text": [
            "\b\b\b\b\b\b\b\b\b\b\b\b\b\b\b\b\b\b\b\b\b\b\b\b\b\b\b\b\b\b\b\b\b\b\b\b\b\b\b\b\b\b\b\b\b\b\b\b\b\b\b\b\b\b\b\b\b\b\b\b\b\b\b\b\b\b\b\b\b\b\b\b\b\b\r\u001b[1m282/282\u001b[0m \u001b[32m━━━━━━━━━━━━━━━━━━━━\u001b[0m\u001b[37m\u001b[0m \u001b[1m3s\u001b[0m 9ms/step - accuracy: 0.6516 - loss: 0.9376 - val_accuracy: 0.6446 - val_loss: 0.9733\n",
            "Q 5+20      T 25    ☒ 24   \n",
            "Q 8743+69   T 8812  ☒ 877  \n",
            "Q 62+6      T 68    ☒ 66   \n",
            "Q 58-740    T -682  ☒ -677 \n",
            "Q 861+5     T 866   ☒ 867  \n",
            "Q 1+381     T 382   ☒ 380  \n",
            "Q 2022-144  T 1878  ☒ 297  \n",
            "Q 0+6256    T 6256  ☒ 6257 \n",
            "Q 960+65    T 1025  ☒ 100  \n",
            "Q 694-6     T 688   ☒ 699  \n",
            "\n",
            "--------------------------------------------------\n",
            "Iteration 18\n",
            "\u001b[1m282/282\u001b[0m \u001b[32m━━━━━━━━━━━━━━━━━━━━\u001b[0m\u001b[37m\u001b[0m \u001b[1m0s\u001b[0m 12ms/step - accuracy: 0.6594 - loss: 0.9183\n",
            "Epoch 1: val_loss improved from 0.97332 to 0.95387, saving model to best_model_3.h5\n"
          ]
        },
        {
          "output_type": "stream",
          "name": "stderr",
          "text": [
            "WARNING:absl:You are saving your model as an HDF5 file via `model.save()` or `keras.saving.save_model(model)`. This file format is considered legacy. We recommend using instead the native Keras format, e.g. `model.save('my_model.keras')` or `keras.saving.save_model(model, 'my_model.keras')`. \n"
          ]
        },
        {
          "output_type": "stream",
          "name": "stdout",
          "text": [
            "\b\b\b\b\b\b\b\b\b\b\b\b\b\b\b\b\b\b\b\b\b\b\b\b\b\b\b\b\b\b\b\b\b\b\b\b\b\b\b\b\b\b\b\b\b\b\b\b\b\b\b\b\b\b\b\b\b\b\b\b\b\b\b\b\b\b\b\b\b\b\b\b\b\b\b\r\u001b[1m282/282\u001b[0m \u001b[32m━━━━━━━━━━━━━━━━━━━━\u001b[0m\u001b[37m\u001b[0m \u001b[1m4s\u001b[0m 14ms/step - accuracy: 0.6594 - loss: 0.9183 - val_accuracy: 0.6505 - val_loss: 0.9539\n",
            "Q 43+3      T 46    ☒ 43   \n",
            "Q 874-52    T 822   ☒ 819  \n",
            "Q 60+86     T 146   ☒ 144  \n",
            "Q 226+19    T 245   ☒ 234  \n",
            "Q 99-66     T 33    ☒ 32   \n",
            "Q 1470+888  T 2358  ☒ 1445 \n",
            "Q 541+9870  T 10411 ☒ 1440 \n",
            "Q 64+44     T 108   ☒ 110  \n",
            "Q 438+66    T 504   ☒ 596  \n",
            "Q 7210-3055 T 4155  ☒ 255  \n",
            "\n",
            "--------------------------------------------------\n",
            "Iteration 19\n",
            "\u001b[1m280/282\u001b[0m \u001b[32m━━━━━━━━━━━━━━━━━━━\u001b[0m\u001b[37m━\u001b[0m \u001b[1m0s\u001b[0m 9ms/step - accuracy: 0.6635 - loss: 0.9043\n",
            "Epoch 1: val_loss did not improve from 0.95387\n",
            "\u001b[1m282/282\u001b[0m \u001b[32m━━━━━━━━━━━━━━━━━━━━\u001b[0m\u001b[37m\u001b[0m \u001b[1m3s\u001b[0m 9ms/step - accuracy: 0.6635 - loss: 0.9043 - val_accuracy: 0.6465 - val_loss: 1.0161\n",
            "Q 909+279   T 1188  ☒ 105  \n",
            "Q 58-2325   T -2267 ☒ -226 \n",
            "Q 6595-9    T 6586  ☒ 6690 \n",
            "Q 8-64      T -56   ☒ -55  \n",
            "Q 319+7     T 326   ☒ 324  \n",
            "Q 5-491     T -486  ☒ -48  \n",
            "Q 437-96    T 341   ☒ 346  \n",
            "Q 19+53     T 72    ☒ 66   \n",
            "Q 28-995    T -967  ☒ -966 \n",
            "Q 949+5     T 954   ☒ 955  \n",
            "\n",
            "--------------------------------------------------\n",
            "Iteration 20\n",
            "\u001b[1m281/282\u001b[0m \u001b[32m━━━━━━━━━━━━━━━━━━━\u001b[0m\u001b[37m━\u001b[0m \u001b[1m0s\u001b[0m 12ms/step - accuracy: 0.6727 - loss: 0.8832\n",
            "Epoch 1: val_loss did not improve from 0.95387\n",
            "\u001b[1m282/282\u001b[0m \u001b[32m━━━━━━━━━━━━━━━━━━━━\u001b[0m\u001b[37m\u001b[0m \u001b[1m4s\u001b[0m 13ms/step - accuracy: 0.6727 - loss: 0.8833 - val_accuracy: 0.6528 - val_loss: 1.1004\n",
            "Q 9+83      T 92    ☒ 90   \n",
            "Q 696-38    T 658   ☒ 632  \n",
            "Q 89+687    T 776   ☒ 766  \n",
            "Q 367+9913  T 10280 ☒ 1055 \n",
            "Q 5+207     T 212   ☑ 212  \n",
            "Q 8-195     T -187  ☒ -18  \n",
            "Q 3+2999    T 3002  ☒ 209  \n",
            "Q 21+356    T 377   ☒ 37   \n",
            "Q 2689-60   T 2629  ☒ 253  \n",
            "Q 6+1397    T 1403  ☒ 1309 \n",
            "\n",
            "--------------------------------------------------\n",
            "Iteration 21\n",
            "\u001b[1m277/282\u001b[0m \u001b[32m━━━━━━━━━━━━━━━━━━━\u001b[0m\u001b[37m━\u001b[0m \u001b[1m0s\u001b[0m 10ms/step - accuracy: 0.6746 - loss: 0.8735\n",
            "Epoch 1: val_loss improved from 0.95387 to 0.92566, saving model to best_model_3.h5\n"
          ]
        },
        {
          "output_type": "stream",
          "name": "stderr",
          "text": [
            "WARNING:absl:You are saving your model as an HDF5 file via `model.save()` or `keras.saving.save_model(model)`. This file format is considered legacy. We recommend using instead the native Keras format, e.g. `model.save('my_model.keras')` or `keras.saving.save_model(model, 'my_model.keras')`. \n"
          ]
        },
        {
          "output_type": "stream",
          "name": "stdout",
          "text": [
            "\b\b\b\b\b\b\b\b\b\b\b\b\b\b\b\b\b\b\b\b\b\b\b\b\b\b\b\b\b\b\b\b\b\b\b\b\b\b\b\b\b\b\b\b\b\b\b\b\b\b\b\b\b\b\b\b\b\b\b\b\b\b\b\b\b\b\b\b\b\b\b\b\b\b\b\r\u001b[1m282/282\u001b[0m \u001b[32m━━━━━━━━━━━━━━━━━━━━\u001b[0m\u001b[37m\u001b[0m \u001b[1m3s\u001b[0m 11ms/step - accuracy: 0.6746 - loss: 0.8735 - val_accuracy: 0.6625 - val_loss: 0.9257\n",
            "Q 714+7     T 721   ☒ 710  \n",
            "Q 206-20    T 186   ☒ 198  \n",
            "Q 0-7558    T -7558 ☒ -6558\n",
            "Q 949+0     T 949   ☒ 959  \n",
            "Q 911+958   T 1869  ☒ 1050 \n",
            "Q 655-3     T 652   ☑ 652  \n",
            "Q 95-168    T -73   ☒ -88  \n",
            "Q 417+2     T 419   ☒ 410  \n",
            "Q 922+7     T 929   ☑ 929  \n",
            "Q 55+820    T 875   ☒ 877  \n",
            "\n",
            "--------------------------------------------------\n",
            "Iteration 22\n",
            "\u001b[1m277/282\u001b[0m \u001b[32m━━━━━━━━━━━━━━━━━━━\u001b[0m\u001b[37m━\u001b[0m \u001b[1m0s\u001b[0m 9ms/step - accuracy: 0.6844 - loss: 0.8495\n",
            "Epoch 1: val_loss improved from 0.92566 to 0.89148, saving model to best_model_3.h5\n"
          ]
        },
        {
          "output_type": "stream",
          "name": "stderr",
          "text": [
            "WARNING:absl:You are saving your model as an HDF5 file via `model.save()` or `keras.saving.save_model(model)`. This file format is considered legacy. We recommend using instead the native Keras format, e.g. `model.save('my_model.keras')` or `keras.saving.save_model(model, 'my_model.keras')`. \n"
          ]
        },
        {
          "output_type": "stream",
          "name": "stdout",
          "text": [
            "\b\b\b\b\b\b\b\b\b\b\b\b\b\b\b\b\b\b\b\b\b\b\b\b\b\b\b\b\b\b\b\b\b\b\b\b\b\b\b\b\b\b\b\b\b\b\b\b\b\b\b\b\b\b\b\b\b\b\b\b\b\b\b\b\b\b\b\b\b\b\b\b\b\b\r\u001b[1m282/282\u001b[0m \u001b[32m━━━━━━━━━━━━━━━━━━━━\u001b[0m\u001b[37m\u001b[0m \u001b[1m3s\u001b[0m 9ms/step - accuracy: 0.6844 - loss: 0.8496 - val_accuracy: 0.6698 - val_loss: 0.8915\n",
            "Q 716+43    T 759   ☒ 767  \n",
            "Q 888+811   T 1699  ☒ 1680 \n",
            "Q 8+592     T 600   ☑ 600  \n",
            "Q 0-1684    T -1684 ☒ -168 \n",
            "Q 140-844   T -704  ☒ -755 \n",
            "Q 738+9     T 747   ☒ 745  \n",
            "Q 583+552   T 1135  ☒ 1100 \n",
            "Q 1+945     T 946   ☒ 945  \n",
            "Q 34+6154   T 6188  ☒ 6109 \n",
            "Q 46-0      T 46    ☑ 46   \n",
            "\n",
            "--------------------------------------------------\n",
            "Iteration 23\n",
            "\u001b[1m280/282\u001b[0m \u001b[32m━━━━━━━━━━━━━━━━━━━\u001b[0m\u001b[37m━\u001b[0m \u001b[1m0s\u001b[0m 9ms/step - accuracy: 0.6903 - loss: 0.8274\n",
            "Epoch 1: val_loss improved from 0.89148 to 0.87252, saving model to best_model_3.h5\n"
          ]
        },
        {
          "output_type": "stream",
          "name": "stderr",
          "text": [
            "WARNING:absl:You are saving your model as an HDF5 file via `model.save()` or `keras.saving.save_model(model)`. This file format is considered legacy. We recommend using instead the native Keras format, e.g. `model.save('my_model.keras')` or `keras.saving.save_model(model, 'my_model.keras')`. \n"
          ]
        },
        {
          "output_type": "stream",
          "name": "stdout",
          "text": [
            "\b\b\b\b\b\b\b\b\b\b\b\b\b\b\b\b\b\b\b\b\b\b\b\b\b\b\b\b\b\b\b\b\b\b\b\b\b\b\b\b\b\b\b\b\b\b\b\b\b\b\b\b\b\b\b\b\b\b\b\b\b\b\b\b\b\b\b\b\b\b\b\b\b\b\r\u001b[1m282/282\u001b[0m \u001b[32m━━━━━━━━━━━━━━━━━━━━\u001b[0m\u001b[37m\u001b[0m \u001b[1m3s\u001b[0m 11ms/step - accuracy: 0.6902 - loss: 0.8274 - val_accuracy: 0.6738 - val_loss: 0.8725\n",
            "Q 33+4561   T 4594  ☒ 4611 \n",
            "Q 901+752   T 1653  ☒ 1655 \n",
            "Q 644-9667  T -9023 ☒ -8000\n",
            "Q 443+5     T 448   ☒ 440  \n",
            "Q 6-73      T -67   ☒ -68  \n",
            "Q 50-2      T 48    ☒ 49   \n",
            "Q 17-72     T -55   ☒ -53  \n",
            "Q 45-96     T -51   ☒ -50  \n",
            "Q 19+53     T 72    ☒ 73   \n",
            "Q 5664-989  T 4675  ☒ 4777 \n",
            "\n",
            "--------------------------------------------------\n",
            "Iteration 24\n",
            "\u001b[1m282/282\u001b[0m \u001b[32m━━━━━━━━━━━━━━━━━━━━\u001b[0m\u001b[37m\u001b[0m \u001b[1m0s\u001b[0m 8ms/step - accuracy: 0.6910 - loss: 0.8240\n",
            "Epoch 1: val_loss did not improve from 0.87252\n",
            "\u001b[1m282/282\u001b[0m \u001b[32m━━━━━━━━━━━━━━━━━━━━\u001b[0m\u001b[37m\u001b[0m \u001b[1m3s\u001b[0m 9ms/step - accuracy: 0.6910 - loss: 0.8240 - val_accuracy: 0.6754 - val_loss: 0.8924\n",
            "Q 449+51    T 500   ☒ 497  \n",
            "Q 691+5     T 696   ☑ 696  \n",
            "Q 867-65    T 802   ☒ 891  \n",
            "Q 1467-60   T 1407  ☒ 1437 \n",
            "Q 9651-8    T 9643  ☒ 9645 \n",
            "Q 98+424    T 522   ☒ 523  \n",
            "Q 799+683   T 1482  ☒ 1456 \n",
            "Q 1550+668  T 2218  ☒ 198  \n",
            "Q 3407-6444 T -3037 ☒ -2955\n",
            "Q 333+3     T 336   ☒ 33   \n",
            "\n",
            "--------------------------------------------------\n",
            "Iteration 25\n",
            "\u001b[1m282/282\u001b[0m \u001b[32m━━━━━━━━━━━━━━━━━━━━\u001b[0m\u001b[37m\u001b[0m \u001b[1m0s\u001b[0m 8ms/step - accuracy: 0.7021 - loss: 0.7920\n",
            "Epoch 1: val_loss did not improve from 0.87252\n",
            "\u001b[1m282/282\u001b[0m \u001b[32m━━━━━━━━━━━━━━━━━━━━\u001b[0m\u001b[37m\u001b[0m \u001b[1m3s\u001b[0m 9ms/step - accuracy: 0.7021 - loss: 0.7921 - val_accuracy: 0.6776 - val_loss: 0.8855\n",
            "Q 48+84     T 132   ☑ 132  \n",
            "Q 1+86      T 87    ☑ 87   \n",
            "Q 609-6337  T -5728 ☒ -5645\n",
            "Q 4541-851  T 3690  ☒ 387  \n",
            "Q 3+38      T 41    ☑ 41   \n",
            "Q 42+3      T 45    ☒ 47   \n",
            "Q 21+356    T 377   ☒ 376  \n",
            "Q 34-3182   T -3148 ☒ -3156\n",
            "Q 7-1753    T -1746 ☒ -173 \n",
            "Q 66+46     T 112   ☒ 111  \n",
            "\n",
            "--------------------------------------------------\n",
            "Iteration 26\n",
            "\u001b[1m278/282\u001b[0m \u001b[32m━━━━━━━━━━━━━━━━━━━\u001b[0m\u001b[37m━\u001b[0m \u001b[1m0s\u001b[0m 8ms/step - accuracy: 0.7073 - loss: 0.7780\n",
            "Epoch 1: val_loss improved from 0.87252 to 0.82851, saving model to best_model_3.h5\n"
          ]
        },
        {
          "output_type": "stream",
          "name": "stderr",
          "text": [
            "WARNING:absl:You are saving your model as an HDF5 file via `model.save()` or `keras.saving.save_model(model)`. This file format is considered legacy. We recommend using instead the native Keras format, e.g. `model.save('my_model.keras')` or `keras.saving.save_model(model, 'my_model.keras')`. \n"
          ]
        },
        {
          "output_type": "stream",
          "name": "stdout",
          "text": [
            "\b\b\b\b\b\b\b\b\b\b\b\b\b\b\b\b\b\b\b\b\b\b\b\b\b\b\b\b\b\b\b\b\b\b\b\b\b\b\b\b\b\b\b\b\b\b\b\b\b\b\b\b\b\b\b\b\b\b\b\b\b\b\b\b\b\b\b\b\b\b\b\b\b\b\r\u001b[1m282/282\u001b[0m \u001b[32m━━━━━━━━━━━━━━━━━━━━\u001b[0m\u001b[37m\u001b[0m \u001b[1m3s\u001b[0m 9ms/step - accuracy: 0.7073 - loss: 0.7780 - val_accuracy: 0.6926 - val_loss: 0.8285\n",
            "Q 264-8     T 256   ☑ 256  \n",
            "Q 794+71    T 865   ☒ 866  \n",
            "Q 1+61      T 62    ☑ 62   \n",
            "Q 1+8981    T 8982  ☒ 8990 \n",
            "Q 20-5181   T -5161 ☒ -5170\n",
            "Q 84+214    T 298   ☒ 299  \n",
            "Q 4-36      T -32   ☑ -32  \n",
            "Q 218+0     T 218   ☑ 218  \n",
            "Q 6000+76   T 6076  ☑ 6076 \n",
            "Q 1968+5    T 1973  ☒ 1969 \n",
            "\n",
            "--------------------------------------------------\n",
            "Iteration 27\n",
            "\u001b[1m278/282\u001b[0m \u001b[32m━━━━━━━━━━━━━━━━━━━\u001b[0m\u001b[37m━\u001b[0m \u001b[1m0s\u001b[0m 8ms/step - accuracy: 0.7119 - loss: 0.7618\n",
            "Epoch 1: val_loss did not improve from 0.82851\n",
            "\u001b[1m282/282\u001b[0m \u001b[32m━━━━━━━━━━━━━━━━━━━━\u001b[0m\u001b[37m\u001b[0m \u001b[1m3s\u001b[0m 9ms/step - accuracy: 0.7119 - loss: 0.7618 - val_accuracy: 0.6932 - val_loss: 0.8301\n",
            "Q 4589-96   T 4493  ☒ 4595 \n",
            "Q 73+9758   T 9831  ☒ 9840 \n",
            "Q 2618-2    T 2616  ☒ 2619 \n",
            "Q 873-9     T 864   ☒ 865  \n",
            "Q 86-71     T 15    ☒ 6    \n",
            "Q 72+63     T 135   ☒ 134  \n",
            "Q 96+259    T 355   ☒ 356  \n",
            "Q 3196+3217 T 6413  ☒ 656  \n",
            "Q 9026-247  T 8779  ☒ 7799 \n",
            "Q 650-10    T 640   ☑ 640  \n",
            "\n",
            "--------------------------------------------------\n",
            "Iteration 28\n",
            "\u001b[1m280/282\u001b[0m \u001b[32m━━━━━━━━━━━━━━━━━━━\u001b[0m\u001b[37m━\u001b[0m \u001b[1m0s\u001b[0m 8ms/step - accuracy: 0.7191 - loss: 0.7412\n",
            "Epoch 1: val_loss improved from 0.82851 to 0.79345, saving model to best_model_3.h5\n"
          ]
        },
        {
          "output_type": "stream",
          "name": "stderr",
          "text": [
            "WARNING:absl:You are saving your model as an HDF5 file via `model.save()` or `keras.saving.save_model(model)`. This file format is considered legacy. We recommend using instead the native Keras format, e.g. `model.save('my_model.keras')` or `keras.saving.save_model(model, 'my_model.keras')`. \n"
          ]
        },
        {
          "output_type": "stream",
          "name": "stdout",
          "text": [
            "\b\b\b\b\b\b\b\b\b\b\b\b\b\b\b\b\b\b\b\b\b\b\b\b\b\b\b\b\b\b\b\b\b\b\b\b\b\b\b\b\b\b\b\b\b\b\b\b\b\b\b\b\b\b\b\b\b\b\b\b\b\b\b\b\b\b\b\b\b\b\b\b\b\b\r\u001b[1m282/282\u001b[0m \u001b[32m━━━━━━━━━━━━━━━━━━━━\u001b[0m\u001b[37m\u001b[0m \u001b[1m3s\u001b[0m 10ms/step - accuracy: 0.7191 - loss: 0.7413 - val_accuracy: 0.7050 - val_loss: 0.7935\n",
            "Q 1049-1    T 1048  ☒ 1045 \n",
            "Q 417+2     T 419   ☒ 411  \n",
            "Q 8-274     T -266  ☑ -266 \n",
            "Q 1493-909  T 584   ☒ 64   \n",
            "Q 3+5344    T 5347  ☑ 5347 \n",
            "Q 56+49     T 105   ☒ 104  \n",
            "Q 738+77    T 815   ☒ 712  \n",
            "Q 2879-26   T 2853  ☑ 2853 \n",
            "Q 16-58     T -42   ☒ -43  \n",
            "Q 2477+6    T 2483  ☒ 2589 \n",
            "\n",
            "--------------------------------------------------\n",
            "Iteration 29\n",
            "\u001b[1m280/282\u001b[0m \u001b[32m━━━━━━━━━━━━━━━━━━━\u001b[0m\u001b[37m━\u001b[0m \u001b[1m0s\u001b[0m 12ms/step - accuracy: 0.7264 - loss: 0.7223\n",
            "Epoch 1: val_loss did not improve from 0.79345\n",
            "\u001b[1m282/282\u001b[0m \u001b[32m━━━━━━━━━━━━━━━━━━━━\u001b[0m\u001b[37m\u001b[0m \u001b[1m3s\u001b[0m 12ms/step - accuracy: 0.7263 - loss: 0.7223 - val_accuracy: 0.7003 - val_loss: 0.8212\n",
            "Q 9048+153  T 9201  ☒ 9123 \n",
            "Q 1765+859  T 2624  ☒ 1344 \n",
            "Q 6636+514  T 7150  ☒ 7769 \n",
            "Q 640+23    T 663   ☒ 666  \n",
            "Q 0-482     T -482  ☑ -482 \n",
            "Q 639+9578  T 10217 ☒ 10000\n",
            "Q 3143-362  T 2781  ☒ 278  \n",
            "Q 13+376    T 389   ☒ 399  \n",
            "Q 561-710   T -149  ☒ -12  \n",
            "Q 22+62     T 84    ☒ 88   \n",
            "\n",
            "--------------------------------------------------\n",
            "Iteration 30\n",
            "\u001b[1m278/282\u001b[0m \u001b[32m━━━━━━━━━━━━━━━━━━━\u001b[0m\u001b[37m━\u001b[0m \u001b[1m0s\u001b[0m 8ms/step - accuracy: 0.7293 - loss: 0.7096\n",
            "Epoch 1: val_loss did not improve from 0.79345\n",
            "\u001b[1m282/282\u001b[0m \u001b[32m━━━━━━━━━━━━━━━━━━━━\u001b[0m\u001b[37m\u001b[0m \u001b[1m3s\u001b[0m 9ms/step - accuracy: 0.7293 - loss: 0.7096 - val_accuracy: 0.6975 - val_loss: 0.8064\n",
            "Q 206+1     T 207   ☒ 206  \n",
            "Q 0+3527    T 3527  ☒ 3528 \n",
            "Q 4701+1    T 4702  ☒ 4711 \n",
            "Q 277-1856  T -1579 ☒ -1544\n",
            "Q 433+6112  T 6545  ☒ 6562 \n",
            "Q 5555-325  T 5230  ☒ 5288 \n",
            "Q 6780+71   T 6851  ☒ 6890 \n",
            "Q 56-77     T -21   ☑ -21  \n",
            "Q 8099+2783 T 10882 ☒ 1177 \n",
            "Q 875+180   T 1055  ☒ 1156 \n",
            "\n",
            "--------------------------------------------------\n",
            "Iteration 31\n",
            "\u001b[1m282/282\u001b[0m \u001b[32m━━━━━━━━━━━━━━━━━━━━\u001b[0m\u001b[37m\u001b[0m \u001b[1m0s\u001b[0m 8ms/step - accuracy: 0.7339 - loss: 0.6992\n",
            "Epoch 1: val_loss did not improve from 0.79345\n",
            "\u001b[1m282/282\u001b[0m \u001b[32m━━━━━━━━━━━━━━━━━━━━\u001b[0m\u001b[37m\u001b[0m \u001b[1m3s\u001b[0m 9ms/step - accuracy: 0.7339 - loss: 0.6992 - val_accuracy: 0.7125 - val_loss: 0.7942\n",
            "Q 24-47     T -23   ☒ -33  \n",
            "Q 480+2     T 482   ☑ 482  \n",
            "Q 1952+83   T 2035  ☒ 2959 \n",
            "Q 56+4      T 60    ☑ 60   \n",
            "Q 2920+6    T 2926  ☒ 2922 \n",
            "Q 16-58     T -42   ☑ -42  \n",
            "Q 35-808    T -773  ☒ -777 \n",
            "Q 20-2791   T -2771 ☒ -2779\n",
            "Q 78+0      T 78    ☑ 78   \n",
            "Q 79-72     T 7     ☒ 1    \n",
            "\n",
            "--------------------------------------------------\n",
            "Iteration 32\n",
            "\u001b[1m280/282\u001b[0m \u001b[32m━━━━━━━━━━━━━━━━━━━\u001b[0m\u001b[37m━\u001b[0m \u001b[1m0s\u001b[0m 9ms/step - accuracy: 0.7421 - loss: 0.6783\n",
            "Epoch 1: val_loss improved from 0.79345 to 0.77864, saving model to best_model_3.h5\n"
          ]
        },
        {
          "output_type": "stream",
          "name": "stderr",
          "text": [
            "WARNING:absl:You are saving your model as an HDF5 file via `model.save()` or `keras.saving.save_model(model)`. This file format is considered legacy. We recommend using instead the native Keras format, e.g. `model.save('my_model.keras')` or `keras.saving.save_model(model, 'my_model.keras')`. \n"
          ]
        },
        {
          "output_type": "stream",
          "name": "stdout",
          "text": [
            "\b\b\b\b\b\b\b\b\b\b\b\b\b\b\b\b\b\b\b\b\b\b\b\b\b\b\b\b\b\b\b\b\b\b\b\b\b\b\b\b\b\b\b\b\b\b\b\b\b\b\b\b\b\b\b\b\b\b\b\b\b\b\b\b\b\b\b\b\b\b\b\b\b\b\r\u001b[1m282/282\u001b[0m \u001b[32m━━━━━━━━━━━━━━━━━━━━\u001b[0m\u001b[37m\u001b[0m \u001b[1m3s\u001b[0m 9ms/step - accuracy: 0.7421 - loss: 0.6783 - val_accuracy: 0.7157 - val_loss: 0.7786\n",
            "Q 26-8990   T -8964 ☒ -8855\n",
            "Q 2830+342  T 3172  ☒ 2452 \n",
            "Q 170-714   T -544  ☑ -544 \n",
            "Q 7112+7527 T 14639 ☒ 13442\n",
            "Q 1224+7912 T 9136  ☒ 9810 \n",
            "Q 589+4     T 593   ☑ 593  \n",
            "Q 207+4747  T 4954  ☒ 4989 \n",
            "Q 2920+6    T 2926  ☒ 2922 \n",
            "Q 81+13     T 94    ☒ 96   \n",
            "Q 7564+7    T 7571  ☒ 7559 \n",
            "\n",
            "--------------------------------------------------\n",
            "Iteration 33\n",
            "\u001b[1m280/282\u001b[0m \u001b[32m━━━━━━━━━━━━━━━━━━━\u001b[0m\u001b[37m━\u001b[0m \u001b[1m0s\u001b[0m 8ms/step - accuracy: 0.7466 - loss: 0.6644\n",
            "Epoch 1: val_loss improved from 0.77864 to 0.74745, saving model to best_model_3.h5\n"
          ]
        },
        {
          "output_type": "stream",
          "name": "stderr",
          "text": [
            "WARNING:absl:You are saving your model as an HDF5 file via `model.save()` or `keras.saving.save_model(model)`. This file format is considered legacy. We recommend using instead the native Keras format, e.g. `model.save('my_model.keras')` or `keras.saving.save_model(model, 'my_model.keras')`. \n"
          ]
        },
        {
          "output_type": "stream",
          "name": "stdout",
          "text": [
            "\b\b\b\b\b\b\b\b\b\b\b\b\b\b\b\b\b\b\b\b\b\b\b\b\b\b\b\b\b\b\b\b\b\b\b\b\b\b\b\b\b\b\b\b\b\b\b\b\b\b\b\b\b\b\b\b\b\b\b\b\b\b\b\b\b\b\b\b\b\b\b\b\b\b\r\u001b[1m282/282\u001b[0m \u001b[32m━━━━━━━━━━━━━━━━━━━━\u001b[0m\u001b[37m\u001b[0m \u001b[1m3s\u001b[0m 9ms/step - accuracy: 0.7466 - loss: 0.6644 - val_accuracy: 0.7217 - val_loss: 0.7475\n",
            "Q 5986+517  T 6503  ☒ 6500 \n",
            "Q 219-2     T 217   ☒ 216  \n",
            "Q 187+0     T 187   ☑ 187  \n",
            "Q 4452-7000 T -2548 ☒ -1667\n",
            "Q 0-33      T -33   ☑ -33  \n",
            "Q 4+219     T 223   ☑ 223  \n",
            "Q 4+3       T 7     ☒ 6    \n",
            "Q 9605+6049 T 15654 ☒ 15458\n",
            "Q 8314+9589 T 17903 ☒ 17666\n",
            "Q 3-7654    T -7651 ☒ -7652\n",
            "\n",
            "--------------------------------------------------\n",
            "Iteration 34\n",
            "\u001b[1m276/282\u001b[0m \u001b[32m━━━━━━━━━━━━━━━━━━━\u001b[0m\u001b[37m━\u001b[0m \u001b[1m0s\u001b[0m 8ms/step - accuracy: 0.7517 - loss: 0.6520\n",
            "Epoch 1: val_loss did not improve from 0.74745\n",
            "\u001b[1m282/282\u001b[0m \u001b[32m━━━━━━━━━━━━━━━━━━━━\u001b[0m\u001b[37m\u001b[0m \u001b[1m3s\u001b[0m 9ms/step - accuracy: 0.7518 - loss: 0.6519 - val_accuracy: 0.7253 - val_loss: 0.7679\n",
            "Q 0-7035    T -7035 ☒ -7033\n",
            "Q 214-5     T 209   ☑ 209  \n",
            "Q 5500-9    T 5491  ☒ 5500 \n",
            "Q 3270+4    T 3274  ☒ 3276 \n",
            "Q 438-794   T -356  ☒ -347 \n",
            "Q 608-6     T 602   ☒ 601  \n",
            "Q 80+2647   T 2727  ☒ 2723 \n",
            "Q 24+4088   T 4112  ☒ 4018 \n",
            "Q 4+3565    T 3569  ☒ 3578 \n",
            "Q 5-1573    T -1568 ☒ -156 \n",
            "\n",
            "--------------------------------------------------\n",
            "Iteration 35\n",
            "\u001b[1m276/282\u001b[0m \u001b[32m━━━━━━━━━━━━━━━━━━━\u001b[0m\u001b[37m━\u001b[0m \u001b[1m0s\u001b[0m 8ms/step - accuracy: 0.7596 - loss: 0.6315\n",
            "Epoch 1: val_loss did not improve from 0.74745\n",
            "\u001b[1m282/282\u001b[0m \u001b[32m━━━━━━━━━━━━━━━━━━━━\u001b[0m\u001b[37m\u001b[0m \u001b[1m3s\u001b[0m 9ms/step - accuracy: 0.7596 - loss: 0.6316 - val_accuracy: 0.7280 - val_loss: 0.7719\n",
            "Q 5-8780    T -8775 ☒ -8776\n",
            "Q 29-6517   T -6488 ☒ -6498\n",
            "Q 43+114    T 157   ☒ 156  \n",
            "Q 894-27    T 867   ☒ 878  \n",
            "Q 410-6     T 404   ☑ 404  \n",
            "Q 3-83      T -80   ☑ -80  \n",
            "Q 97+119    T 216   ☑ 216  \n",
            "Q 980-955   T 25    ☒ 3    \n",
            "Q 73-664    T -591  ☒ -590 \n",
            "Q 89-7165   T -7076 ☒ -7086\n",
            "\n",
            "--------------------------------------------------\n",
            "Iteration 36\n",
            "\u001b[1m277/282\u001b[0m \u001b[32m━━━━━━━━━━━━━━━━━━━\u001b[0m\u001b[37m━\u001b[0m \u001b[1m0s\u001b[0m 8ms/step - accuracy: 0.7631 - loss: 0.6180\n",
            "Epoch 1: val_loss improved from 0.74745 to 0.72353, saving model to best_model_3.h5\n"
          ]
        },
        {
          "output_type": "stream",
          "name": "stderr",
          "text": [
            "WARNING:absl:You are saving your model as an HDF5 file via `model.save()` or `keras.saving.save_model(model)`. This file format is considered legacy. We recommend using instead the native Keras format, e.g. `model.save('my_model.keras')` or `keras.saving.save_model(model, 'my_model.keras')`. \n"
          ]
        },
        {
          "output_type": "stream",
          "name": "stdout",
          "text": [
            "\b\b\b\b\b\b\b\b\b\b\b\b\b\b\b\b\b\b\b\b\b\b\b\b\b\b\b\b\b\b\b\b\b\b\b\b\b\b\b\b\b\b\b\b\b\b\b\b\b\b\b\b\b\b\b\b\b\b\b\b\b\b\b\b\b\b\b\b\b\b\b\b\b\b\r\u001b[1m282/282\u001b[0m \u001b[32m━━━━━━━━━━━━━━━━━━━━\u001b[0m\u001b[37m\u001b[0m \u001b[1m3s\u001b[0m 9ms/step - accuracy: 0.7632 - loss: 0.6180 - val_accuracy: 0.7297 - val_loss: 0.7235\n",
            "Q 310+74    T 384   ☒ 387  \n",
            "Q 67-4      T 63    ☑ 63   \n",
            "Q 368+2     T 370   ☑ 370  \n",
            "Q 45-69     T -24   ☑ -24  \n",
            "Q 2-572     T -570  ☒ -560 \n",
            "Q 92+62     T 154   ☒ 153  \n",
            "Q 8+561     T 569   ☒ 579  \n",
            "Q 80+8      T 88    ☑ 88   \n",
            "Q 9905-32   T 9873  ☒ 9878 \n",
            "Q 20+464    T 484   ☒ 487  \n",
            "\n",
            "--------------------------------------------------\n",
            "Iteration 37\n",
            "\u001b[1m279/282\u001b[0m \u001b[32m━━━━━━━━━━━━━━━━━━━\u001b[0m\u001b[37m━\u001b[0m \u001b[1m0s\u001b[0m 8ms/step - accuracy: 0.7680 - loss: 0.6038\n",
            "Epoch 1: val_loss improved from 0.72353 to 0.71882, saving model to best_model_3.h5\n"
          ]
        },
        {
          "output_type": "stream",
          "name": "stderr",
          "text": [
            "WARNING:absl:You are saving your model as an HDF5 file via `model.save()` or `keras.saving.save_model(model)`. This file format is considered legacy. We recommend using instead the native Keras format, e.g. `model.save('my_model.keras')` or `keras.saving.save_model(model, 'my_model.keras')`. \n"
          ]
        },
        {
          "output_type": "stream",
          "name": "stdout",
          "text": [
            "\b\b\b\b\b\b\b\b\b\b\b\b\b\b\b\b\b\b\b\b\b\b\b\b\b\b\b\b\b\b\b\b\b\b\b\b\b\b\b\b\b\b\b\b\b\b\b\b\b\b\b\b\b\b\b\b\b\b\b\b\b\b\b\b\b\b\b\b\b\b\b\b\b\b\r\u001b[1m282/282\u001b[0m \u001b[32m━━━━━━━━━━━━━━━━━━━━\u001b[0m\u001b[37m\u001b[0m \u001b[1m3s\u001b[0m 10ms/step - accuracy: 0.7681 - loss: 0.6038 - val_accuracy: 0.7403 - val_loss: 0.7188\n",
            "Q 9-15      T -6    ☒ -    \n",
            "Q 8+644     T 652   ☒ 651  \n",
            "Q 7866+5    T 7871  ☒ 7860 \n",
            "Q 21+531    T 552   ☒ 542  \n",
            "Q 0-5078    T -5078 ☑ -5078\n",
            "Q 72+6052   T 6124  ☒ 6022 \n",
            "Q 11-83     T -72   ☒ -73  \n",
            "Q 205+71    T 276   ☑ 276  \n",
            "Q 421-384   T 37    ☒ 44   \n",
            "Q 465+47    T 512   ☒ 51   \n",
            "\n",
            "--------------------------------------------------\n",
            "Iteration 38\n",
            "\u001b[1m277/282\u001b[0m \u001b[32m━━━━━━━━━━━━━━━━━━━\u001b[0m\u001b[37m━\u001b[0m \u001b[1m0s\u001b[0m 8ms/step - accuracy: 0.7761 - loss: 0.5848\n",
            "Epoch 1: val_loss improved from 0.71882 to 0.67398, saving model to best_model_3.h5\n"
          ]
        },
        {
          "output_type": "stream",
          "name": "stderr",
          "text": [
            "WARNING:absl:You are saving your model as an HDF5 file via `model.save()` or `keras.saving.save_model(model)`. This file format is considered legacy. We recommend using instead the native Keras format, e.g. `model.save('my_model.keras')` or `keras.saving.save_model(model, 'my_model.keras')`. \n"
          ]
        },
        {
          "output_type": "stream",
          "name": "stdout",
          "text": [
            "\b\b\b\b\b\b\b\b\b\b\b\b\b\b\b\b\b\b\b\b\b\b\b\b\b\b\b\b\b\b\b\b\b\b\b\b\b\b\b\b\b\b\b\b\b\b\b\b\b\b\b\b\b\b\b\b\b\b\b\b\b\b\b\b\b\b\b\b\b\b\b\b\b\b\r\u001b[1m282/282\u001b[0m \u001b[32m━━━━━━━━━━━━━━━━━━━━\u001b[0m\u001b[37m\u001b[0m \u001b[1m3s\u001b[0m 9ms/step - accuracy: 0.7761 - loss: 0.5848 - val_accuracy: 0.7501 - val_loss: 0.6740\n",
            "Q 154-71    T 83    ☒ 14   \n",
            "Q 510+124   T 634   ☒ 644  \n",
            "Q 4741+462  T 5203  ☒ 5201 \n",
            "Q 799+683   T 1482  ☒ 1584 \n",
            "Q 3910+9    T 3919  ☑ 3919 \n",
            "Q 476-467   T 9     ☒ 10   \n",
            "Q 86+859    T 945   ☒ 954  \n",
            "Q 6273-44   T 6229  ☒ 6220 \n",
            "Q 9707-8604 T 1103  ☒ 100  \n",
            "Q 73+9758   T 9831  ☒ 9832 \n",
            "\n",
            "--------------------------------------------------\n",
            "Iteration 39\n",
            "\u001b[1m277/282\u001b[0m \u001b[32m━━━━━━━━━━━━━━━━━━━\u001b[0m\u001b[37m━\u001b[0m \u001b[1m0s\u001b[0m 9ms/step - accuracy: 0.7822 - loss: 0.5672\n",
            "Epoch 1: val_loss improved from 0.67398 to 0.65777, saving model to best_model_3.h5\n"
          ]
        },
        {
          "output_type": "stream",
          "name": "stderr",
          "text": [
            "WARNING:absl:You are saving your model as an HDF5 file via `model.save()` or `keras.saving.save_model(model)`. This file format is considered legacy. We recommend using instead the native Keras format, e.g. `model.save('my_model.keras')` or `keras.saving.save_model(model, 'my_model.keras')`. \n"
          ]
        },
        {
          "output_type": "stream",
          "name": "stdout",
          "text": [
            "\b\b\b\b\b\b\b\b\b\b\b\b\b\b\b\b\b\b\b\b\b\b\b\b\b\b\b\b\b\b\b\b\b\b\b\b\b\b\b\b\b\b\b\b\b\b\b\b\b\b\b\b\b\b\b\b\b\b\b\b\b\b\b\b\b\b\b\b\b\b\b\b\b\b\r\u001b[1m282/282\u001b[0m \u001b[32m━━━━━━━━━━━━━━━━━━━━\u001b[0m\u001b[37m\u001b[0m \u001b[1m3s\u001b[0m 9ms/step - accuracy: 0.7822 - loss: 0.5672 - val_accuracy: 0.7507 - val_loss: 0.6578\n",
            "Q 84-1280   T -1196 ☒ -1106\n",
            "Q 707+143   T 850   ☒ 841  \n",
            "Q 874-6     T 868   ☑ 868  \n",
            "Q 1+3323    T 3324  ☒ 332  \n",
            "Q 1486+9428 T 10914 ☒ 9860 \n",
            "Q 123+65    T 188   ☑ 188  \n",
            "Q 624+9     T 633   ☑ 633  \n",
            "Q 9-15      T -6    ☒ -    \n",
            "Q 890-9014  T -8124 ☒ -8024\n",
            "Q 81-6      T 75    ☑ 75   \n",
            "\n",
            "--------------------------------------------------\n",
            "Iteration 40\n",
            "\u001b[1m281/282\u001b[0m \u001b[32m━━━━━━━━━━━━━━━━━━━\u001b[0m\u001b[37m━\u001b[0m \u001b[1m0s\u001b[0m 12ms/step - accuracy: 0.7861 - loss: 0.5548\n",
            "Epoch 1: val_loss did not improve from 0.65777\n",
            "\u001b[1m282/282\u001b[0m \u001b[32m━━━━━━━━━━━━━━━━━━━━\u001b[0m\u001b[37m\u001b[0m \u001b[1m4s\u001b[0m 13ms/step - accuracy: 0.7861 - loss: 0.5548 - val_accuracy: 0.7555 - val_loss: 0.6674\n",
            "Q 19-918    T -899  ☒ -809 \n",
            "Q 2561-98   T 2463  ☒ 2550 \n",
            "Q 6809-0    T 6809  ☒ 6709 \n",
            "Q 2477+6    T 2483  ☒ 2482 \n",
            "Q 11-5883   T -5872 ☒ -5776\n",
            "Q 8145-1795 T 6350  ☒ 600  \n",
            "Q 7+5382    T 5389  ☑ 5389 \n",
            "Q 4869-6085 T -1216 ☒ -164 \n",
            "Q 6852+9    T 6861  ☒ 6851 \n",
            "Q 1-37      T -36   ☑ -36  \n",
            "\n",
            "--------------------------------------------------\n",
            "Iteration 41\n",
            "\u001b[1m281/282\u001b[0m \u001b[32m━━━━━━━━━━━━━━━━━━━\u001b[0m\u001b[37m━\u001b[0m \u001b[1m0s\u001b[0m 9ms/step - accuracy: 0.7920 - loss: 0.5463\n",
            "Epoch 1: val_loss improved from 0.65777 to 0.64964, saving model to best_model_3.h5\n"
          ]
        },
        {
          "output_type": "stream",
          "name": "stderr",
          "text": [
            "WARNING:absl:You are saving your model as an HDF5 file via `model.save()` or `keras.saving.save_model(model)`. This file format is considered legacy. We recommend using instead the native Keras format, e.g. `model.save('my_model.keras')` or `keras.saving.save_model(model, 'my_model.keras')`. \n"
          ]
        },
        {
          "output_type": "stream",
          "name": "stdout",
          "text": [
            "\b\b\b\b\b\b\b\b\b\b\b\b\b\b\b\b\b\b\b\b\b\b\b\b\b\b\b\b\b\b\b\b\b\b\b\b\b\b\b\b\b\b\b\b\b\b\b\b\b\b\b\b\b\b\b\b\b\b\b\b\b\b\b\b\b\b\b\b\b\b\b\b\b\b\r\u001b[1m282/282\u001b[0m \u001b[32m━━━━━━━━━━━━━━━━━━━━\u001b[0m\u001b[37m\u001b[0m \u001b[1m3s\u001b[0m 10ms/step - accuracy: 0.7920 - loss: 0.5462 - val_accuracy: 0.7573 - val_loss: 0.6496\n",
            "Q 7998-9    T 7989  ☒ 7999 \n",
            "Q 1596-3    T 1593  ☒ 1693 \n",
            "Q 3459-4184 T -725  ☒ -75  \n",
            "Q 67+831    T 898   ☒ 897  \n",
            "Q 82+811    T 893   ☒ 898  \n",
            "Q 183+3     T 186   ☑ 186  \n",
            "Q 7742-49   T 7693  ☒ 7688 \n",
            "Q 911+7     T 918   ☑ 918  \n",
            "Q 7+81      T 88    ☑ 88   \n",
            "Q 2+7326    T 7328  ☒ 7327 \n",
            "\n",
            "--------------------------------------------------\n",
            "Iteration 42\n",
            "\u001b[1m278/282\u001b[0m \u001b[32m━━━━━━━━━━━━━━━━━━━\u001b[0m\u001b[37m━\u001b[0m \u001b[1m0s\u001b[0m 9ms/step - accuracy: 0.7987 - loss: 0.5266\n",
            "Epoch 1: val_loss improved from 0.64964 to 0.64185, saving model to best_model_3.h5\n"
          ]
        },
        {
          "output_type": "stream",
          "name": "stderr",
          "text": [
            "WARNING:absl:You are saving your model as an HDF5 file via `model.save()` or `keras.saving.save_model(model)`. This file format is considered legacy. We recommend using instead the native Keras format, e.g. `model.save('my_model.keras')` or `keras.saving.save_model(model, 'my_model.keras')`. \n"
          ]
        },
        {
          "output_type": "stream",
          "name": "stdout",
          "text": [
            "\b\b\b\b\b\b\b\b\b\b\b\b\b\b\b\b\b\b\b\b\b\b\b\b\b\b\b\b\b\b\b\b\b\b\b\b\b\b\b\b\b\b\b\b\b\b\b\b\b\b\b\b\b\b\b\b\b\b\b\b\b\b\b\b\b\b\b\b\b\b\b\b\b\b\r\u001b[1m282/282\u001b[0m \u001b[32m━━━━━━━━━━━━━━━━━━━━\u001b[0m\u001b[37m\u001b[0m \u001b[1m3s\u001b[0m 9ms/step - accuracy: 0.7987 - loss: 0.5266 - val_accuracy: 0.7659 - val_loss: 0.6418\n",
            "Q 58+3141   T 3199  ☒ 3289 \n",
            "Q 0-957     T -957  ☒ -967 \n",
            "Q 6+8315    T 8321  ☑ 8321 \n",
            "Q 32+806    T 838   ☒ 848  \n",
            "Q 3+3769    T 3772  ☑ 3772 \n",
            "Q 6-894     T -888  ☒ -887 \n",
            "Q 19+1567   T 1586  ☒ 1587 \n",
            "Q 805+644   T 1449  ☒ 1469 \n",
            "Q 619+79    T 698   ☒ 699  \n",
            "Q 65-50     T 15    ☒ 1    \n",
            "\n",
            "--------------------------------------------------\n",
            "Iteration 43\n",
            "\u001b[1m280/282\u001b[0m \u001b[32m━━━━━━━━━━━━━━━━━━━\u001b[0m\u001b[37m━\u001b[0m \u001b[1m0s\u001b[0m 13ms/step - accuracy: 0.8060 - loss: 0.5078\n",
            "Epoch 1: val_loss did not improve from 0.64185\n",
            "\u001b[1m282/282\u001b[0m \u001b[32m━━━━━━━━━━━━━━━━━━━━\u001b[0m\u001b[37m\u001b[0m \u001b[1m4s\u001b[0m 14ms/step - accuracy: 0.8060 - loss: 0.5078 - val_accuracy: 0.7654 - val_loss: 0.6449\n",
            "Q 786+37    T 823   ☒ 814  \n",
            "Q 1410-14   T 1396  ☒ 1397 \n",
            "Q 1+878     T 879   ☑ 879  \n",
            "Q 714+29    T 743   ☒ 742  \n",
            "Q 246+62    T 308   ☒ 398  \n",
            "Q 16-142    T -126  ☑ -126 \n",
            "Q 3475-1    T 3474  ☑ 3474 \n",
            "Q 946+7     T 953   ☑ 953  \n",
            "Q 531+929   T 1460  ☒ 1459 \n",
            "Q 150+934   T 1084  ☒ 1076 \n",
            "\n",
            "--------------------------------------------------\n",
            "Iteration 44\n",
            "\u001b[1m278/282\u001b[0m \u001b[32m━━━━━━━━━━━━━━━━━━━\u001b[0m\u001b[37m━\u001b[0m \u001b[1m0s\u001b[0m 8ms/step - accuracy: 0.8120 - loss: 0.4945\n",
            "Epoch 1: val_loss improved from 0.64185 to 0.61801, saving model to best_model_3.h5\n"
          ]
        },
        {
          "output_type": "stream",
          "name": "stderr",
          "text": [
            "WARNING:absl:You are saving your model as an HDF5 file via `model.save()` or `keras.saving.save_model(model)`. This file format is considered legacy. We recommend using instead the native Keras format, e.g. `model.save('my_model.keras')` or `keras.saving.save_model(model, 'my_model.keras')`. \n"
          ]
        },
        {
          "output_type": "stream",
          "name": "stdout",
          "text": [
            "\b\b\b\b\b\b\b\b\b\b\b\b\b\b\b\b\b\b\b\b\b\b\b\b\b\b\b\b\b\b\b\b\b\b\b\b\b\b\b\b\b\b\b\b\b\b\b\b\b\b\b\b\b\b\b\b\b\b\b\b\b\b\b\b\b\b\b\b\b\b\b\b\b\b\r\u001b[1m282/282\u001b[0m \u001b[32m━━━━━━━━━━━━━━━━━━━━\u001b[0m\u001b[37m\u001b[0m \u001b[1m3s\u001b[0m 9ms/step - accuracy: 0.8120 - loss: 0.4946 - val_accuracy: 0.7699 - val_loss: 0.6180\n",
            "Q 177-3235  T -3058 ☒ -2978\n",
            "Q 8117-1    T 8116  ☒ 8115 \n",
            "Q 492-4419  T -3927 ☒ -4877\n",
            "Q 426+44    T 470   ☒ 479  \n",
            "Q 451+4830  T 5281  ☒ 5200 \n",
            "Q 7+342     T 349   ☑ 349  \n",
            "Q 6811+9    T 6820  ☒ 6810 \n",
            "Q 93-955    T -862  ☒ -869 \n",
            "Q 38-752    T -714  ☒ -703 \n",
            "Q 2-6330    T -6328 ☑ -6328\n",
            "\n",
            "--------------------------------------------------\n",
            "Iteration 45\n",
            "\u001b[1m282/282\u001b[0m \u001b[32m━━━━━━━━━━━━━━━━━━━━\u001b[0m\u001b[37m\u001b[0m \u001b[1m0s\u001b[0m 9ms/step - accuracy: 0.8183 - loss: 0.4787\n",
            "Epoch 1: val_loss did not improve from 0.61801\n",
            "\u001b[1m282/282\u001b[0m \u001b[32m━━━━━━━━━━━━━━━━━━━━\u001b[0m\u001b[37m\u001b[0m \u001b[1m3s\u001b[0m 9ms/step - accuracy: 0.8183 - loss: 0.4787 - val_accuracy: 0.7640 - val_loss: 0.6728\n",
            "Q 698+71    T 769   ☑ 769  \n",
            "Q 6188+672  T 6860  ☒ 6700 \n",
            "Q 449-6     T 443   ☑ 443  \n",
            "Q 8-9626    T -9618 ☒ -9608\n",
            "Q 1+820     T 821   ☑ 821  \n",
            "Q 3+2999    T 3002  ☒ 290  \n",
            "Q 43+884    T 927   ☒ 917  \n",
            "Q 3582+4    T 3586  ☒ 3687 \n",
            "Q 501+1     T 502   ☑ 502  \n",
            "Q 6206+7    T 6213  ☒ 6212 \n",
            "\n",
            "--------------------------------------------------\n",
            "Iteration 46\n",
            "\u001b[1m279/282\u001b[0m \u001b[32m━━━━━━━━━━━━━━━━━━━\u001b[0m\u001b[37m━\u001b[0m \u001b[1m0s\u001b[0m 13ms/step - accuracy: 0.8223 - loss: 0.4665\n",
            "Epoch 1: val_loss improved from 0.61801 to 0.60701, saving model to best_model_3.h5\n"
          ]
        },
        {
          "output_type": "stream",
          "name": "stderr",
          "text": [
            "WARNING:absl:You are saving your model as an HDF5 file via `model.save()` or `keras.saving.save_model(model)`. This file format is considered legacy. We recommend using instead the native Keras format, e.g. `model.save('my_model.keras')` or `keras.saving.save_model(model, 'my_model.keras')`. \n"
          ]
        },
        {
          "output_type": "stream",
          "name": "stdout",
          "text": [
            "\b\b\b\b\b\b\b\b\b\b\b\b\b\b\b\b\b\b\b\b\b\b\b\b\b\b\b\b\b\b\b\b\b\b\b\b\b\b\b\b\b\b\b\b\b\b\b\b\b\b\b\b\b\b\b\b\b\b\b\b\b\b\b\b\b\b\b\b\b\b\b\b\b\b\b\r\u001b[1m282/282\u001b[0m \u001b[32m━━━━━━━━━━━━━━━━━━━━\u001b[0m\u001b[37m\u001b[0m \u001b[1m4s\u001b[0m 14ms/step - accuracy: 0.8223 - loss: 0.4665 - val_accuracy: 0.7748 - val_loss: 0.6070\n",
            "Q 96-572    T -476  ☒ -477 \n",
            "Q 6-721     T -715  ☑ -715 \n",
            "Q 4606-237  T 4369  ☒ 4378 \n",
            "Q 83-753    T -670  ☒ -669 \n",
            "Q 363+5     T 368   ☒ 378  \n",
            "Q 4815-644  T 4171  ☒ 4199 \n",
            "Q 22+94     T 116   ☒ 107  \n",
            "Q 92+9      T 101   ☒ 90   \n",
            "Q 23+56     T 79    ☒ 89   \n",
            "Q 92+9540   T 9632  ☑ 9632 \n",
            "\n",
            "--------------------------------------------------\n",
            "Iteration 47\n",
            "\u001b[1m279/282\u001b[0m \u001b[32m━━━━━━━━━━━━━━━━━━━\u001b[0m\u001b[37m━\u001b[0m \u001b[1m0s\u001b[0m 9ms/step - accuracy: 0.8257 - loss: 0.4556\n",
            "Epoch 1: val_loss improved from 0.60701 to 0.57086, saving model to best_model_3.h5\n"
          ]
        },
        {
          "output_type": "stream",
          "name": "stderr",
          "text": [
            "WARNING:absl:You are saving your model as an HDF5 file via `model.save()` or `keras.saving.save_model(model)`. This file format is considered legacy. We recommend using instead the native Keras format, e.g. `model.save('my_model.keras')` or `keras.saving.save_model(model, 'my_model.keras')`. \n"
          ]
        },
        {
          "output_type": "stream",
          "name": "stdout",
          "text": [
            "\b\b\b\b\b\b\b\b\b\b\b\b\b\b\b\b\b\b\b\b\b\b\b\b\b\b\b\b\b\b\b\b\b\b\b\b\b\b\b\b\b\b\b\b\b\b\b\b\b\b\b\b\b\b\b\b\b\b\b\b\b\b\b\b\b\b\b\b\b\b\b\b\b\b\r\u001b[1m282/282\u001b[0m \u001b[32m━━━━━━━━━━━━━━━━━━━━\u001b[0m\u001b[37m\u001b[0m \u001b[1m3s\u001b[0m 9ms/step - accuracy: 0.8257 - loss: 0.4556 - val_accuracy: 0.7831 - val_loss: 0.5709\n",
            "Q 328-787   T -459  ☒ -351 \n",
            "Q 5420+79   T 5499  ☒ 5409 \n",
            "Q 1-181     T -180  ☑ -180 \n",
            "Q 705+5     T 710   ☒ 700  \n",
            "Q 4+210     T 214   ☑ 214  \n",
            "Q 2-374     T -372  ☒ -371 \n",
            "Q 5343-1    T 5342  ☒ 5348 \n",
            "Q 5+278     T 283   ☑ 283  \n",
            "Q 6097+2    T 6099  ☒ 6000 \n",
            "Q 379+3682  T 4061  ☒ 4130 \n",
            "\n",
            "--------------------------------------------------\n",
            "Iteration 48\n",
            "\u001b[1m278/282\u001b[0m \u001b[32m━━━━━━━━━━━━━━━━━━━\u001b[0m\u001b[37m━\u001b[0m \u001b[1m0s\u001b[0m 9ms/step - accuracy: 0.8317 - loss: 0.4434\n",
            "Epoch 1: val_loss did not improve from 0.57086\n",
            "\u001b[1m282/282\u001b[0m \u001b[32m━━━━━━━━━━━━━━━━━━━━\u001b[0m\u001b[37m\u001b[0m \u001b[1m3s\u001b[0m 9ms/step - accuracy: 0.8317 - loss: 0.4434 - val_accuracy: 0.7829 - val_loss: 0.5985\n",
            "Q 59-8881   T -8822 ☒ -8702\n",
            "Q 64-4054   T -3990 ☒ -4999\n",
            "Q 9-554     T -545  ☒ -546 \n",
            "Q 7+2129    T 2136  ☑ 2136 \n",
            "Q 19-3383   T -3364 ☒ -3376\n",
            "Q 3983-20   T 3963  ☒ 3967 \n",
            "Q 84-1280   T -1196 ☒ -1106\n",
            "Q 66+3845   T 3911  ☒ 3900 \n",
            "Q 533-677   T -144  ☒ -127 \n",
            "Q 6+300     T 306   ☒ 307  \n",
            "\n",
            "--------------------------------------------------\n",
            "Iteration 49\n",
            "\u001b[1m281/282\u001b[0m \u001b[32m━━━━━━━━━━━━━━━━━━━\u001b[0m\u001b[37m━\u001b[0m \u001b[1m0s\u001b[0m 10ms/step - accuracy: 0.8384 - loss: 0.4282\n",
            "Epoch 1: val_loss did not improve from 0.57086\n",
            "\u001b[1m282/282\u001b[0m \u001b[32m━━━━━━━━━━━━━━━━━━━━\u001b[0m\u001b[37m\u001b[0m \u001b[1m3s\u001b[0m 12ms/step - accuracy: 0.8384 - loss: 0.4282 - val_accuracy: 0.7785 - val_loss: 0.6609\n",
            "Q 4424+1    T 4425  ☒ 4426 \n",
            "Q 11-2      T 9     ☑ 9    \n",
            "Q 67-62     T 5     ☒ 6    \n",
            "Q 766+8     T 774   ☑ 774  \n",
            "Q 4+130     T 134   ☒ 135  \n",
            "Q 7398-483  T 6915  ☒ 6902 \n",
            "Q 9-3794    T -3785 ☒ -3786\n",
            "Q 130+872   T 1002  ☒ 901  \n",
            "Q 42+912    T 954   ☒ 955  \n",
            "Q 4565+2688 T 7253  ☒ 756  \n",
            "\n",
            "--------------------------------------------------\n",
            "Iteration 50\n",
            "\u001b[1m280/282\u001b[0m \u001b[32m━━━━━━━━━━━━━━━━━━━\u001b[0m\u001b[37m━\u001b[0m \u001b[1m0s\u001b[0m 8ms/step - accuracy: 0.8404 - loss: 0.4216\n",
            "Epoch 1: val_loss did not improve from 0.57086\n",
            "\u001b[1m282/282\u001b[0m \u001b[32m━━━━━━━━━━━━━━━━━━━━\u001b[0m\u001b[37m\u001b[0m \u001b[1m3s\u001b[0m 9ms/step - accuracy: 0.8404 - loss: 0.4216 - val_accuracy: 0.7875 - val_loss: 0.5983\n",
            "Q 3-641     T -638  ☑ -638 \n",
            "Q 586+93    T 679   ☒ 689  \n",
            "Q 338-1     T 337   ☑ 337  \n",
            "Q 89+93     T 182   ☑ 182  \n",
            "Q 3614-74   T 3540  ☒ 3549 \n",
            "Q 281-551   T -270  ☒ -280 \n",
            "Q 8405+6754 T 15159 ☒ 15000\n",
            "Q 9+352     T 361   ☒ 360  \n",
            "Q 58+231    T 289   ☒ 280  \n",
            "Q 0+36      T 36    ☑ 36   \n",
            "\n",
            "--------------------------------------------------\n",
            "Iteration 51\n",
            "\u001b[1m280/282\u001b[0m \u001b[32m━━━━━━━━━━━━━━━━━━━\u001b[0m\u001b[37m━\u001b[0m \u001b[1m0s\u001b[0m 9ms/step - accuracy: 0.8481 - loss: 0.4035\n",
            "Epoch 1: val_loss did not improve from 0.57086\n",
            "\u001b[1m282/282\u001b[0m \u001b[32m━━━━━━━━━━━━━━━━━━━━\u001b[0m\u001b[37m\u001b[0m \u001b[1m3s\u001b[0m 9ms/step - accuracy: 0.8481 - loss: 0.4035 - val_accuracy: 0.7914 - val_loss: 0.5745\n",
            "Q 669-693   T -24   ☒ -16  \n",
            "Q 714+0     T 714   ☑ 714  \n",
            "Q 5059+8    T 5067  ☑ 5067 \n",
            "Q 51-30     T 21    ☑ 21   \n",
            "Q 10-6788   T -6778 ☒ -6879\n",
            "Q 714+0     T 714   ☑ 714  \n",
            "Q 8009-8    T 8001  ☑ 8001 \n",
            "Q 615-949   T -334  ☒ -356 \n",
            "Q 8732-14   T 8718  ☒ 8708 \n",
            "Q 8-9278    T -9270 ☒ -9260\n",
            "\n",
            "--------------------------------------------------\n",
            "Iteration 52\n",
            "\u001b[1m281/282\u001b[0m \u001b[32m━━━━━━━━━━━━━━━━━━━\u001b[0m\u001b[37m━\u001b[0m \u001b[1m0s\u001b[0m 9ms/step - accuracy: 0.8489 - loss: 0.3986\n",
            "Epoch 1: val_loss improved from 0.57086 to 0.53920, saving model to best_model_3.h5\n"
          ]
        },
        {
          "output_type": "stream",
          "name": "stderr",
          "text": [
            "WARNING:absl:You are saving your model as an HDF5 file via `model.save()` or `keras.saving.save_model(model)`. This file format is considered legacy. We recommend using instead the native Keras format, e.g. `model.save('my_model.keras')` or `keras.saving.save_model(model, 'my_model.keras')`. \n"
          ]
        },
        {
          "output_type": "stream",
          "name": "stdout",
          "text": [
            "\b\b\b\b\b\b\b\b\b\b\b\b\b\b\b\b\b\b\b\b\b\b\b\b\b\b\b\b\b\b\b\b\b\b\b\b\b\b\b\b\b\b\b\b\b\b\b\b\b\b\b\b\b\b\b\b\b\b\b\b\b\b\b\b\b\b\b\b\b\b\b\b\b\b\r\u001b[1m282/282\u001b[0m \u001b[32m━━━━━━━━━━━━━━━━━━━━\u001b[0m\u001b[37m\u001b[0m \u001b[1m3s\u001b[0m 9ms/step - accuracy: 0.8489 - loss: 0.3986 - val_accuracy: 0.7998 - val_loss: 0.5392\n",
            "Q 6+5       T 11    ☒ 10   \n",
            "Q 115-76    T 39    ☒ 42   \n",
            "Q 7154-2    T 7152  ☒ 7141 \n",
            "Q 148+3203  T 3351  ☒ 3440 \n",
            "Q 1388-444  T 944   ☒ 985  \n",
            "Q 65+14     T 79    ☑ 79   \n",
            "Q 200-0     T 200   ☑ 200  \n",
            "Q 987-508   T 479   ☑ 479  \n",
            "Q 8641-1    T 8640  ☒ 8630 \n",
            "Q 31-7973   T -7942 ☑ -7942\n",
            "\n",
            "--------------------------------------------------\n",
            "Iteration 53\n",
            "\u001b[1m280/282\u001b[0m \u001b[32m━━━━━━━━━━━━━━━━━━━\u001b[0m\u001b[37m━\u001b[0m \u001b[1m0s\u001b[0m 9ms/step - accuracy: 0.8557 - loss: 0.3847\n",
            "Epoch 1: val_loss did not improve from 0.53920\n",
            "\u001b[1m282/282\u001b[0m \u001b[32m━━━━━━━━━━━━━━━━━━━━\u001b[0m\u001b[37m\u001b[0m \u001b[1m3s\u001b[0m 9ms/step - accuracy: 0.8557 - loss: 0.3847 - val_accuracy: 0.7932 - val_loss: 0.6033\n",
            "Q 9-544     T -535  ☑ -535 \n",
            "Q 97-848    T -751  ☒ -749 \n",
            "Q 288-642   T -354  ☒ -443 \n",
            "Q 1763-3865 T -2102 ☒ -110 \n",
            "Q 894-5     T 889   ☑ 889  \n",
            "Q 6+620     T 626   ☒ 627  \n",
            "Q 4-36      T -32   ☑ -32  \n",
            "Q 325+3     T 328   ☑ 328  \n",
            "Q 3-938     T -935  ☑ -935 \n",
            "Q 98+8      T 106   ☑ 106  \n",
            "\n",
            "--------------------------------------------------\n",
            "Iteration 54\n",
            "\u001b[1m277/282\u001b[0m \u001b[32m━━━━━━━━━━━━━━━━━━━\u001b[0m\u001b[37m━\u001b[0m \u001b[1m0s\u001b[0m 10ms/step - accuracy: 0.8616 - loss: 0.3696\n",
            "Epoch 1: val_loss improved from 0.53920 to 0.53353, saving model to best_model_3.h5\n"
          ]
        },
        {
          "output_type": "stream",
          "name": "stderr",
          "text": [
            "WARNING:absl:You are saving your model as an HDF5 file via `model.save()` or `keras.saving.save_model(model)`. This file format is considered legacy. We recommend using instead the native Keras format, e.g. `model.save('my_model.keras')` or `keras.saving.save_model(model, 'my_model.keras')`. \n"
          ]
        },
        {
          "output_type": "stream",
          "name": "stdout",
          "text": [
            "\b\b\b\b\b\b\b\b\b\b\b\b\b\b\b\b\b\b\b\b\b\b\b\b\b\b\b\b\b\b\b\b\b\b\b\b\b\b\b\b\b\b\b\b\b\b\b\b\b\b\b\b\b\b\b\b\b\b\b\b\b\b\b\b\b\b\b\b\b\b\b\b\b\b\b\r\u001b[1m282/282\u001b[0m \u001b[32m━━━━━━━━━━━━━━━━━━━━\u001b[0m\u001b[37m\u001b[0m \u001b[1m3s\u001b[0m 11ms/step - accuracy: 0.8615 - loss: 0.3698 - val_accuracy: 0.8066 - val_loss: 0.5335\n",
            "Q 2605-35   T 2570  ☒ 2689 \n",
            "Q 3-729     T -726  ☒ -725 \n",
            "Q 1+692     T 693   ☑ 693  \n",
            "Q 1606-227  T 1379  ☒ 1439 \n",
            "Q 785+842   T 1627  ☑ 1627 \n",
            "Q 7066+1999 T 9065  ☒ 9005 \n",
            "Q 0+51      T 51    ☑ 51   \n",
            "Q 5659+77   T 5736  ☑ 5736 \n",
            "Q 7704+0    T 7704  ☒ 7603 \n",
            "Q 888+81    T 969   ☑ 969  \n",
            "\n",
            "--------------------------------------------------\n",
            "Iteration 55\n",
            "\u001b[1m277/282\u001b[0m \u001b[32m━━━━━━━━━━━━━━━━━━━\u001b[0m\u001b[37m━\u001b[0m \u001b[1m0s\u001b[0m 9ms/step - accuracy: 0.8617 - loss: 0.3677\n",
            "Epoch 1: val_loss improved from 0.53353 to 0.53201, saving model to best_model_3.h5\n"
          ]
        },
        {
          "output_type": "stream",
          "name": "stderr",
          "text": [
            "WARNING:absl:You are saving your model as an HDF5 file via `model.save()` or `keras.saving.save_model(model)`. This file format is considered legacy. We recommend using instead the native Keras format, e.g. `model.save('my_model.keras')` or `keras.saving.save_model(model, 'my_model.keras')`. \n"
          ]
        },
        {
          "output_type": "stream",
          "name": "stdout",
          "text": [
            "\b\b\b\b\b\b\b\b\b\b\b\b\b\b\b\b\b\b\b\b\b\b\b\b\b\b\b\b\b\b\b\b\b\b\b\b\b\b\b\b\b\b\b\b\b\b\b\b\b\b\b\b\b\b\b\b\b\b\b\b\b\b\b\b\b\b\b\b\b\b\b\b\b\b\r\u001b[1m282/282\u001b[0m \u001b[32m━━━━━━━━━━━━━━━━━━━━\u001b[0m\u001b[37m\u001b[0m \u001b[1m3s\u001b[0m 9ms/step - accuracy: 0.8617 - loss: 0.3678 - val_accuracy: 0.8060 - val_loss: 0.5320\n",
            "Q 6123+90   T 6213  ☑ 6213 \n",
            "Q 95+73     T 168   ☑ 168  \n",
            "Q 8065+506  T 8571  ☒ 8601 \n",
            "Q 71+8      T 79    ☑ 79   \n",
            "Q 1+266     T 267   ☒ 26   \n",
            "Q 572+8     T 580   ☑ 580  \n",
            "Q 6+3949    T 3955  ☒ 395  \n",
            "Q 38-9      T 29    ☑ 29   \n",
            "Q 89-522    T -433  ☒ -432 \n",
            "Q 1726-379  T 1347  ☒ 125  \n",
            "\n",
            "--------------------------------------------------\n",
            "Iteration 56\n",
            "\u001b[1m280/282\u001b[0m \u001b[32m━━━━━━━━━━━━━━━━━━━\u001b[0m\u001b[37m━\u001b[0m \u001b[1m0s\u001b[0m 10ms/step - accuracy: 0.8642 - loss: 0.3609\n",
            "Epoch 1: val_loss improved from 0.53201 to 0.46228, saving model to best_model_3.h5\n"
          ]
        },
        {
          "output_type": "stream",
          "name": "stderr",
          "text": [
            "WARNING:absl:You are saving your model as an HDF5 file via `model.save()` or `keras.saving.save_model(model)`. This file format is considered legacy. We recommend using instead the native Keras format, e.g. `model.save('my_model.keras')` or `keras.saving.save_model(model, 'my_model.keras')`. \n"
          ]
        },
        {
          "output_type": "stream",
          "name": "stdout",
          "text": [
            "\b\b\b\b\b\b\b\b\b\b\b\b\b\b\b\b\b\b\b\b\b\b\b\b\b\b\b\b\b\b\b\b\b\b\b\b\b\b\b\b\b\b\b\b\b\b\b\b\b\b\b\b\b\b\b\b\b\b\b\b\b\b\b\b\b\b\b\b\b\b\b\b\b\b\b\r\u001b[1m282/282\u001b[0m \u001b[32m━━━━━━━━━━━━━━━━━━━━\u001b[0m\u001b[37m\u001b[0m \u001b[1m3s\u001b[0m 12ms/step - accuracy: 0.8642 - loss: 0.3609 - val_accuracy: 0.8271 - val_loss: 0.4623\n",
            "Q 1606-227  T 1379  ☒ 1439 \n",
            "Q 827+935   T 1762  ☑ 1762 \n",
            "Q 997-2     T 995   ☑ 995  \n",
            "Q 5+13      T 18    ☑ 18   \n",
            "Q 10+496    T 506   ☒ 507  \n",
            "Q 48+489    T 537   ☒ 536  \n",
            "Q 0+572     T 572   ☑ 572  \n",
            "Q 67+5      T 72    ☑ 72   \n",
            "Q 2893+6210 T 9103  ☒ 9008 \n",
            "Q 765-89    T 676   ☑ 676  \n",
            "\n",
            "--------------------------------------------------\n",
            "Iteration 57\n",
            "\u001b[1m278/282\u001b[0m \u001b[32m━━━━━━━━━━━━━━━━━━━\u001b[0m\u001b[37m━\u001b[0m \u001b[1m0s\u001b[0m 9ms/step - accuracy: 0.8652 - loss: 0.3580\n",
            "Epoch 1: val_loss did not improve from 0.46228\n",
            "\u001b[1m282/282\u001b[0m \u001b[32m━━━━━━━━━━━━━━━━━━━━\u001b[0m\u001b[37m\u001b[0m \u001b[1m3s\u001b[0m 10ms/step - accuracy: 0.8652 - loss: 0.3579 - val_accuracy: 0.8205 - val_loss: 0.4922\n",
            "Q 22+973    T 995   ☒ 985  \n",
            "Q 66+46     T 112   ☑ 112  \n",
            "Q 2767-7184 T -4417 ☒ -3307\n",
            "Q 19-3383   T -3364 ☒ -3366\n",
            "Q 18-14     T 4     ☒ 1    \n",
            "Q 898+8     T 906   ☑ 906  \n",
            "Q 811+3     T 814   ☑ 814  \n",
            "Q 714+29    T 743   ☒ 742  \n",
            "Q 241+81    T 322   ☒ 321  \n",
            "Q 6437+4326 T 10763 ☒ 1089 \n",
            "\n",
            "--------------------------------------------------\n",
            "Iteration 58\n",
            "\u001b[1m279/282\u001b[0m \u001b[32m━━━━━━━━━━━━━━━━━━━\u001b[0m\u001b[37m━\u001b[0m \u001b[1m0s\u001b[0m 9ms/step - accuracy: 0.8735 - loss: 0.3391\n",
            "Epoch 1: val_loss did not improve from 0.46228\n",
            "\u001b[1m282/282\u001b[0m \u001b[32m━━━━━━━━━━━━━━━━━━━━\u001b[0m\u001b[37m\u001b[0m \u001b[1m3s\u001b[0m 9ms/step - accuracy: 0.8735 - loss: 0.3391 - val_accuracy: 0.8142 - val_loss: 0.5357\n",
            "Q 93-81     T 12    ☒ 1    \n",
            "Q 762-52    T 710   ☒ 700  \n",
            "Q 440+729   T 1169  ☒ 1089 \n",
            "Q 4-2542    T -2538 ☒ -253 \n",
            "Q 71+96     T 167   ☑ 167  \n",
            "Q 9-550     T -541  ☑ -541 \n",
            "Q 64-4054   T -3990 ☒ -3900\n",
            "Q 350+8     T 358   ☒ 368  \n",
            "Q 90+39     T 129   ☑ 129  \n",
            "Q 0+5983    T 5983  ☑ 5983 \n",
            "\n",
            "--------------------------------------------------\n",
            "Iteration 59\n",
            "\u001b[1m277/282\u001b[0m \u001b[32m━━━━━━━━━━━━━━━━━━━\u001b[0m\u001b[37m━\u001b[0m \u001b[1m0s\u001b[0m 9ms/step - accuracy: 0.8730 - loss: 0.3378\n",
            "Epoch 1: val_loss did not improve from 0.46228\n",
            "\u001b[1m282/282\u001b[0m \u001b[32m━━━━━━━━━━━━━━━━━━━━\u001b[0m\u001b[37m\u001b[0m \u001b[1m3s\u001b[0m 9ms/step - accuracy: 0.8730 - loss: 0.3378 - val_accuracy: 0.8067 - val_loss: 0.5652\n",
            "Q 35-808    T -773  ☒ -763 \n",
            "Q 309-542   T -233  ☒ -222 \n",
            "Q 865-25    T 840   ☑ 840  \n",
            "Q 94+246    T 340   ☒ 330  \n",
            "Q 440+729   T 1169  ☒ 1089 \n",
            "Q 505+4413  T 4918  ☒ 5808 \n",
            "Q 501+1     T 502   ☑ 502  \n",
            "Q 151+473   T 624   ☒ 716  \n",
            "Q 7-505     T -498  ☑ -498 \n",
            "Q 8+4648    T 4656  ☑ 4656 \n",
            "\n",
            "--------------------------------------------------\n",
            "Iteration 60\n",
            "\u001b[1m282/282\u001b[0m \u001b[32m━━━━━━━━━━━━━━━━━━━━\u001b[0m\u001b[37m\u001b[0m \u001b[1m0s\u001b[0m 12ms/step - accuracy: 0.8769 - loss: 0.3303\n",
            "Epoch 1: val_loss did not improve from 0.46228\n",
            "\u001b[1m282/282\u001b[0m \u001b[32m━━━━━━━━━━━━━━━━━━━━\u001b[0m\u001b[37m\u001b[0m \u001b[1m4s\u001b[0m 13ms/step - accuracy: 0.8769 - loss: 0.3304 - val_accuracy: 0.8225 - val_loss: 0.4868\n",
            "Q 70-36     T 34    ☒ 44   \n",
            "Q 3+726     T 729   ☑ 729  \n",
            "Q 893-8993  T -8100 ☒ -8099\n",
            "Q 561-710   T -149  ☒ -62  \n",
            "Q 5-4182    T -4177 ☑ -4177\n",
            "Q 7909+38   T 7947  ☑ 7947 \n",
            "Q 6000+76   T 6076  ☒ 607  \n",
            "Q 973-1     T 972   ☑ 972  \n",
            "Q 2616+2844 T 5460  ☒ 640  \n",
            "Q 0-70      T -70   ☑ -70  \n",
            "\n",
            "--------------------------------------------------\n",
            "Iteration 61\n",
            "\u001b[1m278/282\u001b[0m \u001b[32m━━━━━━━━━━━━━━━━━━━\u001b[0m\u001b[37m━\u001b[0m \u001b[1m0s\u001b[0m 8ms/step - accuracy: 0.8814 - loss: 0.3215\n",
            "Epoch 1: val_loss did not improve from 0.46228\n",
            "\u001b[1m282/282\u001b[0m \u001b[32m━━━━━━━━━━━━━━━━━━━━\u001b[0m\u001b[37m\u001b[0m \u001b[1m3s\u001b[0m 9ms/step - accuracy: 0.8814 - loss: 0.3215 - val_accuracy: 0.8112 - val_loss: 0.5376\n",
            "Q 1081-51   T 1030  ☒ 1000 \n",
            "Q 7846-151  T 7695  ☒ 7694 \n",
            "Q 449-6     T 443   ☑ 443  \n",
            "Q 7478+9132 T 16610 ☒ 16500\n",
            "Q 23+88     T 111   ☑ 111  \n",
            "Q 1196-3    T 1193  ☑ 1193 \n",
            "Q 530+1414  T 1944  ☒ 1874 \n",
            "Q 249+9     T 258   ☑ 258  \n",
            "Q 51+114    T 165   ☒ 166  \n",
            "Q 8419-10   T 8409  ☒ 8410 \n",
            "\n",
            "--------------------------------------------------\n",
            "Iteration 62\n",
            "\u001b[1m279/282\u001b[0m \u001b[32m━━━━━━━━━━━━━━━━━━━\u001b[0m\u001b[37m━\u001b[0m \u001b[1m0s\u001b[0m 8ms/step - accuracy: 0.8802 - loss: 0.3216\n",
            "Epoch 1: val_loss did not improve from 0.46228\n",
            "\u001b[1m282/282\u001b[0m \u001b[32m━━━━━━━━━━━━━━━━━━━━\u001b[0m\u001b[37m\u001b[0m \u001b[1m3s\u001b[0m 9ms/step - accuracy: 0.8802 - loss: 0.3215 - val_accuracy: 0.8219 - val_loss: 0.5039\n",
            "Q 6+263     T 269   ☑ 269  \n",
            "Q 9774+6    T 9780  ☑ 9780 \n",
            "Q 312+0     T 312   ☑ 312  \n",
            "Q 380-37    T 343   ☑ 343  \n",
            "Q 2070-194  T 1876  ☒ 1986 \n",
            "Q 1996-8709 T -6713 ☒ -6108\n",
            "Q 3283+2330 T 5613  ☒ 650  \n",
            "Q 847-141   T 706   ☒ 707  \n",
            "Q 98+363    T 461   ☑ 461  \n",
            "Q 1409-4    T 1405  ☒ 1495 \n",
            "\n",
            "--------------------------------------------------\n",
            "Iteration 63\n",
            "\u001b[1m281/282\u001b[0m \u001b[32m━━━━━━━━━━━━━━━━━━━\u001b[0m\u001b[37m━\u001b[0m \u001b[1m0s\u001b[0m 9ms/step - accuracy: 0.8852 - loss: 0.3082\n",
            "Epoch 1: val_loss did not improve from 0.46228\n",
            "\u001b[1m282/282\u001b[0m \u001b[32m━━━━━━━━━━━━━━━━━━━━\u001b[0m\u001b[37m\u001b[0m \u001b[1m3s\u001b[0m 9ms/step - accuracy: 0.8852 - loss: 0.3083 - val_accuracy: 0.8052 - val_loss: 0.5724\n",
            "Q 5757-41   T 5716  ☒ 5706 \n",
            "Q 4095-398  T 3697  ☒ 369  \n",
            "Q 5+553     T 558   ☑ 558  \n",
            "Q 4887+9990 T 14877 ☒ 15887\n",
            "Q 218+0     T 218   ☑ 218  \n",
            "Q 3777+3    T 3780  ☑ 3780 \n",
            "Q 330+4731  T 5061  ☒ 500  \n",
            "Q 82-17     T 65    ☑ 65   \n",
            "Q 480+2     T 482   ☑ 482  \n",
            "Q 76-137    T -61   ☒ -50  \n",
            "\n",
            "--------------------------------------------------\n",
            "Iteration 64\n",
            "\u001b[1m281/282\u001b[0m \u001b[32m━━━━━━━━━━━━━━━━━━━\u001b[0m\u001b[37m━\u001b[0m \u001b[1m0s\u001b[0m 13ms/step - accuracy: 0.8881 - loss: 0.3004\n",
            "Epoch 1: val_loss did not improve from 0.46228\n",
            "\u001b[1m282/282\u001b[0m \u001b[32m━━━━━━━━━━━━━━━━━━━━\u001b[0m\u001b[37m\u001b[0m \u001b[1m4s\u001b[0m 13ms/step - accuracy: 0.8881 - loss: 0.3004 - val_accuracy: 0.8179 - val_loss: 0.5323\n",
            "Q 7-8       T -1    ☒ -    \n",
            "Q 25+29     T 54    ☑ 54   \n",
            "Q 6445-9033 T -2588 ☒ -2200\n",
            "Q 380-37    T 343   ☑ 343  \n",
            "Q 835+72    T 907   ☑ 907  \n",
            "Q 8649-673  T 7976  ☒ 7986 \n",
            "Q 4+210     T 214   ☒ 215  \n",
            "Q 4565+2688 T 7253  ☒ 756  \n",
            "Q 82+7090   T 7172  ☑ 7172 \n",
            "Q 68-878    T -810  ☒ -700 \n",
            "\n",
            "--------------------------------------------------\n",
            "Iteration 65\n",
            "\u001b[1m278/282\u001b[0m \u001b[32m━━━━━━━━━━━━━━━━━━━\u001b[0m\u001b[37m━\u001b[0m \u001b[1m0s\u001b[0m 8ms/step - accuracy: 0.8911 - loss: 0.2931\n",
            "Epoch 1: val_loss did not improve from 0.46228\n",
            "\u001b[1m282/282\u001b[0m \u001b[32m━━━━━━━━━━━━━━━━━━━━\u001b[0m\u001b[37m\u001b[0m \u001b[1m3s\u001b[0m 9ms/step - accuracy: 0.8911 - loss: 0.2931 - val_accuracy: 0.8118 - val_loss: 0.5834\n",
            "Q 8+414     T 422   ☑ 422  \n",
            "Q 18+2      T 20    ☒ 10   \n",
            "Q 7158-760  T 6398  ☒ 6598 \n",
            "Q 482-4     T 478   ☑ 478  \n",
            "Q 6292+191  T 6483  ☒ 6492 \n",
            "Q 555-34    T 521   ☒ 520  \n",
            "Q 32-1414   T -1382 ☒ -1471\n",
            "Q 8+4235    T 4243  ☑ 4243 \n",
            "Q 2542-3776 T -1234 ☒ -140 \n",
            "Q 7-1435    T -1428 ☒ -142 \n",
            "\n",
            "--------------------------------------------------\n",
            "Iteration 66\n",
            "\u001b[1m282/282\u001b[0m \u001b[32m━━━━━━━━━━━━━━━━━━━━\u001b[0m\u001b[37m\u001b[0m \u001b[1m0s\u001b[0m 8ms/step - accuracy: 0.8862 - loss: 0.3074\n",
            "Epoch 1: val_loss did not improve from 0.46228\n",
            "\u001b[1m282/282\u001b[0m \u001b[32m━━━━━━━━━━━━━━━━━━━━\u001b[0m\u001b[37m\u001b[0m \u001b[1m3s\u001b[0m 9ms/step - accuracy: 0.8862 - loss: 0.3073 - val_accuracy: 0.8236 - val_loss: 0.5272\n",
            "Q 16-40     T -24   ☑ -24  \n",
            "Q 95-12     T 83    ☒ 8    \n",
            "Q 5027-41   T 4986  ☒ 498  \n",
            "Q 488+1075  T 1563  ☑ 1563 \n",
            "Q 0+31      T 31    ☑ 31   \n",
            "Q 1-752     T -751  ☑ -751 \n",
            "Q 3859+5    T 3864  ☑ 3864 \n",
            "Q 6+3949    T 3955  ☒ 395  \n",
            "Q 5+80      T 85    ☑ 85   \n",
            "Q 82+64     T 146   ☑ 146  \n",
            "\n",
            "--------------------------------------------------\n",
            "Iteration 67\n",
            "\u001b[1m281/282\u001b[0m \u001b[32m━━━━━━━━━━━━━━━━━━━\u001b[0m\u001b[37m━\u001b[0m \u001b[1m0s\u001b[0m 11ms/step - accuracy: 0.8924 - loss: 0.2909\n",
            "Epoch 1: val_loss improved from 0.46228 to 0.42539, saving model to best_model_3.h5\n"
          ]
        },
        {
          "output_type": "stream",
          "name": "stderr",
          "text": [
            "WARNING:absl:You are saving your model as an HDF5 file via `model.save()` or `keras.saving.save_model(model)`. This file format is considered legacy. We recommend using instead the native Keras format, e.g. `model.save('my_model.keras')` or `keras.saving.save_model(model, 'my_model.keras')`. \n"
          ]
        },
        {
          "output_type": "stream",
          "name": "stdout",
          "text": [
            "\b\b\b\b\b\b\b\b\b\b\b\b\b\b\b\b\b\b\b\b\b\b\b\b\b\b\b\b\b\b\b\b\b\b\b\b\b\b\b\b\b\b\b\b\b\b\b\b\b\b\b\b\b\b\b\b\b\b\b\b\b\b\b\b\b\b\b\b\b\b\b\b\b\b\b\r\u001b[1m282/282\u001b[0m \u001b[32m━━━━━━━━━━━━━━━━━━━━\u001b[0m\u001b[37m\u001b[0m \u001b[1m4s\u001b[0m 13ms/step - accuracy: 0.8924 - loss: 0.2910 - val_accuracy: 0.8471 - val_loss: 0.4254\n",
            "Q 86+0      T 86    ☑ 86   \n",
            "Q 6-721     T -715  ☒ -725 \n",
            "Q 850+0     T 850   ☑ 850  \n",
            "Q 8-1784    T -1776 ☑ -1776\n",
            "Q 0+5127    T 5127  ☑ 5127 \n",
            "Q 415+4948  T 5363  ☒ 532  \n",
            "Q 9-51      T -42   ☑ -42  \n",
            "Q 185+9     T 194   ☑ 194  \n",
            "Q 3+196     T 199   ☑ 199  \n",
            "Q 1338-3    T 1335  ☑ 1335 \n",
            "\n",
            "--------------------------------------------------\n",
            "Iteration 68\n",
            "\u001b[1m278/282\u001b[0m \u001b[32m━━━━━━━━━━━━━━━━━━━\u001b[0m\u001b[37m━\u001b[0m \u001b[1m0s\u001b[0m 9ms/step - accuracy: 0.8948 - loss: 0.2838\n",
            "Epoch 1: val_loss did not improve from 0.42539\n",
            "\u001b[1m282/282\u001b[0m \u001b[32m━━━━━━━━━━━━━━━━━━━━\u001b[0m\u001b[37m\u001b[0m \u001b[1m3s\u001b[0m 9ms/step - accuracy: 0.8948 - loss: 0.2837 - val_accuracy: 0.8324 - val_loss: 0.4852\n",
            "Q 64-795    T -731  ☒ -721 \n",
            "Q 57-672    T -615  ☒ -605 \n",
            "Q 494+43    T 537   ☑ 537  \n",
            "Q 70+24     T 94    ☒ 96   \n",
            "Q 10-51     T -41   ☒ -31  \n",
            "Q 20-97     T -77   ☑ -77  \n",
            "Q 679-1473  T -794  ☒ -89  \n",
            "Q 6+4083    T 4089  ☒ 4090 \n",
            "Q 389+7023  T 7412  ☑ 7412 \n",
            "Q 24-47     T -23   ☑ -23  \n",
            "\n",
            "--------------------------------------------------\n",
            "Iteration 69\n",
            "\u001b[1m281/282\u001b[0m \u001b[32m━━━━━━━━━━━━━━━━━━━\u001b[0m\u001b[37m━\u001b[0m \u001b[1m0s\u001b[0m 9ms/step - accuracy: 0.9001 - loss: 0.2703\n",
            "Epoch 1: val_loss did not improve from 0.42539\n",
            "\u001b[1m282/282\u001b[0m \u001b[32m━━━━━━━━━━━━━━━━━━━━\u001b[0m\u001b[37m\u001b[0m \u001b[1m3s\u001b[0m 9ms/step - accuracy: 0.9001 - loss: 0.2703 - val_accuracy: 0.8332 - val_loss: 0.4804\n",
            "Q 1+61      T 62    ☑ 62   \n",
            "Q 29+1      T 30    ☒ 20   \n",
            "Q 45-278    T -233  ☑ -233 \n",
            "Q 610+642   T 1252  ☒ 1342 \n",
            "Q 9-5097    T -5088 ☑ -5088\n",
            "Q 643+4     T 647   ☑ 647  \n",
            "Q 9975+2149 T 12124 ☒ 11204\n",
            "Q 68-1517   T -1449 ☑ -1449\n",
            "Q 121-3054  T -2933 ☒ -2913\n",
            "Q 205-7040  T -6835 ☒ -6857\n",
            "\n",
            "--------------------------------------------------\n",
            "Iteration 70\n",
            "\u001b[1m278/282\u001b[0m \u001b[32m━━━━━━━━━━━━━━━━━━━\u001b[0m\u001b[37m━\u001b[0m \u001b[1m0s\u001b[0m 11ms/step - accuracy: 0.8981 - loss: 0.2733\n",
            "Epoch 1: val_loss did not improve from 0.42539\n",
            "\u001b[1m282/282\u001b[0m \u001b[32m━━━━━━━━━━━━━━━━━━━━\u001b[0m\u001b[37m\u001b[0m \u001b[1m3s\u001b[0m 12ms/step - accuracy: 0.8981 - loss: 0.2733 - val_accuracy: 0.8360 - val_loss: 0.4622\n",
            "Q 148+3203  T 3351  ☒ 3441 \n",
            "Q 7478+9132 T 16610 ☒ 16500\n",
            "Q 6+4962    T 4968  ☑ 4968 \n",
            "Q 7-919     T -912  ☑ -912 \n",
            "Q 461+21    T 482   ☑ 482  \n",
            "Q 81-113    T -32   ☒ -2   \n",
            "Q 85-257    T -172  ☒ -182 \n",
            "Q 4943+67   T 5010  ☒ 5000 \n",
            "Q 87-8      T 79    ☒ 89   \n",
            "Q 53+78     T 131   ☑ 131  \n",
            "\n",
            "--------------------------------------------------\n",
            "Iteration 71\n",
            "\u001b[1m282/282\u001b[0m \u001b[32m━━━━━━━━━━━━━━━━━━━━\u001b[0m\u001b[37m\u001b[0m \u001b[1m0s\u001b[0m 9ms/step - accuracy: 0.9021 - loss: 0.2670\n",
            "Epoch 1: val_loss did not improve from 0.42539\n",
            "\u001b[1m282/282\u001b[0m \u001b[32m━━━━━━━━━━━━━━━━━━━━\u001b[0m\u001b[37m\u001b[0m \u001b[1m3s\u001b[0m 10ms/step - accuracy: 0.9021 - loss: 0.2670 - val_accuracy: 0.8426 - val_loss: 0.4572\n",
            "Q 93-23     T 70    ☑ 70   \n",
            "Q 78-78     T 0     ☒ 8    \n",
            "Q 86-59     T 27    ☑ 27   \n",
            "Q 2595-85   T 2510  ☒ 2500 \n",
            "Q 0+9957    T 9957  ☑ 9957 \n",
            "Q 4635+5201 T 9836  ☒ 9856 \n",
            "Q 476-7     T 469   ☑ 469  \n",
            "Q 7274-209  T 7065  ☑ 7065 \n",
            "Q 2178+566  T 2744  ☒ 2754 \n",
            "Q 7443+0    T 7443  ☑ 7443 \n",
            "\n",
            "--------------------------------------------------\n",
            "Iteration 72\n",
            "\u001b[1m278/282\u001b[0m \u001b[32m━━━━━━━━━━━━━━━━━━━\u001b[0m\u001b[37m━\u001b[0m \u001b[1m0s\u001b[0m 9ms/step - accuracy: 0.9044 - loss: 0.2603\n",
            "Epoch 1: val_loss did not improve from 0.42539\n",
            "\u001b[1m282/282\u001b[0m \u001b[32m━━━━━━━━━━━━━━━━━━━━\u001b[0m\u001b[37m\u001b[0m \u001b[1m3s\u001b[0m 9ms/step - accuracy: 0.9043 - loss: 0.2603 - val_accuracy: 0.8265 - val_loss: 0.5232\n",
            "Q 2667+5216 T 7883  ☒ 688  \n",
            "Q 2482-8564 T -6082 ☒ -6001\n",
            "Q 6781-3599 T 3182  ☒ 3280 \n",
            "Q 3835-735  T 3100  ☒ 300  \n",
            "Q 9-460     T -451  ☑ -451 \n",
            "Q 4675+403  T 5078  ☒ 4979 \n",
            "Q 9703-2166 T 7537  ☒ 617  \n",
            "Q 9450+3    T 9453  ☑ 9453 \n",
            "Q 5891+7    T 5898  ☑ 5898 \n",
            "Q 7305-4    T 7301  ☒ 7300 \n",
            "\n",
            "--------------------------------------------------\n",
            "Iteration 73\n",
            "\u001b[1m279/282\u001b[0m \u001b[32m━━━━━━━━━━━━━━━━━━━\u001b[0m\u001b[37m━\u001b[0m \u001b[1m0s\u001b[0m 9ms/step - accuracy: 0.9049 - loss: 0.2579\n",
            "Epoch 1: val_loss did not improve from 0.42539\n",
            "\u001b[1m282/282\u001b[0m \u001b[32m━━━━━━━━━━━━━━━━━━━━\u001b[0m\u001b[37m\u001b[0m \u001b[1m3s\u001b[0m 9ms/step - accuracy: 0.9049 - loss: 0.2579 - val_accuracy: 0.8268 - val_loss: 0.5358\n",
            "Q 4648-6972 T -2324 ☒ -1343\n",
            "Q 200-0     T 200   ☒ 100  \n",
            "Q 7+818     T 825   ☑ 825  \n",
            "Q 2-860     T -858  ☑ -858 \n",
            "Q 569+4036  T 4605  ☒ 468  \n",
            "Q 76-101    T -25   ☒ -4   \n",
            "Q 7+7741    T 7748  ☑ 7748 \n",
            "Q 3+956     T 959   ☑ 959  \n",
            "Q 3622-8418 T -4796 ☒ -3908\n",
            "Q 521+352   T 873   ☒ 783  \n",
            "\n",
            "--------------------------------------------------\n",
            "Iteration 74\n",
            "\u001b[1m277/282\u001b[0m \u001b[32m━━━━━━━━━━━━━━━━━━━\u001b[0m\u001b[37m━\u001b[0m \u001b[1m0s\u001b[0m 13ms/step - accuracy: 0.9038 - loss: 0.2587\n",
            "Epoch 1: val_loss did not improve from 0.42539\n",
            "\u001b[1m282/282\u001b[0m \u001b[32m━━━━━━━━━━━━━━━━━━━━\u001b[0m\u001b[37m\u001b[0m \u001b[1m4s\u001b[0m 14ms/step - accuracy: 0.9038 - loss: 0.2587 - val_accuracy: 0.8338 - val_loss: 0.4916\n",
            "Q 17-763    T -746  ☒ -747 \n",
            "Q 28-41     T -13   ☒ -1   \n",
            "Q 1+571     T 572   ☑ 572  \n",
            "Q 61-4      T 57    ☒ 58   \n",
            "Q 7544-7    T 7537  ☑ 7537 \n",
            "Q 521+5     T 526   ☑ 526  \n",
            "Q 58-2325   T -2267 ☒ -2278\n",
            "Q 549-311   T 238   ☑ 238  \n",
            "Q 6858-70   T 6788  ☒ 6888 \n",
            "Q 3216+3735 T 6951  ☒ 6091 \n",
            "\n",
            "--------------------------------------------------\n",
            "Iteration 75\n",
            "\u001b[1m281/282\u001b[0m \u001b[32m━━━━━━━━━━━━━━━━━━━\u001b[0m\u001b[37m━\u001b[0m \u001b[1m0s\u001b[0m 9ms/step - accuracy: 0.9073 - loss: 0.2509\n",
            "Epoch 1: val_loss did not improve from 0.42539\n",
            "\u001b[1m282/282\u001b[0m \u001b[32m━━━━━━━━━━━━━━━━━━━━\u001b[0m\u001b[37m\u001b[0m \u001b[1m3s\u001b[0m 9ms/step - accuracy: 0.9073 - loss: 0.2509 - val_accuracy: 0.8448 - val_loss: 0.4510\n",
            "Q 224-35    T 189   ☑ 189  \n",
            "Q 3+9544    T 9547  ☑ 9547 \n",
            "Q 511-90    T 421   ☒ 420  \n",
            "Q 139-20    T 119   ☒ 129  \n",
            "Q 856-412   T 444   ☒ 437  \n",
            "Q 49-94     T -45   ☑ -45  \n",
            "Q 1+37      T 38    ☑ 38   \n",
            "Q 85-525    T -440  ☑ -440 \n",
            "Q 2+48      T 50    ☑ 50   \n",
            "Q 4644-7266 T -2622 ☒ -2800\n",
            "\n",
            "--------------------------------------------------\n",
            "Iteration 76\n",
            "\u001b[1m277/282\u001b[0m \u001b[32m━━━━━━━━━━━━━━━━━━━\u001b[0m\u001b[37m━\u001b[0m \u001b[1m0s\u001b[0m 8ms/step - accuracy: 0.9115 - loss: 0.2394\n",
            "Epoch 1: val_loss did not improve from 0.42539\n",
            "\u001b[1m282/282\u001b[0m \u001b[32m━━━━━━━━━━━━━━━━━━━━\u001b[0m\u001b[37m\u001b[0m \u001b[1m3s\u001b[0m 9ms/step - accuracy: 0.9115 - loss: 0.2395 - val_accuracy: 0.8475 - val_loss: 0.4537\n",
            "Q 1606-227  T 1379  ☒ 1489 \n",
            "Q 78-78     T 0     ☑ 0    \n",
            "Q 4866-48   T 4818  ☒ 4708 \n",
            "Q 60-8      T 52    ☑ 52   \n",
            "Q 51+1960   T 2011  ☒ 2010 \n",
            "Q 878-7     T 871   ☑ 871  \n",
            "Q 487+7651  T 8138  ☒ 8288 \n",
            "Q 81+8816   T 8897  ☒ 899  \n",
            "Q 5133-491  T 4642  ☒ 4532 \n",
            "Q 438-498   T -60   ☒ 14   \n",
            "\n",
            "--------------------------------------------------\n",
            "Iteration 77\n",
            "\u001b[1m276/282\u001b[0m \u001b[32m━━━━━━━━━━━━━━━━━━━\u001b[0m\u001b[37m━\u001b[0m \u001b[1m0s\u001b[0m 10ms/step - accuracy: 0.9129 - loss: 0.2356\n",
            "Epoch 1: val_loss improved from 0.42539 to 0.42049, saving model to best_model_3.h5\n"
          ]
        },
        {
          "output_type": "stream",
          "name": "stderr",
          "text": [
            "WARNING:absl:You are saving your model as an HDF5 file via `model.save()` or `keras.saving.save_model(model)`. This file format is considered legacy. We recommend using instead the native Keras format, e.g. `model.save('my_model.keras')` or `keras.saving.save_model(model, 'my_model.keras')`. \n"
          ]
        },
        {
          "output_type": "stream",
          "name": "stdout",
          "text": [
            "\b\b\b\b\b\b\b\b\b\b\b\b\b\b\b\b\b\b\b\b\b\b\b\b\b\b\b\b\b\b\b\b\b\b\b\b\b\b\b\b\b\b\b\b\b\b\b\b\b\b\b\b\b\b\b\b\b\b\b\b\b\b\b\b\b\b\b\b\b\b\b\b\b\b\b\r\u001b[1m282/282\u001b[0m \u001b[32m━━━━━━━━━━━━━━━━━━━━\u001b[0m\u001b[37m\u001b[0m \u001b[1m3s\u001b[0m 11ms/step - accuracy: 0.9129 - loss: 0.2357 - val_accuracy: 0.8519 - val_loss: 0.4205\n",
            "Q 45-57     T -12   ☑ -12  \n",
            "Q 706-2     T 704   ☑ 704  \n",
            "Q 8525+98   T 8623  ☑ 8623 \n",
            "Q 5-8909    T -8904 ☒ -890 \n",
            "Q 7-6062    T -6055 ☒ -6046\n",
            "Q 32-6      T 26    ☑ 26   \n",
            "Q 7866+5    T 7871  ☑ 7871 \n",
            "Q 1500+3393 T 4893  ☒ 5903 \n",
            "Q 94+8617   T 8711  ☒ 8611 \n",
            "Q 13+0      T 13    ☑ 13   \n",
            "\n",
            "--------------------------------------------------\n",
            "Iteration 78\n",
            "\u001b[1m281/282\u001b[0m \u001b[32m━━━━━━━━━━━━━━━━━━━\u001b[0m\u001b[37m━\u001b[0m \u001b[1m0s\u001b[0m 8ms/step - accuracy: 0.9120 - loss: 0.2399\n",
            "Epoch 1: val_loss did not improve from 0.42049\n",
            "\u001b[1m282/282\u001b[0m \u001b[32m━━━━━━━━━━━━━━━━━━━━\u001b[0m\u001b[37m\u001b[0m \u001b[1m3s\u001b[0m 9ms/step - accuracy: 0.9120 - loss: 0.2399 - val_accuracy: 0.8262 - val_loss: 0.5479\n",
            "Q 1-203     T -202  ☒ -201 \n",
            "Q 252-93    T 159   ☒ 169  \n",
            "Q 566-7449  T -6883 ☒ -698 \n",
            "Q 959-602   T 357   ☒ 377  \n",
            "Q 9862+49   T 9911  ☒ 9811 \n",
            "Q 177-3235  T -3058 ☒ -2978\n",
            "Q 17+956    T 973   ☒ 97   \n",
            "Q 819-3928  T -3109 ☒ -3198\n",
            "Q 3452+5    T 3457  ☑ 3457 \n",
            "Q 419-4     T 415   ☑ 415  \n",
            "\n",
            "--------------------------------------------------\n",
            "Iteration 79\n",
            "\u001b[1m279/282\u001b[0m \u001b[32m━━━━━━━━━━━━━━━━━━━\u001b[0m\u001b[37m━\u001b[0m \u001b[1m0s\u001b[0m 10ms/step - accuracy: 0.9121 - loss: 0.2385\n",
            "Epoch 1: val_loss did not improve from 0.42049\n",
            "\u001b[1m282/282\u001b[0m \u001b[32m━━━━━━━━━━━━━━━━━━━━\u001b[0m\u001b[37m\u001b[0m \u001b[1m3s\u001b[0m 12ms/step - accuracy: 0.9121 - loss: 0.2385 - val_accuracy: 0.8453 - val_loss: 0.4567\n",
            "Q 608-6     T 602   ☑ 602  \n",
            "Q 0-240     T -240  ☑ -240 \n",
            "Q 328-787   T -459  ☒ -479 \n",
            "Q 2637+1    T 2638  ☑ 2638 \n",
            "Q 67-8035   T -7968 ☒ -7978\n",
            "Q 894-0     T 894   ☑ 894  \n",
            "Q 0-70      T -70   ☑ -70  \n",
            "Q 7352+195  T 7547  ☒ 7437 \n",
            "Q 8-9626    T -9618 ☒ -9508\n",
            "Q 86+859    T 945   ☑ 945  \n",
            "\n",
            "--------------------------------------------------\n",
            "Iteration 80\n",
            "\u001b[1m278/282\u001b[0m \u001b[32m━━━━━━━━━━━━━━━━━━━\u001b[0m\u001b[37m━\u001b[0m \u001b[1m0s\u001b[0m 9ms/step - accuracy: 0.9188 - loss: 0.2220\n",
            "Epoch 1: val_loss did not improve from 0.42049\n",
            "\u001b[1m282/282\u001b[0m \u001b[32m━━━━━━━━━━━━━━━━━━━━\u001b[0m\u001b[37m\u001b[0m \u001b[1m3s\u001b[0m 9ms/step - accuracy: 0.9187 - loss: 0.2221 - val_accuracy: 0.8403 - val_loss: 0.4690\n",
            "Q 11+57     T 68    ☑ 68   \n",
            "Q 72-1      T 71    ☑ 71   \n",
            "Q 6929+5    T 6934  ☑ 6934 \n",
            "Q 709-6     T 703   ☒ 702  \n",
            "Q 60-3136   T -3076 ☒ -3077\n",
            "Q 733-37    T 696   ☒ 707  \n",
            "Q 383+932   T 1315  ☒ 1316 \n",
            "Q 627+7206  T 7833  ☒ 783  \n",
            "Q 53+78     T 131   ☑ 131  \n",
            "Q 30+32     T 62    ☒ 61   \n",
            "\n",
            "--------------------------------------------------\n",
            "Iteration 81\n",
            "\u001b[1m281/282\u001b[0m \u001b[32m━━━━━━━━━━━━━━━━━━━\u001b[0m\u001b[37m━\u001b[0m \u001b[1m0s\u001b[0m 9ms/step - accuracy: 0.9163 - loss: 0.2256\n",
            "Epoch 1: val_loss did not improve from 0.42049\n",
            "\u001b[1m282/282\u001b[0m \u001b[32m━━━━━━━━━━━━━━━━━━━━\u001b[0m\u001b[37m\u001b[0m \u001b[1m3s\u001b[0m 9ms/step - accuracy: 0.9163 - loss: 0.2256 - val_accuracy: 0.8339 - val_loss: 0.5160\n",
            "Q 1839+6    T 1845  ☑ 1845 \n",
            "Q 94+623    T 717   ☒ 718  \n",
            "Q 6-73      T -67   ☑ -67  \n",
            "Q 7014+32   T 7046  ☒ 7057 \n",
            "Q 8+175     T 183   ☑ 183  \n",
            "Q 342+0     T 342   ☑ 342  \n",
            "Q 236-431   T -195  ☒ -186 \n",
            "Q 125-1     T 124   ☑ 124  \n",
            "Q 790+945   T 1735  ☒ 1636 \n",
            "Q 387+1     T 388   ☑ 388  \n",
            "\n",
            "--------------------------------------------------\n",
            "Iteration 82\n",
            "\u001b[1m281/282\u001b[0m \u001b[32m━━━━━━━━━━━━━━━━━━━\u001b[0m\u001b[37m━\u001b[0m \u001b[1m0s\u001b[0m 12ms/step - accuracy: 0.9192 - loss: 0.2232\n",
            "Epoch 1: val_loss did not improve from 0.42049\n",
            "\u001b[1m282/282\u001b[0m \u001b[32m━━━━━━━━━━━━━━━━━━━━\u001b[0m\u001b[37m\u001b[0m \u001b[1m4s\u001b[0m 13ms/step - accuracy: 0.9192 - loss: 0.2233 - val_accuracy: 0.8391 - val_loss: 0.5022\n",
            "Q 81-113    T -32   ☒ -3   \n",
            "Q 289+5723  T 6012  ☒ 5002 \n",
            "Q 2+5745    T 5747  ☑ 5747 \n",
            "Q 0+23      T 23    ☑ 23   \n",
            "Q 586+93    T 679   ☒ 689  \n",
            "Q 344-94    T 250   ☑ 250  \n",
            "Q 54-91     T -37   ☑ -37  \n",
            "Q 18+115    T 133   ☑ 133  \n",
            "Q 61-4      T 57    ☑ 57   \n",
            "Q 9792+3537 T 13329 ☒ 13459\n",
            "\n",
            "--------------------------------------------------\n",
            "Iteration 83\n",
            "\u001b[1m278/282\u001b[0m \u001b[32m━━━━━━━━━━━━━━━━━━━\u001b[0m\u001b[37m━\u001b[0m \u001b[1m0s\u001b[0m 8ms/step - accuracy: 0.9158 - loss: 0.2294\n",
            "Epoch 1: val_loss did not improve from 0.42049\n",
            "\u001b[1m282/282\u001b[0m \u001b[32m━━━━━━━━━━━━━━━━━━━━\u001b[0m\u001b[37m\u001b[0m \u001b[1m3s\u001b[0m 9ms/step - accuracy: 0.9158 - loss: 0.2294 - val_accuracy: 0.8353 - val_loss: 0.5180\n",
            "Q 6794-3    T 6791  ☒ 6781 \n",
            "Q 0-8192    T -8192 ☑ -8192\n",
            "Q 856-412   T 444   ☒ 44   \n",
            "Q 7663+7    T 7670  ☑ 7670 \n",
            "Q 4796+8    T 4804  ☑ 4804 \n",
            "Q 88-7643   T -7555 ☑ -7555\n",
            "Q 4-722     T -718  ☑ -718 \n",
            "Q 89+687    T 776   ☒ 77   \n",
            "Q 1+577     T 578   ☑ 578  \n",
            "Q 437+121   T 558   ☒ 458  \n",
            "\n",
            "--------------------------------------------------\n",
            "Iteration 84\n",
            "\u001b[1m281/282\u001b[0m \u001b[32m━━━━━━━━━━━━━━━━━━━\u001b[0m\u001b[37m━\u001b[0m \u001b[1m0s\u001b[0m 9ms/step - accuracy: 0.9224 - loss: 0.2128\n",
            "Epoch 1: val_loss did not improve from 0.42049\n",
            "\u001b[1m282/282\u001b[0m \u001b[32m━━━━━━━━━━━━━━━━━━━━\u001b[0m\u001b[37m\u001b[0m \u001b[1m3s\u001b[0m 10ms/step - accuracy: 0.9224 - loss: 0.2129 - val_accuracy: 0.8350 - val_loss: 0.5159\n",
            "Q 302+1167  T 1469  ☒ 1489 \n",
            "Q 6160+1    T 6161  ☑ 6161 \n",
            "Q 37-81     T -44   ☑ -44  \n",
            "Q 6-565     T -559  ☒ -569 \n",
            "Q 96+259    T 355   ☑ 355  \n",
            "Q 73-6477   T -6404 ☒ -640 \n",
            "Q 130-9247  T -9117 ☒ -9107\n",
            "Q 9-7693    T -7684 ☑ -7684\n",
            "Q 566-3959  T -3393 ☑ -3393\n",
            "Q 1879+0    T 1879  ☑ 1879 \n",
            "\n",
            "--------------------------------------------------\n",
            "Iteration 85\n",
            "\u001b[1m280/282\u001b[0m \u001b[32m━━━━━━━━━━━━━━━━━━━\u001b[0m\u001b[37m━\u001b[0m \u001b[1m0s\u001b[0m 8ms/step - accuracy: 0.9176 - loss: 0.2289\n",
            "Epoch 1: val_loss did not improve from 0.42049\n",
            "\u001b[1m282/282\u001b[0m \u001b[32m━━━━━━━━━━━━━━━━━━━━\u001b[0m\u001b[37m\u001b[0m \u001b[1m3s\u001b[0m 9ms/step - accuracy: 0.9176 - loss: 0.2289 - val_accuracy: 0.8343 - val_loss: 0.5112\n",
            "Q 4762-39   T 4723  ☑ 4723 \n",
            "Q 2994+8400 T 11394 ☒ 11903\n",
            "Q 960-7734  T -6774 ☒ -677 \n",
            "Q 604+758   T 1362  ☒ 1442 \n",
            "Q 423+8140  T 8563  ☒ 8583 \n",
            "Q 76+542    T 618   ☑ 618  \n",
            "Q 319+7     T 326   ☑ 326  \n",
            "Q 202+152   T 354   ☒ 373  \n",
            "Q 315-8     T 307   ☑ 307  \n",
            "Q 904-1501  T -597  ☒ -59  \n",
            "\n",
            "--------------------------------------------------\n",
            "Iteration 86\n",
            "\u001b[1m281/282\u001b[0m \u001b[32m━━━━━━━━━━━━━━━━━━━\u001b[0m\u001b[37m━\u001b[0m \u001b[1m0s\u001b[0m 9ms/step - accuracy: 0.9206 - loss: 0.2146\n",
            "Epoch 1: val_loss did not improve from 0.42049\n",
            "\u001b[1m282/282\u001b[0m \u001b[32m━━━━━━━━━━━━━━━━━━━━\u001b[0m\u001b[37m\u001b[0m \u001b[1m3s\u001b[0m 9ms/step - accuracy: 0.9206 - loss: 0.2146 - val_accuracy: 0.8470 - val_loss: 0.4771\n",
            "Q 277+3     T 280   ☑ 280  \n",
            "Q 0-1090    T -1090 ☑ -1090\n",
            "Q 6-10      T -4    ☒ -    \n",
            "Q 4-6878    T -6874 ☑ -6874\n",
            "Q 2+860     T 862   ☑ 862  \n",
            "Q 9645+9979 T 19624 ☒ 10774\n",
            "Q 9616+70   T 9686  ☒ 9677 \n",
            "Q 7087-654  T 6433  ☒ 6423 \n",
            "Q 37-7869   T -7832 ☑ -7832\n",
            "Q 91+8133   T 8224  ☑ 8224 \n",
            "\n",
            "--------------------------------------------------\n",
            "Iteration 87\n",
            "\u001b[1m279/282\u001b[0m \u001b[32m━━━━━━━━━━━━━━━━━━━\u001b[0m\u001b[37m━\u001b[0m \u001b[1m0s\u001b[0m 12ms/step - accuracy: 0.9242 - loss: 0.2062\n",
            "Epoch 1: val_loss did not improve from 0.42049\n",
            "\u001b[1m282/282\u001b[0m \u001b[32m━━━━━━━━━━━━━━━━━━━━\u001b[0m\u001b[37m\u001b[0m \u001b[1m4s\u001b[0m 14ms/step - accuracy: 0.9241 - loss: 0.2063 - val_accuracy: 0.8456 - val_loss: 0.4622\n",
            "Q 3413+4302 T 7715  ☒ 770  \n",
            "Q 5+1200    T 1205  ☑ 1205 \n",
            "Q 9+7107    T 7116  ☑ 7116 \n",
            "Q 22+2702   T 2724  ☑ 2724 \n",
            "Q 6188+672  T 6860  ☑ 6860 \n",
            "Q 6-895     T -889  ☑ -889 \n",
            "Q 9412+986  T 10398 ☒ 10089\n",
            "Q 1009+9    T 1018  ☒ 1019 \n",
            "Q 45-4      T 41    ☑ 41   \n",
            "Q 5+207     T 212   ☑ 212  \n",
            "\n",
            "--------------------------------------------------\n",
            "Iteration 88\n",
            "\u001b[1m276/282\u001b[0m \u001b[32m━━━━━━━━━━━━━━━━━━━\u001b[0m\u001b[37m━\u001b[0m \u001b[1m0s\u001b[0m 9ms/step - accuracy: 0.9207 - loss: 0.2169\n",
            "Epoch 1: val_loss did not improve from 0.42049\n",
            "\u001b[1m282/282\u001b[0m \u001b[32m━━━━━━━━━━━━━━━━━━━━\u001b[0m\u001b[37m\u001b[0m \u001b[1m3s\u001b[0m 9ms/step - accuracy: 0.9207 - loss: 0.2168 - val_accuracy: 0.8460 - val_loss: 0.4682\n",
            "Q 92-75     T 17    ☒ 9    \n",
            "Q 5555-325  T 5230  ☒ 5220 \n",
            "Q 8-2462    T -2454 ☑ -2454\n",
            "Q 245-728   T -483  ☒ -583 \n",
            "Q 77-75     T 2     ☒ 7    \n",
            "Q 7918-170  T 7748  ☒ 7749 \n",
            "Q 628+723   T 1351  ☑ 1351 \n",
            "Q 180-1     T 179   ☑ 179  \n",
            "Q 476+454   T 930   ☒ 900  \n",
            "Q 69+625    T 694   ☑ 694  \n",
            "\n",
            "--------------------------------------------------\n",
            "Iteration 89\n",
            "\u001b[1m282/282\u001b[0m \u001b[32m━━━━━━━━━━━━━━━━━━━━\u001b[0m\u001b[37m\u001b[0m \u001b[1m0s\u001b[0m 8ms/step - accuracy: 0.9268 - loss: 0.2011\n",
            "Epoch 1: val_loss did not improve from 0.42049\n",
            "\u001b[1m282/282\u001b[0m \u001b[32m━━━━━━━━━━━━━━━━━━━━\u001b[0m\u001b[37m\u001b[0m \u001b[1m3s\u001b[0m 9ms/step - accuracy: 0.9268 - loss: 0.2011 - val_accuracy: 0.8511 - val_loss: 0.4494\n",
            "Q 259+828   T 1087  ☒ 108  \n",
            "Q 228+385   T 613   ☒ 513  \n",
            "Q 2036+3    T 2039  ☑ 2039 \n",
            "Q 32-6      T 26    ☑ 26   \n",
            "Q 8+880     T 888   ☑ 888  \n",
            "Q 2-784     T -782  ☑ -782 \n",
            "Q 577+12    T 589   ☒ 599  \n",
            "Q 8465+78   T 8543  ☑ 8543 \n",
            "Q 3129-44   T 3085  ☑ 3085 \n",
            "Q 3+5958    T 5961  ☑ 5961 \n",
            "\n",
            "--------------------------------------------------\n",
            "Iteration 90\n",
            "\u001b[1m279/282\u001b[0m \u001b[32m━━━━━━━━━━━━━━━━━━━\u001b[0m\u001b[37m━\u001b[0m \u001b[1m0s\u001b[0m 13ms/step - accuracy: 0.9272 - loss: 0.1989\n",
            "Epoch 1: val_loss did not improve from 0.42049\n",
            "\u001b[1m282/282\u001b[0m \u001b[32m━━━━━━━━━━━━━━━━━━━━\u001b[0m\u001b[37m\u001b[0m \u001b[1m4s\u001b[0m 14ms/step - accuracy: 0.9272 - loss: 0.1989 - val_accuracy: 0.8438 - val_loss: 0.4935\n",
            "Q 28-995    T -967  ☑ -967 \n",
            "Q 692+4     T 696   ☑ 696  \n",
            "Q 419-452   T -33   ☑ -33  \n",
            "Q 70+7      T 77    ☑ 77   \n",
            "Q 433-3     T 430   ☒ 420  \n",
            "Q 204+13    T 217   ☒ 227  \n",
            "Q 494+43    T 537   ☑ 537  \n",
            "Q 4552+6    T 4558  ☑ 4558 \n",
            "Q 3614-74   T 3540  ☒ 3530 \n",
            "Q 78-3538   T -3460 ☒ -3450\n",
            "\n",
            "--------------------------------------------------\n",
            "Iteration 91\n",
            "\u001b[1m280/282\u001b[0m \u001b[32m━━━━━━━━━━━━━━━━━━━\u001b[0m\u001b[37m━\u001b[0m \u001b[1m0s\u001b[0m 9ms/step - accuracy: 0.9229 - loss: 0.2130\n",
            "Epoch 1: val_loss did not improve from 0.42049\n",
            "\u001b[1m282/282\u001b[0m \u001b[32m━━━━━━━━━━━━━━━━━━━━\u001b[0m\u001b[37m\u001b[0m \u001b[1m3s\u001b[0m 9ms/step - accuracy: 0.9229 - loss: 0.2129 - val_accuracy: 0.8566 - val_loss: 0.4266\n",
            "Q 392-6878  T -6486 ☒ -6287\n",
            "Q 125+596   T 721   ☒ 711  \n",
            "Q 0+5127    T 5127  ☑ 5127 \n",
            "Q 366+72    T 438   ☒ 448  \n",
            "Q 897-58    T 839   ☑ 839  \n",
            "Q 2+996     T 998   ☑ 998  \n",
            "Q 98+551    T 649   ☒ 659  \n",
            "Q 8864-25   T 8839  ☑ 8839 \n",
            "Q 725-360   T 365   ☒ 475  \n",
            "Q 156+402   T 558   ☒ 568  \n",
            "\n",
            "--------------------------------------------------\n",
            "Iteration 92\n",
            "\u001b[1m282/282\u001b[0m \u001b[32m━━━━━━━━━━━━━━━━━━━━\u001b[0m\u001b[37m\u001b[0m \u001b[1m0s\u001b[0m 8ms/step - accuracy: 0.9304 - loss: 0.1898\n",
            "Epoch 1: val_loss did not improve from 0.42049\n",
            "\u001b[1m282/282\u001b[0m \u001b[32m━━━━━━━━━━━━━━━━━━━━\u001b[0m\u001b[37m\u001b[0m \u001b[1m3s\u001b[0m 10ms/step - accuracy: 0.9304 - loss: 0.1898 - val_accuracy: 0.8553 - val_loss: 0.4461\n",
            "Q 8-1784    T -1776 ☑ -1776\n",
            "Q 71+938    T 1009  ☑ 1009 \n",
            "Q 391-9239  T -8848 ☒ -8758\n",
            "Q 1596-3    T 1593  ☒ 1693 \n",
            "Q 43+7968   T 8011  ☒ 8022 \n",
            "Q 477-9     T 468   ☑ 468  \n",
            "Q 4413+5    T 4418  ☒ 4409 \n",
            "Q 853-7     T 846   ☑ 846  \n",
            "Q 78-7976   T -7898 ☑ -7898\n",
            "Q 38-9      T 29    ☒ 39   \n",
            "\n",
            "--------------------------------------------------\n",
            "Iteration 93\n",
            "\u001b[1m278/282\u001b[0m \u001b[32m━━━━━━━━━━━━━━━━━━━\u001b[0m\u001b[37m━\u001b[0m \u001b[1m0s\u001b[0m 12ms/step - accuracy: 0.9275 - loss: 0.1985\n",
            "Epoch 1: val_loss did not improve from 0.42049\n",
            "\u001b[1m282/282\u001b[0m \u001b[32m━━━━━━━━━━━━━━━━━━━━\u001b[0m\u001b[37m\u001b[0m \u001b[1m4s\u001b[0m 13ms/step - accuracy: 0.9275 - loss: 0.1985 - val_accuracy: 0.8497 - val_loss: 0.4844\n",
            "Q 22+2702   T 2724  ☒ 272  \n",
            "Q 696+1     T 697   ☑ 697  \n",
            "Q 5009-970  T 4039  ☒ 4089 \n",
            "Q 2-700     T -698  ☒ -798 \n",
            "Q 492+0     T 492   ☑ 492  \n",
            "Q 73-8679   T -8606 ☒ -8686\n",
            "Q 6071-1068 T 5003  ☒ 4990 \n",
            "Q 1-521     T -520  ☑ -520 \n",
            "Q 559-722   T -163  ☒ -262 \n",
            "Q 1079-692  T 387   ☒ 377  \n",
            "\n",
            "--------------------------------------------------\n",
            "Iteration 94\n",
            "\u001b[1m281/282\u001b[0m \u001b[32m━━━━━━━━━━━━━━━━━━━\u001b[0m\u001b[37m━\u001b[0m \u001b[1m0s\u001b[0m 8ms/step - accuracy: 0.9316 - loss: 0.1885\n",
            "Epoch 1: val_loss did not improve from 0.42049\n",
            "\u001b[1m282/282\u001b[0m \u001b[32m━━━━━━━━━━━━━━━━━━━━\u001b[0m\u001b[37m\u001b[0m \u001b[1m3s\u001b[0m 9ms/step - accuracy: 0.9315 - loss: 0.1886 - val_accuracy: 0.8512 - val_loss: 0.4452\n",
            "Q 958-3518  T -2560 ☒ -1560\n",
            "Q 19+5490   T 5509  ☑ 5509 \n",
            "Q 7443+0    T 7443  ☑ 7443 \n",
            "Q 854-81    T 773   ☒ 783  \n",
            "Q 1+577     T 578   ☑ 578  \n",
            "Q 7380-522  T 6858  ☒ 6888 \n",
            "Q 257+3436  T 3693  ☒ 379  \n",
            "Q 8207-87   T 8120  ☑ 8120 \n",
            "Q 1085+8    T 1093  ☑ 1093 \n",
            "Q 17-108    T -91   ☒ -90  \n",
            "\n",
            "--------------------------------------------------\n",
            "Iteration 95\n",
            "\u001b[1m278/282\u001b[0m \u001b[32m━━━━━━━━━━━━━━━━━━━\u001b[0m\u001b[37m━\u001b[0m \u001b[1m0s\u001b[0m 9ms/step - accuracy: 0.9314 - loss: 0.1892\n",
            "Epoch 1: val_loss did not improve from 0.42049\n",
            "\u001b[1m282/282\u001b[0m \u001b[32m━━━━━━━━━━━━━━━━━━━━\u001b[0m\u001b[37m\u001b[0m \u001b[1m3s\u001b[0m 10ms/step - accuracy: 0.9314 - loss: 0.1893 - val_accuracy: 0.8505 - val_loss: 0.4556\n",
            "Q 784-1     T 783   ☑ 783  \n",
            "Q 590-6642  T -6052 ☒ -6962\n",
            "Q 738+9     T 747   ☑ 747  \n",
            "Q 4047-519  T 3528  ☒ 358  \n",
            "Q 84-6052   T -5968 ☒ -5978\n",
            "Q 302-4655  T -4353 ☒ -4453\n",
            "Q 99-66     T 33    ☑ 33   \n",
            "Q 417+2     T 419   ☑ 419  \n",
            "Q 299+11    T 310   ☑ 310  \n",
            "Q 6+1397    T 1403  ☑ 1403 \n",
            "\n",
            "--------------------------------------------------\n",
            "Iteration 96\n",
            "\u001b[1m281/282\u001b[0m \u001b[32m━━━━━━━━━━━━━━━━━━━\u001b[0m\u001b[37m━\u001b[0m \u001b[1m0s\u001b[0m 11ms/step - accuracy: 0.9296 - loss: 0.1926\n",
            "Epoch 1: val_loss did not improve from 0.42049\n",
            "\u001b[1m282/282\u001b[0m \u001b[32m━━━━━━━━━━━━━━━━━━━━\u001b[0m\u001b[37m\u001b[0m \u001b[1m3s\u001b[0m 12ms/step - accuracy: 0.9296 - loss: 0.1926 - val_accuracy: 0.8529 - val_loss: 0.4817\n",
            "Q 20-73     T -53   ☑ -53  \n",
            "Q 86-2      T 84    ☑ 84   \n",
            "Q 560+58    T 618   ☑ 618  \n",
            "Q 188+96    T 284   ☑ 284  \n",
            "Q 2608-806  T 1802  ☒ 280  \n",
            "Q 1048-2523 T -1475 ☒ -105 \n",
            "Q 5-7944    T -7939 ☑ -7939\n",
            "Q 2824-399  T 2425  ☒ 2525 \n",
            "Q 1622+53   T 1675  ☒ 1666 \n",
            "Q 84+8      T 92    ☑ 92   \n",
            "\n",
            "--------------------------------------------------\n",
            "Iteration 97\n",
            "\u001b[1m277/282\u001b[0m \u001b[32m━━━━━━━━━━━━━━━━━━━\u001b[0m\u001b[37m━\u001b[0m \u001b[1m0s\u001b[0m 9ms/step - accuracy: 0.9328 - loss: 0.1849\n",
            "Epoch 1: val_loss did not improve from 0.42049\n",
            "\u001b[1m282/282\u001b[0m \u001b[32m━━━━━━━━━━━━━━━━━━━━\u001b[0m\u001b[37m\u001b[0m \u001b[1m3s\u001b[0m 10ms/step - accuracy: 0.9327 - loss: 0.1850 - val_accuracy: 0.8510 - val_loss: 0.4827\n",
            "Q 85+0      T 85    ☑ 85   \n",
            "Q 5+406     T 411   ☑ 411  \n",
            "Q 856-412   T 444   ☒ 44   \n",
            "Q 2+599     T 601   ☑ 601  \n",
            "Q 473-8767  T -8294 ☒ -8204\n",
            "Q 5658-6295 T -637  ☒ 41   \n",
            "Q 665+3     T 668   ☑ 668  \n",
            "Q 7046+3803 T 10849 ☒ 10070\n",
            "Q 894-5     T 889   ☑ 889  \n",
            "Q 3-8071    T -8068 ☑ -8068\n",
            "\n",
            "--------------------------------------------------\n",
            "Iteration 98\n",
            "\u001b[1m282/282\u001b[0m \u001b[32m━━━━━━━━━━━━━━━━━━━━\u001b[0m\u001b[37m\u001b[0m \u001b[1m0s\u001b[0m 8ms/step - accuracy: 0.9274 - loss: 0.1993\n",
            "Epoch 1: val_loss did not improve from 0.42049\n",
            "\u001b[1m282/282\u001b[0m \u001b[32m━━━━━━━━━━━━━━━━━━━━\u001b[0m\u001b[37m\u001b[0m \u001b[1m3s\u001b[0m 9ms/step - accuracy: 0.9274 - loss: 0.1993 - val_accuracy: 0.8561 - val_loss: 0.4575\n",
            "Q 45+962    T 1007  ☒ 908  \n",
            "Q 15-0      T 15    ☑ 15   \n",
            "Q 94+94     T 188   ☑ 188  \n",
            "Q 6500-1798 T 4702  ☒ 450  \n",
            "Q 4525-7    T 4518  ☒ 4408 \n",
            "Q 6087+8    T 6095  ☑ 6095 \n",
            "Q 3-940     T -937  ☑ -937 \n",
            "Q 6160+1    T 6161  ☑ 6161 \n",
            "Q 8+3883    T 3891  ☑ 3891 \n",
            "Q 892+6     T 898   ☑ 898  \n",
            "\n",
            "--------------------------------------------------\n",
            "Iteration 99\n",
            "\u001b[1m279/282\u001b[0m \u001b[32m━━━━━━━━━━━━━━━━━━━\u001b[0m\u001b[37m━\u001b[0m \u001b[1m0s\u001b[0m 12ms/step - accuracy: 0.9328 - loss: 0.1843\n",
            "Epoch 1: val_loss improved from 0.42049 to 0.40294, saving model to best_model_3.h5\n"
          ]
        },
        {
          "output_type": "stream",
          "name": "stderr",
          "text": [
            "WARNING:absl:You are saving your model as an HDF5 file via `model.save()` or `keras.saving.save_model(model)`. This file format is considered legacy. We recommend using instead the native Keras format, e.g. `model.save('my_model.keras')` or `keras.saving.save_model(model, 'my_model.keras')`. \n"
          ]
        },
        {
          "output_type": "stream",
          "name": "stdout",
          "text": [
            "\b\b\b\b\b\b\b\b\b\b\b\b\b\b\b\b\b\b\b\b\b\b\b\b\b\b\b\b\b\b\b\b\b\b\b\b\b\b\b\b\b\b\b\b\b\b\b\b\b\b\b\b\b\b\b\b\b\b\b\b\b\b\b\b\b\b\b\b\b\b\b\b\b\b\b\r\u001b[1m282/282\u001b[0m \u001b[32m━━━━━━━━━━━━━━━━━━━━\u001b[0m\u001b[37m\u001b[0m \u001b[1m4s\u001b[0m 14ms/step - accuracy: 0.9327 - loss: 0.1844 - val_accuracy: 0.8635 - val_loss: 0.4029\n",
            "Q 917+6894  T 7811  ☒ 7601 \n",
            "Q 610+642   T 1252  ☒ 1342 \n",
            "Q 4-1486    T -1482 ☑ -1482\n",
            "Q 2-61      T -59   ☑ -59  \n",
            "Q 4-293     T -289  ☑ -289 \n",
            "Q 58+17     T 75    ☒ 76   \n",
            "Q 24+4088   T 4112  ☒ 4012 \n",
            "Q 6607-36   T 6571  ☒ 6570 \n",
            "Q 6617+6    T 6623  ☑ 6623 \n",
            "Q 20-97     T -77   ☒ -78  \n"
          ]
        }
      ]
    },
    {
      "cell_type": "markdown",
      "source": [
        "The improved Model 3 shows significant improvements over Model 2 (including the attention mechanism) in terms of both training and validation performance. Specifically:\n",
        "\n",
        "Training Accuracy:\n",
        "  - Model 3 achieves around 92%, compared to Model 2’s 90%.\n",
        "\n",
        "Validation Accuracy:\n",
        "  - Model 3 reaches 86%, which is a 5% improvement over Model 2’s 81%.\n",
        "\n",
        "This improvement highlights that Model 3 generalizes better to unseen data, likely due to the structural enhancements made to the model.\n",
        "\n",
        "Key Changes in Model 3:\n",
        "  - GRU Layers: Switched from LSTM to GRU for more efficient learning with fewer parameters, capturing temporal dependencies effectively.\n",
        "\n",
        "  - Convolutional Layer (Conv1D): Added to extract local features, improving the model’s ability to recognize important patterns in the sequence.\n",
        "\n",
        "  - Global Max Pooling: Helps retain the most significant features from the attention output, aiding generalization and reducing dimensionality.\n",
        "\n",
        "  - Dropout: Prevents overfitting, improving the model's ability to generalize to unseen data.\n",
        "\n",
        "  - Iterations: changed max iterations to 100 to enable the model to fully converege"
      ],
      "metadata": {
        "id": "B6HSWsCoLaSD"
      }
    },
    {
      "cell_type": "markdown",
      "metadata": {
        "id": "voVYROYNlO49"
      },
      "source": [
        "---"
      ]
    },
    {
      "cell_type": "markdown",
      "metadata": {
        "id": "X-d0eIM6FeaM"
      },
      "source": [
        "## Part 2: A language translation model with attention"
      ]
    },
    {
      "cell_type": "markdown",
      "metadata": {
        "id": "80jhFbWPMW_a"
      },
      "source": [
        "In this part of the problem set we are going to implement a translation with a Sequence to Sequence Network and Attention model."
      ]
    },
    {
      "cell_type": "markdown",
      "metadata": {
        "id": "TgL38lJGTYaF"
      },
      "source": [
        "0) Please go over the NLP From Scratch: Translation with a Sequence to Sequence Network and Attention [tutorial](https://pytorch.org/tutorials/intermediate/seq2seq_translation_tutorial.html). This attention model is very similar to what was learned in class (Luong), but a bit different. What are the main differences between  Badahnau and Luong attention mechanisms?    \n",
        "\n"
      ]
    },
    {
      "cell_type": "markdown",
      "metadata": {
        "id": "KBX873GJlDl9"
      },
      "source": [
        "1.a) Using `!wget`, `!unzip` , download and extract the [hebrew-english](https://www.manythings.org/anki/) sentence pairs text file to the Colab `content/`  folder (or local folder if not using Colab).\n",
        "1.b) The `heb.txt` must be parsed and cleaned (see tutorial for requirements or change the code as you see fit).   \n"
      ]
    },
    {
      "cell_type": "markdown",
      "metadata": {
        "id": "AvIIlNvPlGWB"
      },
      "source": [
        "2.a) Use the tutorial example to build  and train a Hebrew to English translation model with attention (using the parameters in the code cell below). Apply the same `eng_prefixes` filter to limit the train/test data.   \n",
        "2.b) Evaluate your trained model randomly on 20 sentences.  \n",
        "2.c) Show the attention plot for 5 random sentences.  \n"
      ]
    },
    {
      "cell_type": "markdown",
      "metadata": {
        "id": "qcqtVxkclIWG"
      },
      "source": [
        "3) Do you think this model performs well? Why or why not? What are its limitations/disadvantages? What would you do to improve it?  \n"
      ]
    },
    {
      "cell_type": "markdown",
      "metadata": {
        "id": "i2VSrRNtlJub"
      },
      "source": [
        "4) Using any neural network architecture of your liking, build  a model with the aim to beat the model in 2.a. Compare your results in a meaningful way, and add a short explanation to why you think/thought your suggested network is better."
      ]
    },
    {
      "cell_type": "markdown",
      "source": [
        "0)\n",
        "The main differences between Bahdanau and Luong attention mechanisms lie in how they calculate attention scores. Bahdanau attention (also known as additive attention) uses a feed-forward neural network to compute a compatibility function between the decoder's hidden state and encoder states. In contrast, Luong attention (multiplicative attention) directly calculates the attention score by performing a dot product between the decoder's hidden state and encoder states. Luong attention generally performs faster due to its simpler computation and is often considered more efficient in practice."
      ],
      "metadata": {
        "id": "I-KLRq5aE0f_"
      }
    },
    {
      "cell_type": "markdown",
      "source": [
        "1.a) - I have manually downloaded the relevant txt file and uploaded it to my drive."
      ],
      "metadata": {
        "id": "RTf40_glE-9l"
      }
    },
    {
      "cell_type": "code",
      "execution_count": 6,
      "metadata": {
        "colab": {
          "base_uri": "https://localhost:8080/"
        },
        "id": "462hSnWL7U1t",
        "outputId": "ef758c2e-b9e0-46aa-d4dd-3c6fbb379a86"
      },
      "outputs": [
        {
          "output_type": "stream",
          "name": "stdout",
          "text": [
            "Reading lines...\n",
            "Read 128133 sentence pairs\n",
            "Trimmed to 32968 sentence pairs\n",
            "Counting words...\n",
            "Counted words:\n",
            "heb 14485\n",
            "eng 6808\n",
            "['זה מצחין', 'this stinks']\n"
          ]
        }
      ],
      "source": [
        "SOS_token = 0\n",
        "EOS_token = 1\n",
        "\n",
        "class Lang:\n",
        "    def __init__(self, name):\n",
        "        self.name = name\n",
        "        self.word2index = {}\n",
        "        self.word2count = {}\n",
        "        self.index2word = {0: \"SOS\", 1: \"EOS\"}\n",
        "        self.n_words = 2  # Count SOS and EOS\n",
        "\n",
        "    def addSentence(self, sentence):\n",
        "        for word in sentence.split(' '):\n",
        "            self.addWord(word)\n",
        "\n",
        "    def addWord(self, word):\n",
        "        if word not in self.word2index:\n",
        "            self.word2index[word] = self.n_words\n",
        "            self.word2count[word] = 1\n",
        "            self.index2word[self.n_words] = word\n",
        "            self.n_words += 1\n",
        "        else:\n",
        "            self.word2count[word] += 1\n",
        "\n",
        "\n",
        "# Turn a Unicode string to plain ASCII, thanks to\n",
        "# https://stackoverflow.com/a/518232/2809427\n",
        "def unicodeToAscii(s):\n",
        "    return ''.join(\n",
        "        c for c in unicodedata.normalize('NFD', s)\n",
        "        if unicodedata.category(c) != 'Mn'\n",
        "    )\n",
        "\n",
        "# Lowercase, trim, and remove non-letter characters\n",
        "def normalizeString(s):\n",
        "    s = unicodeToAscii(s.lower().strip())\n",
        "    s = re.sub(r\"([.!?])\", r\" \\1\", s)\n",
        "    #s = re.sub(r\"[^a-zA-Z!?]+\", r\" \", s)\n",
        "    s = re.sub(r\"[^a-zA-Z\\u0590-\\u05FF!?]+\", r\" \", s)  # Keep Hebrew characters\n",
        "    return s.strip()\n",
        "\n",
        "\n",
        "def readLangs(lang1, lang2, reverse=False):\n",
        "    print(\"Reading lines...\")\n",
        "\n",
        "    # Read the file and split into lines\n",
        "    #lines = open('data/%s-%s.txt' % (lang1, lang2), encoding='utf-8').\\\n",
        "    lines = open('/content/drive/MyDrive/ps3/heb.txt', encoding='utf-8').\\\n",
        "        read().strip().split('\\n')\n",
        "\n",
        "    # Split every line into pairs and normalize\n",
        "    pairs = [[normalizeString(s) for s in l.split('\\t')] for l in lines]\n",
        "\n",
        "    # Reverse pairs, make Lang instances\n",
        "    if reverse:\n",
        "        pairs = [list(reversed(p)) for p in pairs]\n",
        "        input_lang = Lang(lang2)\n",
        "        output_lang = Lang(lang1)\n",
        "    else:\n",
        "        input_lang = Lang(lang1)\n",
        "        output_lang = Lang(lang2)\n",
        "    pairs = [pair[1:] for pair in pairs]\n",
        "\n",
        "    return input_lang, output_lang, pairs\n",
        "\n",
        "MAX_LENGTH = 10\n",
        "\n",
        "eng_prefixes = (\n",
        "    \"i am \", \"i m \",\n",
        "    \"he is\", \"he s \",\n",
        "    \"she is\", \"she s \",\n",
        "    \"you are\", \"you re \",\n",
        "    \"we are\", \"we re \",\n",
        "    \"they are\", \"they re \"\n",
        ")\n",
        "\n",
        "def filterPair(p):\n",
        "    if 'cc by france attribution tatoeba org' in p[0] or 'cc by france attribution tatoeba org' in p[1]:\n",
        "        return False\n",
        "    return len(p[0].split(' ')) < MAX_LENGTH and \\\n",
        "        len(p[1].split(' ')) < MAX_LENGTH# and \\\n",
        "        #p[1].startswith(eng_prefixes)\n",
        "\n",
        "\n",
        "def filterPairs(pairs):\n",
        "    return [pair for pair in pairs if filterPair(pair)]\n",
        "\n",
        "def prepareData(lang1, lang2, reverse=False):\n",
        "    input_lang, output_lang, pairs = readLangs(lang1, lang2, reverse)\n",
        "    print(\"Read %s sentence pairs\" % len(pairs))\n",
        "    pairs = filterPairs(pairs)\n",
        "    print(\"Trimmed to %s sentence pairs\" % len(pairs))\n",
        "    print(\"Counting words...\")\n",
        "    for pair in pairs:\n",
        "        input_lang.addSentence(pair[0])\n",
        "        output_lang.addSentence(pair[1])\n",
        "    print(\"Counted words:\")\n",
        "    print(input_lang.name, input_lang.n_words)\n",
        "    print(output_lang.name, output_lang.n_words)\n",
        "    return input_lang, output_lang, pairs\n",
        "\n",
        "input_lang, output_lang, pairs = prepareData('eng', 'heb', True)\n",
        "print(random.choice(pairs))"
      ]
    },
    {
      "cell_type": "code",
      "execution_count": 7,
      "metadata": {
        "id": "0EYC8cbbBws6"
      },
      "outputs": [],
      "source": [
        "class EncoderRNN(nn.Module):\n",
        "    def __init__(self, input_size, hidden_size, dropout_p=0.1):\n",
        "        super(EncoderRNN, self).__init__()\n",
        "        self.hidden_size = hidden_size\n",
        "\n",
        "        self.embedding = nn.Embedding(input_size, hidden_size)\n",
        "        self.gru = nn.GRU(hidden_size, hidden_size, batch_first=True)\n",
        "        self.dropout = nn.Dropout(dropout_p)\n",
        "\n",
        "    def forward(self, input):\n",
        "        embedded = self.dropout(self.embedding(input))\n",
        "        output, hidden = self.gru(embedded)\n",
        "        return output, hidden\n",
        "\n",
        "class DecoderRNN(nn.Module):\n",
        "    def __init__(self, hidden_size, output_size):\n",
        "        super(DecoderRNN, self).__init__()\n",
        "        self.embedding = nn.Embedding(output_size, hidden_size)\n",
        "        self.gru = nn.GRU(hidden_size, hidden_size, batch_first=True)\n",
        "        self.out = nn.Linear(hidden_size, output_size)\n",
        "\n",
        "    def forward(self, encoder_outputs, encoder_hidden, target_tensor=None):\n",
        "        batch_size = encoder_outputs.size(0)\n",
        "        decoder_input = torch.empty(batch_size, 1, dtype=torch.long, device=device).fill_(SOS_token)\n",
        "        decoder_hidden = encoder_hidden\n",
        "        decoder_outputs = []\n",
        "\n",
        "        for i in range(MAX_LENGTH):\n",
        "            decoder_output, decoder_hidden  = self.forward_step(decoder_input, decoder_hidden)\n",
        "            decoder_outputs.append(decoder_output)\n",
        "\n",
        "            if target_tensor is not None:\n",
        "                # Teacher forcing: Feed the target as the next input\n",
        "                decoder_input = target_tensor[:, i].unsqueeze(1) # Teacher forcing\n",
        "            else:\n",
        "                # Without teacher forcing: use its own predictions as the next input\n",
        "                _, topi = decoder_output.topk(1)\n",
        "                decoder_input = topi.squeeze(-1).detach()  # detach from history as input\n",
        "\n",
        "        decoder_outputs = torch.cat(decoder_outputs, dim=1)\n",
        "        decoder_outputs = F.log_softmax(decoder_outputs, dim=-1)\n",
        "        return decoder_outputs, decoder_hidden, None # We return `None` for consistency in the training loop\n",
        "\n",
        "    def forward_step(self, input, hidden):\n",
        "        output = self.embedding(input)\n",
        "        output = F.relu(output)\n",
        "        output, hidden = self.gru(output, hidden)\n",
        "        output = self.out(output)\n",
        "        return output, hidden\n",
        "\n",
        "class BahdanauAttention(nn.Module):\n",
        "    def __init__(self, hidden_size):\n",
        "        super(BahdanauAttention, self).__init__()\n",
        "        self.Wa = nn.Linear(hidden_size, hidden_size)\n",
        "        self.Ua = nn.Linear(hidden_size, hidden_size)\n",
        "        self.Va = nn.Linear(hidden_size, 1)\n",
        "\n",
        "    def forward(self, query, keys):\n",
        "        scores = self.Va(torch.tanh(self.Wa(query) + self.Ua(keys)))\n",
        "        scores = scores.squeeze(2).unsqueeze(1)\n",
        "\n",
        "        weights = F.softmax(scores, dim=-1)\n",
        "        context = torch.bmm(weights, keys)\n",
        "\n",
        "        return context, weights\n",
        "\n",
        "class AttnDecoderRNN(nn.Module):\n",
        "    def __init__(self, hidden_size, output_size, dropout_p=0.1):\n",
        "        super(AttnDecoderRNN, self).__init__()\n",
        "        self.embedding = nn.Embedding(output_size, hidden_size)\n",
        "        self.attention = BahdanauAttention(hidden_size)\n",
        "        self.gru = nn.GRU(2 * hidden_size, hidden_size, batch_first=True)\n",
        "        self.out = nn.Linear(hidden_size, output_size)\n",
        "        self.dropout = nn.Dropout(dropout_p)\n",
        "\n",
        "    def forward(self, encoder_outputs, encoder_hidden, target_tensor=None):\n",
        "        batch_size = encoder_outputs.size(0)\n",
        "        decoder_input = torch.empty(batch_size, 1, dtype=torch.long, device=device).fill_(SOS_token)\n",
        "        decoder_hidden = encoder_hidden\n",
        "        decoder_outputs = []\n",
        "        attentions = []\n",
        "\n",
        "        for i in range(MAX_LENGTH):\n",
        "            decoder_output, decoder_hidden, attn_weights = self.forward_step(\n",
        "                decoder_input, decoder_hidden, encoder_outputs\n",
        "            )\n",
        "            decoder_outputs.append(decoder_output)\n",
        "            attentions.append(attn_weights)\n",
        "\n",
        "            if target_tensor is not None:\n",
        "                # Teacher forcing: Feed the target as the next input\n",
        "                decoder_input = target_tensor[:, i].unsqueeze(1) # Teacher forcing\n",
        "            else:\n",
        "                # Without teacher forcing: use its own predictions as the next input\n",
        "                _, topi = decoder_output.topk(1)\n",
        "                decoder_input = topi.squeeze(-1).detach()  # detach from history as input\n",
        "\n",
        "        decoder_outputs = torch.cat(decoder_outputs, dim=1)\n",
        "        decoder_outputs = F.log_softmax(decoder_outputs, dim=-1)\n",
        "        attentions = torch.cat(attentions, dim=1)\n",
        "\n",
        "        return decoder_outputs, decoder_hidden, attentions\n",
        "\n",
        "\n",
        "    def forward_step(self, input, hidden, encoder_outputs):\n",
        "        embedded =  self.dropout(self.embedding(input))\n",
        "\n",
        "        query = hidden.permute(1, 0, 2)\n",
        "        context, attn_weights = self.attention(query, encoder_outputs)\n",
        "        input_gru = torch.cat((embedded, context), dim=2)\n",
        "\n",
        "        output, hidden = self.gru(input_gru, hidden)\n",
        "        output = self.out(output)\n",
        "\n",
        "        return output, hidden, attn_weights\n",
        "\n",
        "def indexesFromSentence(lang, sentence):\n",
        "    return [lang.word2index[word] for word in sentence.split(' ')]\n",
        "\n",
        "def tensorFromSentence(lang, sentence):\n",
        "    indexes = indexesFromSentence(lang, sentence)\n",
        "    indexes.append(EOS_token)\n",
        "    return torch.tensor(indexes, dtype=torch.long, device=device).view(1, -1)\n",
        "\n",
        "def tensorsFromPair(pair):\n",
        "    input_tensor = tensorFromSentence(input_lang, pair[0])\n",
        "    target_tensor = tensorFromSentence(output_lang, pair[1])\n",
        "    return (input_tensor, target_tensor)\n",
        "\n",
        "def get_dataloader(batch_size):\n",
        "    input_lang, output_lang, pairs = prepareData('eng', 'heb', True)\n",
        "\n",
        "    n = len(pairs)\n",
        "    input_ids = np.zeros((n, MAX_LENGTH), dtype=np.int32)\n",
        "    target_ids = np.zeros((n, MAX_LENGTH), dtype=np.int32)\n",
        "\n",
        "    for idx, (inp, tgt) in enumerate(pairs):\n",
        "        inp_ids = indexesFromSentence(input_lang, inp)\n",
        "        tgt_ids = indexesFromSentence(output_lang, tgt)\n",
        "        inp_ids.append(EOS_token)\n",
        "        tgt_ids.append(EOS_token)\n",
        "        input_ids[idx, :len(inp_ids)] = inp_ids\n",
        "        target_ids[idx, :len(tgt_ids)] = tgt_ids\n",
        "\n",
        "    train_data = TensorDataset(torch.LongTensor(input_ids).to(device),\n",
        "                               torch.LongTensor(target_ids).to(device))\n",
        "\n",
        "    train_sampler = RandomSampler(train_data)\n",
        "    train_dataloader = DataLoader(train_data, sampler=train_sampler, batch_size=batch_size)\n",
        "    return input_lang, output_lang, train_dataloader\n",
        "\n",
        "def train_epoch(dataloader, encoder, decoder, encoder_optimizer,\n",
        "          decoder_optimizer, criterion):\n",
        "\n",
        "    total_loss = 0\n",
        "    for data in dataloader:\n",
        "        input_tensor, target_tensor = data\n",
        "\n",
        "        encoder_optimizer.zero_grad()\n",
        "        decoder_optimizer.zero_grad()\n",
        "\n",
        "        encoder_outputs, encoder_hidden = encoder(input_tensor)\n",
        "        decoder_outputs, _, _ = decoder(encoder_outputs, encoder_hidden, target_tensor)\n",
        "\n",
        "        loss = criterion(\n",
        "            decoder_outputs.view(-1, decoder_outputs.size(-1)),\n",
        "            target_tensor.view(-1)\n",
        "        )\n",
        "        loss.backward()\n",
        "\n",
        "        encoder_optimizer.step()\n",
        "        decoder_optimizer.step()\n",
        "\n",
        "        total_loss += loss.item()\n",
        "\n",
        "    return total_loss / len(dataloader)\n",
        "\n",
        "import time\n",
        "import math\n",
        "\n",
        "def asMinutes(s):\n",
        "    m = math.floor(s / 60)\n",
        "    s -= m * 60\n",
        "    return '%dm %ds' % (m, s)\n",
        "\n",
        "def timeSince(since, percent):\n",
        "    now = time.time()\n",
        "    s = now - since\n",
        "    es = s / (percent)\n",
        "    rs = es - s\n",
        "    return '%s (- %s)' % (asMinutes(s), asMinutes(rs))\n",
        "\n",
        "def train(train_dataloader, encoder, decoder, n_epochs, learning_rate=0.001,\n",
        "               print_every=100, plot_every=100):\n",
        "    start = time.time()\n",
        "    plot_losses = []\n",
        "    print_loss_total = 0  # Reset every print_every\n",
        "    plot_loss_total = 0  # Reset every plot_every\n",
        "\n",
        "    encoder_optimizer = optim.Adam(encoder.parameters(), lr=learning_rate)\n",
        "    decoder_optimizer = optim.Adam(decoder.parameters(), lr=learning_rate)\n",
        "    criterion = nn.NLLLoss()\n",
        "\n",
        "    for epoch in range(1, n_epochs + 1):\n",
        "        loss = train_epoch(train_dataloader, encoder, decoder, encoder_optimizer, decoder_optimizer, criterion)\n",
        "        print_loss_total += loss\n",
        "        plot_loss_total += loss\n",
        "\n",
        "        if epoch % print_every == 0:\n",
        "            print_loss_avg = print_loss_total / print_every\n",
        "            print_loss_total = 0\n",
        "            print('%s (%d %d%%) %.4f' % (timeSince(start, epoch / n_epochs),\n",
        "                                        epoch, epoch / n_epochs * 100, print_loss_avg))\n",
        "\n",
        "        if epoch % plot_every == 0:\n",
        "            plot_loss_avg = plot_loss_total / plot_every\n",
        "            plot_losses.append(plot_loss_avg)\n",
        "            plot_loss_total = 0\n",
        "\n",
        "    showPlot(plot_losses)\n",
        "\n",
        "import matplotlib.pyplot as plt\n",
        "plt.switch_backend('agg')\n",
        "import matplotlib.ticker as ticker\n",
        "import numpy as np\n",
        "\n",
        "def showPlot(points):\n",
        "    plt.figure()\n",
        "    fig, ax = plt.subplots()\n",
        "    # this locator puts ticks at regular intervals\n",
        "    loc = ticker.MultipleLocator(base=0.2)\n",
        "    ax.yaxis.set_major_locator(loc)\n",
        "    plt.plot(points)\n",
        "\n",
        "def evaluate(encoder, decoder, sentence, input_lang, output_lang):\n",
        "    with torch.no_grad():\n",
        "        input_tensor = tensorFromSentence(input_lang, sentence)\n",
        "\n",
        "        encoder_outputs, encoder_hidden = encoder(input_tensor)\n",
        "        decoder_outputs, decoder_hidden, decoder_attn = decoder(encoder_outputs, encoder_hidden)\n",
        "\n",
        "        _, topi = decoder_outputs.topk(1)\n",
        "        decoded_ids = topi.squeeze()\n",
        "\n",
        "        decoded_words = []\n",
        "        for idx in decoded_ids:\n",
        "            if idx.item() == EOS_token:\n",
        "                decoded_words.append('<EOS>')\n",
        "                break\n",
        "            decoded_words.append(output_lang.index2word[idx.item()])\n",
        "    return decoded_words, decoder_attn\n",
        "\n",
        "def evaluateRandomly(encoder, decoder, n=10):\n",
        "    for i in range(n):\n",
        "        pair = random.choice(pairs)\n",
        "        print('>', pair[0])\n",
        "        print('=', pair[1])\n",
        "        output_words, _ = evaluate(encoder, decoder, pair[0], input_lang, output_lang)\n",
        "        output_sentence = ' '.join(output_words)\n",
        "        print('<', output_sentence)\n",
        "        print('')"
      ]
    },
    {
      "cell_type": "code",
      "execution_count": null,
      "metadata": {
        "colab": {
          "background_save": true,
          "base_uri": "https://localhost:8080/"
        },
        "id": "v08VwvC3LiAx",
        "outputId": "bb778f2f-756f-44e3-d07f-5a47c0ff4e60"
      },
      "outputs": [
        {
          "name": "stdout",
          "output_type": "stream",
          "text": [
            "Reading lines...\n",
            "Read 128133 sentence pairs\n",
            "Trimmed to 113428 sentence pairs\n",
            "Counting words...\n",
            "Counted words:\n",
            "heb 34801\n",
            "eng 12303\n",
            "7m 16s (- 65m 32s) (5 10%) 1.6488\n",
            "14m 24s (- 57m 38s) (10 20%) 0.8945\n",
            "21m 34s (- 50m 20s) (15 30%) 0.6539\n",
            "28m 46s (- 43m 9s) (20 40%) 0.5271\n",
            "35m 52s (- 35m 52s) (25 50%) 0.4460\n",
            "43m 5s (- 28m 43s) (30 60%) 0.3902\n",
            "50m 18s (- 21m 33s) (35 70%) 0.3496\n",
            "57m 28s (- 14m 22s) (40 80%) 0.3183\n",
            "64m 35s (- 7m 10s) (45 90%) 0.2933\n",
            "71m 37s (- 0m 0s) (50 100%) 0.2733\n"
          ]
        }
      ],
      "source": [
        "MAX_LENGTH = 10\n",
        "hidden_size = 128\n",
        "batch_size = 32\n",
        "epochs = 50\n",
        "\n",
        "input_lang, output_lang, train_dataloader = get_dataloader(batch_size)\n",
        "\n",
        "encoder = EncoderRNN(input_lang.n_words, hidden_size).to(device)\n",
        "decoder = AttnDecoderRNN(hidden_size, output_lang.n_words).to(device)\n",
        "\n",
        "train(train_dataloader, encoder, decoder, epochs, print_every=5, plot_every=5)"
      ]
    },
    {
      "cell_type": "code",
      "source": [
        "MAX_LENGTH = 5\n",
        "hidden_size = 128\n",
        "batch_size = 32\n",
        "epochs = 50\n",
        "\n",
        "input_lang, output_lang, train_dataloader = get_dataloader(batch_size)\n",
        "\n",
        "encoder = EncoderRNN(input_lang.n_words, hidden_size).to(device)\n",
        "decoder = AttnDecoderRNN(hidden_size, output_lang.n_words).to(device)\n",
        "\n",
        "train(train_dataloader, encoder, decoder, epochs, print_every=5, plot_every=5)"
      ],
      "metadata": {
        "colab": {
          "base_uri": "https://localhost:8080/"
        },
        "id": "-GWDdLXWHKew",
        "outputId": "16c9c1a9-9425-4a36-dcb0-afee522dc0d4"
      },
      "execution_count": 9,
      "outputs": [
        {
          "output_type": "stream",
          "name": "stdout",
          "text": [
            "Reading lines...\n",
            "Read 128133 sentence pairs\n",
            "Trimmed to 32968 sentence pairs\n",
            "Counting words...\n",
            "Counted words:\n",
            "heb 14485\n",
            "eng 6808\n",
            "9m 9s (- 82m 23s) (5 10%) 2.3773\n",
            "18m 34s (- 74m 16s) (10 20%) 1.0765\n",
            "28m 1s (- 65m 22s) (15 30%) 0.5732\n",
            "37m 30s (- 56m 15s) (20 40%) 0.3475\n",
            "46m 52s (- 46m 52s) (25 50%) 0.2426\n",
            "56m 11s (- 37m 27s) (30 60%) 0.1877\n",
            "65m 29s (- 28m 3s) (35 70%) 0.1569\n",
            "74m 48s (- 18m 42s) (40 80%) 0.1375\n",
            "83m 59s (- 9m 19s) (45 90%) 0.1246\n",
            "93m 10s (- 0m 0s) (50 100%) 0.1163\n"
          ]
        }
      ]
    },
    {
      "cell_type": "code",
      "execution_count": 10,
      "metadata": {
        "id": "fVito75_GPTG",
        "colab": {
          "base_uri": "https://localhost:8080/"
        },
        "outputId": "a443cdae-5791-4be7-b687-16b8dd0b535a"
      },
      "outputs": [
        {
          "output_type": "stream",
          "name": "stdout",
          "text": [
            "> הם היו רזים\n",
            "= they were thin\n",
            "< they were thin <EOS>\n",
            "\n",
            "> היו בעיות\n",
            "= there were problems\n",
            "< there were problems solvers <EOS>\n",
            "\n",
            "> זה נוח\n",
            "= that s convenient\n",
            "< that s uncomfortable <EOS>\n",
            "\n",
            "> האם אתן מפורסמות ?\n",
            "= are you famous ?\n",
            "< are you famous ? <EOS>\n",
            "\n",
            "> יש לו מכונית\n",
            "= he has a car\n",
            "< he has a car started\n",
            "\n",
            "> תום מוחצן\n",
            "= tom is an extrovert\n",
            "< tom may extroverted <EOS>\n",
            "\n",
            "> היינו סחוטים\n",
            "= we were wasted\n",
            "< we were completely exhausted <EOS>\n",
            "\n",
            "> תסלק את זה\n",
            "= take that away\n",
            "< take that away <EOS>\n",
            "\n",
            "> אני אוהב להתבונן באנשים\n",
            "= i like watching people\n",
            "< i like watching people <EOS>\n",
            "\n",
            "> טום טמן פח\n",
            "= tom set a trap\n",
            "< tom set is without <EOS>\n",
            "\n",
            "> אני אוהב את התחרות\n",
            "= i like the competition\n",
            "< i like the competition <EOS>\n",
            "\n",
            "> הוא דובר ערבית\n",
            "= he speaks arabic\n",
            "< he speaks arabic <EOS>\n",
            "\n",
            "> התגעגעתי אליך\n",
            "= i missed you\n",
            "< i missed you missed you\n",
            "\n",
            "> סלחתי לטעות שלו\n",
            "= i forgave his mistake\n",
            "< i forgave his mistake <EOS>\n",
            "\n",
            "> אל תפחדי\n",
            "= don t be afraid\n",
            "< don t be afraid <EOS>\n",
            "\n",
            "> תום האשים את עצמו\n",
            "= tom blamed himself\n",
            "< tom blamed himself <EOS>\n",
            "\n",
            "> המבצעים כבר בתהליכים\n",
            "= operations are already underway\n",
            "< operations are already underway <EOS>\n",
            "\n",
            "> הם בני דוד שלי\n",
            "= they re my cousins\n",
            "< they re my cousins <EOS>\n",
            "\n",
            "> תן לתום לענות\n",
            "= let tom answer\n",
            "< let tom answer in <EOS>\n",
            "\n",
            "> זרועותי עייפות\n",
            "= my arms are tired\n",
            "< my arms are tired <EOS>\n",
            "\n"
          ]
        }
      ],
      "source": [
        "evaluateRandomly(encoder, decoder, n=20)"
      ]
    },
    {
      "cell_type": "code",
      "execution_count": 31,
      "metadata": {
        "id": "soyvIyRwIBVC",
        "colab": {
          "base_uri": "https://localhost:8080/",
          "height": 1000
        },
        "outputId": "8e479610-da8b-4e98-8af3-0671053cf56e"
      },
      "outputs": [
        {
          "output_type": "stream",
          "name": "stdout",
          "text": [
            "input = אתה רוצה מזה משהו ?\n",
            "output = do you want ? <EOS>\n"
          ]
        },
        {
          "output_type": "display_data",
          "data": {
            "text/plain": [
              "<Figure size 640x480 with 2 Axes>"
            ],
            "image/png": "[encoded data removed]"
          },
          "metadata": {}
        },
        {
          "output_type": "stream",
          "name": "stdout",
          "text": [
            "input = נא לשטוף את הכלים\n",
            "output = please wash the dishes <EOS>\n"
          ]
        },
        {
          "output_type": "display_data",
          "data": {
            "text/plain": [
              "<Figure size 640x480 with 2 Axes>"
            ],
            "image/png": "[encoded data removed]"
          },
          "metadata": {}
        },
        {
          "output_type": "stream",
          "name": "stdout",
          "text": [
            "input = התגעגעתי אליך\n",
            "output = i missed you snoring <EOS>\n"
          ]
        },
        {
          "output_type": "display_data",
          "data": {
            "text/plain": [
              "<Figure size 640x480 with 2 Axes>"
            ],
            "image/png": "[encoded data removed]"
          },
          "metadata": {}
        },
        {
          "output_type": "stream",
          "name": "stdout",
          "text": [
            "input = היית מקסימה\n",
            "output = you were charming <EOS>\n"
          ]
        },
        {
          "output_type": "display_data",
          "data": {
            "text/plain": [
              "<Figure size 640x480 with 2 Axes>"
            ],
            "image/png": "[encoded data removed]"
          },
          "metadata": {}
        },
        {
          "output_type": "stream",
          "name": "stdout",
          "text": [
            "input = זרועותי עייפות\n",
            "output = my arms are tired <EOS>\n"
          ]
        },
        {
          "output_type": "display_data",
          "data": {
            "text/plain": [
              "<Figure size 640x480 with 2 Axes>"
            ],
            "image/png": "[encoded data removed]"
          },
          "metadata": {}
        }
      ],
      "source": [
        "import matplotlib.pyplot as plt\n",
        "import matplotlib.ticker as ticker\n",
        "\n",
        "%matplotlib inline\n",
        "# Make sure Matplotlib renders RTL text correctly\n",
        "plt.rcParams['axes.unicode_minus'] = False  # To avoid issues with special characters\n",
        "plt.rcParams['font.family'] = 'sans-serif'  # Use the default font family\n",
        "def showAttention(input_sentence, output_words, attentions):\n",
        "    fig = plt.figure()\n",
        "    ax = fig.add_subplot(111)\n",
        "    cax = ax.matshow(attentions.cpu().numpy(), cmap='bone')\n",
        "    fig.colorbar(cax)\n",
        "\n",
        "    # Set up axes\n",
        "    input_tokens = input_sentence.split(' ') + ['<EOS>']\n",
        "    output_tokens = output_words\n",
        "\n",
        "    # Reverse the input_tokens and output_tokens to fix the RTL problem\n",
        "    ax.set_xticks(range(len(input_tokens)))  # Set x-tick positions\n",
        "    ax.set_xticklabels(input_tokens[::-1], rotation=90, ha='right')  # Reverse order for Hebrew\n",
        "\n",
        "    ax.set_yticks(range(len(output_tokens)))  # Set y-tick positions\n",
        "    ax.set_yticklabels(output_tokens, ha='right', va='center')  # Align Hebrew text to the right\n",
        "\n",
        "    # Show label at every tick\n",
        "    ax.xaxis.set_major_locator(ticker.MultipleLocator(1))\n",
        "    ax.yaxis.set_major_locator(ticker.MultipleLocator(1))\n",
        "\n",
        "    plt.show()  # Explicitly show the plot in Colab\n",
        "\n",
        "\n",
        "\n",
        "def evaluateAndShowAttention(input_sentence):\n",
        "    output_words, attentions = evaluate(encoder, decoder, input_sentence, input_lang, output_lang)\n",
        "    print('input =', input_sentence)\n",
        "    print('output =', ' '.join(output_words))\n",
        "    showAttention(input_sentence, output_words, attentions[0, :len(output_words), :])\n",
        "\n",
        "\n",
        "evaluateAndShowAttention('אתה רוצה מזה משהו ?')\n",
        "\n",
        "evaluateAndShowAttention('נא לשטוף את הכלים')\n",
        "\n",
        "evaluateAndShowAttention('התגעגעתי אליך')\n",
        "\n",
        "evaluateAndShowAttention('היית מקסימה')\n",
        "\n",
        "evaluateAndShowAttention('זרועותי עייפות')"
      ]
    },
    {
      "cell_type": "code",
      "execution_count": null,
      "metadata": {
        "colab": {
          "base_uri": "https://localhost:8080/"
        },
        "id": "8H0Btp5mgemM",
        "outputId": "818621b9-17d0-4e91-9104-ff78449a3993"
      },
      "outputs": [
        {
          "name": "stdout",
          "output_type": "stream",
          "text": [
            "> אל תשני דבר !\n",
            "= don t change a thing\n",
            "< stop not something alike <EOS>\n",
            "\n",
            "> אינני צופה גדול בטלוויזיה\n",
            "= i m not a big tv watcher\n",
            "< i don t expect big heavy television television <EOS>\n",
            "\n",
            "> אתה רוצה מזה משהו ?\n",
            "= do you want any of this stuff ?\n",
            "< do you want anything about this ? <EOS>\n",
            "\n",
            "> מתאגרפים זקוקים להחזרים מהירים\n",
            "= boxers need quick reflexes\n",
            "< few eggs courageous and hide quickly <EOS>\n",
            "\n",
            "> נא לשטוף את הכלים\n",
            "= please wash the dishes\n",
            "< please wash the dishes ? <EOS>\n",
            "\n",
            "> טיפסנו על ההר התלול\n",
            "= we climbed up the steep mountain\n",
            "< we climbed up the steep mountain up steep steep lost\n",
            "\n",
            "> היית מקסימה\n",
            "= you were charming\n",
            "< you were good attractive <EOS>\n",
            "\n",
            "> כבר סיימתם את העבודה ?\n",
            "= have you finished the work yet ?\n",
            "< have you finished the work yet ? <EOS>\n",
            "\n",
            "> האם זה מאכל יפני ?\n",
            "= is it japanese food ?\n",
            "< is fish japanese fish ? <EOS>\n",
            "\n",
            "> מי יודע באמת ?\n",
            "= who really knows ?\n",
            "< who knows really really ? <EOS>\n",
            "\n"
          ]
        }
      ],
      "source": [
        "evaluateRandomly(encoder, decoder, n=10)"
      ]
    },
    {
      "cell_type": "markdown",
      "source": [
        "3)\n",
        "The original model performs reasonably well for simpler tasks but has some limitations.\n",
        "\n",
        "Strengths:\n",
        "  - Efficiency: Simple architecture with a unidirectional GRU, making it computationally efficient for small datasets or shorter sentences.\n",
        "  - Simplicity: Easy to train without complex components like attention.\n",
        "\n",
        "Limitations:\n",
        "  - Unidirectional GRU: Limits the model's ability to capture context from both directions, reducing its performance on ambiguous or long sentences.\n",
        "  - No Regularization: Without batch normalization or dropout, the model may overfit or struggle with stability in training.\n",
        "\n",
        "Suggestions for Improvement:\n",
        "  - Use Bidirectional Encoder: Capture context from both directions to improve understanding.\n",
        "  - Introduce Regularization: Add dropout or batch normalization to prevent overfitting and improve stability.\n",
        "\n",
        "Overall, the model works well for simple tasks but needs improvements like attention and bidirectional encoding for better performance on complex sequences."
      ],
      "metadata": {
        "id": "gEfpFqTBFlao"
      }
    },
    {
      "cell_type": "markdown",
      "metadata": {
        "id": "KdxCsh16VF-_"
      },
      "source": [
        "4 - defining the model:"
      ]
    },
    {
      "cell_type": "code",
      "execution_count": 43,
      "metadata": {
        "id": "bA2jzBPGVDbN"
      },
      "outputs": [],
      "source": [
        "import torch\n",
        "import torch.nn as nn\n",
        "import torch.nn.functional as F\n",
        "\n",
        "class EncoderRNN(nn.Module):\n",
        "    def __init__(self, input_size, hidden_size, dropout_p=0.1):\n",
        "        super().__init__()\n",
        "        self.hidden_size = hidden_size\n",
        "\n",
        "        # Combine embedding and dropout into one layer\n",
        "        self.embedding_dropout = nn.Sequential(\n",
        "            nn.Embedding(input_size, hidden_size),\n",
        "            nn.Dropout(dropout_p)\n",
        "        )\n",
        "        # Use bidirectional GRU to capture context from both directions\n",
        "        self.gru = nn.GRU(hidden_size, hidden_size // 2, bidirectional=True, batch_first=True)\n",
        "\n",
        "    def forward(self, input):\n",
        "        embedded = self.embedding_dropout(input)\n",
        "        embedded = embedded.view(input.size(0), input.size(1), -1)  # Ensure the shape is (batch_size, seq_len, hidden_size)\n",
        "        output, hidden = self.gru(embedded)\n",
        "        hidden = torch.cat((hidden[0], hidden[1]), dim=1).unsqueeze(0)  # Combine bidirectional hidden states\n",
        "        return output, hidden\n",
        "\n",
        "\n",
        "class BahdanauAttention(nn.Module):\n",
        "    def __init__(self, hidden_size):\n",
        "        super().__init__()\n",
        "        # Combine all linear transformations into one for efficiency\n",
        "        self.attention = nn.Linear(hidden_size * 3, 1)\n",
        "\n",
        "    def forward(self, query, keys):\n",
        "        # Expand query to match keys dimension\n",
        "        query = query.expand(-1, keys.size(1), -1)\n",
        "        # Concatenate instead of separate linear layers\n",
        "        energy = self.attention(torch.cat((query, keys, query * keys), dim=2))\n",
        "        weights = F.softmax(energy, dim=1)\n",
        "        context = torch.bmm(weights.transpose(1, 2), keys)\n",
        "        return context, weights\n",
        "\n",
        "class AttnDecoderRNN(nn.Module):\n",
        "    def __init__(self, hidden_size, output_size, dropout_p=0.1):\n",
        "        super().__init__()\n",
        "        self.hidden_size = hidden_size\n",
        "        self.output_size = output_size\n",
        "\n",
        "        # Combine embedding and dropout\n",
        "        self.embedding_dropout = nn.Sequential(\n",
        "            nn.Embedding(output_size, hidden_size),\n",
        "            nn.Dropout(dropout_p)\n",
        "        )\n",
        "\n",
        "        self.attention = BahdanauAttention(hidden_size)\n",
        "        # Use a single layer GRU with larger hidden size\n",
        "        self.gru = nn.GRU(2 * hidden_size, hidden_size, batch_first=True)\n",
        "\n",
        "        # Add batch normalization for stable training\n",
        "        self.bn = nn.BatchNorm1d(hidden_size)\n",
        "        self.out = nn.Linear(hidden_size, output_size)\n",
        "\n",
        "    def forward(self, encoder_outputs, encoder_hidden, target_tensor=None):\n",
        "        batch_size = encoder_outputs.size(0)\n",
        "        decoder_input = torch.empty(batch_size, 1, dtype=torch.long, device=encoder_outputs.device).fill_(SOS_token)\n",
        "        decoder_hidden = encoder_hidden\n",
        "        decoder_outputs = []\n",
        "        attentions = []\n",
        "\n",
        "        # Pre-allocate tensors for efficiency\n",
        "        max_length = MAX_LENGTH if target_tensor is None else target_tensor.size(1)\n",
        "        all_decoder_outputs = torch.zeros(batch_size, max_length, self.output_size, device=encoder_outputs.device)\n",
        "\n",
        "        for i in range(max_length):\n",
        "            decoder_output, decoder_hidden, attn_weights = self.forward_step(\n",
        "                decoder_input, decoder_hidden, encoder_outputs\n",
        "            )\n",
        "            all_decoder_outputs[:, i:i+1] = decoder_output\n",
        "\n",
        "            if target_tensor is not None:\n",
        "                decoder_input = target_tensor[:, i:i+1]\n",
        "            else:\n",
        "                _, topi = decoder_output.max(2)\n",
        "                decoder_input = topi.detach()\n",
        "\n",
        "            attentions.append(attn_weights)\n",
        "\n",
        "        # Apply log_softmax once at the end instead of every step\n",
        "        decoder_outputs = F.log_softmax(all_decoder_outputs, dim=-1)\n",
        "        attentions = torch.cat(attentions, dim=1)\n",
        "\n",
        "        return decoder_outputs, decoder_hidden, attentions\n",
        "\n",
        "    def forward_step(self, input, hidden, encoder_outputs):\n",
        "        embedded = self.embedding_dropout(input)\n",
        "\n",
        "        # More efficient attention computation\n",
        "        context, attn_weights = self.attention(hidden.transpose(0, 1), encoder_outputs)\n",
        "\n",
        "        gru_input = torch.cat((embedded, context), dim=2)\n",
        "\n",
        "        output, hidden = self.gru(gru_input, hidden)\n",
        "\n",
        "        output = self.bn(output.squeeze(1)).unsqueeze(1)\n",
        "        output = self.out(output)\n",
        "\n",
        "        return output, hidden, attn_weights\n",
        "\n",
        "\n",
        "\n",
        "def indexesFromSentence(lang, sentence):\n",
        "    return [lang.word2index[word] for word in sentence.split(' ')]\n",
        "\n",
        "def tensorFromSentence(lang, sentence):\n",
        "    indexes = indexesFromSentence(lang, sentence)\n",
        "    indexes.append(EOS_token)\n",
        "    return torch.tensor(indexes, dtype=torch.long, device=device).view(1, -1)\n",
        "\n",
        "def tensorsFromPair(pair):\n",
        "    input_tensor = tensorFromSentence(input_lang, pair[0])\n",
        "    target_tensor = tensorFromSentence(output_lang, pair[1])\n",
        "    return (input_tensor, target_tensor)\n",
        "\n",
        "def get_dataloader(batch_size):\n",
        "    input_lang, output_lang, pairs = prepareData('eng', 'heb', True)\n",
        "\n",
        "    n = len(pairs)\n",
        "    input_ids = np.zeros((n, MAX_LENGTH), dtype=np.int32)\n",
        "    target_ids = np.zeros((n, MAX_LENGTH), dtype=np.int32)\n",
        "\n",
        "    for idx, (inp, tgt) in enumerate(pairs):\n",
        "        inp_ids = indexesFromSentence(input_lang, inp)\n",
        "        tgt_ids = indexesFromSentence(output_lang, tgt)\n",
        "        inp_ids.append(EOS_token)\n",
        "        tgt_ids.append(EOS_token)\n",
        "        input_ids[idx, :len(inp_ids)] = inp_ids\n",
        "        target_ids[idx, :len(tgt_ids)] = tgt_ids\n",
        "\n",
        "    train_data = TensorDataset(torch.LongTensor(input_ids).to(device),\n",
        "                               torch.LongTensor(target_ids).to(device))\n",
        "\n",
        "    train_sampler = RandomSampler(train_data)\n",
        "    train_dataloader = DataLoader(train_data, sampler=train_sampler, batch_size=batch_size)\n",
        "    return input_lang, output_lang, train_dataloader\n",
        "\n",
        "def train_epoch(dataloader, encoder, decoder, encoder_optimizer,\n",
        "          decoder_optimizer, criterion):\n",
        "\n",
        "    total_loss = 0\n",
        "    for data in dataloader:\n",
        "        input_tensor, target_tensor = data\n",
        "\n",
        "        encoder_optimizer.zero_grad()\n",
        "        decoder_optimizer.zero_grad()\n",
        "\n",
        "        encoder_outputs, encoder_hidden = encoder(input_tensor)\n",
        "        decoder_outputs, _, _ = decoder(encoder_outputs, encoder_hidden, target_tensor)\n",
        "\n",
        "        loss = criterion(\n",
        "            decoder_outputs.view(-1, decoder_outputs.size(-1)),\n",
        "            target_tensor.view(-1)\n",
        "        )\n",
        "        loss.backward()\n",
        "\n",
        "        encoder_optimizer.step()\n",
        "        decoder_optimizer.step()\n",
        "\n",
        "        total_loss += loss.item()\n",
        "\n",
        "    return total_loss / len(dataloader)\n",
        "\n",
        "import time\n",
        "import math\n",
        "\n",
        "def asMinutes(s):\n",
        "    m = math.floor(s / 60)\n",
        "    s -= m * 60\n",
        "    return '%dm %ds' % (m, s)\n",
        "\n",
        "def timeSince(since, percent):\n",
        "    now = time.time()\n",
        "    s = now - since\n",
        "    es = s / (percent)\n",
        "    rs = es - s\n",
        "    return '%s (- %s)' % (asMinutes(s), asMinutes(rs))\n",
        "\n",
        "def train(train_dataloader, encoder, decoder, n_epochs, learning_rate=0.001,\n",
        "               print_every=100, plot_every=100):\n",
        "    start = time.time()\n",
        "    plot_losses = []\n",
        "    print_loss_total = 0  # Reset every print_every\n",
        "    plot_loss_total = 0  # Reset every plot_every\n",
        "\n",
        "    encoder_optimizer = optim.Adam(encoder.parameters(), lr=learning_rate)\n",
        "    decoder_optimizer = optim.Adam(decoder.parameters(), lr=learning_rate)\n",
        "    criterion = nn.NLLLoss()\n",
        "\n",
        "    for epoch in range(1, n_epochs + 1):\n",
        "        loss = train_epoch(train_dataloader, encoder, decoder, encoder_optimizer, decoder_optimizer, criterion)\n",
        "        print_loss_total += loss\n",
        "        plot_loss_total += loss\n",
        "\n",
        "        if epoch % print_every == 0:\n",
        "            print_loss_avg = print_loss_total / print_every\n",
        "            print_loss_total = 0\n",
        "            print('%s (%d %d%%) %.4f' % (timeSince(start, epoch / n_epochs),\n",
        "                                        epoch, epoch / n_epochs * 100, print_loss_avg))\n",
        "\n",
        "        if epoch % plot_every == 0:\n",
        "            plot_loss_avg = plot_loss_total / plot_every\n",
        "            plot_losses.append(plot_loss_avg)\n",
        "            plot_loss_total = 0\n",
        "\n",
        "    showPlot(plot_losses)\n",
        "\n",
        "import matplotlib.pyplot as plt\n",
        "plt.switch_backend('agg')\n",
        "import matplotlib.ticker as ticker\n",
        "import numpy as np\n",
        "\n",
        "def showPlot(points):\n",
        "    plt.figure()\n",
        "    fig, ax = plt.subplots()\n",
        "    # this locator puts ticks at regular intervals\n",
        "    loc = ticker.MultipleLocator(base=0.2)\n",
        "    ax.yaxis.set_major_locator(loc)\n",
        "    plt.plot(points)\n",
        "\n",
        "def evaluate(encoder, decoder, sentence, input_lang, output_lang):\n",
        "    with torch.no_grad():\n",
        "        input_tensor = tensorFromSentence(input_lang, sentence)\n",
        "\n",
        "        encoder_outputs, encoder_hidden = encoder(input_tensor)\n",
        "        decoder_outputs, decoder_hidden, decoder_attn = decoder(encoder_outputs, encoder_hidden)\n",
        "\n",
        "        _, topi = decoder_outputs.topk(1)\n",
        "        decoded_ids = topi.squeeze()\n",
        "\n",
        "        decoded_words = []\n",
        "        for idx in decoded_ids:\n",
        "            if idx.item() == EOS_token:\n",
        "                decoded_words.append('<EOS>')\n",
        "                break\n",
        "            decoded_words.append(output_lang.index2word[idx.item()])\n",
        "    return decoded_words, decoder_attn\n",
        "\n",
        "def evaluateRandomly(encoder, decoder, n=10):\n",
        "    for i in range(n):\n",
        "        pair = random.choice(pairs)\n",
        "        print('>', pair[0])\n",
        "        print('=', pair[1])\n",
        "        output_words, _ = evaluate(encoder, decoder, pair[0], input_lang, output_lang)\n",
        "        output_sentence = ' '.join(output_words)\n",
        "        print('<', output_sentence)\n",
        "        print('')"
      ]
    },
    {
      "cell_type": "markdown",
      "source": [
        "training the model:"
      ],
      "metadata": {
        "id": "dW-eS4HB8Plc"
      }
    },
    {
      "cell_type": "code",
      "source": [
        "MAX_LENGTH = 5\n",
        "hidden_size = 128\n",
        "batch_size = 32\n",
        "epochs = 50\n",
        "\n",
        "input_lang, output_lang, train_dataloader = get_dataloader(batch_size)\n",
        "\n",
        "encoder = EncoderRNN(input_lang.n_words, hidden_size).to(device)\n",
        "decoder = AttnDecoderRNN(hidden_size, output_lang.n_words).to(device)\n",
        "\n",
        "train(train_dataloader, encoder, decoder, epochs, print_every=5, plot_every=5)"
      ],
      "metadata": {
        "colab": {
          "base_uri": "https://localhost:8080/"
        },
        "id": "9jspD7tCEapQ",
        "outputId": "8eb2999f-b89a-4356-985b-fdf55d879610"
      },
      "execution_count": 46,
      "outputs": [
        {
          "output_type": "stream",
          "name": "stdout",
          "text": [
            "Reading lines... \n",
            "Read 128133 sentence pairs \n",
            "Trimmed to 32968 sentence pairs \n",
            "Counting words... \n",
            "Counted words: \n",
            "heb 34801 \n",
            "eng 12303 \n",
            "1m 14s (- 11m 10s) (5 10%) 1.9520 \n",
            "2m 28s (- 9m 52s) (10 20%) 0.6128 \n",
            "3m 47s (- 8m 50s) (15 30%) 0.3663 \n",
            "5m 1s (- 7m 32s) (20 40%) 0.2766 \n",
            "6m 15s (- 6m 15s) (25 50%) 0.2301 \n",
            "7m 28s (- 4m 59s) (30 60%) 0.2024 \n",
            "8m 42s (- 3m 44s) (35 70%) 0.1821 \n",
            "9m 55s (- 2m 28s) (40 80%) 0.1686 \n",
            "11m 9s (- 1m 14s) (45 90%) 0.1570 \n",
            "12m 24s (- 0m 0s) (50 100%) 0.1479\n"
          ]
        }
      ]
    },
    {
      "cell_type": "code",
      "source": [
        "evaluateRandomly(encoder, decoder, n=20)"
      ],
      "metadata": {
        "colab": {
          "base_uri": "https://localhost:8080/"
        },
        "id": "pNv3Xv1j-QcY",
        "outputId": "5b6d2bd2-ae07-4ce3-e881-6139944a36c6"
      },
      "execution_count": 42,
      "outputs": [
        {
          "output_type": "stream",
          "name": "stdout",
          "text": [
            "> יש לי מעט אוכל\n",
            "= i have some food\n",
            "< i have some food <EOS>\n",
            "\n",
            "> דאבלין נמצאת באירלנד\n",
            "= dublin is in ireland\n",
            "< dublin is in ireland <EOS>\n",
            "\n",
            "> הוא עצר לפתע\n",
            "= he suddenly stopped\n",
            "< he suddenly stopped suddenly <EOS>\n",
            "\n",
            "> סמוך עלי\n",
            "= trust in me\n",
            "< trust in me <EOS>\n",
            "\n",
            "> ישנתי עמוק\n",
            "= i slept soundly\n",
            "< i slept soundly <EOS>\n",
            "\n",
            "> הוא עדיין עומד\n",
            "= he is still standing\n",
            "< he s still standing <EOS>\n",
            "\n",
            "> אספר לכולם\n",
            "= i ll tell everyone\n",
            "< i like tom impressed <EOS>\n",
            "\n",
            "> התנדבתי\n",
            "= i volunteered\n",
            "< i washed my mind <EOS>\n",
            "\n",
            "> תום רקד עם מרי\n",
            "= tom danced with mary\n",
            "< tom danced with tom <EOS>\n",
            "\n",
            "> יש לי היומן שלך\n",
            "= i have your diary\n",
            "< i have your diary <EOS>\n",
            "\n",
            "> זה מריח נפלא\n",
            "= it smells wonderful\n",
            "< it smells wonderful <EOS>\n",
            "\n",
            "> אנו צריכים לעזור\n",
            "= we should help\n",
            "< we need help <EOS>\n",
            "\n",
            "> שמתי לב\n",
            "= i noticed\n",
            "< i noticed that <EOS>\n",
            "\n",
            "> תלכי את ראשונה\n",
            "= you go first\n",
            "< you go first <EOS>\n",
            "\n",
            "> נשארתי נבוך\n",
            "= i remain puzzled\n",
            "< i remain puzzled <EOS>\n",
            "\n",
            "> החתלתול רצה להיכנס\n",
            "= the kitten wanted in\n",
            "< the kitten wanted me <EOS>\n",
            "\n",
            "> הוא יסלח לי\n",
            "= he will excuse me\n",
            "< he will excuse me <EOS>\n",
            "\n",
            "> חג שמח\n",
            "= happy holidays\n",
            "< happy kitten <EOS>\n",
            "\n",
            "> הפסיקי לדבר בקול רם\n",
            "= stop talking loudly\n",
            "< stop talking loudly <EOS>\n",
            "\n",
            "> תום היה קריר\n",
            "= tom was cool\n",
            "< tom was cool cool <EOS>\n",
            "\n"
          ]
        }
      ]
    },
    {
      "cell_type": "markdown",
      "source": [
        "I made several changes in my model compared to the original one:\n",
        "\n",
        "  - Bidirectional GRU in Encoder: In the original model, the encoder uses a unidirectional GRU. I switched to a bidirectional GRU in the encoder, which allows the model to process the input sequence in both directions, capturing more context and improving the model’s understanding of the input.\n",
        "\n",
        "  - Bahdanau Attention: The original model does not incorporate any attention mechanism. I added the Bahdanau attention mechanism in the decoder, which enables the model to focus on different parts of the encoder's output while decoding, improving the model's ability to handle longer sequences and provide more contextually accurate translations.\n",
        "\n",
        "  - Combined Embedding and Dropout Layer: In the original model, embedding and dropout are handled separately. I combined them into a single embedding_dropout layer for a more efficient and compact implementation.\n",
        "\n",
        "  - Batch Normalization in Decoder: The original model does not use batch normalization, while I introduced batch normalization in the decoder. This helps stabilize the training process and improves generalization by reducing internal covariate shift.\n",
        "\n",
        "  - Efficient Attention Computation: The attention mechanism in the original model uses separate layers to compute attention energy and context. In my model, I streamlined this by combining the query, key, and value projections into a single linear transformation for better efficiency.\n",
        "\n",
        "Performance Comparison:\n",
        "\n",
        "  - Training Time and Loss Convergence: My model converges faster during training, with the loss decreasing more quickly than the original model. This is likely due to the bidirectional GRU and the more efficient attention mechanism.\n",
        "\n",
        "  - Training Loss: My model shows a steady decrease in loss, indicating better learning, while the original model takes longer to reduce the loss.\n",
        "\n",
        "  - Translation Quality: Both models perform similarly in terms of translation quality based on a manual evaluation of 20 words. This suggests that while the architectural changes improve training speed and efficiency, they do not dramatically change translation performance in this case.\n",
        "\n",
        "  - Generalization and Stability: My model is more robust due to the use of batch normalization and attention, potentially improving its ability to generalize, especially on longer or more complex sequences.\n",
        "\n",
        "In conclusion, while both models show similar translation quality, my model is more efficient and scalable, with faster convergence and better generalization, making it a more robust solution overall."
      ],
      "metadata": {
        "id": "MLdaRcFwDk1G"
      }
    }
  ],
  "metadata": {
    "accelerator": "GPU",
    "colab": {
      "gpuType": "T4",
      "toc_visible": true,
      "provenance": []
    },
    "kernelspec": {
      "display_name": "Python 3",
      "name": "python3"
    }
  },
  "nbformat": 4,
  "nbformat_minor": 0
}
